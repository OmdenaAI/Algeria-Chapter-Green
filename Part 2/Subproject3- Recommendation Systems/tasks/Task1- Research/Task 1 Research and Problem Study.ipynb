{
  "nbformat": 4,
  "nbformat_minor": 0,
  "metadata": {
    "colab": {
      "provenance": []
    },
    "kernelspec": {
      "name": "python3",
      "display_name": "Python 3"
    },
    "language_info": {
      "name": "python"
    }
  },
  "cells": [
    {
      "cell_type": "markdown",
      "source": [
        "# Research and Problem Study\n",
        "\n",
        "**Aim**: To perform a literature review and research on the problem statement of the subproject.\n",
        "\n",
        "\n",
        "\n",
        "\n",
        "\n",
        "---\n",
        "\n"
      ],
      "metadata": {
        "id": "R5XGSSVM4kS_"
      }
    },
    {
      "cell_type": "markdown",
      "source": [
        "### List of all Collected Resources for Project 3 - Recommendation System for Water Management\n",
        "\n",
        "\n",
        "\n",
        "1.  **Literature Review**\n",
        "    1.  Instructional video on Recommendation Systems [▶](https://youtu.be/giIXNoiqO_U)\n",
        "    1.  Article on: A decision support system based on multisensor data fusion for sustainable greenhouse management [📄](https://www.sciencedirect.com/science/article/pii/S0959652617304237)\n",
        "    1.  Fertilizer Recommendation System Deployment and Code on Github [</>](https://github.com/ameyaagsilver/Fertiliser-Recommendation-System)\n",
        "    1.  Crop and Fertilizer Recommendation System Code on Github  [</>](https://github.com/atharval1/precision-agriculture-using-machine-learning)\n",
        "\n",
        "1.  **Research for Dataset**\n",
        "    1.  Autonomous Greenhouse Challenge, Second Edition [📁](https://data.4tu.nl/articles/dataset/Autonomous_Greenhouse_Challenge_Second_Edition_2019_/12764777)\n",
        "    1.  Article on: Intelligent Irrigation Recommendation System [📄](https://www.ncbi.nlm.nih.gov/pmc/articles/PMC8237332/)\n",
        "    1.  Irrigation Dataset - NIT Raipur on Github [📁](https://github.com/NitrrMCACommunity/Agriculture-Automation-/tree/master/Dataset)\n",
        "    1.  Irrigation Dataset - GCE Kanpur on Github [📁](https://github.com/GCEKIoTCommunity/Irrigation-Dataset)\n",
        "\n",
        "\n",
        "\n",
        "\n",
        "\n",
        "\n",
        "\n",
        "\n",
        "\n",
        "\n",
        "\n",
        "\n"
      ],
      "metadata": {
        "id": "tEiykUCTufgs"
      }
    }
  ]
}
