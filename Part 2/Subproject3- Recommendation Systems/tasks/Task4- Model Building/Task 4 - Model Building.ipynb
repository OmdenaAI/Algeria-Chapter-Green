{
  "nbformat": 4,
  "nbformat_minor": 0,
  "metadata": {
    "colab": {
      "provenance": []
    },
    "kernelspec": {
      "name": "python3",
      "display_name": "Python 3"
    },
    "language_info": {
      "name": "python"
    }
  },
  "cells": [
    {
      "cell_type": "markdown",
      "source": [
        "# Model Building\n",
        "**Aim**: To develop a machine learning model for the required task.\n",
        "\n",
        "\n",
        "---\n"
      ],
      "metadata": {
        "id": "ffgUkErHPhI6"
      }
    },
    {
      "cell_type": "markdown",
      "source": [
        "# Importing Dependancies"
      ],
      "metadata": {
        "id": "9g7PQv0A1p_E"
      }
    },
    {
      "cell_type": "code",
      "source": [
        "!pip install -q shap"
      ],
      "metadata": {
        "id": "ZhKsROl15T6k"
      },
      "execution_count": 1,
      "outputs": []
    },
    {
      "cell_type": "code",
      "source": [
        "import pandas as pd \n",
        "import numpy as np\n",
        "import matplotlib.pyplot as plt\n",
        "import matplotlib.colors as colors \n",
        "import pickle\n",
        "import seaborn as sns\n",
        "import shap\n",
        "\n",
        "from sklearn.preprocessing import StandardScaler\n",
        "from sklearn.preprocessing import scale\n",
        "from sklearn.metrics import confusion_matrix, plot_confusion_matrix \n",
        "from sklearn.metrics import accuracy_score\n",
        "from sklearn.metrics import ConfusionMatrixDisplay\n",
        "from sklearn.model_selection import train_test_split\n",
        "from sklearn.model_selection import cross_val_score\n",
        "from sklearn.decomposition import PCA\n",
        "from sklearn.pipeline import Pipeline\n",
        "from sklearn.model_selection import GridSearchCV\n",
        "from sklearn.linear_model import SGDClassifier\n",
        "from sklearn.svm import SVC \n",
        "from sklearn.neighbors import KNeighborsClassifier\n",
        "from sklearn.tree import DecisionTreeClassifier\n",
        "from sklearn.ensemble import RandomForestClassifier\n",
        "from sklearn.ensemble import AdaBoostClassifier"
      ],
      "metadata": {
        "id": "ueIdCsqF1pWU"
      },
      "execution_count": 2,
      "outputs": []
    },
    {
      "cell_type": "code",
      "source": [
        "import warnings\n",
        "warnings.filterwarnings(\"ignore\")"
      ],
      "metadata": {
        "id": "rqpLFiYWYtc5"
      },
      "execution_count": 3,
      "outputs": []
    },
    {
      "cell_type": "markdown",
      "source": [
        "# Model 1: Stochastic Gradient Descent Classifier"
      ],
      "metadata": {
        "id": "agDpSKiv2U4z"
      }
    },
    {
      "cell_type": "code",
      "execution_count": 4,
      "metadata": {
        "id": "72bb6002"
      },
      "outputs": [],
      "source": [
        "with open (\"NITRRData.pkl\", \"rb\") as f:\n",
        "    data=pickle.load(f)"
      ]
    },
    {
      "cell_type": "code",
      "execution_count": 5,
      "metadata": {
        "id": "e6d3bf2a"
      },
      "outputs": [],
      "source": [
        "x = data[\"features\"]\n",
        "y = data[\"target\"]"
      ]
    },
    {
      "cell_type": "code",
      "execution_count": 6,
      "metadata": {
        "id": "cf0aee0c"
      },
      "outputs": [],
      "source": [
        "x = scale(x)\n",
        "xtrain, xtest, ytrain, ytest=train_test_split(x, y, test_size=0.3,random_state = 1)"
      ]
    },
    {
      "cell_type": "code",
      "execution_count": 7,
      "metadata": {
        "id": "fdb42f4d",
        "outputId": "7a7b8cf0-d7b3-4cb7-e656-8ab5777f07cd",
        "colab": {
          "base_uri": "https://localhost:8080/"
        }
      },
      "outputs": [
        {
          "output_type": "stream",
          "name": "stdout",
          "text": [
            "SGDClassifier(max_iter=100)\n"
          ]
        }
      ],
      "source": [
        "sgdc = SGDClassifier(max_iter=100, tol=0.001)\n",
        "print(sgdc)"
      ]
    },
    {
      "cell_type": "code",
      "execution_count": 8,
      "metadata": {
        "id": "cfe8f191",
        "outputId": "5791ff28-12c5-4db2-bdb3-0452d76916eb",
        "colab": {
          "base_uri": "https://localhost:8080/"
        }
      },
      "outputs": [
        {
          "output_type": "execute_result",
          "data": {
            "text/plain": [
              "SGDClassifier(max_iter=100)"
            ]
          },
          "metadata": {},
          "execution_count": 8
        }
      ],
      "source": [
        "sgdc.fit(xtrain, ytrain)"
      ]
    },
    {
      "cell_type": "code",
      "execution_count": 9,
      "metadata": {
        "id": "4597e662"
      },
      "outputs": [],
      "source": [
        "ypred = sgdc.predict(xtest)"
      ]
    },
    {
      "cell_type": "code",
      "execution_count": 10,
      "metadata": {
        "id": "e70a0375",
        "outputId": "9e342499-3429-4b52-a0ba-9ad114e4d8ee",
        "colab": {
          "base_uri": "https://localhost:8080/"
        }
      },
      "outputs": [
        {
          "output_type": "stream",
          "name": "stdout",
          "text": [
            "Accuracy: 0.841025641025641\n"
          ]
        }
      ],
      "source": [
        "print(\"Accuracy:\", accuracy_score(ytest, ypred))"
      ]
    },
    {
      "cell_type": "code",
      "execution_count": 11,
      "metadata": {
        "id": "311c7dbb",
        "outputId": "6a3bbdd2-947f-4393-ed65-2d1cdd2a730f",
        "colab": {
          "base_uri": "https://localhost:8080/",
          "height": 296
        }
      },
      "outputs": [
        {
          "output_type": "execute_result",
          "data": {
            "text/plain": [
              "<sklearn.metrics._plot.confusion_matrix.ConfusionMatrixDisplay at 0x7f5a19f52450>"
            ]
          },
          "metadata": {},
          "execution_count": 11
        },
        {
          "output_type": "display_data",
          "data": {
            "text/plain": [
              "<Figure size 432x288 with 2 Axes>"
            ],
            "image/png": "[encoded data removed]"
          },
          "metadata": {
            "needs_background": "light"
          }
        }
      ],
      "source": [
        "plot_confusion_matrix(sgdc, xtest, ytest,display_labels=['Irrigation required','Irrigation not required'])"
      ]
    },
    {
      "cell_type": "markdown",
      "source": [
        "# Model 2: Support Vector Machine"
      ],
      "metadata": {
        "id": "G6Sjo4Xi28Gk"
      }
    },
    {
      "cell_type": "code",
      "source": [
        "with open('/NITRRData.pkl','rb') as d:\n",
        "    data = pickle.load(d)"
      ],
      "metadata": {
        "execution": {
          "iopub.status.busy": "2022-11-06T10:00:20.281064Z",
          "iopub.execute_input": "2022-11-06T10:00:20.281511Z",
          "iopub.status.idle": "2022-11-06T10:00:21.029331Z",
          "shell.execute_reply.started": "2022-11-06T10:00:20.281458Z",
          "shell.execute_reply": "2022-11-06T10:00:21.028209Z"
        },
        "trusted": true,
        "id": "HMEHGz6ja5px"
      },
      "execution_count": 12,
      "outputs": []
    },
    {
      "cell_type": "code",
      "source": [
        "feature_matrix = data['features']\n",
        "df=pd.DataFrame(feature_matrix)"
      ],
      "metadata": {
        "execution": {
          "iopub.status.busy": "2022-11-06T10:00:22.457519Z",
          "iopub.execute_input": "2022-11-06T10:00:22.457978Z",
          "iopub.status.idle": "2022-11-06T10:00:22.476903Z",
          "shell.execute_reply.started": "2022-11-06T10:00:22.457929Z",
          "shell.execute_reply": "2022-11-06T10:00:22.476041Z"
        },
        "trusted": true,
        "id": "7nJpYoPUa5p2"
      },
      "execution_count": 13,
      "outputs": []
    },
    {
      "cell_type": "code",
      "source": [
        "label_vector = data['target']\n",
        "df1 = pd.DataFrame(label_vector)\n",
        "target_df = df1"
      ],
      "metadata": {
        "execution": {
          "iopub.status.busy": "2022-11-06T10:00:23.836406Z",
          "iopub.execute_input": "2022-11-06T10:00:23.837131Z",
          "iopub.status.idle": "2022-11-06T10:00:23.852059Z",
          "shell.execute_reply.started": "2022-11-06T10:00:23.837089Z",
          "shell.execute_reply": "2022-11-06T10:00:23.850445Z"
        },
        "trusted": true,
        "id": "GjqpnNoKa5p5"
      },
      "execution_count": 14,
      "outputs": []
    },
    {
      "cell_type": "code",
      "source": [
        "data_df = pd.get_dummies(df,columns=['CropType'])\n",
        "\n",
        "data_df.head()"
      ],
      "metadata": {
        "execution": {
          "iopub.status.busy": "2022-11-06T10:00:25.658801Z",
          "iopub.execute_input": "2022-11-06T10:00:25.659212Z",
          "iopub.status.idle": "2022-11-06T10:00:25.679674Z",
          "shell.execute_reply.started": "2022-11-06T10:00:25.659179Z",
          "shell.execute_reply": "2022-11-06T10:00:25.678340Z"
        },
        "trusted": true,
        "id": "tppa-aiOa5p8",
        "outputId": "978211e4-fb7d-437f-b822-3affa7d17f2c",
        "colab": {
          "base_uri": "https://localhost:8080/",
          "height": 270
        }
      },
      "execution_count": 15,
      "outputs": [
        {
          "output_type": "execute_result",
          "data": {
            "text/plain": [
              "    CropDays  SoilMoisture  Temperature  Humidity  CropType_1  CropType_2  \\\n",
              "63        16           230           28        71           1           0   \n",
              "93        74           600           23        15           1           0   \n",
              "92        70           990           24        19           1           0   \n",
              "91        66           700           25        17           1           0   \n",
              "90        65           660           23        15           1           0   \n",
              "\n",
              "    CropType_3  CropType_4  CropType_5  CropType_6  CropType_7  CropType_8  \\\n",
              "63           0           0           0           0           0           0   \n",
              "93           0           0           0           0           0           0   \n",
              "92           0           0           0           0           0           0   \n",
              "91           0           0           0           0           0           0   \n",
              "90           0           0           0           0           0           0   \n",
              "\n",
              "    CropType_9  \n",
              "63           0  \n",
              "93           0  \n",
              "92           0  \n",
              "91           0  \n",
              "90           0  "
            ],
            "text/html": [
              "\n",
              "  <div id=\"df-9b4b3cf1-4bf3-4962-9b0b-81ca1f97f66c\">\n",
              "    <div class=\"colab-df-container\">\n",
              "      <div>\n",
              "<style scoped>\n",
              "    .dataframe tbody tr th:only-of-type {\n",
              "        vertical-align: middle;\n",
              "    }\n",
              "\n",
              "    .dataframe tbody tr th {\n",
              "        vertical-align: top;\n",
              "    }\n",
              "\n",
              "    .dataframe thead th {\n",
              "        text-align: right;\n",
              "    }\n",
              "</style>\n",
              "<table border=\"1\" class=\"dataframe\">\n",
              "  <thead>\n",
              "    <tr style=\"text-align: right;\">\n",
              "      <th></th>\n",
              "      <th>CropDays</th>\n",
              "      <th>SoilMoisture</th>\n",
              "      <th>Temperature</th>\n",
              "      <th>Humidity</th>\n",
              "      <th>CropType_1</th>\n",
              "      <th>CropType_2</th>\n",
              "      <th>CropType_3</th>\n",
              "      <th>CropType_4</th>\n",
              "      <th>CropType_5</th>\n",
              "      <th>CropType_6</th>\n",
              "      <th>CropType_7</th>\n",
              "      <th>CropType_8</th>\n",
              "      <th>CropType_9</th>\n",
              "    </tr>\n",
              "  </thead>\n",
              "  <tbody>\n",
              "    <tr>\n",
              "      <th>63</th>\n",
              "      <td>16</td>\n",
              "      <td>230</td>\n",
              "      <td>28</td>\n",
              "      <td>71</td>\n",
              "      <td>1</td>\n",
              "      <td>0</td>\n",
              "      <td>0</td>\n",
              "      <td>0</td>\n",
              "      <td>0</td>\n",
              "      <td>0</td>\n",
              "      <td>0</td>\n",
              "      <td>0</td>\n",
              "      <td>0</td>\n",
              "    </tr>\n",
              "    <tr>\n",
              "      <th>93</th>\n",
              "      <td>74</td>\n",
              "      <td>600</td>\n",
              "      <td>23</td>\n",
              "      <td>15</td>\n",
              "      <td>1</td>\n",
              "      <td>0</td>\n",
              "      <td>0</td>\n",
              "      <td>0</td>\n",
              "      <td>0</td>\n",
              "      <td>0</td>\n",
              "      <td>0</td>\n",
              "      <td>0</td>\n",
              "      <td>0</td>\n",
              "    </tr>\n",
              "    <tr>\n",
              "      <th>92</th>\n",
              "      <td>70</td>\n",
              "      <td>990</td>\n",
              "      <td>24</td>\n",
              "      <td>19</td>\n",
              "      <td>1</td>\n",
              "      <td>0</td>\n",
              "      <td>0</td>\n",
              "      <td>0</td>\n",
              "      <td>0</td>\n",
              "      <td>0</td>\n",
              "      <td>0</td>\n",
              "      <td>0</td>\n",
              "      <td>0</td>\n",
              "    </tr>\n",
              "    <tr>\n",
              "      <th>91</th>\n",
              "      <td>66</td>\n",
              "      <td>700</td>\n",
              "      <td>25</td>\n",
              "      <td>17</td>\n",
              "      <td>1</td>\n",
              "      <td>0</td>\n",
              "      <td>0</td>\n",
              "      <td>0</td>\n",
              "      <td>0</td>\n",
              "      <td>0</td>\n",
              "      <td>0</td>\n",
              "      <td>0</td>\n",
              "      <td>0</td>\n",
              "    </tr>\n",
              "    <tr>\n",
              "      <th>90</th>\n",
              "      <td>65</td>\n",
              "      <td>660</td>\n",
              "      <td>23</td>\n",
              "      <td>15</td>\n",
              "      <td>1</td>\n",
              "      <td>0</td>\n",
              "      <td>0</td>\n",
              "      <td>0</td>\n",
              "      <td>0</td>\n",
              "      <td>0</td>\n",
              "      <td>0</td>\n",
              "      <td>0</td>\n",
              "      <td>0</td>\n",
              "    </tr>\n",
              "  </tbody>\n",
              "</table>\n",
              "</div>\n",
              "      <button class=\"colab-df-convert\" onclick=\"convertToInteractive('df-9b4b3cf1-4bf3-4962-9b0b-81ca1f97f66c')\"\n",
              "              title=\"Convert this dataframe to an interactive table.\"\n",
              "              style=\"display:none;\">\n",
              "        \n",
              "  <svg xmlns=\"http://www.w3.org/2000/svg\" height=\"24px\"viewBox=\"0 0 24 24\"\n",
              "       width=\"24px\">\n",
              "    <path d=\"M0 0h24v24H0V0z\" fill=\"none\"/>\n",
              "    <path d=\"M18.56 5.44l.94 2.06.94-2.06 2.06-.94-2.06-.94-.94-2.06-.94 2.06-2.06.94zm-11 1L8.5 8.5l.94-2.06 2.06-.94-2.06-.94L8.5 2.5l-.94 2.06-2.06.94zm10 10l.94 2.06.94-2.06 2.06-.94-2.06-.94-.94-2.06-.94 2.06-2.06.94z\"/><path d=\"M17.41 7.96l-1.37-1.37c-.4-.4-.92-.59-1.43-.59-.52 0-1.04.2-1.43.59L10.3 9.45l-7.72 7.72c-.78.78-.78 2.05 0 2.83L4 21.41c.39.39.9.59 1.41.59.51 0 1.02-.2 1.41-.59l7.78-7.78 2.81-2.81c.8-.78.8-2.07 0-2.86zM5.41 20L4 18.59l7.72-7.72 1.47 1.35L5.41 20z\"/>\n",
              "  </svg>\n",
              "      </button>\n",
              "      \n",
              "  <style>\n",
              "    .colab-df-container {\n",
              "      display:flex;\n",
              "      flex-wrap:wrap;\n",
              "      gap: 12px;\n",
              "    }\n",
              "\n",
              "    .colab-df-convert {\n",
              "      background-color: #E8F0FE;\n",
              "      border: none;\n",
              "      border-radius: 50%;\n",
              "      cursor: pointer;\n",
              "      display: none;\n",
              "      fill: #1967D2;\n",
              "      height: 32px;\n",
              "      padding: 0 0 0 0;\n",
              "      width: 32px;\n",
              "    }\n",
              "\n",
              "    .colab-df-convert:hover {\n",
              "      background-color: #E2EBFA;\n",
              "      box-shadow: 0px 1px 2px rgba(60, 64, 67, 0.3), 0px 1px 3px 1px rgba(60, 64, 67, 0.15);\n",
              "      fill: #174EA6;\n",
              "    }\n",
              "\n",
              "    [theme=dark] .colab-df-convert {\n",
              "      background-color: #3B4455;\n",
              "      fill: #D2E3FC;\n",
              "    }\n",
              "\n",
              "    [theme=dark] .colab-df-convert:hover {\n",
              "      background-color: #434B5C;\n",
              "      box-shadow: 0px 1px 3px 1px rgba(0, 0, 0, 0.15);\n",
              "      filter: drop-shadow(0px 1px 2px rgba(0, 0, 0, 0.3));\n",
              "      fill: #FFFFFF;\n",
              "    }\n",
              "  </style>\n",
              "\n",
              "      <script>\n",
              "        const buttonEl =\n",
              "          document.querySelector('#df-9b4b3cf1-4bf3-4962-9b0b-81ca1f97f66c button.colab-df-convert');\n",
              "        buttonEl.style.display =\n",
              "          google.colab.kernel.accessAllowed ? 'block' : 'none';\n",
              "\n",
              "        async function convertToInteractive(key) {\n",
              "          const element = document.querySelector('#df-9b4b3cf1-4bf3-4962-9b0b-81ca1f97f66c');\n",
              "          const dataTable =\n",
              "            await google.colab.kernel.invokeFunction('convertToInteractive',\n",
              "                                                     [key], {});\n",
              "          if (!dataTable) return;\n",
              "\n",
              "          const docLinkHtml = 'Like what you see? Visit the ' +\n",
              "            '<a target=\"_blank\" href=https://colab.research.google.com/notebooks/data_table.ipynb>data table notebook</a>'\n",
              "            + ' to learn more about interactive tables.';\n",
              "          element.innerHTML = '';\n",
              "          dataTable['output_type'] = 'display_data';\n",
              "          await google.colab.output.renderOutput(dataTable, element);\n",
              "          const docLink = document.createElement('div');\n",
              "          docLink.innerHTML = docLinkHtml;\n",
              "          element.appendChild(docLink);\n",
              "        }\n",
              "      </script>\n",
              "    </div>\n",
              "  </div>\n",
              "  "
            ]
          },
          "metadata": {},
          "execution_count": 15
        }
      ]
    },
    {
      "cell_type": "code",
      "source": [
        "X_train, X_test, y_train, y_test = train_test_split(data_df,target_df,random_state = 42)"
      ],
      "metadata": {
        "execution": {
          "iopub.status.busy": "2022-11-06T10:00:27.252614Z",
          "iopub.execute_input": "2022-11-06T10:00:27.253069Z",
          "iopub.status.idle": "2022-11-06T10:00:27.266673Z",
          "shell.execute_reply.started": "2022-11-06T10:00:27.253029Z",
          "shell.execute_reply": "2022-11-06T10:00:27.265538Z"
        },
        "trusted": true,
        "id": "aocCdyS9a5p-"
      },
      "execution_count": 16,
      "outputs": []
    },
    {
      "cell_type": "code",
      "source": [
        "svm = SVC(random_state = 1)\n",
        "svm.fit(X_train, y_train.values.ravel())"
      ],
      "metadata": {
        "execution": {
          "iopub.status.busy": "2022-11-06T10:00:27.987298Z",
          "iopub.execute_input": "2022-11-06T10:00:27.987706Z",
          "iopub.status.idle": "2022-11-06T10:00:28.007522Z",
          "shell.execute_reply.started": "2022-11-06T10:00:27.987672Z",
          "shell.execute_reply": "2022-11-06T10:00:28.006270Z"
        },
        "trusted": true,
        "id": "yhTfvzeoa5p_",
        "outputId": "f8a54a09-8f6c-40af-8f26-c609c176c328",
        "colab": {
          "base_uri": "https://localhost:8080/"
        }
      },
      "execution_count": 17,
      "outputs": [
        {
          "output_type": "execute_result",
          "data": {
            "text/plain": [
              "SVC(random_state=1)"
            ]
          },
          "metadata": {},
          "execution_count": 17
        }
      ]
    },
    {
      "cell_type": "code",
      "source": [
        "plot_confusion_matrix(svm,\n",
        "                     X_test,\n",
        "                     y_test.values.ravel(),\n",
        "                     values_format= 'd',\n",
        "                     display_labels=['Need irrigation','Dosent need irrigation'])"
      ],
      "metadata": {
        "execution": {
          "iopub.status.busy": "2022-11-06T10:00:28.611148Z",
          "iopub.execute_input": "2022-11-06T10:00:28.611550Z",
          "iopub.status.idle": "2022-11-06T10:00:28.917347Z",
          "shell.execute_reply.started": "2022-11-06T10:00:28.611509Z",
          "shell.execute_reply": "2022-11-06T10:00:28.916208Z"
        },
        "trusted": true,
        "id": "NMFRp0dOa5qA",
        "outputId": "ff62d283-eade-41a0-f1f4-1ec7cda10eb5",
        "colab": {
          "base_uri": "https://localhost:8080/",
          "height": 296
        }
      },
      "execution_count": 18,
      "outputs": [
        {
          "output_type": "execute_result",
          "data": {
            "text/plain": [
              "<sklearn.metrics._plot.confusion_matrix.ConfusionMatrixDisplay at 0x7f5981349710>"
            ]
          },
          "metadata": {},
          "execution_count": 18
        },
        {
          "output_type": "display_data",
          "data": {
            "text/plain": [
              "<Figure size 432x288 with 2 Axes>"
            ],
            "image/png": "[encoded data removed]"
          },
          "metadata": {
            "needs_background": "light"
          }
        }
      ]
    },
    {
      "cell_type": "markdown",
      "source": [
        "### Hyperparameter Tuning"
      ],
      "metadata": {
        "id": "XDtw30eJ3GrN"
      }
    },
    {
      "cell_type": "code",
      "source": [
        "param_grid = [\n",
        "    { 'C': [0.5, 1, 5, 10, 15, 100],\n",
        "    'gamma': ['scale', 1, 0.1, 0.01, 0.001, 0.0001],\n",
        "    'kernel': ['rbf']}\n",
        "]\n",
        "\n",
        "\n",
        "optimal_params = GridSearchCV(\n",
        "    SVC(),\n",
        "    param_grid,\n",
        "    cv = 10,\n",
        "    scoring = 'accuracy'\n",
        ")\n",
        "\n",
        "optimal_params.fit(X_train, y_train.values.ravel())\n",
        "print(optimal_params.best_params_)"
      ],
      "metadata": {
        "execution": {
          "iopub.status.busy": "2022-11-06T10:00:29.278131Z",
          "iopub.execute_input": "2022-11-06T10:00:29.279189Z",
          "iopub.status.idle": "2022-11-06T10:00:32.427994Z",
          "shell.execute_reply.started": "2022-11-06T10:00:29.279142Z",
          "shell.execute_reply": "2022-11-06T10:00:32.426443Z"
        },
        "trusted": true,
        "id": "bCZoND9ra5qB",
        "outputId": "b91288f0-16a2-4561-f7f4-8f5d81eafd01",
        "colab": {
          "base_uri": "https://localhost:8080/"
        }
      },
      "execution_count": 19,
      "outputs": [
        {
          "output_type": "stream",
          "name": "stdout",
          "text": [
            "{'C': 100, 'gamma': 0.0001, 'kernel': 'rbf'}\n"
          ]
        }
      ]
    },
    {
      "cell_type": "code",
      "source": [
        "optimised_svm = SVC(random_state = 42, C=100 , gamma=0.0001, kernel = 'rbf')\n",
        "optimised_svm.fit(X_train, y_train.values.ravel())"
      ],
      "metadata": {
        "execution": {
          "iopub.status.busy": "2022-11-06T10:00:32.429988Z",
          "iopub.execute_input": "2022-11-06T10:00:32.430460Z",
          "iopub.status.idle": "2022-11-06T10:00:32.448770Z",
          "shell.execute_reply.started": "2022-11-06T10:00:32.430416Z",
          "shell.execute_reply": "2022-11-06T10:00:32.447561Z"
        },
        "trusted": true,
        "id": "40pYE2qoa5qC",
        "outputId": "68d71da3-9f1d-4af5-aefc-18b41fa96231",
        "colab": {
          "base_uri": "https://localhost:8080/"
        }
      },
      "execution_count": 20,
      "outputs": [
        {
          "output_type": "execute_result",
          "data": {
            "text/plain": [
              "SVC(C=100, gamma=0.0001, random_state=42)"
            ]
          },
          "metadata": {},
          "execution_count": 20
        }
      ]
    },
    {
      "cell_type": "code",
      "source": [
        "plot_confusion_matrix(optimised_svm,\n",
        "                     X_test,\n",
        "                     y_test.values.ravel(),\n",
        "                     values_format= 'd',\n",
        "                     display_labels=['Need irrigation','Dosent need irrigation'])"
      ],
      "metadata": {
        "execution": {
          "iopub.status.busy": "2022-11-06T10:00:33.047578Z",
          "iopub.execute_input": "2022-11-06T10:00:33.048009Z",
          "iopub.status.idle": "2022-11-06T10:00:33.314812Z",
          "shell.execute_reply.started": "2022-11-06T10:00:33.047974Z",
          "shell.execute_reply": "2022-11-06T10:00:33.313720Z"
        },
        "trusted": true,
        "id": "U_xk-Xata5qD",
        "outputId": "befad0db-201e-48da-f96e-c3fdfbeb0f3d",
        "colab": {
          "base_uri": "https://localhost:8080/",
          "height": 296
        }
      },
      "execution_count": 21,
      "outputs": [
        {
          "output_type": "execute_result",
          "data": {
            "text/plain": [
              "<sklearn.metrics._plot.confusion_matrix.ConfusionMatrixDisplay at 0x7f59812ee050>"
            ]
          },
          "metadata": {},
          "execution_count": 21
        },
        {
          "output_type": "display_data",
          "data": {
            "text/plain": [
              "<Figure size 432x288 with 2 Axes>"
            ],
            "image/png": "[encoded data removed]"
          },
          "metadata": {
            "needs_background": "light"
          }
        }
      ]
    },
    {
      "cell_type": "code",
      "source": [
        "y_pred = svm.predict(X_test)\n",
        "print(\"Accuracy Score of the model:\", accuracy_score(y_test, y_pred))"
      ],
      "metadata": {
        "colab": {
          "base_uri": "https://localhost:8080/"
        },
        "id": "OVkwo1TldhY9",
        "outputId": "3719ad28-fd4e-44ae-fb6e-570f0bb54c6f"
      },
      "execution_count": 22,
      "outputs": [
        {
          "output_type": "stream",
          "name": "stdout",
          "text": [
            "Accuracy Score of the model: 0.8404907975460123\n"
          ]
        }
      ]
    },
    {
      "cell_type": "code",
      "source": [
        "with open('NITRRData.pkl','rb') as d:\n",
        "    data = pickle.load(d)"
      ],
      "metadata": {
        "execution": {
          "iopub.status.busy": "2022-11-06T10:00:20.281064Z",
          "iopub.execute_input": "2022-11-06T10:00:20.281511Z",
          "iopub.status.idle": "2022-11-06T10:00:21.029331Z",
          "shell.execute_reply.started": "2022-11-06T10:00:20.281458Z",
          "shell.execute_reply": "2022-11-06T10:00:21.028209Z"
        },
        "trusted": true,
        "id": "pdEnuySg3sOI"
      },
      "execution_count": 23,
      "outputs": []
    },
    {
      "cell_type": "code",
      "source": [
        "feature_matrix = data['features']\n",
        "df=pd.DataFrame(feature_matrix)"
      ],
      "metadata": {
        "execution": {
          "iopub.status.busy": "2022-11-06T10:00:22.457519Z",
          "iopub.execute_input": "2022-11-06T10:00:22.457978Z",
          "iopub.status.idle": "2022-11-06T10:00:22.476903Z",
          "shell.execute_reply.started": "2022-11-06T10:00:22.457929Z",
          "shell.execute_reply": "2022-11-06T10:00:22.476041Z"
        },
        "trusted": true,
        "id": "CDRo2fEp3sOJ"
      },
      "execution_count": 24,
      "outputs": []
    },
    {
      "cell_type": "code",
      "source": [
        "label_vector = data['target']\n",
        "df1 = pd.DataFrame(label_vector)\n",
        "target_df = df1"
      ],
      "metadata": {
        "execution": {
          "iopub.status.busy": "2022-11-06T10:00:23.836406Z",
          "iopub.execute_input": "2022-11-06T10:00:23.837131Z",
          "iopub.status.idle": "2022-11-06T10:00:23.852059Z",
          "shell.execute_reply.started": "2022-11-06T10:00:23.837089Z",
          "shell.execute_reply": "2022-11-06T10:00:23.850445Z"
        },
        "trusted": true,
        "id": "dmw3eYJP3sOJ"
      },
      "execution_count": 25,
      "outputs": []
    },
    {
      "cell_type": "code",
      "source": [
        "data_df = pd.get_dummies(df,columns=['CropType'])\n",
        "\n",
        "data_df.head()"
      ],
      "metadata": {
        "execution": {
          "iopub.status.busy": "2022-11-06T10:00:25.658801Z",
          "iopub.execute_input": "2022-11-06T10:00:25.659212Z",
          "iopub.status.idle": "2022-11-06T10:00:25.679674Z",
          "shell.execute_reply.started": "2022-11-06T10:00:25.659179Z",
          "shell.execute_reply": "2022-11-06T10:00:25.678340Z"
        },
        "trusted": true,
        "outputId": "fecff36d-304e-4eda-a167-c3f7ae33394b",
        "colab": {
          "base_uri": "https://localhost:8080/",
          "height": 270
        },
        "id": "q_tRWAX33sOJ"
      },
      "execution_count": 26,
      "outputs": [
        {
          "output_type": "execute_result",
          "data": {
            "text/plain": [
              "    CropDays  SoilMoisture  Temperature  Humidity  CropType_1  CropType_2  \\\n",
              "63        16           230           28        71           1           0   \n",
              "93        74           600           23        15           1           0   \n",
              "92        70           990           24        19           1           0   \n",
              "91        66           700           25        17           1           0   \n",
              "90        65           660           23        15           1           0   \n",
              "\n",
              "    CropType_3  CropType_4  CropType_5  CropType_6  CropType_7  CropType_8  \\\n",
              "63           0           0           0           0           0           0   \n",
              "93           0           0           0           0           0           0   \n",
              "92           0           0           0           0           0           0   \n",
              "91           0           0           0           0           0           0   \n",
              "90           0           0           0           0           0           0   \n",
              "\n",
              "    CropType_9  \n",
              "63           0  \n",
              "93           0  \n",
              "92           0  \n",
              "91           0  \n",
              "90           0  "
            ],
            "text/html": [
              "\n",
              "  <div id=\"df-75781f37-8cfa-4ca0-9e9d-abda0708b659\">\n",
              "    <div class=\"colab-df-container\">\n",
              "      <div>\n",
              "<style scoped>\n",
              "    .dataframe tbody tr th:only-of-type {\n",
              "        vertical-align: middle;\n",
              "    }\n",
              "\n",
              "    .dataframe tbody tr th {\n",
              "        vertical-align: top;\n",
              "    }\n",
              "\n",
              "    .dataframe thead th {\n",
              "        text-align: right;\n",
              "    }\n",
              "</style>\n",
              "<table border=\"1\" class=\"dataframe\">\n",
              "  <thead>\n",
              "    <tr style=\"text-align: right;\">\n",
              "      <th></th>\n",
              "      <th>CropDays</th>\n",
              "      <th>SoilMoisture</th>\n",
              "      <th>Temperature</th>\n",
              "      <th>Humidity</th>\n",
              "      <th>CropType_1</th>\n",
              "      <th>CropType_2</th>\n",
              "      <th>CropType_3</th>\n",
              "      <th>CropType_4</th>\n",
              "      <th>CropType_5</th>\n",
              "      <th>CropType_6</th>\n",
              "      <th>CropType_7</th>\n",
              "      <th>CropType_8</th>\n",
              "      <th>CropType_9</th>\n",
              "    </tr>\n",
              "  </thead>\n",
              "  <tbody>\n",
              "    <tr>\n",
              "      <th>63</th>\n",
              "      <td>16</td>\n",
              "      <td>230</td>\n",
              "      <td>28</td>\n",
              "      <td>71</td>\n",
              "      <td>1</td>\n",
              "      <td>0</td>\n",
              "      <td>0</td>\n",
              "      <td>0</td>\n",
              "      <td>0</td>\n",
              "      <td>0</td>\n",
              "      <td>0</td>\n",
              "      <td>0</td>\n",
              "      <td>0</td>\n",
              "    </tr>\n",
              "    <tr>\n",
              "      <th>93</th>\n",
              "      <td>74</td>\n",
              "      <td>600</td>\n",
              "      <td>23</td>\n",
              "      <td>15</td>\n",
              "      <td>1</td>\n",
              "      <td>0</td>\n",
              "      <td>0</td>\n",
              "      <td>0</td>\n",
              "      <td>0</td>\n",
              "      <td>0</td>\n",
              "      <td>0</td>\n",
              "      <td>0</td>\n",
              "      <td>0</td>\n",
              "    </tr>\n",
              "    <tr>\n",
              "      <th>92</th>\n",
              "      <td>70</td>\n",
              "      <td>990</td>\n",
              "      <td>24</td>\n",
              "      <td>19</td>\n",
              "      <td>1</td>\n",
              "      <td>0</td>\n",
              "      <td>0</td>\n",
              "      <td>0</td>\n",
              "      <td>0</td>\n",
              "      <td>0</td>\n",
              "      <td>0</td>\n",
              "      <td>0</td>\n",
              "      <td>0</td>\n",
              "    </tr>\n",
              "    <tr>\n",
              "      <th>91</th>\n",
              "      <td>66</td>\n",
              "      <td>700</td>\n",
              "      <td>25</td>\n",
              "      <td>17</td>\n",
              "      <td>1</td>\n",
              "      <td>0</td>\n",
              "      <td>0</td>\n",
              "      <td>0</td>\n",
              "      <td>0</td>\n",
              "      <td>0</td>\n",
              "      <td>0</td>\n",
              "      <td>0</td>\n",
              "      <td>0</td>\n",
              "    </tr>\n",
              "    <tr>\n",
              "      <th>90</th>\n",
              "      <td>65</td>\n",
              "      <td>660</td>\n",
              "      <td>23</td>\n",
              "      <td>15</td>\n",
              "      <td>1</td>\n",
              "      <td>0</td>\n",
              "      <td>0</td>\n",
              "      <td>0</td>\n",
              "      <td>0</td>\n",
              "      <td>0</td>\n",
              "      <td>0</td>\n",
              "      <td>0</td>\n",
              "      <td>0</td>\n",
              "    </tr>\n",
              "  </tbody>\n",
              "</table>\n",
              "</div>\n",
              "      <button class=\"colab-df-convert\" onclick=\"convertToInteractive('df-75781f37-8cfa-4ca0-9e9d-abda0708b659')\"\n",
              "              title=\"Convert this dataframe to an interactive table.\"\n",
              "              style=\"display:none;\">\n",
              "        \n",
              "  <svg xmlns=\"http://www.w3.org/2000/svg\" height=\"24px\"viewBox=\"0 0 24 24\"\n",
              "       width=\"24px\">\n",
              "    <path d=\"M0 0h24v24H0V0z\" fill=\"none\"/>\n",
              "    <path d=\"M18.56 5.44l.94 2.06.94-2.06 2.06-.94-2.06-.94-.94-2.06-.94 2.06-2.06.94zm-11 1L8.5 8.5l.94-2.06 2.06-.94-2.06-.94L8.5 2.5l-.94 2.06-2.06.94zm10 10l.94 2.06.94-2.06 2.06-.94-2.06-.94-.94-2.06-.94 2.06-2.06.94z\"/><path d=\"M17.41 7.96l-1.37-1.37c-.4-.4-.92-.59-1.43-.59-.52 0-1.04.2-1.43.59L10.3 9.45l-7.72 7.72c-.78.78-.78 2.05 0 2.83L4 21.41c.39.39.9.59 1.41.59.51 0 1.02-.2 1.41-.59l7.78-7.78 2.81-2.81c.8-.78.8-2.07 0-2.86zM5.41 20L4 18.59l7.72-7.72 1.47 1.35L5.41 20z\"/>\n",
              "  </svg>\n",
              "      </button>\n",
              "      \n",
              "  <style>\n",
              "    .colab-df-container {\n",
              "      display:flex;\n",
              "      flex-wrap:wrap;\n",
              "      gap: 12px;\n",
              "    }\n",
              "\n",
              "    .colab-df-convert {\n",
              "      background-color: #E8F0FE;\n",
              "      border: none;\n",
              "      border-radius: 50%;\n",
              "      cursor: pointer;\n",
              "      display: none;\n",
              "      fill: #1967D2;\n",
              "      height: 32px;\n",
              "      padding: 0 0 0 0;\n",
              "      width: 32px;\n",
              "    }\n",
              "\n",
              "    .colab-df-convert:hover {\n",
              "      background-color: #E2EBFA;\n",
              "      box-shadow: 0px 1px 2px rgba(60, 64, 67, 0.3), 0px 1px 3px 1px rgba(60, 64, 67, 0.15);\n",
              "      fill: #174EA6;\n",
              "    }\n",
              "\n",
              "    [theme=dark] .colab-df-convert {\n",
              "      background-color: #3B4455;\n",
              "      fill: #D2E3FC;\n",
              "    }\n",
              "\n",
              "    [theme=dark] .colab-df-convert:hover {\n",
              "      background-color: #434B5C;\n",
              "      box-shadow: 0px 1px 3px 1px rgba(0, 0, 0, 0.15);\n",
              "      filter: drop-shadow(0px 1px 2px rgba(0, 0, 0, 0.3));\n",
              "      fill: #FFFFFF;\n",
              "    }\n",
              "  </style>\n",
              "\n",
              "      <script>\n",
              "        const buttonEl =\n",
              "          document.querySelector('#df-75781f37-8cfa-4ca0-9e9d-abda0708b659 button.colab-df-convert');\n",
              "        buttonEl.style.display =\n",
              "          google.colab.kernel.accessAllowed ? 'block' : 'none';\n",
              "\n",
              "        async function convertToInteractive(key) {\n",
              "          const element = document.querySelector('#df-75781f37-8cfa-4ca0-9e9d-abda0708b659');\n",
              "          const dataTable =\n",
              "            await google.colab.kernel.invokeFunction('convertToInteractive',\n",
              "                                                     [key], {});\n",
              "          if (!dataTable) return;\n",
              "\n",
              "          const docLinkHtml = 'Like what you see? Visit the ' +\n",
              "            '<a target=\"_blank\" href=https://colab.research.google.com/notebooks/data_table.ipynb>data table notebook</a>'\n",
              "            + ' to learn more about interactive tables.';\n",
              "          element.innerHTML = '';\n",
              "          dataTable['output_type'] = 'display_data';\n",
              "          await google.colab.output.renderOutput(dataTable, element);\n",
              "          const docLink = document.createElement('div');\n",
              "          docLink.innerHTML = docLinkHtml;\n",
              "          element.appendChild(docLink);\n",
              "        }\n",
              "      </script>\n",
              "    </div>\n",
              "  </div>\n",
              "  "
            ]
          },
          "metadata": {},
          "execution_count": 26
        }
      ]
    },
    {
      "cell_type": "code",
      "source": [
        "X_train, X_test, y_train, y_test = train_test_split(data_df,target_df,random_state = 42)\n",
        "X_train_scaled = scale(X_train)\n",
        "X_test_scaled = scale(X_test)"
      ],
      "metadata": {
        "execution": {
          "iopub.status.busy": "2022-11-06T10:00:27.252614Z",
          "iopub.execute_input": "2022-11-06T10:00:27.253069Z",
          "iopub.status.idle": "2022-11-06T10:00:27.266673Z",
          "shell.execute_reply.started": "2022-11-06T10:00:27.253029Z",
          "shell.execute_reply": "2022-11-06T10:00:27.265538Z"
        },
        "trusted": true,
        "id": "X7WBYPhD3sOJ"
      },
      "execution_count": 27,
      "outputs": []
    },
    {
      "cell_type": "code",
      "source": [
        "svm = SVC(random_state = 1)\n",
        "svm.fit(X_train_scaled, y_train.values.ravel())"
      ],
      "metadata": {
        "execution": {
          "iopub.status.busy": "2022-11-06T10:00:27.987298Z",
          "iopub.execute_input": "2022-11-06T10:00:27.987706Z",
          "iopub.status.idle": "2022-11-06T10:00:28.007522Z",
          "shell.execute_reply.started": "2022-11-06T10:00:27.987672Z",
          "shell.execute_reply": "2022-11-06T10:00:28.006270Z"
        },
        "trusted": true,
        "outputId": "19d0c8ca-83d1-4813-d79a-2b3f5366c8d8",
        "colab": {
          "base_uri": "https://localhost:8080/"
        },
        "id": "izqY3prn3sOJ"
      },
      "execution_count": 28,
      "outputs": [
        {
          "output_type": "execute_result",
          "data": {
            "text/plain": [
              "SVC(random_state=1)"
            ]
          },
          "metadata": {},
          "execution_count": 28
        }
      ]
    },
    {
      "cell_type": "code",
      "source": [
        "plot_confusion_matrix(svm,\n",
        "                     X_test_scaled,\n",
        "                     y_test.values.ravel(),\n",
        "                     values_format= 'd',\n",
        "                     display_labels=['Need irrigation','Dosent need irrigation'])"
      ],
      "metadata": {
        "execution": {
          "iopub.status.busy": "2022-11-06T10:00:28.611148Z",
          "iopub.execute_input": "2022-11-06T10:00:28.611550Z",
          "iopub.status.idle": "2022-11-06T10:00:28.917347Z",
          "shell.execute_reply.started": "2022-11-06T10:00:28.611509Z",
          "shell.execute_reply": "2022-11-06T10:00:28.916208Z"
        },
        "trusted": true,
        "outputId": "e6adbaa8-0dd3-4ce0-a389-8e8ad0a5accb",
        "colab": {
          "base_uri": "https://localhost:8080/",
          "height": 296
        },
        "id": "m_tW48h-3sOK"
      },
      "execution_count": 29,
      "outputs": [
        {
          "output_type": "execute_result",
          "data": {
            "text/plain": [
              "<sklearn.metrics._plot.confusion_matrix.ConfusionMatrixDisplay at 0x7f5981193590>"
            ]
          },
          "metadata": {},
          "execution_count": 29
        },
        {
          "output_type": "display_data",
          "data": {
            "text/plain": [
              "<Figure size 432x288 with 2 Axes>"
            ],
            "image/png": "[encoded data removed]"
          },
          "metadata": {
            "needs_background": "light"
          }
        }
      ]
    },
    {
      "cell_type": "code",
      "source": [
        "param_grid = [\n",
        "    { 'C': [0.5, 1, 5, 10, 15, 100],\n",
        "    'gamma': ['scale', 1, 0.1, 0.01, 0.001, 0.0001],\n",
        "    'kernel': ['rbf']}\n",
        "]\n",
        "\n",
        "\n",
        "optimal_params = GridSearchCV(\n",
        "    SVC(),\n",
        "    param_grid,\n",
        "    cv = 10,\n",
        "    scoring = 'accuracy'\n",
        ")\n",
        "\n",
        "optimal_params.fit(X_train_scaled, y_train.values.ravel())\n",
        "print(optimal_params.best_params_)"
      ],
      "metadata": {
        "execution": {
          "iopub.status.busy": "2022-11-06T10:00:29.278131Z",
          "iopub.execute_input": "2022-11-06T10:00:29.279189Z",
          "iopub.status.idle": "2022-11-06T10:00:32.427994Z",
          "shell.execute_reply.started": "2022-11-06T10:00:29.279142Z",
          "shell.execute_reply": "2022-11-06T10:00:32.426443Z"
        },
        "trusted": true,
        "outputId": "413d534b-ea79-4593-f9dd-67df2e562fee",
        "colab": {
          "base_uri": "https://localhost:8080/"
        },
        "id": "0NZy2Fyh3sOK"
      },
      "execution_count": 30,
      "outputs": [
        {
          "output_type": "stream",
          "name": "stdout",
          "text": [
            "{'C': 5, 'gamma': 0.1, 'kernel': 'rbf'}\n"
          ]
        }
      ]
    },
    {
      "cell_type": "code",
      "source": [
        "optimised_svm = SVC(random_state = 42, C=100 , gamma='scale')\n",
        "optimised_svm.fit(X_train_scaled, y_train.values.ravel())"
      ],
      "metadata": {
        "execution": {
          "iopub.status.busy": "2022-11-06T10:00:32.429988Z",
          "iopub.execute_input": "2022-11-06T10:00:32.430460Z",
          "iopub.status.idle": "2022-11-06T10:00:32.448770Z",
          "shell.execute_reply.started": "2022-11-06T10:00:32.430416Z",
          "shell.execute_reply": "2022-11-06T10:00:32.447561Z"
        },
        "trusted": true,
        "outputId": "da8aa129-f1e4-4bd9-c38a-b02314195599",
        "colab": {
          "base_uri": "https://localhost:8080/"
        },
        "id": "Dp9-ox4k3sOK"
      },
      "execution_count": 31,
      "outputs": [
        {
          "output_type": "execute_result",
          "data": {
            "text/plain": [
              "SVC(C=100, random_state=42)"
            ]
          },
          "metadata": {},
          "execution_count": 31
        }
      ]
    },
    {
      "cell_type": "code",
      "source": [
        "plot_confusion_matrix(optimised_svm,\n",
        "                     X_test_scaled,\n",
        "                     y_test.values.ravel(),\n",
        "                     values_format= 'd',\n",
        "                     display_labels=['Need irrigation','Dosent need irrigation'])"
      ],
      "metadata": {
        "execution": {
          "iopub.status.busy": "2022-11-06T10:00:33.047578Z",
          "iopub.execute_input": "2022-11-06T10:00:33.048009Z",
          "iopub.status.idle": "2022-11-06T10:00:33.314812Z",
          "shell.execute_reply.started": "2022-11-06T10:00:33.047974Z",
          "shell.execute_reply": "2022-11-06T10:00:33.313720Z"
        },
        "trusted": true,
        "outputId": "43b3baad-5d80-4a7e-d0fa-b6ee3f415ba6",
        "colab": {
          "base_uri": "https://localhost:8080/",
          "height": 296
        },
        "id": "-xGhBSo33sOK"
      },
      "execution_count": 32,
      "outputs": [
        {
          "output_type": "execute_result",
          "data": {
            "text/plain": [
              "<sklearn.metrics._plot.confusion_matrix.ConfusionMatrixDisplay at 0x7f59810d4a50>"
            ]
          },
          "metadata": {},
          "execution_count": 32
        },
        {
          "output_type": "display_data",
          "data": {
            "text/plain": [
              "<Figure size 432x288 with 2 Axes>"
            ],
            "image/png": "[encoded data removed]"
          },
          "metadata": {
            "needs_background": "light"
          }
        }
      ]
    },
    {
      "cell_type": "code",
      "source": [
        "y_pred = svm.predict(X_test)\n",
        "print(\"Accuracy Score of the model:\", accuracy_score(y_test, y_pred))"
      ],
      "metadata": {
        "colab": {
          "base_uri": "https://localhost:8080/"
        },
        "outputId": "612e6f56-d785-4255-9232-85e0a20b6ba5",
        "id": "Y6kaugXP3sOK"
      },
      "execution_count": 33,
      "outputs": [
        {
          "output_type": "stream",
          "name": "stdout",
          "text": [
            "Accuracy Score of the model: 0.6625766871165644\n"
          ]
        }
      ]
    },
    {
      "cell_type": "markdown",
      "source": [
        "# Model 3: K-Nearest Neighours"
      ],
      "metadata": {
        "id": "Xku-bv1bd6t6"
      }
    },
    {
      "cell_type": "code",
      "source": [
        "RANDOM_STATE = 1"
      ],
      "metadata": {
        "id": "MIJLhCDNN8Ug"
      },
      "execution_count": 34,
      "outputs": []
    },
    {
      "cell_type": "code",
      "source": [
        "data = pickle.load(open(\"NITRRData.pkl\", \"rb\"))\n",
        "X = data[\"features\"]\n",
        "y = data[\"target\"]"
      ],
      "metadata": {
        "id": "ZRTjnhmyMGwC"
      },
      "execution_count": 35,
      "outputs": []
    },
    {
      "cell_type": "code",
      "source": [
        "X_train, X_test, y_train, y_test = train_test_split(X, y, test_size = 0.20, random_state = RANDOM_STATE)"
      ],
      "metadata": {
        "id": "dCLtzYmGNn_z"
      },
      "execution_count": 36,
      "outputs": []
    },
    {
      "cell_type": "code",
      "source": [
        "print(\"Training Feature Matrix shape:\", X_train.shape)\n",
        "print(\"Training Label Vector shape:\", y_train.shape)\n",
        "\n",
        "print(\"Testing Feature Matrix shape:\", X_test.shape)\n",
        "print(\"Testing Label Vector shape:\", y_test.shape)"
      ],
      "metadata": {
        "colab": {
          "base_uri": "https://localhost:8080/"
        },
        "id": "PnjRoWyJOAbd",
        "outputId": "74b6bb81-d0c2-4a6b-fb2d-5e2c6cdb6f42"
      },
      "execution_count": 37,
      "outputs": [
        {
          "output_type": "stream",
          "name": "stdout",
          "text": [
            "Training Feature Matrix shape: (520, 5)\n",
            "Training Label Vector shape: (520,)\n",
            "Testing Feature Matrix shape: (130, 5)\n",
            "Testing Label Vector shape: (130,)\n"
          ]
        }
      ]
    },
    {
      "cell_type": "markdown",
      "source": [
        "### Hyperparameter Tuning"
      ],
      "metadata": {
        "id": "8KQ26I4z3117"
      }
    },
    {
      "cell_type": "code",
      "source": [
        "knn_model = Pipeline([\n",
        "    (\"scale\", StandardScaler()),\n",
        "    (\"knn\", KNeighborsClassifier())\n",
        "    ])\n",
        "\n",
        "param_grid = {\"knn__n_neighbors\":[1, 2, 3, 4]}\n",
        "gscv = GridSearchCV(knn_model, param_grid = param_grid)\n",
        "gscv.fit(X_train, y_train)\n",
        "gscv.best_params_"
      ],
      "metadata": {
        "colab": {
          "base_uri": "https://localhost:8080/"
        },
        "id": "fCvHHLRcORMy",
        "outputId": "aef77233-9757-4aaa-a60f-d088afd4522b"
      },
      "execution_count": 38,
      "outputs": [
        {
          "output_type": "execute_result",
          "data": {
            "text/plain": [
              "{'knn__n_neighbors': 3}"
            ]
          },
          "metadata": {},
          "execution_count": 38
        }
      ]
    },
    {
      "cell_type": "code",
      "source": [
        "model = Pipeline([\n",
        "    (\"scale\", StandardScaler()),\n",
        "    (\"knn\", KNeighborsClassifier(n_neighbors = 3))\n",
        "    ])\n",
        "\n",
        "model.fit(X_train, y_train)\n"
      ],
      "metadata": {
        "colab": {
          "base_uri": "https://localhost:8080/"
        },
        "id": "KvBQTvRXQEtU",
        "outputId": "2b351c2e-6fd3-4e46-e953-86ca7ce1201f"
      },
      "execution_count": 39,
      "outputs": [
        {
          "output_type": "execute_result",
          "data": {
            "text/plain": [
              "Pipeline(steps=[('scale', StandardScaler()),\n",
              "                ('knn', KNeighborsClassifier(n_neighbors=3))])"
            ]
          },
          "metadata": {},
          "execution_count": 39
        }
      ]
    },
    {
      "cell_type": "code",
      "source": [
        "model.classes_"
      ],
      "metadata": {
        "colab": {
          "base_uri": "https://localhost:8080/"
        },
        "id": "oA2i6aC7WTjp",
        "outputId": "f976c7ba-9dfc-4de2-e55e-0607a92cd04c"
      },
      "execution_count": 40,
      "outputs": [
        {
          "output_type": "execute_result",
          "data": {
            "text/plain": [
              "array([0, 1])"
            ]
          },
          "metadata": {},
          "execution_count": 40
        }
      ]
    },
    {
      "cell_type": "code",
      "source": [
        "y_pred = model.predict(X_test)\n",
        "print(\"Accuracy Score of the model:\", accuracy_score(y_test, y_pred))"
      ],
      "metadata": {
        "colab": {
          "base_uri": "https://localhost:8080/"
        },
        "id": "o1Nfa9dEW8Fs",
        "outputId": "e2019a1f-f8de-42e4-dd35-8cde0ab3c1ae"
      },
      "execution_count": 41,
      "outputs": [
        {
          "output_type": "stream",
          "name": "stdout",
          "text": [
            "Accuracy Score of the model: 0.9307692307692308\n"
          ]
        }
      ]
    },
    {
      "cell_type": "code",
      "source": [
        "plot_confusion_matrix(model, X_test, y_test)\n",
        "plt.show()"
      ],
      "metadata": {
        "colab": {
          "base_uri": "https://localhost:8080/",
          "height": 283
        },
        "id": "vznOvu2CZNtX",
        "outputId": "9b40490a-0421-4595-8b8e-8f35d3dc6ebe"
      },
      "execution_count": 42,
      "outputs": [
        {
          "output_type": "display_data",
          "data": {
            "text/plain": [
              "<Figure size 432x288 with 2 Axes>"
            ],
            "image/png": "[encoded data removed]"
          },
          "metadata": {
            "needs_background": "light"
          }
        }
      ]
    },
    {
      "cell_type": "markdown",
      "source": [
        "# Model 4: Decision Tree Classifier"
      ],
      "metadata": {
        "id": "MTsyJ54FqM3F"
      }
    },
    {
      "cell_type": "code",
      "execution_count": 43,
      "metadata": {
        "id": "1LgQRzFrXIph"
      },
      "outputs": [],
      "source": [
        "with open('NITRRData.pkl','rb') as d:\n",
        "    data = pickle.load(d)"
      ]
    },
    {
      "cell_type": "code",
      "source": [
        "feature_matrix = data['features']\n",
        "df=pd.DataFrame(feature_matrix)"
      ],
      "metadata": {
        "id": "jsQEdErkXXgF"
      },
      "execution_count": 44,
      "outputs": []
    },
    {
      "cell_type": "code",
      "source": [
        "label_vector = data['target']\n",
        "df1 = pd.DataFrame(label_vector)\n",
        "\n",
        "target_df = df1"
      ],
      "metadata": {
        "id": "OWoy6IREXY39"
      },
      "execution_count": 45,
      "outputs": []
    },
    {
      "cell_type": "code",
      "source": [
        "X=df\n",
        "y=df1"
      ],
      "metadata": {
        "id": "4RkwVUJ8bp_F"
      },
      "execution_count": 46,
      "outputs": []
    },
    {
      "cell_type": "code",
      "source": [
        "X_train,X_test,y_train,y_test=train_test_split(X,y,test_size=0.2,random_state=0)"
      ],
      "metadata": {
        "id": "fx-lc1sPXYyt"
      },
      "execution_count": 47,
      "outputs": []
    },
    {
      "cell_type": "markdown",
      "source": [
        "### Hyperparameter Tuning"
      ],
      "metadata": {
        "id": "VElVYD884PUc"
      }
    },
    {
      "cell_type": "code",
      "source": [
        "params_dist={\n",
        "    \"criterion\":[\"gini\",\"entropy\"],\n",
        "    \"splitter\":[\"best\",\"random\"],\n",
        "    'max_depth':[x for x in range(1,13)]\n",
        "}\n",
        "\n",
        "clf = DecisionTreeClassifier(random_state=1)\n",
        "\n",
        "grid=GridSearchCV(clf,param_grid=params_dist,cv=10,n_jobs=-1)\n",
        "\n",
        "grid.fit(X_train,y_train)\n",
        "grid.best_params_"
      ],
      "metadata": {
        "colab": {
          "base_uri": "https://localhost:8080/"
        },
        "id": "HMvYXZS76Zt1",
        "outputId": "7f2836fe-8422-4c86-8721-dbdde532ec70"
      },
      "execution_count": 48,
      "outputs": [
        {
          "output_type": "execute_result",
          "data": {
            "text/plain": [
              "{'criterion': 'entropy', 'max_depth': 8, 'splitter': 'best'}"
            ]
          },
          "metadata": {},
          "execution_count": 48
        }
      ]
    },
    {
      "cell_type": "code",
      "source": [
        "grid.best_score_"
      ],
      "metadata": {
        "colab": {
          "base_uri": "https://localhost:8080/"
        },
        "id": "P3B8IbgI7KiT",
        "outputId": "8f351e6a-1a76-4776-b3e8-2e49bc3fb261"
      },
      "execution_count": 49,
      "outputs": [
        {
          "output_type": "execute_result",
          "data": {
            "text/plain": [
              "0.923076923076923"
            ]
          },
          "metadata": {},
          "execution_count": 49
        }
      ]
    },
    {
      "cell_type": "code",
      "source": [
        "NeedIrii_classifier= DecisionTreeClassifier(criterion = \"entropy\", max_depth=8,random_state=1)\n",
        "NeedIrii_classifier.fit(X_train,y_train)\n"
      ],
      "metadata": {
        "colab": {
          "base_uri": "https://localhost:8080/"
        },
        "id": "hCZlZBd_XYuN",
        "outputId": "71b200fa-8255-4408-b8a5-084a20d01af1"
      },
      "execution_count": 50,
      "outputs": [
        {
          "output_type": "execute_result",
          "data": {
            "text/plain": [
              "DecisionTreeClassifier(criterion='entropy', max_depth=8, random_state=1)"
            ]
          },
          "metadata": {},
          "execution_count": 50
        }
      ]
    },
    {
      "cell_type": "code",
      "source": [
        "NeedIrii_classifier.score(X_test,y_test)\n"
      ],
      "metadata": {
        "colab": {
          "base_uri": "https://localhost:8080/"
        },
        "id": "Kf-Dj_FGjIph",
        "outputId": "52951e66-a236-4b15-edff-5fdfada16335"
      },
      "execution_count": 51,
      "outputs": [
        {
          "output_type": "execute_result",
          "data": {
            "text/plain": [
              "0.9384615384615385"
            ]
          },
          "metadata": {},
          "execution_count": 51
        }
      ]
    },
    {
      "cell_type": "code",
      "source": [
        "y_pred=NeedIrii_classifier.predict(X_test)\n",
        "y_pred"
      ],
      "metadata": {
        "colab": {
          "base_uri": "https://localhost:8080/"
        },
        "id": "HJbKsUdYXYrt",
        "outputId": "20ed884f-5fba-4f53-986f-19ee8e5c4eb8"
      },
      "execution_count": 52,
      "outputs": [
        {
          "output_type": "execute_result",
          "data": {
            "text/plain": [
              "array([0, 0, 0, 1, 1, 0, 0, 0, 0, 0, 0, 0, 0, 1, 0, 0, 0, 0, 0, 1, 0, 1,\n",
              "       0, 0, 1, 0, 1, 0, 0, 0, 0, 1, 1, 0, 0, 0, 0, 0, 1, 0, 0, 0, 0, 1,\n",
              "       0, 0, 1, 1, 1, 1, 0, 0, 0, 0, 0, 1, 0, 0, 0, 0, 0, 1, 0, 1, 1, 0,\n",
              "       0, 0, 1, 0, 1, 0, 1, 0, 1, 1, 0, 0, 0, 1, 1, 1, 1, 1, 1, 0, 0, 0,\n",
              "       1, 1, 1, 0, 0, 1, 0, 1, 0, 0, 1, 0, 0, 1, 1, 0, 1, 1, 1, 0, 0, 1,\n",
              "       1, 0, 0, 0, 0, 0, 1, 0, 1, 0, 1, 1, 1, 1, 0, 1, 1, 0, 1, 0])"
            ]
          },
          "metadata": {},
          "execution_count": 52
        }
      ]
    },
    {
      "cell_type": "code",
      "source": [
        "print(\"Accuracy Score of the model:\", accuracy_score(y_test,y_pred))"
      ],
      "metadata": {
        "colab": {
          "base_uri": "https://localhost:8080/"
        },
        "id": "QbR4KFNJXYpf",
        "outputId": "b4514e98-c4f1-4d94-c14a-4fc9615ed201"
      },
      "execution_count": 53,
      "outputs": [
        {
          "output_type": "stream",
          "name": "stdout",
          "text": [
            "Accuracy Score of the model: 0.9384615384615385\n"
          ]
        }
      ]
    },
    {
      "cell_type": "code",
      "source": [
        "cf = confusion_matrix(y_test,y_pred)"
      ],
      "metadata": {
        "id": "7U8TKL6fh7zS"
      },
      "execution_count": 54,
      "outputs": []
    },
    {
      "cell_type": "code",
      "source": [
        "cm_display = ConfusionMatrixDisplay(confusion_matrix = cf, display_labels = [False, True])\n",
        "cm_display.plot()\n",
        "plt.show()"
      ],
      "metadata": {
        "colab": {
          "base_uri": "https://localhost:8080/",
          "height": 279
        },
        "id": "EMG9MFStmwoh",
        "outputId": "cd3e83ed-f0b8-4b44-d04e-c1c769ae31b4"
      },
      "execution_count": 55,
      "outputs": [
        {
          "output_type": "display_data",
          "data": {
            "text/plain": [
              "<Figure size 432x288 with 2 Axes>"
            ],
            "image/png": "[encoded data removed]"
          },
          "metadata": {
            "needs_background": "light"
          }
        }
      ]
    },
    {
      "cell_type": "markdown",
      "source": [
        "# Model 5: Random Forest Classifier"
      ],
      "metadata": {
        "id": "hhB9WREMjLwj"
      }
    },
    {
      "cell_type": "code",
      "source": [
        "data = pickle.load(open(\"/NITRRData.pkl\", \"rb\"))\n",
        "X = data[\"features\"]\n",
        "y = data[\"target\"]"
      ],
      "metadata": {
        "id": "vZmhOWAKjNl1"
      },
      "execution_count": 56,
      "outputs": []
    },
    {
      "cell_type": "code",
      "source": [
        "X_train, X_test, y_train, y_test = train_test_split(X, y, test_size = 0.20, random_state = RANDOM_STATE)"
      ],
      "metadata": {
        "id": "vq5Eg3sFjd2_"
      },
      "execution_count": 57,
      "outputs": []
    },
    {
      "cell_type": "code",
      "source": [
        "print(\"Training Feature Matrix shape:\", X_train.shape)\n",
        "print(\"Training Label Vector shape:\", y_train.shape)\n",
        "\n",
        "print(\"Testing Feature Matrix shape:\", X_test.shape)\n",
        "print(\"Testing Label Vector shape:\", y_test.shape)"
      ],
      "metadata": {
        "colab": {
          "base_uri": "https://localhost:8080/"
        },
        "id": "W7lNYuHgjfhq",
        "outputId": "4af58f7a-ea7f-4d15-c136-ba0521dff76c"
      },
      "execution_count": 58,
      "outputs": [
        {
          "output_type": "stream",
          "name": "stdout",
          "text": [
            "Training Feature Matrix shape: (520, 5)\n",
            "Training Label Vector shape: (520,)\n",
            "Testing Feature Matrix shape: (130, 5)\n",
            "Testing Label Vector shape: (130,)\n"
          ]
        }
      ]
    },
    {
      "cell_type": "markdown",
      "source": [
        "### Hyperparameter Tuning"
      ],
      "metadata": {
        "id": "OvCgrgiT4xkT"
      }
    },
    {
      "cell_type": "code",
      "source": [
        "rf_model = Pipeline([\n",
        "    (\"scale\", StandardScaler()),\n",
        "    (\"rf\", RandomForestClassifier(max_depth = 1000))\n",
        "    ])\n",
        "\n",
        "param_grid = {\"rf__criterion\":[\"gini\", \"entropy\", \"log_loss\"]}\n",
        "gscv = GridSearchCV(rf_model, param_grid = param_grid)\n",
        "gscv.fit(X_train, y_train)\n",
        "gscv.best_params_"
      ],
      "metadata": {
        "colab": {
          "base_uri": "https://localhost:8080/"
        },
        "id": "8pPn5e0ojhqn",
        "outputId": "f6dfe408-d70e-40a0-de00-b4f9c5713567"
      },
      "execution_count": 59,
      "outputs": [
        {
          "output_type": "execute_result",
          "data": {
            "text/plain": [
              "{'rf__criterion': 'entropy'}"
            ]
          },
          "metadata": {},
          "execution_count": 59
        }
      ]
    },
    {
      "cell_type": "code",
      "source": [
        "model = Pipeline([\n",
        "    (\"scale\", StandardScaler()),\n",
        "    (\"rf\", RandomForestClassifier(max_depth = 1000, criterion = \"gini\"))\n",
        "    ])\n",
        "model.fit(X_train, y_train)"
      ],
      "metadata": {
        "colab": {
          "base_uri": "https://localhost:8080/"
        },
        "id": "ijcTiFu1j6Gr",
        "outputId": "9616f8b4-b26e-4927-abd1-3051b7140d92"
      },
      "execution_count": 60,
      "outputs": [
        {
          "output_type": "execute_result",
          "data": {
            "text/plain": [
              "Pipeline(steps=[('scale', StandardScaler()),\n",
              "                ('rf', RandomForestClassifier(max_depth=1000))])"
            ]
          },
          "metadata": {},
          "execution_count": 60
        }
      ]
    },
    {
      "cell_type": "code",
      "source": [
        "y_pred = model.predict(X_test)\n",
        "print(\"Accuracy Score of the model:\", accuracy_score(y_test, y_pred))"
      ],
      "metadata": {
        "colab": {
          "base_uri": "https://localhost:8080/"
        },
        "id": "6cFqgSPEkXA7",
        "outputId": "ae925f7c-b8fa-4fc0-994d-538b7de6fd4d"
      },
      "execution_count": 61,
      "outputs": [
        {
          "output_type": "stream",
          "name": "stdout",
          "text": [
            "Accuracy Score of the model: 0.9538461538461539\n"
          ]
        }
      ]
    },
    {
      "cell_type": "markdown",
      "source": [
        "# Adaboost Classifier"
      ],
      "metadata": {
        "id": "lgDIKFbLs47-"
      }
    },
    {
      "cell_type": "code",
      "execution_count": 62,
      "metadata": {
        "id": "46471552"
      },
      "outputs": [],
      "source": [
        "with open (\"NITRRData.pkl\", \"rb\") as f:\n",
        "    data=pickle.load(f)"
      ]
    },
    {
      "cell_type": "code",
      "execution_count": 63,
      "metadata": {
        "id": "a2717e5d"
      },
      "outputs": [],
      "source": [
        "x = data[\"features\"]\n",
        "y = data[\"target\"]"
      ]
    },
    {
      "cell_type": "code",
      "execution_count": 64,
      "metadata": {
        "id": "48f02636"
      },
      "outputs": [],
      "source": [
        "x_train, x_test, y_train, y_test = train_test_split(x, y, test_size = 0.30, random_state = 1)\n",
        "x_train= x_train\n",
        "x_test = x_test"
      ]
    },
    {
      "cell_type": "markdown",
      "source": [
        "### Hyperparameter Tuning"
      ],
      "metadata": {
        "id": "N_IDCs6F4t3s"
      }
    },
    {
      "cell_type": "code",
      "execution_count": 65,
      "metadata": {
        "id": "490acba1",
        "outputId": "b32d7c90-3974-42ea-f5c2-863ddb912b00",
        "colab": {
          "base_uri": "https://localhost:8080/"
        }
      },
      "outputs": [
        {
          "output_type": "execute_result",
          "data": {
            "text/plain": [
              "{'abc__base_estimator': RandomForestClassifier(max_depth=1000),\n",
              " 'abc__learning_rate': 1}"
            ]
          },
          "metadata": {},
          "execution_count": 65
        }
      ],
      "source": [
        "\n",
        "svc = SVC(probability=True, random_state = 1)\n",
        "dtc = DecisionTreeClassifier(max_depth=8,random_state=0)\n",
        "rfc = RandomForestClassifier(max_depth = 1000, criterion = \"gini\")\n",
        "\n",
        "abc_model = Pipeline([\n",
        "    (\"scale\", StandardScaler()),\n",
        "    (\"abc\", AdaBoostClassifier(n_estimators=100))\n",
        "])\n",
        "\n",
        "param_grid = {\"abc__base_estimator\": [dtc, rfc, svc], \n",
        "              \"abc__learning_rate\": [1, 0.1, 0.01, 0.5, 0.05]\n",
        "}\n",
        "\n",
        "gscv = GridSearchCV(abc_model, param_grid = param_grid)\n",
        "gscv.fit(x_train, y_train)\n",
        "gscv.best_params_"
      ]
    },
    {
      "cell_type": "code",
      "source": [
        "model = Pipeline([\n",
        "    (\"scale\", StandardScaler()),\n",
        "    (\"abc\", AdaBoostClassifier(n_estimators=100, base_estimator = rfc, learning_rate = 0.01))\n",
        "])\n",
        "model.fit(x_train, y_train.values.ravel())\n",
        "\n",
        "y_pred = model.predict(x_test)\n",
        "\n",
        "\n",
        "print(\"Accuracy of the model:\", accuracy_score(y_test, y_pred))"
      ],
      "metadata": {
        "colab": {
          "base_uri": "https://localhost:8080/"
        },
        "id": "WNdvwU8turWq",
        "outputId": "adbda8b3-21a3-47d8-bf45-1134c0f8ced9"
      },
      "execution_count": 66,
      "outputs": [
        {
          "output_type": "stream",
          "name": "stdout",
          "text": [
            "Accuracy of the model: 0.9179487179487179\n"
          ]
        }
      ]
    },
    {
      "cell_type": "code",
      "execution_count": 67,
      "metadata": {
        "id": "88fb20e8",
        "outputId": "c7c456fa-7638-4aea-d368-f8c9686b0af3",
        "colab": {
          "base_uri": "https://localhost:8080/",
          "height": 296
        }
      },
      "outputs": [
        {
          "output_type": "execute_result",
          "data": {
            "text/plain": [
              "<sklearn.metrics._plot.confusion_matrix.ConfusionMatrixDisplay at 0x7f598104c090>"
            ]
          },
          "metadata": {},
          "execution_count": 67
        },
        {
          "output_type": "display_data",
          "data": {
            "text/plain": [
              "<Figure size 432x288 with 2 Axes>"
            ],
            "image/png": "[encoded data removed]"
          },
          "metadata": {
            "needs_background": "light"
          }
        }
      ],
      "source": [
        "plot_confusion_matrix(model, x_test, y_test.values.ravel())"
      ]
    },
    {
      "cell_type": "markdown",
      "source": [
        "# Finalized Model"
      ],
      "metadata": {
        "id": "qUqR1TNQ42Tr"
      }
    },
    {
      "cell_type": "markdown",
      "source": [
        "### Global Variables"
      ],
      "metadata": {
        "id": "wMd2LF27DF18"
      }
    },
    {
      "cell_type": "code",
      "source": [
        "RANDOM_STATE = 1"
      ],
      "metadata": {
        "id": "GL2foNO67o89"
      },
      "execution_count": 68,
      "outputs": []
    },
    {
      "cell_type": "markdown",
      "source": [
        "### Loading the Data"
      ],
      "metadata": {
        "id": "t2EfuqJCDXDz"
      }
    },
    {
      "cell_type": "code",
      "source": [
        "data = pickle.load(open(\"/NITRRData.pkl\", \"rb\"))\n",
        "X = data[\"features\"]\n",
        "y = data[\"target\"]"
      ],
      "metadata": {
        "id": "kisCo8nQ5btM"
      },
      "execution_count": 69,
      "outputs": []
    },
    {
      "cell_type": "markdown",
      "source": [
        "### Splitting the Data to Train and Test Sets:\n",
        "\n",
        "Training Data: 80%\n",
        "Testing Data: 20%"
      ],
      "metadata": {
        "id": "cZuEC0xnDZQb"
      }
    },
    {
      "cell_type": "code",
      "source": [
        "X_train, X_test, y_train, y_test = train_test_split(X, y, test_size = 0.20, random_state = RANDOM_STATE)"
      ],
      "metadata": {
        "id": "nJ2HHJ-S5btN"
      },
      "execution_count": 70,
      "outputs": []
    },
    {
      "cell_type": "markdown",
      "source": [
        "### Sanity Check"
      ],
      "metadata": {
        "id": "5GGhqj-wDlkk"
      }
    },
    {
      "cell_type": "code",
      "source": [
        "print(\"Training Feature Matrix shape:\", X_train.shape)\n",
        "print(\"Training Label Vector shape:\", y_train.shape)\n",
        "\n",
        "print(\"Testing Feature Matrix shape:\", X_test.shape)\n",
        "print(\"Testing Label Vector shape:\", y_test.shape)"
      ],
      "metadata": {
        "colab": {
          "base_uri": "https://localhost:8080/"
        },
        "outputId": "3cee3431-48b4-49f4-b9e6-008b27a0a0b7",
        "id": "DxOe75h95btN"
      },
      "execution_count": 71,
      "outputs": [
        {
          "output_type": "stream",
          "name": "stdout",
          "text": [
            "Training Feature Matrix shape: (520, 5)\n",
            "Training Label Vector shape: (520,)\n",
            "Testing Feature Matrix shape: (130, 5)\n",
            "Testing Label Vector shape: (130,)\n"
          ]
        }
      ]
    },
    {
      "cell_type": "markdown",
      "source": [
        "### Hyperparameter Tuning"
      ],
      "metadata": {
        "id": "KnXUNiqrDneL"
      }
    },
    {
      "cell_type": "code",
      "source": [
        "rf_model = Pipeline([\n",
        "    (\"scale\", StandardScaler()),\n",
        "    (\"rf\", RandomForestClassifier(max_depth = 1000))\n",
        "    ])\n",
        "\n",
        "param_grid = {\"rf__criterion\":[\"gini\", \"entropy\"]}\n",
        "gscv = GridSearchCV(rf_model, param_grid = param_grid)\n",
        "gscv.fit(X_train, y_train)\n",
        "gscv.best_params_"
      ],
      "metadata": {
        "colab": {
          "base_uri": "https://localhost:8080/"
        },
        "outputId": "2162a318-4317-4bfe-8c22-d7ed11b6b0b2",
        "id": "_ZA9BGF05btN"
      },
      "execution_count": 72,
      "outputs": [
        {
          "output_type": "execute_result",
          "data": {
            "text/plain": [
              "{'rf__criterion': 'entropy'}"
            ]
          },
          "metadata": {},
          "execution_count": 72
        }
      ]
    },
    {
      "cell_type": "markdown",
      "source": [
        "### Setting up the model"
      ],
      "metadata": {
        "id": "brm1Z0ryDsQb"
      }
    },
    {
      "cell_type": "code",
      "source": [
        "model = Pipeline([\n",
        "    (\"scale\", StandardScaler()),\n",
        "    (\"rf\", RandomForestClassifier(max_depth = 100, criterion = \"gini\"))\n",
        "    ])\n",
        "model.fit(X_train, y_train)"
      ],
      "metadata": {
        "colab": {
          "base_uri": "https://localhost:8080/"
        },
        "outputId": "cbfdb9da-31f3-4643-bcf8-f22e6966ec19",
        "id": "on1JwQVG5btN"
      },
      "execution_count": 73,
      "outputs": [
        {
          "output_type": "execute_result",
          "data": {
            "text/plain": [
              "Pipeline(steps=[('scale', StandardScaler()),\n",
              "                ('rf', RandomForestClassifier(max_depth=100))])"
            ]
          },
          "metadata": {},
          "execution_count": 73
        }
      ]
    },
    {
      "cell_type": "markdown",
      "source": [
        "### Model Accuracy Score"
      ],
      "metadata": {
        "id": "1B5KdEgjDvWT"
      }
    },
    {
      "cell_type": "code",
      "source": [
        "y_pred = model.predict(X_test)\n",
        "print(\"Accuracy Score of the model:\", accuracy_score(y_test, y_pred))"
      ],
      "metadata": {
        "colab": {
          "base_uri": "https://localhost:8080/"
        },
        "outputId": "16ab156a-fc2e-48bb-f275-655475e2d586",
        "id": "8m7UHlJd5btO"
      },
      "execution_count": 74,
      "outputs": [
        {
          "output_type": "stream",
          "name": "stdout",
          "text": [
            "Accuracy Score of the model: 0.9461538461538461\n"
          ]
        }
      ]
    },
    {
      "cell_type": "markdown",
      "source": [
        "### Shap for displaying insights for model output"
      ],
      "metadata": {
        "id": "fVrdKAr5Dzc0"
      }
    },
    {
      "cell_type": "code",
      "source": [
        "explainer = shap.TreeExplainer(model[\"rf\"])\n",
        "shap_values = explainer.shap_values(X_test)\n",
        "shap.summary_plot(shap_values, X_test)"
      ],
      "metadata": {
        "colab": {
          "base_uri": "https://localhost:8080/",
          "height": 261
        },
        "id": "E3eymKyj9WDN",
        "outputId": "22154f62-cf4f-4fbe-e782-def36015fefa"
      },
      "execution_count": 75,
      "outputs": [
        {
          "output_type": "display_data",
          "data": {
            "text/plain": [
              "<Figure size 576x252 with 1 Axes>"
            ],
            "image/png": "[encoded data removed]"
          },
          "metadata": {
            "needs_background": "light"
          }
        }
      ]
    },
    {
      "cell_type": "markdown",
      "source": [
        "### Eporting the model"
      ],
      "metadata": {
        "id": "1knydZG7EPmj"
      }
    },
    {
      "cell_type": "code",
      "source": [
        "with open('rf_model.h5', \"wb\") as modelfile:\n",
        "  pickle.dump(model, modelfile) "
      ],
      "metadata": {
        "id": "RHNSKJj99eHd"
      },
      "execution_count": 76,
      "outputs": []
    }
  ]
}