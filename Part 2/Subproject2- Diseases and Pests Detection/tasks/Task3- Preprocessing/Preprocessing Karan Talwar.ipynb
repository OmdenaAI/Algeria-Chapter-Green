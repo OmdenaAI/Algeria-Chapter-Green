{
  "nbformat": 4,
  "nbformat_minor": 0,
  "metadata": {
    "colab": {
      "provenance": [],
      "collapsed_sections": [],
      "mount_file_id": "1L92c65CFD2diHMNe2HiJpI6SHTNPgK-E",
      "authorship_tag": "ABX9TyO9vIsNBSUoPV6cWi4w52Cg",
      "include_colab_link": true
    },
    "kernelspec": {
      "name": "python3",
      "display_name": "Python 3"
    },
    "language_info": {
      "name": "python"
    }
  },
  "cells": [
    {
      "cell_type": "markdown",
      "metadata": {
        "id": "view-in-github",
        "colab_type": "text"
      },
      "source": [
        "<a href=\"https://colab.research.google.com/github/KT2001/Omdena_Algeria_Project_OneShotLearning/blob/main/Preprocessing.ipynb\" target=\"_parent\"><img src=\"https://colab.research.google.com/assets/colab-badge.svg\" alt=\"Open In Colab\"/></a>"
      ]
    },
    {
      "cell_type": "markdown",
      "source": [
        "### Importing the Dependencies"
      ],
      "metadata": {
        "id": "mqGzGJUCkRn1"
      }
    },
    {
      "cell_type": "markdown",
      "source": [
        "Here we are using, a smaller dataset created using Tomato Curl leaf virus (as positive and anchor images) and Tomato healthy images (as negative images).\n",
        "\n",
        "Link to the smaller dataset: https://drive.google.com/file/d/1WT_1MLG8Dd0CkfWtAL3rEP9BMoetwmdq/view?usp=sharing"
      ],
      "metadata": {
        "id": "HeqGhfxVkWmd"
      }
    },
    {
      "cell_type": "code",
      "execution_count": 1,
      "metadata": {
        "id": "i4kHDaDgCzsp"
      },
      "outputs": [],
      "source": [
        "# Import tensorflow dependencies - Functional API\n",
        "from tensorflow.keras.models import Model\n",
        "from tensorflow.keras.layers import Layer, Conv2D, Dense, MaxPooling2D, Input, Flatten\n",
        "import tensorflow as tf\n",
        "\n",
        "# visulizations\n",
        "import matplotlib.pyplot as plt\n",
        "%matplotlib inline\n",
        "import matplotlib as mpl\n",
        "mpl.rcParams['figure.figsize'] = (12, 12)\n",
        "mpl.rcParams['axes.grid'] = False\n",
        "import seaborn as sns\n",
        "sns.set(style=\"ticks\", context=\"talk\")\n",
        "plt.style.use(\"dark_background\")\n",
        "import warnings\n",
        "warnings.filterwarnings('ignore')\n",
        "\n",
        "import numpy as np\n",
        "from PIL import Image\n",
        "from PIL import ImageFile\n",
        "ImageFile.LOAD_TRUNCATED_IMAGES = True\n",
        "import os\n",
        "import random\n",
        "import time\n",
        "import cv2\n",
        "import glob\n",
        "from scipy import misc\n",
        "import pathlib"
      ]
    },
    {
      "cell_type": "markdown",
      "source": [
        "We have to unzip the dummy dataset."
      ],
      "metadata": {
        "id": "o5qxm7YXe5W4"
      }
    },
    {
      "cell_type": "code",
      "source": [
        "!unzip /content/drive/MyDrive/PlantVillage/One_shot_dataset.zip"
      ],
      "metadata": {
        "id": "iGymLFnaDC5D"
      },
      "execution_count": null,
      "outputs": []
    },
    {
      "cell_type": "code",
      "source": [
        "num_classes = {}\n",
        "sum = 0\n",
        "dir = os.listdir('/content/One_shot_dataset')\n",
        "print(f\"Number of classes: {len(dir)} \\n\")\n",
        "for filenames in dir:\n",
        "  num_classes[filenames] = len(os.listdir(f\"{'/content/One_shot_dataset'}/{filenames}\"))\n",
        "  sum = num_classes[filenames]+sum\n",
        "  print(f\"{filenames}: {(num_classes[filenames])}\")\n",
        "print(f\"\\nTotal number of images: {sum}\")"
      ],
      "metadata": {
        "colab": {
          "base_uri": "https://localhost:8080/"
        },
        "id": "_VElsY0RHIYp",
        "outputId": "784b01b5-c124-4706-f9e2-55866ac3bc0b"
      },
      "execution_count": 3,
      "outputs": [
        {
          "output_type": "stream",
          "name": "stdout",
          "text": [
            "Number of classes: 3 \n",
            "\n",
            "ANC_IMAGES: 1000\n",
            "NEG_IMAGES (Tomato_healthy): 1000\n",
            "POS_IMAGES (Tomato_yellow_curl_virus): 1000\n",
            "\n",
            "Total number of images: 3000\n"
          ]
        }
      ]
    },
    {
      "cell_type": "code",
      "source": [
        "plants=list(num_classes.keys())\n",
        "values=list(num_classes.values())"
      ],
      "metadata": {
        "id": "3kCMwM3MfIDQ"
      },
      "execution_count": 4,
      "outputs": []
    },
    {
      "cell_type": "code",
      "source": [
        "plt.figure(figsize=(15, 5))\n",
        "plt.xlabel(\"number of images available\")\n",
        "plt.ylabel(\"Image dataset\")\n",
        "plt.barh(plants, values, color = 'Red', capsize = 10)\n",
        "plt.figure(figsize=(30, 10))"
      ],
      "metadata": {
        "colab": {
          "base_uri": "https://localhost:8080/",
          "height": 347
        },
        "id": "kJU8wIWSfK20",
        "outputId": "8bdeae4f-d927-48e5-8d66-9cd3be87604f"
      },
      "execution_count": 5,
      "outputs": [
        {
          "output_type": "execute_result",
          "data": {
            "text/plain": [
              "<Figure size 2160x720 with 0 Axes>"
            ]
          },
          "metadata": {},
          "execution_count": 5
        },
        {
          "output_type": "display_data",
          "data": {
            "text/plain": [
              "<Figure size 1080x360 with 1 Axes>"
            ],
            "image/png": "[encoded data removed]"
          },
          "metadata": {}
        },
        {
          "output_type": "display_data",
          "data": {
            "text/plain": [
              "<Figure size 2160x720 with 0 Axes>"
            ]
          },
          "metadata": {}
        }
      ]
    },
    {
      "cell_type": "code",
      "source": [
        "# Creating path variables\n",
        "Pos_path = os.path.join('/content/One_shot_dataset/POS_IMAGES(Tomato_yellow_curl_virus)')\n",
        "Neg_path = os.path.join('/content/One_shot_dataset/NEG_IMAGES(Tomato_healthy)')\n",
        "Anc_path = os.path.join('/content/One_shot_dataset/ANC_IMAGES')"
      ],
      "metadata": {
        "id": "1jQ7MndTfTm2"
      },
      "execution_count": 6,
      "outputs": []
    },
    {
      "cell_type": "code",
      "source": [
        "# This step would be optional step as we will make some changes with the final dataset but this might not be necessary.\n",
        "def renamer(path):\n",
        "  i = 0\n",
        "  for filename in os.listdir(path):\n",
        "      my_dest =\"image\" + str(i) + \".jpg\"\n",
        "      my_source =path +'/'+ filename\n",
        "      my_dest =path +'/'+ my_dest\n",
        "      # rename() function will\n",
        "      # rename all the files\n",
        "      os.rename(my_source, my_dest)\n",
        "      i += 1"
      ],
      "metadata": {
        "id": "_fDGwP_-fzq2"
      },
      "execution_count": 7,
      "outputs": []
    },
    {
      "cell_type": "code",
      "source": [
        "renamer(Anc_path)\n",
        "renamer(Pos_path)\n",
        "renamer(Neg_path)"
      ],
      "metadata": {
        "id": "KFS2InPdhUJc"
      },
      "execution_count": 8,
      "outputs": []
    },
    {
      "cell_type": "code",
      "source": [
        "anchor = tf.data.Dataset.list_files(Anc_path+'/*.jpg').take(1000)\n",
        "positive = tf.data.Dataset.list_files(Pos_path+'/*.jpg').take(1000)\n",
        "negative = tf.data.Dataset.list_files(Neg_path+'/*.jpg').take(1000)"
      ],
      "metadata": {
        "id": "JMUVUcPyhauG"
      },
      "execution_count": 9,
      "outputs": []
    },
    {
      "cell_type": "markdown",
      "source": [
        "the size of the image in the original paper was 105x105x1 but considering we have 3 colour channels here we will have 105x105x3."
      ],
      "metadata": {
        "id": "2ukkR-yZhfe-"
      }
    },
    {
      "cell_type": "code",
      "source": [
        "# the preprocessing layer\n",
        "def preprocess(path):\n",
        "  # read an image from file path\n",
        "  byte_img = tf.io.read_file(path)\n",
        "  # Load the image\n",
        "  img = tf.io.decode_jpeg(byte_img)\n",
        "\n",
        "  # preprocess steps - resize image to be 105x105x3\n",
        "  img = tf.image.resize(img, (105, 105))\n",
        "  # scaling the image between 0, 1\n",
        "  img = img/255.0\n",
        "\n",
        "  return img"
      ],
      "metadata": {
        "id": "UWVFEIu8cfd2"
      },
      "execution_count": 11,
      "outputs": []
    },
    {
      "cell_type": "markdown",
      "source": [
        "### Creating labelled dataset"
      ],
      "metadata": {
        "id": "Eiz474g8h4rA"
      }
    },
    {
      "cell_type": "code",
      "source": [
        "positives = tf.data.Dataset.zip((anchor, positive, tf.data.Dataset.from_tensor_slices(tf.ones(len(anchor)))))\n",
        "negatives = tf.data.Dataset.zip((anchor, negative, tf.data.Dataset.from_tensor_slices(tf.zeros(len(anchor)))))\n",
        "# this is our combined data\n",
        "data = positives.concatenate(negatives)"
      ],
      "metadata": {
        "id": "op6RdWlNcfbG"
      },
      "execution_count": 13,
      "outputs": []
    },
    {
      "cell_type": "code",
      "source": [
        "# to preprocess both layers at the same time\n",
        "def preprocess_twin(input_img, validation_img, label):\n",
        "    return(preprocess(input_img), preprocess(validation_img), label)"
      ],
      "metadata": {
        "id": "WO628frZhzRj"
      },
      "execution_count": 14,
      "outputs": []
    },
    {
      "cell_type": "code",
      "source": [
        "# building a dataloader pipeline\n",
        "data = data.map(preprocess_twin)\n",
        "data = data.cache()\n",
        "data = data.shuffle(buffer_size=1024, seed = 42)"
      ],
      "metadata": {
        "id": "m2VMZgeohzO3"
      },
      "execution_count": 15,
      "outputs": []
    },
    {
      "cell_type": "markdown",
      "source": [
        "### Splitting the data into train and test data"
      ],
      "metadata": {
        "id": "ImHiOS1fi8SV"
      }
    },
    {
      "cell_type": "code",
      "source": [
        "# Training partition\n",
        "train_data = data.take(round(len(data)*.7))\n",
        "train_data = train_data.batch(16)\n",
        "train_data = train_data.prefetch(8)"
      ],
      "metadata": {
        "id": "l92uldLOisAj"
      },
      "execution_count": 21,
      "outputs": []
    },
    {
      "cell_type": "code",
      "source": [
        "# Testing partition\n",
        "test_data = data.skip(round(len(data)*.7))\n",
        "test_data = test_data.take(round(len(data)*.3))\n",
        "test_data = test_data.batch(16)\n",
        "test_data = test_data.prefetch(8)"
      ],
      "metadata": {
        "id": "wAuBjDINir9x"
      },
      "execution_count": 22,
      "outputs": []
    },
    {
      "cell_type": "markdown",
      "source": [
        "We don't need to split it into a validation set we can do that after the model is built while we are validating it."
      ],
      "metadata": {
        "id": "MHPgwa72jM-3"
      }
    }
  ]
}