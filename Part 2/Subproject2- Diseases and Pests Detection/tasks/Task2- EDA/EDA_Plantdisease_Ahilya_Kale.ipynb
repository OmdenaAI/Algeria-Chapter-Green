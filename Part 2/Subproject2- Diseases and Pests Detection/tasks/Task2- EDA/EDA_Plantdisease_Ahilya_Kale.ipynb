{
 "cells": [
  {
   "cell_type": "code",
   "execution_count": 1,
   "id": "1e80f72d",
   "metadata": {},
   "outputs": [],
   "source": [
    "import os\n",
    "import pathlib\n",
    "import pandas as pd\n",
    "import matplotlib.pyplot as plt\n",
    "import PIL\n",
    "import PIL.Image\n",
    "import numpy as np\n",
    "import dask.bag\n",
    "from dask.diagnostics import ProgressBar\n",
    "import pandas as pd\n",
    "import random\n",
    "import cv2"
   ]
  },
  {
   "cell_type": "code",
   "execution_count": 2,
   "id": "2b2db82f",
   "metadata": {},
   "outputs": [],
   "source": [
    "data_dir = pathlib.Path(r\"C:\\Users\\lenovo\\Downloads\\Image Data base\\Image Data base\")\n",
    "class_name = os.listdir(data_dir)"
   ]
  },
  {
   "cell_type": "code",
   "execution_count": 3,
   "id": "ae3c0f6f",
   "metadata": {},
   "outputs": [
    {
     "name": "stdout",
     "output_type": "stream",
     "text": [
      "Total number of plant species: 58\n"
     ]
    },
    {
     "data": {
      "text/plain": [
       "['algal leaf in tea',\n",
       " 'anthracnose in tea',\n",
       " 'Apple Apple scab',\n",
       " 'Apple Black rot',\n",
       " 'Apple Cedar apple rust',\n",
       " 'Apple healthy',\n",
       " 'Bacterial leaf blight in rice leaf',\n",
       " 'bird eye spot in tea',\n",
       " 'Blight in corn Leaf',\n",
       " 'Blueberry healthy',\n",
       " 'brown blight in tea',\n",
       " 'Brown spot in rice leaf',\n",
       " 'cabbage looper',\n",
       " 'Cercospora leaf spot',\n",
       " 'Cherry (including sour) Powdery mildew',\n",
       " 'Cherry (including_sour) healthy',\n",
       " 'Common Rust in corn Leaf',\n",
       " 'Corn (maize) healthy',\n",
       " 'corn crop',\n",
       " 'Garlic',\n",
       " 'ginger',\n",
       " 'Grape Black rot',\n",
       " 'Grape Esca Black Measles',\n",
       " 'Grape healthy',\n",
       " 'Grape Leaf blight Isariopsis Leaf Spot',\n",
       " 'Gray Leaf Spot in corn Leaf',\n",
       " 'healthy tea leaf',\n",
       " 'Leaf smut in rice leaf',\n",
       " 'lemon canker',\n",
       " 'Nitrogen deficiency in plant',\n",
       " 'onion',\n",
       " 'Orange Haunglongbing Citrus greening',\n",
       " 'Peach healthy',\n",
       " 'Pepper bell Bacterial spot',\n",
       " 'Pepper bell healthy',\n",
       " 'potassium deficiency in plant',\n",
       " 'potato crop',\n",
       " 'Potato Early blight',\n",
       " 'Potato healthy',\n",
       " 'potato hollow heart',\n",
       " 'Potato Late blight',\n",
       " 'Raspberry healthy',\n",
       " 'red leaf spot in tea',\n",
       " 'Sogatella rice',\n",
       " 'Soybean healthy',\n",
       " 'Strawberry healthy',\n",
       " 'Strawberry Leaf scorch',\n",
       " 'Tomato Bacterial spot',\n",
       " 'tomato canker',\n",
       " 'Tomato Early blight',\n",
       " 'Tomato healthy',\n",
       " 'Tomato Late blight',\n",
       " 'Tomato Leaf Mold',\n",
       " 'Tomato Septoria leaf spot',\n",
       " 'Tomato Spider mites Two spotted spider mite',\n",
       " 'Tomato Target Spot',\n",
       " 'Tomato Tomato mosaic virus',\n",
       " 'Waterlogging in plant']"
      ]
     },
     "execution_count": 3,
     "metadata": {},
     "output_type": "execute_result"
    }
   ],
   "source": [
    "print(f\"Total number of plant species: {len(class_name)}\")\n",
    "class_name"
   ]
  },
  {
   "cell_type": "code",
   "execution_count": 4,
   "id": "9e7aa86b",
   "metadata": {},
   "outputs": [],
   "source": [
    "EPOCHS = 20\n",
    "SAMPLE_LEN = 100\n",
    "IMAGE_PATH = r\"C:\\Users\\lenovo\\Downloads\\Image Data base\\Image Data base\\algal leaf in tea\"\n",
    "TEST_PATH = r\"C:\\Users\\lenovo\\Downloads\\Image Data base\\test.csv\"\n",
    "TRAIN_PATH = r\"C:\\Users\\lenovo\\Downloads\\Image Data base\\train.csv\"\n",
    "SUB_PATH = r\"C:\\Users\\lenovo\\Downloads\\Image Data base\\sample_submission.csv\"\n",
    "\n",
    "sub = pd.read_csv(SUB_PATH)\n",
    "test_data = pd.read_csv(TEST_PATH)\n",
    "train_data = pd.read_csv(TRAIN_PATH)"
   ]
  },
  {
   "cell_type": "code",
   "execution_count": 5,
   "id": "8a4d9cc8",
   "metadata": {},
   "outputs": [],
   "source": [
    "EPOCHS = 4\n",
    "SAMPLE_LEN = 20\n",
    "IMAGE_PATH = r\"C:\\Users\\lenovo\\Downloads\\Image Data base\\Image Data base\\algal leaf in tea\"\n",
    "TEST_PATH = r\"C:\\Users\\lenovo\\Downloads\\Image Data base\\test.csv\"\n",
    "TRAIN_PATH = r\"C:\\Users\\lenovo\\Downloads\\Image Data base\\train.csv\"\n",
    "SUB_PATH = r\"C:\\Users\\lenovo\\Downloads\\Image Data base\\sample_submission.csv\"\n",
    "\n",
    "sub = pd.read_csv(SUB_PATH)\n",
    "test_data = pd.read_csv(TEST_PATH)\n",
    "train_data = pd.read_csv(TRAIN_PATH)"
   ]
  },
  {
   "cell_type": "code",
   "execution_count": 6,
   "id": "b0f312f3",
   "metadata": {},
   "outputs": [],
   "source": [
    "train_data = pd.DataFrame(pd.read_csv(r\"C:\\Users\\lenovo\\Downloads\\Image Data base\\train.csv\"))\n",
    "test_data = pd.DataFrame(pd.read_csv(r\"C:\\Users\\lenovo\\Downloads\\Image Data base\\test.csv\"))"
   ]
  },
  {
   "cell_type": "code",
   "execution_count": 7,
   "id": "ce12552d",
   "metadata": {},
   "outputs": [
    {
     "name": "stdout",
     "output_type": "stream",
     "text": [
      "Training data shape : = (20, 5)\n",
      "Test data shape : = (20, 1)\n"
     ]
    }
   ],
   "source": [
    "print(\"Training data shape : = {}\".format(train_data.shape))\n",
    "print(\"Test data shape : = {}\".format(test_data.shape))"
   ]
  },
  {
   "cell_type": "code",
   "execution_count": 8,
   "id": "5e67f15e",
   "metadata": {},
   "outputs": [
    {
     "data": {
      "text/html": [
       "<div>\n",
       "<style scoped>\n",
       "    .dataframe tbody tr th:only-of-type {\n",
       "        vertical-align: middle;\n",
       "    }\n",
       "\n",
       "    .dataframe tbody tr th {\n",
       "        vertical-align: top;\n",
       "    }\n",
       "\n",
       "    .dataframe thead th {\n",
       "        text-align: right;\n",
       "    }\n",
       "</style>\n",
       "<table border=\"1\" class=\"dataframe\">\n",
       "  <thead>\n",
       "    <tr style=\"text-align: right;\">\n",
       "      <th></th>\n",
       "      <th>image_id</th>\n",
       "      <th>healthy</th>\n",
       "      <th>rust</th>\n",
       "      <th>diseased</th>\n",
       "      <th>scab</th>\n",
       "    </tr>\n",
       "  </thead>\n",
       "  <tbody>\n",
       "    <tr>\n",
       "      <th>0</th>\n",
       "      <td>algal_leaf_in_tea1</td>\n",
       "      <td>0</td>\n",
       "      <td>0</td>\n",
       "      <td>1</td>\n",
       "      <td>0</td>\n",
       "    </tr>\n",
       "    <tr>\n",
       "      <th>1</th>\n",
       "      <td>algal_leaf_in_tea2</td>\n",
       "      <td>1</td>\n",
       "      <td>0</td>\n",
       "      <td>0</td>\n",
       "      <td>0</td>\n",
       "    </tr>\n",
       "    <tr>\n",
       "      <th>2</th>\n",
       "      <td>algal_leaf_in_tea3</td>\n",
       "      <td>0</td>\n",
       "      <td>1</td>\n",
       "      <td>0</td>\n",
       "      <td>0</td>\n",
       "    </tr>\n",
       "    <tr>\n",
       "      <th>3</th>\n",
       "      <td>algal_leaf_in_tea4</td>\n",
       "      <td>0</td>\n",
       "      <td>0</td>\n",
       "      <td>1</td>\n",
       "      <td>0</td>\n",
       "    </tr>\n",
       "    <tr>\n",
       "      <th>4</th>\n",
       "      <td>algal_leaf_in_tea5</td>\n",
       "      <td>0</td>\n",
       "      <td>0</td>\n",
       "      <td>1</td>\n",
       "      <td>0</td>\n",
       "    </tr>\n",
       "  </tbody>\n",
       "</table>\n",
       "</div>"
      ],
      "text/plain": [
       "             image_id  healthy  rust  diseased  scab\n",
       "0  algal_leaf_in_tea1        0     0         1     0\n",
       "1  algal_leaf_in_tea2        1     0         0     0\n",
       "2  algal_leaf_in_tea3        0     1         0     0\n",
       "3  algal_leaf_in_tea4        0     0         1     0\n",
       "4  algal_leaf_in_tea5        0     0         1     0"
      ]
     },
     "execution_count": 8,
     "metadata": {},
     "output_type": "execute_result"
    }
   ],
   "source": [
    "train_data.head()"
   ]
  },
  {
   "cell_type": "code",
   "execution_count": 9,
   "id": "7b83e1a0",
   "metadata": {},
   "outputs": [],
   "source": [
    "arr = train_data[\"image_id\"]\n",
    "train_images = [i for i in arr]  \n",
    "\n",
    "arr = test_data[\"image_id\"]\n",
    "test_images = [i for i in arr]"
   ]
  },
  {
   "cell_type": "code",
   "execution_count": 10,
   "id": "d648bd1c",
   "metadata": {},
   "outputs": [],
   "source": [
    "def load_image(image_id):\n",
    "    file_path = image_id + \".jpg\"\n",
    "    image = cv2.imread(IMAGE_PATH + file_path)\n",
    "    return cv2.cvtColor(image, cv2.COLOR_BGR2RGB)"
   ]
  },
  {
   "cell_type": "code",
   "execution_count": 11,
   "id": "bf3cc7c6",
   "metadata": {},
   "outputs": [],
   "source": [
    "def load_image(image_id) : \n",
    "  image_path = image_folder_path +image_id +\".jpg\"\n",
    "  image = cv2.imread(image_path) \n",
    "  image = cv2.cvtColor(image, cv2.COLOR_BGR2RGB)\n",
    "  return image\n",
    "\n",
    "def resize(image, image_size):\n",
    "  image = cv2.resize(image, (image_size[0], image_size[1]), interpolation = cv2.INTER_AREA)\n",
    "  return image"
   ]
  },
  {
   "cell_type": "code",
   "execution_count": 12,
   "id": "b1ffbfcd",
   "metadata": {},
   "outputs": [],
   "source": [
    "def extract_classes(s):\n",
    "  \"\"\"\n",
    "  s can be either of the four classes mentioned above.\n",
    "  \"\"\" \n",
    "  t = train_data[train_data[s] == 1] \n",
    "  arr = t[\"image_id\"]\n",
    "  images = [i for i in tqdm(arr)]\n",
    "  train_images = [load_image(i) for i in tqdm(images)]\n",
    "  return train_images\n",
    "\n",
    "classes = [\"healthy\", \"multiple_diseases\", \"rust\", \"scab\"]"
   ]
  },
  {
   "cell_type": "code",
   "execution_count": 13,
   "id": "f583260b",
   "metadata": {},
   "outputs": [
    {
     "name": "stdout",
     "output_type": "stream",
     "text": [
      "1\n",
      "12\n",
      "4\n",
      "3\n",
      "20\n"
     ]
    }
   ],
   "source": [
    "count_healthy = len(train_data[train_data[\"healthy\"] == 1])\n",
    "count_diseased = len(train_data[train_data[\"diseased\"] == 1])\n",
    "count_rust = len(train_data[train_data[\"rust\"] == 1])\n",
    "count_scab = len(train_data[train_data[\"scab\"] == 1])\n",
    "\n",
    "print(count_healthy)\n",
    "print(count_diseased)\n",
    "print(count_rust)\n",
    "print(count_scab)\n",
    "print(count_healthy + count_diseased + count_rust +  count_scab)"
   ]
  },
  {
   "cell_type": "code",
   "execution_count": 14,
   "id": "d839a104",
   "metadata": {},
   "outputs": [
    {
     "data": {
      "text/plain": [
       "(-1.1579662220564508,\n",
       " 1.1551412849124292,\n",
       " -1.1333279693676745,\n",
       " 1.1533231020771213)"
      ]
     },
     "execution_count": 14,
     "metadata": {},
     "output_type": "execute_result"
    },
    {
     "data": {
      "image/png": "[encoded data removed]",
      "text/plain": [
       "<Figure size 1440x864 with 1 Axes>"
      ]
     },
     "metadata": {},
     "output_type": "display_data"
    }
   ],
   "source": [
    "labels = [\"Healthy\", \"Multiple Diseased\", \"Rust\", \"Scab\"]\n",
    "counts = [count_healthy, count_diseased, count_rust, count_scab]\n",
    "explode = (0.05, 0.05, 0.05, 0.05)\n",
    "fig, ax = plt.subplots(figsize = (20, 12))\n",
    "ax.pie(counts, explode = explode, labels = labels, shadow = True, startangle = 90)\n",
    "ax.axis(\"equal\") "
   ]
  }
 ],
 "metadata": {
  "kernelspec": {
   "display_name": "Python 3 (ipykernel)",
   "language": "python",
   "name": "python3"
  },
  "language_info": {
   "codemirror_mode": {
    "name": "ipython",
    "version": 3
   },
   "file_extension": ".py",
   "mimetype": "text/x-python",
   "name": "python",
   "nbconvert_exporter": "python",
   "pygments_lexer": "ipython3",
   "version": "3.10.4"
  }
 },
 "nbformat": 4,
 "nbformat_minor": 5
}
