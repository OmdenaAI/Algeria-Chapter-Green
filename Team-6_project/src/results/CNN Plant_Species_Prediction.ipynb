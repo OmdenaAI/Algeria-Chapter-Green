{
  "nbformat": 4,
  "nbformat_minor": 0,
  "metadata": {
    "colab": {
      "provenance": [],
      "collapsed_sections": []
    },
    "kernelspec": {
      "name": "python3",
      "display_name": "Python 3"
    },
    "language_info": {
      "name": "python"
    }
  },
  "cells": [
    {
      "cell_type": "code",
      "execution_count": null,
      "metadata": {
        "id": "W0j7ABCplUeF"
      },
      "outputs": [],
      "source": [
        "import os\n",
        "import numpy as np\n",
        "import pandas as pd\n",
        "import cv2 as cv\n",
        "import matplotlib.pyplot as plt\n",
        "import csv\n",
        "import tensorflow as tf"
      ]
    },
    {
      "cell_type": "code",
      "source": [
        "filepath = \"/content/drive/MyDrive/leafsnap-random-20-merged\""
      ],
      "metadata": {
        "id": "VEu3WOtAlwmz"
      },
      "execution_count": null,
      "outputs": []
    },
    {
      "cell_type": "code",
      "source": [
        "os.chdir(filepath)"
      ],
      "metadata": {
        "id": "5lCJiryyp15W"
      },
      "execution_count": null,
      "outputs": []
    },
    {
      "cell_type": "code",
      "source": [
        "CLASSNAMES = os.listdir()"
      ],
      "metadata": {
        "id": "4XyRfyMip3G4"
      },
      "execution_count": null,
      "outputs": []
    },
    {
      "cell_type": "code",
      "source": [
        "DATA = list()\n",
        "for c in CLASSNAMES:\n",
        "  f = os.path.join(filepath, c)\n",
        "  label = CLASSNAMES.index(c)\n",
        "  for img in os.listdir(f):\n",
        "    path_to_img = os.path.join(f, img)\n",
        "    image = cv.resize(cv.imread(path_to_img),(180, 180))\n",
        "    DATA.append([image, label])"
      ],
      "metadata": {
        "id": "0piYO-3Qp4zZ"
      },
      "execution_count": null,
      "outputs": []
    },
    {
      "cell_type": "code",
      "source": [
        "X = []\n",
        "y = []\n",
        "\n",
        "for _, __ in DATA:\n",
        "  X.append(_)\n",
        "  y.append(__)\n",
        "\n",
        "X = np.array(X)\n",
        "y = np.array(y)"
      ],
      "metadata": {
        "id": "gQ5_SIy_qyt_"
      },
      "execution_count": null,
      "outputs": []
    },
    {
      "cell_type": "code",
      "source": [
        "X = X/255"
      ],
      "metadata": {
        "id": "vNPxRQXSr_Cz"
      },
      "execution_count": null,
      "outputs": []
    },
    {
      "cell_type": "code",
      "source": [
        "X.shape"
      ],
      "metadata": {
        "colab": {
          "base_uri": "https://localhost:8080/"
        },
        "id": "q0RlaOGds-Ey",
        "outputId": "2978cff3-459f-47ab-8a0f-202b8ae3133f"
      },
      "execution_count": null,
      "outputs": [
        {
          "output_type": "execute_result",
          "data": {
            "text/plain": [
              "(3009, 180, 180, 3)"
            ]
          },
          "metadata": {},
          "execution_count": 26
        }
      ]
    },
    {
      "cell_type": "code",
      "source": [
        "from keras.models import Sequential\n",
        "from keras.layers import Conv2D, MaxPooling2D, Flatten, Dense"
      ],
      "metadata": {
        "id": "GZGSSbRHsBY0"
      },
      "execution_count": null,
      "outputs": []
    },
    {
      "cell_type": "code",
      "source": [
        "model = Sequential()\n",
        "model.add(Conv2D(64, (3,3), activation = \"relu\"))\n",
        "model.add(MaxPooling2D((2,2)))\n",
        "\n",
        "\n",
        "model.add(Conv2D(64, (3,3), activation = \"relu\"))\n",
        "model.add(MaxPooling2D((2,2)))\n",
        "\n",
        "model.add(Flatten())\n",
        "\n",
        "model.add(Dense(128, input_shape = (180, 180, 3), activation = \"relu\"))\n",
        "\n",
        "model.add(Dense(20, activation = \"softmax\"))"
      ],
      "metadata": {
        "id": "sbuc4uFesXp8"
      },
      "execution_count": null,
      "outputs": []
    },
    {
      "cell_type": "code",
      "source": [
        "model.compile(optimizer = \"adam\", loss = \"sparse_categorical_crossentropy\", metrics = [\"accuracy\"])"
      ],
      "metadata": {
        "id": "QsO1GuExtjwi"
      },
      "execution_count": null,
      "outputs": []
    },
    {
      "cell_type": "code",
      "source": [
        "model.fit(X, y, epochs = 5, validation_split = 0.1)"
      ],
      "metadata": {
        "colab": {
          "base_uri": "https://localhost:8080/"
        },
        "id": "91eEukpntY1h",
        "outputId": "0f30deff-1cbd-4a0a-9807-6b635376bc4d"
      },
      "execution_count": null,
      "outputs": [
        {
          "output_type": "stream",
          "name": "stdout",
          "text": [
            "Epoch 1/5\n",
            "85/85 [==============================] - 125s 1s/step - loss: 0.0674 - accuracy: 0.9856 - val_loss: 0.4077 - val_accuracy: 0.8738\n",
            "Epoch 2/5\n",
            "85/85 [==============================] - 125s 1s/step - loss: 0.0311 - accuracy: 0.9915 - val_loss: 0.6412 - val_accuracy: 0.8173\n",
            "Epoch 3/5\n",
            "85/85 [==============================] - 124s 1s/step - loss: 0.0401 - accuracy: 0.9908 - val_loss: 0.5114 - val_accuracy: 0.8405\n",
            "Epoch 4/5\n",
            "85/85 [==============================] - 128s 2s/step - loss: 0.0504 - accuracy: 0.9886 - val_loss: 0.6966 - val_accuracy: 0.7940\n",
            "Epoch 5/5\n",
            "85/85 [==============================] - 124s 1s/step - loss: 0.0149 - accuracy: 0.9974 - val_loss: 1.1268 - val_accuracy: 0.7741\n"
          ]
        },
        {
          "output_type": "execute_result",
          "data": {
            "text/plain": [
              "<keras.callbacks.History at 0x7fa64fed8c50>"
            ]
          },
          "metadata": {},
          "execution_count": 37
        }
      ]
    },
    {
      "cell_type": "code",
      "source": [
        "model.save(\"CNNmodel.h5\")"
      ],
      "metadata": {
        "id": "h19vvo59txJ7"
      },
      "execution_count": null,
      "outputs": []
    },
    {
      "cell_type": "code",
      "source": [],
      "metadata": {
        "colab": {
          "base_uri": "https://localhost:8080/"
        },
        "id": "CyZgtppyyxBr",
        "outputId": "e626c86f-5c41-4fef-9c57-d65b2b63fad5"
      },
      "execution_count": null,
      "outputs": [
        {
          "output_type": "execute_result",
          "data": {
            "text/plain": [
              "['abies_concolor',\n",
              " 'magnolia_virginiana',\n",
              " 'koelreuteria_paniculata',\n",
              " 'malus_coronaria',\n",
              " 'liquidambar_styraciflua',\n",
              " 'metasequoia_glyptostroboides',\n",
              " 'magnolia_soulangiana',\n",
              " 'pinus_bungeana',\n",
              " 'morus_rubra',\n",
              " 'acer_platanoides',\n",
              " 'prunus_yedoensis',\n",
              " 'quercus_imbricaria',\n",
              " 'tilia_americana',\n",
              " 'ulmus_rubra',\n",
              " 'sassafras_albidum',\n",
              " 'quercus_acutissima',\n",
              " 'quercus_falcata',\n",
              " 'robinia_pseudo-acacia',\n",
              " 'quercus_rubra',\n",
              " 'quercus_palustris',\n",
              " 'CNNmodel.h5']"
            ]
          },
          "metadata": {},
          "execution_count": 39
        }
      ]
    },
    {
      "cell_type": "code",
      "source": [
        "os.chdir(\"/content\")"
      ],
      "metadata": {
        "id": "98lUO4M2y6zK"
      },
      "execution_count": null,
      "outputs": []
    },
    {
      "cell_type": "code",
      "source": [
        "IMG = cv.imread(\"/content/1249580270_0003.jpg\")\n",
        "IMG = cv.resize(IMG,(180, 180))\n",
        "IMG.shape"
      ],
      "metadata": {
        "colab": {
          "base_uri": "https://localhost:8080/"
        },
        "id": "o-vEHM0QzYdT",
        "outputId": "1a257262-e5ba-4027-d9a3-38bdac8b6d5c"
      },
      "execution_count": null,
      "outputs": [
        {
          "output_type": "execute_result",
          "data": {
            "text/plain": [
              "(180, 180, 3)"
            ]
          },
          "metadata": {},
          "execution_count": 46
        }
      ]
    },
    {
      "cell_type": "code",
      "source": [
        "resize = tf.image.resize(IMG, (180,180))\n",
        "np.argmax(model.predict(np.expand_dims(resize/255, 0)))"
      ],
      "metadata": {
        "colab": {
          "base_uri": "https://localhost:8080/"
        },
        "id": "DHzLmEwjzttf",
        "outputId": "bcfa1f9f-cdf5-4bba-9d14-7df39e0bcc64"
      },
      "execution_count": null,
      "outputs": [
        {
          "output_type": "execute_result",
          "data": {
            "text/plain": [
              "6"
            ]
          },
          "metadata": {},
          "execution_count": 51
        }
      ]
    },
    {
      "cell_type": "code",
      "source": [
        "CLASSNAMES[np.argmax(model.predict(np.expand_dims(resize/255, 0)))]"
      ],
      "metadata": {
        "colab": {
          "base_uri": "https://localhost:8080/",
          "height": 36
        },
        "id": "kjRJZcJE0EjX",
        "outputId": "1d281295-b951-41ca-ac7c-59897f3e13c7"
      },
      "execution_count": null,
      "outputs": [
        {
          "output_type": "execute_result",
          "data": {
            "text/plain": [
              "'magnolia_soulangiana'"
            ],
            "application/vnd.google.colaboratory.intrinsic+json": {
              "type": "string"
            }
          },
          "metadata": {},
          "execution_count": 52
        }
      ]
    },
    {
      "cell_type": "code",
      "source": [
        "IMG2 = cv.imread(\"/content/12992001924462.jpg\")\n",
        "IMG2 = cv.resize(IMG2,(180, 180))\n",
        "resize = tf.image.resize(IMG2, (180,180))\n",
        "np.argmax(model.predict(np.expand_dims(resize/255, 0)))"
      ],
      "metadata": {
        "colab": {
          "base_uri": "https://localhost:8080/"
        },
        "id": "VKOxwNKD265i",
        "outputId": "eff2e414-9c4a-4883-c67f-759a5195a265"
      },
      "execution_count": null,
      "outputs": [
        {
          "output_type": "execute_result",
          "data": {
            "text/plain": [
              "4"
            ]
          },
          "metadata": {},
          "execution_count": 57
        }
      ]
    }
  ]
}