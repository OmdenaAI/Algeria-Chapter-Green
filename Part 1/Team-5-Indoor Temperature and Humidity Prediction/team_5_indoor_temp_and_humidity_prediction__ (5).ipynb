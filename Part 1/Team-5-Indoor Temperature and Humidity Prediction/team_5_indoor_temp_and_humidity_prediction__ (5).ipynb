{
 "cells": [
  {
   "cell_type": "markdown",
   "metadata": {
    "id": "5MhyqjPfq6uh"
   },
   "source": [
    "OMDENA ALGERIA PROJECT\n",
    "\n",
    "Team - 5\n",
    "\n",
    "TOPIC- INDOOR TEMPERATURE AND HUMIDITY PREDICTION.\n",
    "\n",
    "CONTRIBUTORS - ***Adeeba Rashid (TEAM LEADER) AND Abdelillah.***  \n",
    "We were the only ***two active members*** who worked on this project.\n",
    "\n",
    "***Adeeba*** - worked on data cleaning and performed exploratory data analysis.\n",
    "\n",
    "***Abdelillah*** -  worked on training and testing side and model building.\n",
    "\n",
    "Also, we worked together in video making where our whole project was explained in detail."
   ]
  },
  {
   "cell_type": "markdown",
   "metadata": {
    "id": "y-LUIY_U-acF"
   },
   "source": [
    "#Importing libraries"
   ]
  },
  {
   "cell_type": "code",
   "execution_count": 1,
   "metadata": {
    "id": "NRrBap1gqz4f"
   },
   "outputs": [
    {
     "ename": "ModuleNotFoundError",
     "evalue": "No module named 'tensorflow'",
     "output_type": "error",
     "traceback": [
      "\u001b[1;31m---------------------------------------------------------------------------\u001b[0m",
      "\u001b[1;31mModuleNotFoundError\u001b[0m                       Traceback (most recent call last)",
      "Input \u001b[1;32mIn [1]\u001b[0m, in \u001b[0;36m<cell line: 12>\u001b[1;34m()\u001b[0m\n\u001b[0;32m     10\u001b[0m \u001b[38;5;28;01mfrom\u001b[39;00m \u001b[38;5;21;01msklearn\u001b[39;00m\u001b[38;5;21;01m.\u001b[39;00m\u001b[38;5;21;01mmetrics\u001b[39;00m \u001b[38;5;28;01mimport\u001b[39;00m accuracy_score \n\u001b[0;32m     11\u001b[0m \u001b[38;5;28;01mfrom\u001b[39;00m \u001b[38;5;21;01msklearn\u001b[39;00m\u001b[38;5;21;01m.\u001b[39;00m\u001b[38;5;21;01mlinear_model\u001b[39;00m \u001b[38;5;28;01mimport\u001b[39;00m LinearRegression\n\u001b[1;32m---> 12\u001b[0m \u001b[38;5;28;01mimport\u001b[39;00m \u001b[38;5;21;01mtensorflow\u001b[39;00m \u001b[38;5;28;01mas\u001b[39;00m \u001b[38;5;21;01mtf\u001b[39;00m\n\u001b[0;32m     13\u001b[0m \u001b[38;5;28;01mfrom\u001b[39;00m \u001b[38;5;21;01mtensorflow\u001b[39;00m \u001b[38;5;28;01mimport\u001b[39;00m keras\n\u001b[0;32m     14\u001b[0m \u001b[38;5;28;01mfrom\u001b[39;00m \u001b[38;5;21;01msklearn\u001b[39;00m \u001b[38;5;28;01mimport\u001b[39;00m preprocessing\n",
      "\u001b[1;31mModuleNotFoundError\u001b[0m: No module named 'tensorflow'"
     ]
    }
   ],
   "source": [
    "import warnings\n",
    "warnings.filterwarnings('ignore') \n",
    "import os \n",
    "import numpy as np \n",
    "import pandas as pd \n",
    "from matplotlib import pyplot as plt \n",
    "%matplotlib inline \n",
    "import sklearn \n",
    "from sklearn.model_selection import train_test_split\n",
    "from sklearn.metrics import accuracy_score \n",
    "from sklearn.linear_model import LinearRegression\n",
    "import tensorflow as tf\n",
    "from tensorflow import keras\n",
    "from sklearn import preprocessing"
   ]
  },
  {
   "cell_type": "markdown",
   "metadata": {
    "id": "tOOU2QB_-zS3"
   },
   "source": [
    "**read the file**\n",
    "* keep weather_df later (contain humidity and temperature)\n",
    "* deal with weather_norh_df (doesn't contain humidity)\n",
    "\n"
   ]
  },
  {
   "cell_type": "code",
   "execution_count": null,
   "metadata": {
    "id": "cGQpYsPcrB4i"
   },
   "outputs": [],
   "source": [
    "os.chdir(\"..\")\n",
    "################################################\n",
    "weather_df = pd.read_csv('weatherHistory.csv') #    (2)\n",
    "################################################\n",
    "\n",
    "####################################################\n",
    "weather_norh_df = pd.read_csv('weatherHistory.csv')#    (1)\n",
    "####################################################"
   ]
  },
  {
   "cell_type": "markdown",
   "metadata": {
    "id": "mz49LbOTjD3I"
   },
   "source": [
    "\n",
    "#predict temperature without humidity  ==> weather_norh_df file#\n",
    "\n",
    "\n"
   ]
  },
  {
   "cell_type": "markdown",
   "metadata": {
    "id": "bVLYujpC_cpw"
   },
   "source": [
    "show the head of the csv"
   ]
  },
  {
   "cell_type": "code",
   "execution_count": null,
   "metadata": {
    "colab": {
     "base_uri": "https://localhost:8080/",
     "height": 458
    },
    "id": "nmEr8ScX-PML",
    "outputId": "bfa1d977-3d4b-4b21-c24d-c1c07f0919e3"
   },
   "outputs": [
    {
     "ename": "",
     "evalue": "",
     "output_type": "error",
     "traceback": [
      "\u001b[1;31mFailed to start the Kernel. \n",
      "\u001b[1;31mFailed to start the Kernel 'Python 3.10.2 64-bit'. \n",
      "\u001b[1;31mView Jupyter <a href='command:jupyter.viewOutput'>log</a> for further details. Cannot read properties of undefined (reading 'makeSettings')"
     ]
    }
   ],
   "source": [
    "weather_norh_df.head()"
   ]
  },
  {
   "cell_type": "markdown",
   "metadata": {
    "id": "JvxkJTOk_gEE"
   },
   "source": [
    "show the columns"
   ]
  },
  {
   "cell_type": "code",
   "execution_count": null,
   "metadata": {
    "colab": {
     "base_uri": "https://localhost:8080/"
    },
    "id": "YgEdePlt-Xq2",
    "outputId": "9b4f084a-2b2b-45fc-d00b-1621b88fd9c8"
   },
   "outputs": [
    {
     "ename": "",
     "evalue": "",
     "output_type": "error",
     "traceback": [
      "\u001b[1;31mFailed to start the Kernel. \n",
      "\u001b[1;31mFailed to start the Kernel 'Python 3.10.2 64-bit'. \n",
      "\u001b[1;31mView Jupyter <a href='command:jupyter.viewOutput'>log</a> for further details. Cannot read properties of undefined (reading 'makeSettings')"
     ]
    }
   ],
   "source": [
    "weather_norh_df.columns"
   ]
  },
  {
   "cell_type": "markdown",
   "metadata": {
    "id": "dsNk5kEd_it1"
   },
   "source": [
    "**** delete humidity column***"
   ]
  },
  {
   "cell_type": "code",
   "execution_count": null,
   "metadata": {
    "id": "8iAomHCU-bZ6"
   },
   "outputs": [
    {
     "ename": "",
     "evalue": "",
     "output_type": "error",
     "traceback": [
      "\u001b[1;31mFailed to start the Kernel. \n",
      "\u001b[1;31mFailed to start the Kernel 'Python 3.10.2 64-bit'. \n",
      "\u001b[1;31mView Jupyter <a href='command:jupyter.viewOutput'>log</a> for further details. Cannot read properties of undefined (reading 'makeSettings')"
     ]
    }
   ],
   "source": [
    "del weather_norh_df['Humidity']"
   ]
  },
  {
   "cell_type": "markdown",
   "metadata": {
    "id": "vqYgTUoS_y3X"
   },
   "source": [
    "verify the columns"
   ]
  },
  {
   "cell_type": "code",
   "execution_count": null,
   "metadata": {
    "colab": {
     "base_uri": "https://localhost:8080/"
    },
    "id": "tJYuKhAl-hcf",
    "outputId": "31b51dfe-3613-41b8-e379-87f02ad8c5b1"
   },
   "outputs": [
    {
     "ename": "",
     "evalue": "",
     "output_type": "error",
     "traceback": [
      "\u001b[1;31mFailed to start the Kernel. \n",
      "\u001b[1;31mFailed to start the Kernel 'Python 3.10.2 64-bit'. \n",
      "\u001b[1;31mView Jupyter <a href='command:jupyter.viewOutput'>log</a> for further details. Cannot read properties of undefined (reading 'makeSettings')"
     ]
    }
   ],
   "source": [
    "weather_norh_df.columns"
   ]
  },
  {
   "cell_type": "code",
   "execution_count": null,
   "metadata": {
    "colab": {
     "base_uri": "https://localhost:8080/"
    },
    "id": "iCrQ836t-oI-",
    "outputId": "713736fd-17f1-48b0-b89e-d42d112bbf37"
   },
   "outputs": [
    {
     "ename": "",
     "evalue": "",
     "output_type": "error",
     "traceback": [
      "\u001b[1;31mFailed to start the Kernel. \n",
      "\u001b[1;31mFailed to start the Kernel 'Python 3.10.2 64-bit'. \n",
      "\u001b[1;31mView Jupyter <a href='command:jupyter.viewOutput'>log</a> for further details. Cannot read properties of undefined (reading 'makeSettings')"
     ]
    }
   ],
   "source": [
    "weather_norh_df.shape"
   ]
  },
  {
   "cell_type": "code",
   "execution_count": null,
   "metadata": {
    "colab": {
     "base_uri": "https://localhost:8080/",
     "height": 300
    },
    "id": "o2ynQfPa-ruW",
    "outputId": "eab77dea-4293-441c-d008-05de9e49fe05"
   },
   "outputs": [
    {
     "ename": "",
     "evalue": "",
     "output_type": "error",
     "traceback": [
      "\u001b[1;31mFailed to start the Kernel. \n",
      "\u001b[1;31mFailed to start the Kernel 'Python 3.10.2 64-bit'. \n",
      "\u001b[1;31mView Jupyter <a href='command:jupyter.viewOutput'>log</a> for further details. Cannot read properties of undefined (reading 'makeSettings')"
     ]
    }
   ],
   "source": [
    "weather_norh_df.describe()"
   ]
  },
  {
   "cell_type": "code",
   "execution_count": null,
   "metadata": {
    "colab": {
     "base_uri": "https://localhost:8080/"
    },
    "id": "hR5n88Xf_9Zj",
    "outputId": "ed2a6f34-6be0-4965-da00-b216577a1511"
   },
   "outputs": [
    {
     "ename": "",
     "evalue": "",
     "output_type": "error",
     "traceback": [
      "\u001b[1;31mFailed to start the Kernel. \n",
      "\u001b[1;31mFailed to start the Kernel 'Python 3.10.2 64-bit'. \n",
      "\u001b[1;31mView Jupyter <a href='command:jupyter.viewOutput'>log</a> for further details. Cannot read properties of undefined (reading 'makeSettings')"
     ]
    }
   ],
   "source": [
    "weather_norh_df.info()"
   ]
  },
  {
   "cell_type": "code",
   "execution_count": null,
   "metadata": {
    "colab": {
     "base_uri": "https://localhost:8080/"
    },
    "id": "dTNX1kvUAIRu",
    "outputId": "8a52a75c-17b9-45ba-e047-da0512191ef7"
   },
   "outputs": [
    {
     "ename": "",
     "evalue": "",
     "output_type": "error",
     "traceback": [
      "\u001b[1;31mFailed to start the Kernel. \n",
      "\u001b[1;31mFailed to start the Kernel 'Python 3.10.2 64-bit'. \n",
      "\u001b[1;31mView Jupyter <a href='command:jupyter.viewOutput'>log</a> for further details. Cannot read properties of undefined (reading 'makeSettings')"
     ]
    }
   ],
   "source": [
    "weather_norh_df.isnull().any()"
   ]
  },
  {
   "cell_type": "code",
   "execution_count": null,
   "metadata": {
    "colab": {
     "base_uri": "https://localhost:8080/"
    },
    "id": "jz5dBb2_ALdq",
    "outputId": "d5825a73-b5b6-46ba-e442-c79923fbb607"
   },
   "outputs": [
    {
     "ename": "",
     "evalue": "",
     "output_type": "error",
     "traceback": [
      "\u001b[1;31mFailed to start the Kernel. \n",
      "\u001b[1;31mFailed to start the Kernel 'Python 3.10.2 64-bit'. \n",
      "\u001b[1;31mView Jupyter <a href='command:jupyter.viewOutput'>log</a> for further details. Cannot read properties of undefined (reading 'makeSettings')"
     ]
    }
   ],
   "source": [
    "weather_norh_df.isnull().all()"
   ]
  },
  {
   "cell_type": "code",
   "execution_count": null,
   "metadata": {
    "colab": {
     "base_uri": "https://localhost:8080/"
    },
    "id": "GrpPLMj3AOSC",
    "outputId": "edb258de-d015-4121-9a20-15e05afc19b8"
   },
   "outputs": [
    {
     "ename": "",
     "evalue": "",
     "output_type": "error",
     "traceback": [
      "\u001b[1;31mFailed to start the Kernel. \n",
      "\u001b[1;31mFailed to start the Kernel 'Python 3.10.2 64-bit'. \n",
      "\u001b[1;31mView Jupyter <a href='command:jupyter.viewOutput'>log</a> for further details. Cannot read properties of undefined (reading 'makeSettings')"
     ]
    }
   ],
   "source": [
    "round(100*(weather_norh_df.isnull().sum()/len(weather_norh_df.index)),2)"
   ]
  },
  {
   "cell_type": "code",
   "execution_count": null,
   "metadata": {
    "colab": {
     "base_uri": "https://localhost:8080/"
    },
    "id": "JSkLCS5sAZza",
    "outputId": "acb393f4-c0c0-4814-d47c-de22abb6fc04"
   },
   "outputs": [
    {
     "ename": "",
     "evalue": "",
     "output_type": "error",
     "traceback": [
      "\u001b[1;31mFailed to start the Kernel. \n",
      "\u001b[1;31mFailed to start the Kernel 'Python 3.10.2 64-bit'. \n",
      "\u001b[1;31mView Jupyter <a href='command:jupyter.viewOutput'>log</a> for further details. Cannot read properties of undefined (reading 'makeSettings')"
     ]
    }
   ],
   "source": [
    "weather_norh_df['Precip Type'].value_counts()"
   ]
  },
  {
   "cell_type": "code",
   "execution_count": null,
   "metadata": {
    "id": "q3ht3qPPAe5q"
   },
   "outputs": [
    {
     "ename": "",
     "evalue": "",
     "output_type": "error",
     "traceback": [
      "\u001b[1;31mFailed to start the Kernel. \n",
      "\u001b[1;31mFailed to start the Kernel 'Python 3.10.2 64-bit'. \n",
      "\u001b[1;31mView Jupyter <a href='command:jupyter.viewOutput'>log</a> for further details. Cannot read properties of undefined (reading 'makeSettings')"
     ]
    }
   ],
   "source": [
    "weather_norh_df.loc[weather_norh_df['Precip Type'].isnull(),'Precip Type']='rain'"
   ]
  },
  {
   "cell_type": "code",
   "execution_count": null,
   "metadata": {
    "colab": {
     "base_uri": "https://localhost:8080/"
    },
    "id": "Eym0ap3sAl4C",
    "outputId": "d4a59e34-7cb7-42da-e42c-840729dd24a8"
   },
   "outputs": [
    {
     "ename": "",
     "evalue": "",
     "output_type": "error",
     "traceback": [
      "\u001b[1;31mFailed to start the Kernel. \n",
      "\u001b[1;31mFailed to start the Kernel 'Python 3.10.2 64-bit'. \n",
      "\u001b[1;31mView Jupyter <a href='command:jupyter.viewOutput'>log</a> for further details. Cannot read properties of undefined (reading 'makeSettings')"
     ]
    }
   ],
   "source": [
    "round(100*(weather_norh_df.isnull().sum()/len(weather_norh_df.index)),2)"
   ]
  },
  {
   "cell_type": "code",
   "execution_count": null,
   "metadata": {
    "id": "ioNO4R3IAo86"
   },
   "outputs": [
    {
     "ename": "",
     "evalue": "",
     "output_type": "error",
     "traceback": [
      "\u001b[1;31mFailed to start the Kernel. \n",
      "\u001b[1;31mFailed to start the Kernel 'Python 3.10.2 64-bit'. \n",
      "\u001b[1;31mView Jupyter <a href='command:jupyter.viewOutput'>log</a> for further details. Cannot read properties of undefined (reading 'makeSettings')"
     ]
    }
   ],
   "source": [
    "weather_norh_df.loc[weather_norh_df['Precip Type']=='rain','Precip Type']=1\n",
    "weather_norh_df.loc[weather_norh_df['Precip Type']=='snow','Precip Type']=0"
   ]
  },
  {
   "cell_type": "code",
   "execution_count": null,
   "metadata": {
    "id": "sR7LcCEPAyUi"
   },
   "outputs": [
    {
     "ename": "",
     "evalue": "",
     "output_type": "error",
     "traceback": [
      "\u001b[1;31mFailed to start the Kernel. \n",
      "\u001b[1;31mFailed to start the Kernel 'Python 3.10.2 64-bit'. \n",
      "\u001b[1;31mView Jupyter <a href='command:jupyter.viewOutput'>log</a> for further details. Cannot read properties of undefined (reading 'makeSettings')"
     ]
    }
   ],
   "source": [
    "weather_norh_df_num=weather_norh_df[list(weather_norh_df.dtypes[weather_norh_df.dtypes!='object'].index)]"
   ]
  },
  {
   "cell_type": "code",
   "execution_count": null,
   "metadata": {
    "id": "gIyToN3cA7sD"
   },
   "outputs": [
    {
     "ename": "",
     "evalue": "",
     "output_type": "error",
     "traceback": [
      "\u001b[1;31mFailed to start the Kernel. \n",
      "\u001b[1;31mFailed to start the Kernel 'Python 3.10.2 64-bit'. \n",
      "\u001b[1;31mView Jupyter <a href='command:jupyter.viewOutput'>log</a> for further details. Cannot read properties of undefined (reading 'makeSettings')"
     ]
    }
   ],
   "source": [
    "weather_norh_y = weather_norh_df_num.pop('Temperature (C)')\n",
    "weather_norh_x = weather_norh_df_num"
   ]
  },
  {
   "cell_type": "code",
   "execution_count": null,
   "metadata": {
    "id": "6io3SJyxBIn-"
   },
   "outputs": [
    {
     "ename": "",
     "evalue": "",
     "output_type": "error",
     "traceback": [
      "\u001b[1;31mFailed to start the Kernel. \n",
      "\u001b[1;31mFailed to start the Kernel 'Python 3.10.2 64-bit'. \n",
      "\u001b[1;31mView Jupyter <a href='command:jupyter.viewOutput'>log</a> for further details. Cannot read properties of undefined (reading 'makeSettings')"
     ]
    }
   ],
   "source": [
    "train_norh_x,test_norh_x,train_norh_y,test_norh_y = train_test_split(weather_norh_x,weather_norh_y,test_size = 0.2,random_state = 8)"
   ]
  },
  {
   "cell_type": "code",
   "execution_count": null,
   "metadata": {
    "colab": {
     "base_uri": "https://localhost:8080/",
     "height": 206
    },
    "id": "Y7ZMRl_SCTLy",
    "outputId": "acdadfd8-b017-4ce7-eebc-c9ab4d34031e"
   },
   "outputs": [
    {
     "ename": "",
     "evalue": "",
     "output_type": "error",
     "traceback": [
      "\u001b[1;31mFailed to start the Kernel. \n",
      "\u001b[1;31mFailed to start the Kernel 'Python 3.10.2 64-bit'. \n",
      "\u001b[1;31mView Jupyter <a href='command:jupyter.viewOutput'>log</a> for further details. Cannot read properties of undefined (reading 'makeSettings')"
     ]
    }
   ],
   "source": [
    "train_norh_x.head()"
   ]
  },
  {
   "cell_type": "markdown",
   "metadata": {
    "id": "bPG7rl1MCeCM"
   },
   "source": [
    "**build the model**"
   ]
  },
  {
   "cell_type": "code",
   "execution_count": null,
   "metadata": {
    "colab": {
     "base_uri": "https://localhost:8080/"
    },
    "id": "zD2Dzns4Cjl2",
    "outputId": "a393def3-1c90-4345-83f0-733a9e92a8e3"
   },
   "outputs": [
    {
     "ename": "",
     "evalue": "",
     "output_type": "error",
     "traceback": [
      "\u001b[1;31mFailed to start the Kernel. \n",
      "\u001b[1;31mFailed to start the Kernel 'Python 3.10.2 64-bit'. \n",
      "\u001b[1;31mView Jupyter <a href='command:jupyter.viewOutput'>log</a> for further details. Cannot read properties of undefined (reading 'makeSettings')"
     ]
    }
   ],
   "source": [
    "model = LinearRegression()\n",
    "model.fit(train_norh_x,train_norh_y)"
   ]
  },
  {
   "cell_type": "code",
   "execution_count": null,
   "metadata": {
    "id": "zT_dl9foC3gr"
   },
   "outputs": [
    {
     "ename": "",
     "evalue": "",
     "output_type": "error",
     "traceback": [
      "\u001b[1;31mFailed to start the Kernel. \n",
      "\u001b[1;31mFailed to start the Kernel 'Python 3.10.2 64-bit'. \n",
      "\u001b[1;31mView Jupyter <a href='command:jupyter.viewOutput'>log</a> for further details. Cannot read properties of undefined (reading 'makeSettings')"
     ]
    }
   ],
   "source": [
    "prediction_norh = model.predict(test_norh_x)"
   ]
  },
  {
   "cell_type": "code",
   "execution_count": null,
   "metadata": {
    "colab": {
     "base_uri": "https://localhost:8080/"
    },
    "id": "cIU-89ktC9Wy",
    "outputId": "56a2e74a-0f6b-443c-b89e-749d94c53981"
   },
   "outputs": [
    {
     "ename": "",
     "evalue": "",
     "output_type": "error",
     "traceback": [
      "\u001b[1;31mFailed to start the Kernel. \n",
      "\u001b[1;31mFailed to start the Kernel 'Python 3.10.2 64-bit'. \n",
      "\u001b[1;31mView Jupyter <a href='command:jupyter.viewOutput'>log</a> for further details. Cannot read properties of undefined (reading 'makeSettings')"
     ]
    }
   ],
   "source": [
    "np.mean((prediction_norh-test_norh_y)**2)"
   ]
  },
  {
   "cell_type": "markdown",
   "metadata": {
    "id": "m6Dr-ukqXMnT"
   },
   "source": [
    "visualise the result "
   ]
  },
  {
   "cell_type": "code",
   "execution_count": null,
   "metadata": {
    "colab": {
     "base_uri": "https://localhost:8080/",
     "height": 424
    },
    "id": "lkjGQFDjDM09",
    "outputId": "83d03343-88cb-48aa-9768-6e759626a798"
   },
   "outputs": [
    {
     "ename": "",
     "evalue": "",
     "output_type": "error",
     "traceback": [
      "\u001b[1;31mFailed to start the Kernel. \n",
      "\u001b[1;31mFailed to start the Kernel 'Python 3.10.2 64-bit'. \n",
      "\u001b[1;31mView Jupyter <a href='command:jupyter.viewOutput'>log</a> for further details. Cannot read properties of undefined (reading 'makeSettings')"
     ]
    }
   ],
   "source": [
    "pd.DataFrame({'actuel':test_norh_y,\n",
    "              'prediction':prediction_norh,\n",
    "              'diff':(test_norh_y-prediction_norh)})"
   ]
  },
  {
   "cell_type": "code",
   "execution_count": null,
   "metadata": {
    "colab": {
     "base_uri": "https://localhost:8080/",
     "height": 265
    },
    "id": "HmDal6VMAjrS",
    "outputId": "1e55d4ab-e618-4955-d226-bbbe4876be37"
   },
   "outputs": [
    {
     "ename": "",
     "evalue": "",
     "output_type": "error",
     "traceback": [
      "\u001b[1;31mFailed to start the Kernel. \n",
      "\u001b[1;31mFailed to start the Kernel 'Python 3.10.2 64-bit'. \n",
      "\u001b[1;31mView Jupyter <a href='command:jupyter.viewOutput'>log</a> for further details. Cannot read properties of undefined (reading 'makeSettings')"
     ]
    }
   ],
   "source": [
    "actuel = [16.083333,14.005556,6.127778,-1.222222,4.894444,17.03333,9.950000,-5.600000,12.688889,-3.866667]\n",
    "prediction = [16.834027,14.142381,7.042273,-1.670418,4.388672,17.118346,9.741516,-8.012447,12.907359,-2.158502]\n",
    "ax1 = plt.subplot()\n",
    "l1, = ax1.plot(actuel, color='red')\n",
    "ax2 = ax1.twinx()\n",
    "l2, = ax2.plot(prediction, color='blue')\n",
    "plt.legend([l1, l2], [\"actuel\", \"prediction\"])\n",
    "plt.show()"
   ]
  },
  {
   "cell_type": "markdown",
   "metadata": {
    "id": "6HgtKPwhDksc"
   },
   "source": [
    "\n",
    "\n",
    "---\n",
    "\n"
   ]
  },
  {
   "cell_type": "code",
   "execution_count": null,
   "metadata": {
    "colab": {
     "base_uri": "https://localhost:8080/"
    },
    "id": "In-DIw0nDoqh",
    "outputId": "3e5e7ae6-bcff-4d1a-a3af-1bd5cb6aa627"
   },
   "outputs": [
    {
     "ename": "",
     "evalue": "",
     "output_type": "error",
     "traceback": [
      "\u001b[1;31mFailed to start the Kernel. \n",
      "\u001b[1;31mFailed to start the Kernel 'Python 3.10.2 64-bit'. \n",
      "\u001b[1;31mView Jupyter <a href='command:jupyter.viewOutput'>log</a> for further details. Cannot read properties of undefined (reading 'makeSettings')"
     ]
    }
   ],
   "source": [
    "from sklearn.preprocessing import PolynomialFeatures\n",
    "poly_norh = PolynomialFeatures(degree = 4)\n",
    "x_poly_norh = poly_norh.fit_transform(train_norh_x)\n",
    "poly_norh.fit(x_poly_norh, train_norh_y)\n",
    "lin2_norh = LinearRegression()\n",
    "lin2_norh.fit(x_poly_norh, train_norh_y)"
   ]
  },
  {
   "cell_type": "code",
   "execution_count": null,
   "metadata": {
    "colab": {
     "base_uri": "https://localhost:8080/"
    },
    "id": "WpOS2DHCECxK",
    "outputId": "e6b8f66b-58a2-44b6-e052-f3489bac716e"
   },
   "outputs": [
    {
     "ename": "",
     "evalue": "",
     "output_type": "error",
     "traceback": [
      "\u001b[1;31mFailed to start the Kernel. \n",
      "\u001b[1;31mFailed to start the Kernel 'Python 3.10.2 64-bit'. \n",
      "\u001b[1;31mView Jupyter <a href='command:jupyter.viewOutput'>log</a> for further details. Cannot read properties of undefined (reading 'makeSettings')"
     ]
    }
   ],
   "source": [
    "prediction2_norh = lin2_norh.predict(poly_norh.fit_transform(test_norh_x))\n",
    "np.mean((prediction2_norh-test_norh_y)**2)"
   ]
  },
  {
   "cell_type": "code",
   "execution_count": null,
   "metadata": {
    "colab": {
     "base_uri": "https://localhost:8080/",
     "height": 424
    },
    "id": "eKr0xSiibYQq",
    "outputId": "51c280e9-2fff-48b7-8325-019266e2769f"
   },
   "outputs": [
    {
     "ename": "",
     "evalue": "",
     "output_type": "error",
     "traceback": [
      "\u001b[1;31mFailed to start the Kernel. \n",
      "\u001b[1;31mFailed to start the Kernel 'Python 3.10.2 64-bit'. \n",
      "\u001b[1;31mView Jupyter <a href='command:jupyter.viewOutput'>log</a> for further details. Cannot read properties of undefined (reading 'makeSettings')"
     ]
    }
   ],
   "source": [
    "pd.DataFrame({'actuel':test_norh_y,\n",
    "              'prediction':prediction2_norh,\n",
    "              'diff':(test_norh_y-prediction2_norh)})"
   ]
  },
  {
   "cell_type": "code",
   "execution_count": null,
   "metadata": {
    "colab": {
     "base_uri": "https://localhost:8080/",
     "height": 265
    },
    "id": "3E4FMe3C0vt0",
    "outputId": "4715988d-be74-4849-c0f3-7d7d83e0a2b4"
   },
   "outputs": [
    {
     "ename": "",
     "evalue": "",
     "output_type": "error",
     "traceback": [
      "\u001b[1;31mFailed to start the Kernel. \n",
      "\u001b[1;31mFailed to start the Kernel 'Python 3.10.2 64-bit'. \n",
      "\u001b[1;31mView Jupyter <a href='command:jupyter.viewOutput'>log</a> for further details. Cannot read properties of undefined (reading 'makeSettings')"
     ]
    }
   ],
   "source": [
    "actuel = [16.083333,14.005556,6.127778,-1.222222,4.894444,17.03333,9.950000,-5.600000,12.688889,-3.866667]\n",
    "prediction = [16.202136,14.108447,6.505154,-1.525663,4.599069,17.029757,9.477282,-5.819761,12.663670,-4.497432]\n",
    "ax1 = plt.subplot()\n",
    "l1, = ax1.plot(actuel, color='red')\n",
    "ax2 = ax1.twinx()\n",
    "l2, = ax2.plot(prediction, color='blue')\n",
    "plt.legend([l1, l2], [\"actuel\", \"prediction\"])\n",
    "plt.show()"
   ]
  },
  {
   "cell_type": "code",
   "execution_count": null,
   "metadata": {
    "colab": {
     "base_uri": "https://localhost:8080/"
    },
    "id": "drPsmu5vbrWD",
    "outputId": "ed039c69-d324-4100-f6cb-7228680ec998"
   },
   "outputs": [
    {
     "ename": "",
     "evalue": "",
     "output_type": "error",
     "traceback": [
      "\u001b[1;31mFailed to start the Kernel. \n",
      "\u001b[1;31mFailed to start the Kernel 'Python 3.10.2 64-bit'. \n",
      "\u001b[1;31mView Jupyter <a href='command:jupyter.viewOutput'>log</a> for further details. Cannot read properties of undefined (reading 'makeSettings')"
     ]
    }
   ],
   "source": [
    "from sklearn.tree import DecisionTreeRegressor\n",
    "regressor_norh = DecisionTreeRegressor(random_state=0)\n",
    "regressor_norh.fit(train_norh_x,train_norh_y)"
   ]
  },
  {
   "cell_type": "code",
   "execution_count": null,
   "metadata": {
    "colab": {
     "base_uri": "https://localhost:8080/"
    },
    "id": "4f1cqTxGb6-H",
    "outputId": "00d235ec-1196-4d01-b94e-aa47ab0165fc"
   },
   "outputs": [
    {
     "ename": "",
     "evalue": "",
     "output_type": "error",
     "traceback": [
      "\u001b[1;31mFailed to start the Kernel. \n",
      "\u001b[1;31mFailed to start the Kernel 'Python 3.10.2 64-bit'. \n",
      "\u001b[1;31mView Jupyter <a href='command:jupyter.viewOutput'>log</a> for further details. Cannot read properties of undefined (reading 'makeSettings')"
     ]
    }
   ],
   "source": [
    "prediction3_norh = regressor_norh.predict(test_norh_x)\n",
    "np.mean((prediction3_norh-test_norh_y)**2)"
   ]
  },
  {
   "cell_type": "code",
   "execution_count": null,
   "metadata": {
    "colab": {
     "base_uri": "https://localhost:8080/",
     "height": 424
    },
    "id": "HjJQAFAucHXE",
    "outputId": "2ed4080a-2618-411a-cd5d-53dd29421027"
   },
   "outputs": [
    {
     "ename": "",
     "evalue": "",
     "output_type": "error",
     "traceback": [
      "\u001b[1;31mFailed to start the Kernel. \n",
      "\u001b[1;31mFailed to start the Kernel 'Python 3.10.2 64-bit'. \n",
      "\u001b[1;31mView Jupyter <a href='command:jupyter.viewOutput'>log</a> for further details. Cannot read properties of undefined (reading 'makeSettings')"
     ]
    }
   ],
   "source": [
    "pd.DataFrame({'actuel':test_norh_y,\n",
    "              'prediction':prediction3_norh,\n",
    "              'diff':(test_norh_y-prediction3_norh)})"
   ]
  },
  {
   "cell_type": "code",
   "execution_count": null,
   "metadata": {
    "colab": {
     "base_uri": "https://localhost:8080/",
     "height": 265
    },
    "id": "4D9eS8gA_cXm",
    "outputId": "d5fefa52-53ab-4bad-fd4b-76b82025233b"
   },
   "outputs": [
    {
     "ename": "",
     "evalue": "",
     "output_type": "error",
     "traceback": [
      "\u001b[1;31mFailed to start the Kernel. \n",
      "\u001b[1;31mFailed to start the Kernel 'Python 3.10.2 64-bit'. \n",
      "\u001b[1;31mView Jupyter <a href='command:jupyter.viewOutput'>log</a> for further details. Cannot read properties of undefined (reading 'makeSettings')"
     ]
    }
   ],
   "source": [
    "actuel = [16.083333,14.005556,6.127778,-1.222222,4.894444,17.03333,9.950000,-5.600000,12.688889,-3.866667]\n",
    "prediction = [16.083333,14.005556,6.127778,-1.194444,4.855556,17.033333,9.950000,-4.994444,12.688889,-3.866667]\n",
    "ax1 = plt.subplot()\n",
    "l1, = ax1.plot(actuel, color='red')\n",
    "ax2 = ax1.twinx()\n",
    "l2, = ax2.plot(prediction, color='blue')\n",
    "plt.legend([l1, l2], [\"actuel\", \"prediction\"])\n",
    "plt.show()"
   ]
  },
  {
   "cell_type": "code",
   "execution_count": null,
   "metadata": {
    "colab": {
     "base_uri": "https://localhost:8080/"
    },
    "id": "cHSxc3pMchz-",
    "outputId": "05b2d424-9112-486a-d6a3-f09cc88b243e"
   },
   "outputs": [
    {
     "ename": "",
     "evalue": "",
     "output_type": "error",
     "traceback": [
      "\u001b[1;31mFailed to start the Kernel. \n",
      "\u001b[1;31mFailed to start the Kernel 'Python 3.10.2 64-bit'. \n",
      "\u001b[1;31mView Jupyter <a href='command:jupyter.viewOutput'>log</a> for further details. Cannot read properties of undefined (reading 'makeSettings')"
     ]
    }
   ],
   "source": [
    "from sklearn.ensemble import RandomForestRegressor\n",
    "regr_norh = RandomForestRegressor(max_depth=10, random_state=0,n_estimators=100)\n",
    "regr_norh.fit(train_norh_x,train_norh_y)"
   ]
  },
  {
   "cell_type": "code",
   "execution_count": null,
   "metadata": {
    "colab": {
     "base_uri": "https://localhost:8080/"
    },
    "id": "riyJg24Uc0eq",
    "outputId": "a28e529f-3dee-4f44-9625-3354c504bb16"
   },
   "outputs": [
    {
     "ename": "",
     "evalue": "",
     "output_type": "error",
     "traceback": [
      "\u001b[1;31mFailed to start the Kernel. \n",
      "\u001b[1;31mFailed to start the Kernel 'Python 3.10.2 64-bit'. \n",
      "\u001b[1;31mView Jupyter <a href='command:jupyter.viewOutput'>log</a> for further details. Cannot read properties of undefined (reading 'makeSettings')"
     ]
    }
   ],
   "source": [
    "prediction4_norh = regr_norh.predict(test_norh_x)\n",
    "np.mean((prediction4_norh-test_norh_y)**2)"
   ]
  },
  {
   "cell_type": "code",
   "execution_count": null,
   "metadata": {
    "colab": {
     "base_uri": "https://localhost:8080/",
     "height": 424
    },
    "id": "QnfiHh4NdDTa",
    "outputId": "fe1919ec-131b-4c94-caf0-a88316a79a18"
   },
   "outputs": [
    {
     "ename": "",
     "evalue": "",
     "output_type": "error",
     "traceback": [
      "\u001b[1;31mFailed to start the Kernel. \n",
      "\u001b[1;31mFailed to start the Kernel 'Python 3.10.2 64-bit'. \n",
      "\u001b[1;31mView Jupyter <a href='command:jupyter.viewOutput'>log</a> for further details. Cannot read properties of undefined (reading 'makeSettings')"
     ]
    }
   ],
   "source": [
    "pd.DataFrame({'actuel':test_norh_y,\n",
    "              'prediction':prediction4_norh,\n",
    "              'diff':(test_norh_y-prediction4_norh)})"
   ]
  },
  {
   "cell_type": "code",
   "execution_count": null,
   "metadata": {
    "colab": {
     "base_uri": "https://localhost:8080/",
     "height": 265
    },
    "id": "GpODDbyOBsc6",
    "outputId": "438ed753-edb1-497f-c9bc-284a885638b3"
   },
   "outputs": [
    {
     "ename": "",
     "evalue": "",
     "output_type": "error",
     "traceback": [
      "\u001b[1;31mFailed to start the Kernel. \n",
      "\u001b[1;31mFailed to start the Kernel 'Python 3.10.2 64-bit'. \n",
      "\u001b[1;31mView Jupyter <a href='command:jupyter.viewOutput'>log</a> for further details. Cannot read properties of undefined (reading 'makeSettings')"
     ]
    }
   ],
   "source": [
    "actuel = [16.083333,14.005556,6.127778,-1.222222,4.894444,17.03333,9.950000,-5.600000,12.688889,-3.866667]\n",
    "prediction = [16.086917,14.006847,6.118972,-1.176683,4.940333,17.019683,9.913094,-5.563655,12.696467,-3.881551]\n",
    "ax1 = plt.subplot()\n",
    "l1, = ax1.plot(actuel, color='red')\n",
    "ax2 = ax1.twinx()\n",
    "l2, = ax2.plot(prediction, color='blue')\n",
    "plt.legend([l1, l2], [\"actuel\", \"prediction\"])\n",
    "plt.show()"
   ]
  },
  {
   "cell_type": "code",
   "execution_count": null,
   "metadata": {
    "colab": {
     "base_uri": "https://localhost:8080/"
    },
    "id": "QaLiGShAdMM0",
    "outputId": "142f79a7-4db6-4de6-c9dd-27a3d466fbc9"
   },
   "outputs": [
    {
     "ename": "",
     "evalue": "",
     "output_type": "error",
     "traceback": [
      "\u001b[1;31mFailed to start the Kernel. \n",
      "\u001b[1;31mFailed to start the Kernel 'Python 3.10.2 64-bit'. \n",
      "\u001b[1;31mView Jupyter <a href='command:jupyter.viewOutput'>log</a> for further details. Cannot read properties of undefined (reading 'makeSettings')"
     ]
    }
   ],
   "source": [
    "regr2_norh = RandomForestRegressor(max_depth=50, random_state=0,n_estimators=100)\n",
    "regr2_norh.fit(train_norh_x,train_norh_y)"
   ]
  },
  {
   "cell_type": "code",
   "execution_count": null,
   "metadata": {
    "colab": {
     "base_uri": "https://localhost:8080/"
    },
    "id": "XdiuSJtqdav2",
    "outputId": "8ca62b53-b0df-4503-8562-56052350df43"
   },
   "outputs": [
    {
     "ename": "",
     "evalue": "",
     "output_type": "error",
     "traceback": [
      "\u001b[1;31mFailed to start the Kernel. \n",
      "\u001b[1;31mFailed to start the Kernel 'Python 3.10.2 64-bit'. \n",
      "\u001b[1;31mView Jupyter <a href='command:jupyter.viewOutput'>log</a> for further details. Cannot read properties of undefined (reading 'makeSettings')"
     ]
    }
   ],
   "source": [
    "prediction5_norh = regr2_norh.predict(test_norh_x)\n",
    "np.mean((prediction5_norh-test_norh_y)**2)"
   ]
  },
  {
   "cell_type": "code",
   "execution_count": null,
   "metadata": {
    "colab": {
     "base_uri": "https://localhost:8080/",
     "height": 424
    },
    "id": "RhVTbqppdwCM",
    "outputId": "de090b6b-8ba0-4167-b962-db00eda73ca6"
   },
   "outputs": [
    {
     "ename": "",
     "evalue": "",
     "output_type": "error",
     "traceback": [
      "\u001b[1;31mFailed to start the Kernel. \n",
      "\u001b[1;31mFailed to start the Kernel 'Python 3.10.2 64-bit'. \n",
      "\u001b[1;31mView Jupyter <a href='command:jupyter.viewOutput'>log</a> for further details. Cannot read properties of undefined (reading 'makeSettings')"
     ]
    }
   ],
   "source": [
    "pd.DataFrame({'actuel':test_norh_y,\n",
    "              'prediction':prediction5_norh,\n",
    "              'diff':(test_norh_y-prediction5_norh)})"
   ]
  },
  {
   "cell_type": "code",
   "execution_count": null,
   "metadata": {
    "colab": {
     "base_uri": "https://localhost:8080/",
     "height": 265
    },
    "id": "w6OumOihCR87",
    "outputId": "aca400b4-da76-4022-edfc-630d3e41a7a8"
   },
   "outputs": [
    {
     "ename": "",
     "evalue": "",
     "output_type": "error",
     "traceback": [
      "\u001b[1;31mFailed to start the Kernel. \n",
      "\u001b[1;31mFailed to start the Kernel 'Python 3.10.2 64-bit'. \n",
      "\u001b[1;31mView Jupyter <a href='command:jupyter.viewOutput'>log</a> for further details. Cannot read properties of undefined (reading 'makeSettings')"
     ]
    }
   ],
   "source": [
    "actuel = [16.083333,14.005556,6.127778,-1.222222,4.894444,17.03333,9.950000,-5.600000,12.688889,-3.866667]\n",
    "prediction = [16.083333,14.005556,6.127611,-1.226556,4.890667,17.033222,9.927500,-5.423889,12.688889,-3.866667]\n",
    "ax1 = plt.subplot()\n",
    "l1, = ax1.plot(actuel, color='red')\n",
    "ax2 = ax1.twinx()\n",
    "l2, = ax2.plot(prediction, color='blue')\n",
    "plt.legend([l1, l2], [\"actuel\", \"prediction\"])\n",
    "plt.show()"
   ]
  },
  {
   "cell_type": "markdown",
   "metadata": {
    "id": "fLImXOJHj1tj"
   },
   "source": [
    "#predict humidity based on temperature ==>weather_df file#"
   ]
  },
  {
   "cell_type": "code",
   "execution_count": null,
   "metadata": {
    "colab": {
     "base_uri": "https://localhost:8080/",
     "height": 458
    },
    "id": "FT0g7Gn-kRxw",
    "outputId": "25c5bd99-072b-4cc6-b9f2-e309231f3601"
   },
   "outputs": [
    {
     "ename": "",
     "evalue": "",
     "output_type": "error",
     "traceback": [
      "\u001b[1;31mFailed to start the Kernel. \n",
      "\u001b[1;31mFailed to start the Kernel 'Python 3.10.2 64-bit'. \n",
      "\u001b[1;31mView Jupyter <a href='command:jupyter.viewOutput'>log</a> for further details. Cannot read properties of undefined (reading 'makeSettings')"
     ]
    }
   ],
   "source": [
    "weather_df.head()"
   ]
  },
  {
   "cell_type": "code",
   "execution_count": null,
   "metadata": {
    "colab": {
     "base_uri": "https://localhost:8080/"
    },
    "id": "8E0hcroykY6Z",
    "outputId": "c3d4fdd5-61c3-402d-c51b-71e19651e0e5"
   },
   "outputs": [
    {
     "ename": "",
     "evalue": "",
     "output_type": "error",
     "traceback": [
      "\u001b[1;31mFailed to start the Kernel. \n",
      "\u001b[1;31mFailed to start the Kernel 'Python 3.10.2 64-bit'. \n",
      "\u001b[1;31mView Jupyter <a href='command:jupyter.viewOutput'>log</a> for further details. Cannot read properties of undefined (reading 'makeSettings')"
     ]
    }
   ],
   "source": [
    "weather_df.columns"
   ]
  },
  {
   "cell_type": "code",
   "execution_count": null,
   "metadata": {
    "colab": {
     "base_uri": "https://localhost:8080/"
    },
    "id": "Saj40PN9kbwC",
    "outputId": "8c0e210d-c44b-44cd-8d11-00e87407b628"
   },
   "outputs": [
    {
     "ename": "",
     "evalue": "",
     "output_type": "error",
     "traceback": [
      "\u001b[1;31mFailed to start the Kernel. \n",
      "\u001b[1;31mFailed to start the Kernel 'Python 3.10.2 64-bit'. \n",
      "\u001b[1;31mView Jupyter <a href='command:jupyter.viewOutput'>log</a> for further details. Cannot read properties of undefined (reading 'makeSettings')"
     ]
    }
   ],
   "source": [
    "weather_df.shape"
   ]
  },
  {
   "cell_type": "code",
   "execution_count": null,
   "metadata": {
    "colab": {
     "base_uri": "https://localhost:8080/",
     "height": 344
    },
    "id": "YT3GmiTRkeSp",
    "outputId": "fb169638-b354-4c2d-ff3d-e4f97fc6d380"
   },
   "outputs": [
    {
     "ename": "",
     "evalue": "",
     "output_type": "error",
     "traceback": [
      "\u001b[1;31mFailed to start the Kernel. \n",
      "\u001b[1;31mFailed to start the Kernel 'Python 3.10.2 64-bit'. \n",
      "\u001b[1;31mView Jupyter <a href='command:jupyter.viewOutput'>log</a> for further details. Cannot read properties of undefined (reading 'makeSettings')"
     ]
    }
   ],
   "source": [
    "weather_df.describe()"
   ]
  },
  {
   "cell_type": "code",
   "execution_count": null,
   "metadata": {
    "colab": {
     "base_uri": "https://localhost:8080/"
    },
    "id": "XOBPMBjpkiL6",
    "outputId": "09bd04a5-9bba-44f7-ba01-98fbbc05d734"
   },
   "outputs": [
    {
     "ename": "",
     "evalue": "",
     "output_type": "error",
     "traceback": [
      "\u001b[1;31mFailed to start the Kernel. \n",
      "\u001b[1;31mFailed to start the Kernel 'Python 3.10.2 64-bit'. \n",
      "\u001b[1;31mView Jupyter <a href='command:jupyter.viewOutput'>log</a> for further details. Cannot read properties of undefined (reading 'makeSettings')"
     ]
    }
   ],
   "source": [
    "weather_df.info()"
   ]
  },
  {
   "cell_type": "code",
   "execution_count": null,
   "metadata": {
    "colab": {
     "base_uri": "https://localhost:8080/"
    },
    "id": "44d1v6JwkmqC",
    "outputId": "1dc0de09-0754-457e-b9fc-b3737c950119"
   },
   "outputs": [
    {
     "ename": "",
     "evalue": "",
     "output_type": "error",
     "traceback": [
      "\u001b[1;31mFailed to start the Kernel. \n",
      "\u001b[1;31mFailed to start the Kernel 'Python 3.10.2 64-bit'. \n",
      "\u001b[1;31mView Jupyter <a href='command:jupyter.viewOutput'>log</a> for further details. Cannot read properties of undefined (reading 'makeSettings')"
     ]
    }
   ],
   "source": [
    "weather_df.isnull().any()"
   ]
  },
  {
   "cell_type": "code",
   "execution_count": null,
   "metadata": {
    "colab": {
     "base_uri": "https://localhost:8080/"
    },
    "id": "QDUBrj8tkoFt",
    "outputId": "211239d1-d2cb-4f8b-ef54-a9af28421c84"
   },
   "outputs": [
    {
     "ename": "",
     "evalue": "",
     "output_type": "error",
     "traceback": [
      "\u001b[1;31mFailed to start the Kernel. \n",
      "\u001b[1;31mFailed to start the Kernel 'Python 3.10.2 64-bit'. \n",
      "\u001b[1;31mView Jupyter <a href='command:jupyter.viewOutput'>log</a> for further details. Cannot read properties of undefined (reading 'makeSettings')"
     ]
    }
   ],
   "source": [
    "weather_df.isnull().all()"
   ]
  },
  {
   "cell_type": "code",
   "execution_count": null,
   "metadata": {
    "colab": {
     "base_uri": "https://localhost:8080/"
    },
    "id": "UPQ5ereSkp3D",
    "outputId": "fa7e55b6-ce00-4bd4-959e-096f01a1ca0e"
   },
   "outputs": [
    {
     "ename": "",
     "evalue": "",
     "output_type": "error",
     "traceback": [
      "\u001b[1;31mFailed to start the Kernel. \n",
      "\u001b[1;31mFailed to start the Kernel 'Python 3.10.2 64-bit'. \n",
      "\u001b[1;31mView Jupyter <a href='command:jupyter.viewOutput'>log</a> for further details. Cannot read properties of undefined (reading 'makeSettings')"
     ]
    }
   ],
   "source": [
    "round(100*(weather_df.isnull().sum()/len(weather_df.index)),2)"
   ]
  },
  {
   "cell_type": "code",
   "execution_count": null,
   "metadata": {
    "colab": {
     "base_uri": "https://localhost:8080/"
    },
    "id": "tFc5WNmAkvic",
    "outputId": "3f03ac20-a241-440b-c8e0-c553f3b29dc5"
   },
   "outputs": [
    {
     "ename": "",
     "evalue": "",
     "output_type": "error",
     "traceback": [
      "\u001b[1;31mFailed to start the Kernel. \n",
      "\u001b[1;31mFailed to start the Kernel 'Python 3.10.2 64-bit'. \n",
      "\u001b[1;31mView Jupyter <a href='command:jupyter.viewOutput'>log</a> for further details. Cannot read properties of undefined (reading 'makeSettings')"
     ]
    }
   ],
   "source": [
    "weather_df['Precip Type'].value_counts()"
   ]
  },
  {
   "cell_type": "code",
   "execution_count": null,
   "metadata": {
    "id": "1JI-srNmkxol"
   },
   "outputs": [
    {
     "ename": "",
     "evalue": "",
     "output_type": "error",
     "traceback": [
      "\u001b[1;31mFailed to start the Kernel. \n",
      "\u001b[1;31mFailed to start the Kernel 'Python 3.10.2 64-bit'. \n",
      "\u001b[1;31mView Jupyter <a href='command:jupyter.viewOutput'>log</a> for further details. Cannot read properties of undefined (reading 'makeSettings')"
     ]
    }
   ],
   "source": [
    "weather_df.loc[weather_df['Precip Type'].isnull(),'Precip Type']='rain'"
   ]
  },
  {
   "cell_type": "code",
   "execution_count": null,
   "metadata": {
    "colab": {
     "base_uri": "https://localhost:8080/"
    },
    "id": "6GpDvY0uk1P2",
    "outputId": "1564ee3b-0750-4ff9-cec1-7221cb22f7a4"
   },
   "outputs": [
    {
     "ename": "",
     "evalue": "",
     "output_type": "error",
     "traceback": [
      "\u001b[1;31mFailed to start the Kernel. \n",
      "\u001b[1;31mFailed to start the Kernel 'Python 3.10.2 64-bit'. \n",
      "\u001b[1;31mView Jupyter <a href='command:jupyter.viewOutput'>log</a> for further details. Cannot read properties of undefined (reading 'makeSettings')"
     ]
    }
   ],
   "source": [
    "round(100*(weather_df.isnull().sum()/len(weather_df.index)),2)"
   ]
  },
  {
   "cell_type": "code",
   "execution_count": null,
   "metadata": {
    "id": "HFTzs1U_k4Ds"
   },
   "outputs": [
    {
     "ename": "",
     "evalue": "",
     "output_type": "error",
     "traceback": [
      "\u001b[1;31mFailed to start the Kernel. \n",
      "\u001b[1;31mFailed to start the Kernel 'Python 3.10.2 64-bit'. \n",
      "\u001b[1;31mView Jupyter <a href='command:jupyter.viewOutput'>log</a> for further details. Cannot read properties of undefined (reading 'makeSettings')"
     ]
    }
   ],
   "source": [
    "weather_df.loc[weather_df['Precip Type']=='rain','Precip Type']=1\n",
    "weather_df.loc[weather_df['Precip Type']=='snow','Precip Type']=0"
   ]
  },
  {
   "cell_type": "code",
   "execution_count": null,
   "metadata": {
    "id": "Jsrn6ZAsk67G"
   },
   "outputs": [
    {
     "ename": "",
     "evalue": "",
     "output_type": "error",
     "traceback": [
      "\u001b[1;31mFailed to start the Kernel. \n",
      "\u001b[1;31mFailed to start the Kernel 'Python 3.10.2 64-bit'. \n",
      "\u001b[1;31mView Jupyter <a href='command:jupyter.viewOutput'>log</a> for further details. Cannot read properties of undefined (reading 'makeSettings')"
     ]
    }
   ],
   "source": [
    "weather_df_num=weather_df[list(weather_df.dtypes[weather_df.dtypes!='object'].index)]"
   ]
  },
  {
   "cell_type": "code",
   "execution_count": null,
   "metadata": {
    "id": "70yei03IlAMb"
   },
   "outputs": [
    {
     "ename": "",
     "evalue": "",
     "output_type": "error",
     "traceback": [
      "\u001b[1;31mFailed to start the Kernel. \n",
      "\u001b[1;31mFailed to start the Kernel 'Python 3.10.2 64-bit'. \n",
      "\u001b[1;31mView Jupyter <a href='command:jupyter.viewOutput'>log</a> for further details. Cannot read properties of undefined (reading 'makeSettings')"
     ]
    }
   ],
   "source": [
    "weather_y = weather_df_num.pop('Humidity')\n",
    "weather_x = weather_df_num"
   ]
  },
  {
   "cell_type": "code",
   "execution_count": null,
   "metadata": {
    "id": "sXa1U1GQlDz4"
   },
   "outputs": [
    {
     "ename": "",
     "evalue": "",
     "output_type": "error",
     "traceback": [
      "\u001b[1;31mFailed to start the Kernel. \n",
      "\u001b[1;31mFailed to start the Kernel 'Python 3.10.2 64-bit'. \n",
      "\u001b[1;31mView Jupyter <a href='command:jupyter.viewOutput'>log</a> for further details. Cannot read properties of undefined (reading 'makeSettings')"
     ]
    }
   ],
   "source": [
    "train_x,test_x,train_y,test_y = train_test_split(weather_x,weather_y,test_size = 0.2,random_state = 4)"
   ]
  },
  {
   "cell_type": "code",
   "execution_count": null,
   "metadata": {
    "colab": {
     "base_uri": "https://localhost:8080/",
     "height": 206
    },
    "id": "ApawbDymlGD9",
    "outputId": "94bdbaf8-7362-46c6-8cd6-4e9454b83eda"
   },
   "outputs": [
    {
     "ename": "",
     "evalue": "",
     "output_type": "error",
     "traceback": [
      "\u001b[1;31mFailed to start the Kernel. \n",
      "\u001b[1;31mFailed to start the Kernel 'Python 3.10.2 64-bit'. \n",
      "\u001b[1;31mView Jupyter <a href='command:jupyter.viewOutput'>log</a> for further details. Cannot read properties of undefined (reading 'makeSettings')"
     ]
    }
   ],
   "source": [
    "train_x.head()"
   ]
  },
  {
   "cell_type": "code",
   "execution_count": null,
   "metadata": {
    "colab": {
     "base_uri": "https://localhost:8080/"
    },
    "id": "W4yeW-VvlZDA",
    "outputId": "984f75fd-aaab-4f01-d8fb-89f241bd69b7"
   },
   "outputs": [
    {
     "ename": "",
     "evalue": "",
     "output_type": "error",
     "traceback": [
      "\u001b[1;31mFailed to start the Kernel. \n",
      "\u001b[1;31mFailed to start the Kernel 'Python 3.10.2 64-bit'. \n",
      "\u001b[1;31mView Jupyter <a href='command:jupyter.viewOutput'>log</a> for further details. Cannot read properties of undefined (reading 'makeSettings')"
     ]
    }
   ],
   "source": [
    "model = LinearRegression()\n",
    "model.fit(train_x,train_y)"
   ]
  },
  {
   "cell_type": "code",
   "execution_count": null,
   "metadata": {
    "colab": {
     "base_uri": "https://localhost:8080/"
    },
    "id": "zB_cgG0ylbFk",
    "outputId": "3122aca0-5e93-4510-9348-9e7a853fc89b"
   },
   "outputs": [
    {
     "ename": "",
     "evalue": "",
     "output_type": "error",
     "traceback": [
      "\u001b[1;31mFailed to start the Kernel. \n",
      "\u001b[1;31mFailed to start the Kernel 'Python 3.10.2 64-bit'. \n",
      "\u001b[1;31mView Jupyter <a href='command:jupyter.viewOutput'>log</a> for further details. Cannot read properties of undefined (reading 'makeSettings')"
     ]
    }
   ],
   "source": [
    "prediction = model.predict(test_x)\n",
    "np.mean((prediction-test_y)**2)"
   ]
  },
  {
   "cell_type": "code",
   "execution_count": null,
   "metadata": {
    "colab": {
     "base_uri": "https://localhost:8080/",
     "height": 424
    },
    "id": "uk_z8jyZlgv2",
    "outputId": "0b3a8c6f-c281-4735-dcd9-11dc04c59709"
   },
   "outputs": [
    {
     "ename": "",
     "evalue": "",
     "output_type": "error",
     "traceback": [
      "\u001b[1;31mFailed to start the Kernel. \n",
      "\u001b[1;31mFailed to start the Kernel 'Python 3.10.2 64-bit'. \n",
      "\u001b[1;31mView Jupyter <a href='command:jupyter.viewOutput'>log</a> for further details. Cannot read properties of undefined (reading 'makeSettings')"
     ]
    }
   ],
   "source": [
    "pd.DataFrame({'actuel':test_y,\n",
    "              'prediction':prediction,\n",
    "              'diff':(test_y-prediction)})"
   ]
  },
  {
   "cell_type": "code",
   "execution_count": null,
   "metadata": {
    "colab": {
     "base_uri": "https://localhost:8080/",
     "height": 265
    },
    "id": "B4F6vkB5asd_",
    "outputId": "be0ecaeb-287f-4a24-85bc-d4e41e85c8b8"
   },
   "outputs": [
    {
     "ename": "",
     "evalue": "",
     "output_type": "error",
     "traceback": [
      "\u001b[1;31mFailed to start the Kernel. \n",
      "\u001b[1;31mFailed to start the Kernel 'Python 3.10.2 64-bit'. \n",
      "\u001b[1;31mView Jupyter <a href='command:jupyter.viewOutput'>log</a> for further details. Cannot read properties of undefined (reading 'makeSettings')"
     ]
    }
   ],
   "source": [
    "actuel = [0.92,0.89,0.83,0.24,0.82,0.83,0.87,0.37,0.53,0.85]\n",
    "prediction = [0.916713,0.831889,0.797085,0.475429,0.661377,0.937631,0.798058,0.637978,0.664748,0.950009]\n",
    "ax1 = plt.subplot()\n",
    "l1, = ax1.plot(actuel, color='red')\n",
    "ax2 = ax1.twinx()\n",
    "l2, = ax2.plot(prediction, color='blue')\n",
    "plt.legend([l1, l2], [\"actuel\", \"prediction\"])\n",
    "plt.show()\n"
   ]
  },
  {
   "cell_type": "code",
   "execution_count": null,
   "metadata": {
    "colab": {
     "base_uri": "https://localhost:8080/"
    },
    "id": "TZLaxY05liC3",
    "outputId": "abc357be-508c-441e-c1c0-c038b68fe44c"
   },
   "outputs": [
    {
     "ename": "",
     "evalue": "",
     "output_type": "error",
     "traceback": [
      "\u001b[1;31mFailed to start the Kernel. \n",
      "\u001b[1;31mFailed to start the Kernel 'Python 3.10.2 64-bit'. \n",
      "\u001b[1;31mView Jupyter <a href='command:jupyter.viewOutput'>log</a> for further details. Cannot read properties of undefined (reading 'makeSettings')"
     ]
    }
   ],
   "source": [
    "from sklearn.preprocessing import PolynomialFeatures\n",
    "poly = PolynomialFeatures(degree = 4)\n",
    "x_poly = poly.fit_transform(train_x)\n",
    "poly.fit(x_poly, train_y)\n",
    "lin2 = LinearRegression()\n",
    "lin2.fit(x_poly, train_y)"
   ]
  },
  {
   "cell_type": "code",
   "execution_count": null,
   "metadata": {
    "colab": {
     "base_uri": "https://localhost:8080/"
    },
    "id": "BWuDrJVnllBG",
    "outputId": "9c68525d-c970-44bb-b15f-12cc9ff32bc8"
   },
   "outputs": [
    {
     "ename": "",
     "evalue": "",
     "output_type": "error",
     "traceback": [
      "\u001b[1;31mFailed to start the Kernel. \n",
      "\u001b[1;31mFailed to start the Kernel 'Python 3.10.2 64-bit'. \n",
      "\u001b[1;31mView Jupyter <a href='command:jupyter.viewOutput'>log</a> for further details. Cannot read properties of undefined (reading 'makeSettings')"
     ]
    }
   ],
   "source": [
    "prediction2 = lin2.predict(poly.fit_transform(test_x))\n",
    "np.mean((prediction2-test_y)**2)"
   ]
  },
  {
   "cell_type": "code",
   "execution_count": null,
   "metadata": {
    "colab": {
     "base_uri": "https://localhost:8080/",
     "height": 424
    },
    "id": "y85i5V2Olmqg",
    "outputId": "104ab6e6-2913-49bf-be6e-448a22fc96a0"
   },
   "outputs": [
    {
     "ename": "",
     "evalue": "",
     "output_type": "error",
     "traceback": [
      "\u001b[1;31mFailed to start the Kernel. \n",
      "\u001b[1;31mFailed to start the Kernel 'Python 3.10.2 64-bit'. \n",
      "\u001b[1;31mView Jupyter <a href='command:jupyter.viewOutput'>log</a> for further details. Cannot read properties of undefined (reading 'makeSettings')"
     ]
    }
   ],
   "source": [
    "pd.DataFrame({'actuel':test_y,\n",
    "              'prediction':prediction2,\n",
    "              'diff':(test_y-prediction2)})"
   ]
  },
  {
   "cell_type": "code",
   "execution_count": null,
   "metadata": {
    "colab": {
     "base_uri": "https://localhost:8080/",
     "height": 265
    },
    "id": "SlcRDdDQbcN6",
    "outputId": "5411ccd4-e171-462e-ebc2-841d7b17fdbe"
   },
   "outputs": [
    {
     "ename": "",
     "evalue": "",
     "output_type": "error",
     "traceback": [
      "\u001b[1;31mFailed to start the Kernel. \n",
      "\u001b[1;31mFailed to start the Kernel 'Python 3.10.2 64-bit'. \n",
      "\u001b[1;31mView Jupyter <a href='command:jupyter.viewOutput'>log</a> for further details. Cannot read properties of undefined (reading 'makeSettings')"
     ]
    }
   ],
   "source": [
    "actuel = [0.92,0.89,0.83,0.24,0.82,0.83,0.87,0.37,0.53,0.85]\n",
    "prediction = [0.872063,0.849259,0.845053,0.340253,0.790156,0.732743,0.841752,0.644107,0.657021,0.925539]\n",
    "ax1 = plt.subplot()\n",
    "l1, = ax1.plot(actuel, color='red')\n",
    "ax2 = ax1.twinx()\n",
    "l2, = ax2.plot(prediction, color='blue')\n",
    "plt.legend([l1, l2], [\"actuel\", \"prediction\"])\n",
    "plt.show()"
   ]
  },
  {
   "cell_type": "code",
   "execution_count": null,
   "metadata": {
    "colab": {
     "base_uri": "https://localhost:8080/"
    },
    "id": "MFIA9glBlqm0",
    "outputId": "6d6b9e4c-2007-4dc5-bac2-f40fecd7cf79"
   },
   "outputs": [
    {
     "ename": "",
     "evalue": "",
     "output_type": "error",
     "traceback": [
      "\u001b[1;31mFailed to start the Kernel. \n",
      "\u001b[1;31mFailed to start the Kernel 'Python 3.10.2 64-bit'. \n",
      "\u001b[1;31mView Jupyter <a href='command:jupyter.viewOutput'>log</a> for further details. Cannot read properties of undefined (reading 'makeSettings')"
     ]
    }
   ],
   "source": [
    "from sklearn.tree import DecisionTreeRegressor\n",
    "regressor = DecisionTreeRegressor(random_state=0)\n",
    "regressor.fit(train_x,train_y)"
   ]
  },
  {
   "cell_type": "code",
   "execution_count": null,
   "metadata": {
    "colab": {
     "base_uri": "https://localhost:8080/"
    },
    "id": "juMVxYCgltOs",
    "outputId": "5113b409-045a-4f3a-f027-b43de30aba24"
   },
   "outputs": [
    {
     "ename": "",
     "evalue": "",
     "output_type": "error",
     "traceback": [
      "\u001b[1;31mFailed to start the Kernel. \n",
      "\u001b[1;31mFailed to start the Kernel 'Python 3.10.2 64-bit'. \n",
      "\u001b[1;31mView Jupyter <a href='command:jupyter.viewOutput'>log</a> for further details. Cannot read properties of undefined (reading 'makeSettings')"
     ]
    }
   ],
   "source": [
    "prediction3 = regressor.predict(test_x)\n",
    "np.mean((prediction3-test_y)**2)"
   ]
  },
  {
   "cell_type": "code",
   "execution_count": null,
   "metadata": {
    "colab": {
     "base_uri": "https://localhost:8080/",
     "height": 424
    },
    "id": "z9ini4IMlvRs",
    "outputId": "2e8ed27b-8f6d-4b49-d829-17a0f74bcc84"
   },
   "outputs": [
    {
     "ename": "",
     "evalue": "",
     "output_type": "error",
     "traceback": [
      "\u001b[1;31mFailed to start the Kernel. \n",
      "\u001b[1;31mFailed to start the Kernel 'Python 3.10.2 64-bit'. \n",
      "\u001b[1;31mView Jupyter <a href='command:jupyter.viewOutput'>log</a> for further details. Cannot read properties of undefined (reading 'makeSettings')"
     ]
    }
   ],
   "source": [
    "pd.DataFrame({'actuel':test_y,\n",
    "              'prediction':prediction3,\n",
    "              'diff':(test_y-prediction3)})"
   ]
  },
  {
   "cell_type": "code",
   "execution_count": null,
   "metadata": {
    "colab": {
     "base_uri": "https://localhost:8080/",
     "height": 265
    },
    "id": "xxdpePC7bwBO",
    "outputId": "47639407-5e8b-43ef-96f9-161ab8ffaeb3"
   },
   "outputs": [
    {
     "ename": "",
     "evalue": "",
     "output_type": "error",
     "traceback": [
      "\u001b[1;31mFailed to start the Kernel. \n",
      "\u001b[1;31mFailed to start the Kernel 'Python 3.10.2 64-bit'. \n",
      "\u001b[1;31mView Jupyter <a href='command:jupyter.viewOutput'>log</a> for further details. Cannot read properties of undefined (reading 'makeSettings')"
     ]
    }
   ],
   "source": [
    "actuel = [0.92,0.89,0.83,0.24,0.82,0.83,0.87,0.37,0.53,0.85]\n",
    "prediction = [0.74,0.57,0.86,0.24,0.81,0.81,0.96,0.72,0.79,0.89]\n",
    "ax1 = plt.subplot()\n",
    "l1, = ax1.plot(actuel, color='red')\n",
    "ax2 = ax1.twinx()\n",
    "l2, = ax2.plot(prediction, color='blue')\n",
    "plt.legend([l1, l2], [\"actuel\", \"prediction\"])\n",
    "plt.show()"
   ]
  },
  {
   "cell_type": "code",
   "execution_count": null,
   "metadata": {
    "colab": {
     "base_uri": "https://localhost:8080/"
    },
    "id": "SzCaurvKlwn9",
    "outputId": "5e8ba50b-e7cd-43c4-cc9a-2a15ececac5e"
   },
   "outputs": [
    {
     "ename": "",
     "evalue": "",
     "output_type": "error",
     "traceback": [
      "\u001b[1;31mFailed to start the Kernel. \n",
      "\u001b[1;31mFailed to start the Kernel 'Python 3.10.2 64-bit'. \n",
      "\u001b[1;31mView Jupyter <a href='command:jupyter.viewOutput'>log</a> for further details. Cannot read properties of undefined (reading 'makeSettings')"
     ]
    }
   ],
   "source": [
    "from sklearn.ensemble import RandomForestRegressor\n",
    "regr = RandomForestRegressor(max_depth=10, random_state=0,n_estimators=100)\n",
    "regr.fit(train_x,train_y)"
   ]
  },
  {
   "cell_type": "code",
   "execution_count": null,
   "metadata": {
    "colab": {
     "base_uri": "https://localhost:8080/"
    },
    "id": "dTIM9D9Kl5HM",
    "outputId": "40ed54a2-4ab8-4661-81d5-7e1b4c55cdca"
   },
   "outputs": [
    {
     "ename": "",
     "evalue": "",
     "output_type": "error",
     "traceback": [
      "\u001b[1;31mFailed to start the Kernel. \n",
      "\u001b[1;31mFailed to start the Kernel 'Python 3.10.2 64-bit'. \n",
      "\u001b[1;31mView Jupyter <a href='command:jupyter.viewOutput'>log</a> for further details. Cannot read properties of undefined (reading 'makeSettings')"
     ]
    }
   ],
   "source": [
    "prediction4 = regr.predict(test_x)\n",
    "np.mean((prediction4-test_y)**2)"
   ]
  },
  {
   "cell_type": "code",
   "execution_count": null,
   "metadata": {
    "colab": {
     "base_uri": "https://localhost:8080/",
     "height": 424
    },
    "id": "lcTx0YX3l7lO",
    "outputId": "66798e03-f7ec-4a6b-eb40-8b5b44e26e39"
   },
   "outputs": [
    {
     "ename": "",
     "evalue": "",
     "output_type": "error",
     "traceback": [
      "\u001b[1;31mFailed to start the Kernel. \n",
      "\u001b[1;31mFailed to start the Kernel 'Python 3.10.2 64-bit'. \n",
      "\u001b[1;31mView Jupyter <a href='command:jupyter.viewOutput'>log</a> for further details. Cannot read properties of undefined (reading 'makeSettings')"
     ]
    }
   ],
   "source": [
    "pd.DataFrame({'actuel':test_y,\n",
    "              'prediction':prediction4,\n",
    "              'diff':(test_y-prediction4)})"
   ]
  },
  {
   "cell_type": "code",
   "execution_count": null,
   "metadata": {
    "colab": {
     "base_uri": "https://localhost:8080/",
     "height": 265
    },
    "id": "5BNF6CnvcJ-Q",
    "outputId": "d75c89dc-5c29-4102-d42f-6f7f57967bc6"
   },
   "outputs": [
    {
     "ename": "",
     "evalue": "",
     "output_type": "error",
     "traceback": [
      "\u001b[1;31mFailed to start the Kernel. \n",
      "\u001b[1;31mFailed to start the Kernel 'Python 3.10.2 64-bit'. \n",
      "\u001b[1;31mView Jupyter <a href='command:jupyter.viewOutput'>log</a> for further details. Cannot read properties of undefined (reading 'makeSettings')"
     ]
    }
   ],
   "source": [
    "actuel = [0.92,0.89,0.83,0.24,0.82,0.83,0.87,0.37,0.53,0.85]\n",
    "prediction = [0.899544,0.793136,0.881626,0.258596,0.806116,0.831423,0.877749,0.633857,0.694788,0.905112]\n",
    "ax1 = plt.subplot()\n",
    "l1, = ax1.plot(actuel, color='red')\n",
    "ax2 = ax1.twinx()\n",
    "l2, = ax2.plot(prediction, color='blue')\n",
    "plt.legend([l1, l2], [\"actuel\", \"prediction\"])\n",
    "plt.show()"
   ]
  },
  {
   "cell_type": "code",
   "execution_count": null,
   "metadata": {
    "colab": {
     "base_uri": "https://localhost:8080/"
    },
    "id": "iSzrmVt8l9Bl",
    "outputId": "3dee50e9-ae42-4930-c6db-2115ef5becb9"
   },
   "outputs": [
    {
     "ename": "",
     "evalue": "",
     "output_type": "error",
     "traceback": [
      "\u001b[1;31mFailed to start the Kernel. \n",
      "\u001b[1;31mFailed to start the Kernel 'Python 3.10.2 64-bit'. \n",
      "\u001b[1;31mView Jupyter <a href='command:jupyter.viewOutput'>log</a> for further details. Cannot read properties of undefined (reading 'makeSettings')"
     ]
    }
   ],
   "source": [
    "regr2 = RandomForestRegressor(max_depth=50, random_state=0,n_estimators=100)\n",
    "regr2.fit(train_x,train_y)"
   ]
  },
  {
   "cell_type": "code",
   "execution_count": null,
   "metadata": {
    "colab": {
     "base_uri": "https://localhost:8080/"
    },
    "id": "p7REQBnUl_4i",
    "outputId": "99e43f36-3cbc-47a2-a4ab-308be19934b4"
   },
   "outputs": [
    {
     "ename": "",
     "evalue": "",
     "output_type": "error",
     "traceback": [
      "\u001b[1;31mFailed to start the Kernel. \n",
      "\u001b[1;31mFailed to start the Kernel 'Python 3.10.2 64-bit'. \n",
      "\u001b[1;31mView Jupyter <a href='command:jupyter.viewOutput'>log</a> for further details. Cannot read properties of undefined (reading 'makeSettings')"
     ]
    }
   ],
   "source": [
    "prediction5 = regr2.predict(test_x)\n",
    "np.mean((prediction5-test_y)**2)"
   ]
  },
  {
   "cell_type": "code",
   "execution_count": null,
   "metadata": {
    "colab": {
     "base_uri": "https://localhost:8080/",
     "height": 424
    },
    "id": "XCKGT-GZmeaP",
    "outputId": "64849be6-b332-422c-82b0-9751bf5d5856"
   },
   "outputs": [
    {
     "ename": "",
     "evalue": "",
     "output_type": "error",
     "traceback": [
      "\u001b[1;31mFailed to start the Kernel. \n",
      "\u001b[1;31mFailed to start the Kernel 'Python 3.10.2 64-bit'. \n",
      "\u001b[1;31mView Jupyter <a href='command:jupyter.viewOutput'>log</a> for further details. Cannot read properties of undefined (reading 'makeSettings')"
     ]
    }
   ],
   "source": [
    "pd.DataFrame({'actuel':test_y,\n",
    "              'prediction':prediction5,\n",
    "              'diff':(test_y-prediction5)})"
   ]
  },
  {
   "cell_type": "code",
   "execution_count": null,
   "metadata": {
    "colab": {
     "base_uri": "https://localhost:8080/",
     "height": 265
    },
    "id": "1O_XWsC3co2R",
    "outputId": "9f802f25-2537-48f0-89c0-df7876a207ee"
   },
   "outputs": [
    {
     "ename": "",
     "evalue": "",
     "output_type": "error",
     "traceback": [
      "\u001b[1;31mFailed to start the Kernel. \n",
      "\u001b[1;31mFailed to start the Kernel 'Python 3.10.2 64-bit'. \n",
      "\u001b[1;31mView Jupyter <a href='command:jupyter.viewOutput'>log</a> for further details. Cannot read properties of undefined (reading 'makeSettings')"
     ]
    }
   ],
   "source": [
    "actuel = [0.92,0.89,0.83,0.24,0.82,0.83,0.87,0.37,0.53,0.85]\n",
    "prediction = [0.9108,0.8124,0.8390,0.2402,0.8189,0.8007,0.8525,0.6050,0.6086,0.8852]\n",
    "ax1 = plt.subplot()\n",
    "l1, = ax1.plot(actuel, color='red')\n",
    "ax2 = ax1.twinx()\n",
    "l2, = ax2.plot(prediction, color='blue')\n",
    "plt.legend([l1, l2], [\"actuel\", \"prediction\"])\n",
    "plt.show()"
   ]
  }
 ],
 "metadata": {
  "colab": {
   "collapsed_sections": [],
   "provenance": []
  },
  "kernelspec": {
   "display_name": "Python 3 (ipykernel)",
   "language": "python",
   "name": "python3"
  },
  "language_info": {
   "codemirror_mode": {
    "name": "ipython",
    "version": 3
   },
   "file_extension": ".py",
   "mimetype": "text/x-python",
   "name": "python",
   "nbconvert_exporter": "python",
   "pygments_lexer": "ipython3",
   "version": "3.10.2"
  },
  "vscode": {
   "interpreter": {
    "hash": "018f7a4aa4ca64966fd4977030ab30818634fc07475ea8f2b454d33c333ddf58"
   }
  }
 },
 "nbformat": 4,
 "nbformat_minor": 1
}
