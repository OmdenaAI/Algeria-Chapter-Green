{
  "cells": [
    {
      "cell_type": "markdown",
      "source": [
        "[![Open In Colab](https://colab.research.google.com/assets/colab-badge.svg)](https://colab.research.google.com/https://github.com/OmdenaAI/Algeria-Chapter-Green/tree/main/src/workshops/Intro_2_ML_Patient_Data.ipynb)\n"
      ],
      "metadata": {
        "id": "xTTP0XtvDSzP"
      }
    },
    {
      "cell_type": "markdown",
      "metadata": {
        "id": "KpNHUBq-IYrG"
      },
      "source": [
        "# Introduction to Machine learning with Tensorflow/Pytorch\n",
        "\n",
        "Notebook : [End to End Machine Learning Building ](https://github.com/dphi-official/Machine_Learning_Bootcamp/blob/master/End_to_End_Model_Building/Patient_Data.ipynb)\n",
        "\n",
        "Thanks to @Dphi Bootcamp."
      ]
    },
    {
      "cell_type": "markdown",
      "metadata": {
        "id": "kxFmAGxFedvQ"
      },
      "source": [
        "# Agenda\n",
        "*  Problem Statement\n",
        "  *  Objective\n",
        "  *  Dataset & Data Description\n",
        "*  Solution Steps:\n",
        "  *  Load data\n",
        "  *  Understand your data: Data Analysis and Visualizations (EDA)\n",
        "  *  Pre-process the data\n",
        "  *  Prepare train and test datasets\n",
        "  *  Choose a model\n",
        "  *  Train your model\n",
        "  *  Evaluate the model (F1-score calculation)\n",
        "  *  Optimize: repeat steps 5 - 7\n",
        "*  Conclusion\n",
        "*  Prediction on New Test data\n",
        "  *  Load the new test data\n",
        "  *  Fill missing values if any\n",
        "  *  Preprocessing and cleaning the data\n",
        "  *  Predict the target values"
      ]
    },
    {
      "cell_type": "markdown",
      "metadata": {
        "id": "nfP6hNjz_GEs"
      },
      "source": [
        "## Problem Statement\n",
        "### Objective\n",
        "A hospital in the province of Greenland has been trying to improve its care conditions by looking at historic survival of the patients. They tried looking at their data but could not identify the main factors leading to high survivals.\n",
        "\n",
        "You are the best data scientist in Greenland and they've hired you to solve this problem. Now you are responsible for developing a model that will predict the chances of survival of a patient after 1 year of treatment (Survived_1_year).\n",
        "\n",
        "### Dataset & Data Description\n",
        "The dataset contains the patient records collected from a hospital in Greenland. The \"Survived_1_year\" column is a target variable which has binary entries (0 or 1).\n",
        "\n",
        "*  Survived_1_year == 0, implies that the patient did not survive after 1 year of treatment\n",
        "*  Survived_1_year == 1, implies that the patient survived after 1 year of treatment\n",
        "\n",
        "To load the dataset in your jupyter notebook, use the below command:\n",
        "\n",
        "\n",
        "```\n",
        "import pandas as pd\n",
        "pharma_data = pd.read_csv('https://raw.githubusercontent.com/dphi-official/Datasets/master/pharma_data/Training_set_begs.csv')\n",
        "```\n",
        "\n",
        "\n",
        "#### Data Description:\n",
        "\n",
        "*  ID_Patient_Care_Situation: Care situation of a patient during treatment\n",
        "*  Diagnosed_Condition: The diagnosed condition of the patient\n",
        "*  ID_Patient: Patient identifier number\n",
        "*  Treatment_with_drugs: Class of drugs used during treatment\n",
        "*  Survived_1_year: If the patient survived after one year (0 means did not survive; 1 means survived)\n",
        "*  Patient_Age: Age of the patient\n",
        "*  Patient_Body_Mass_Index: A calculated value based on the patient’s weight, height, etc.\n",
        "*  Patient_Smoker: If the patient was a smoker or not\n",
        "*  Patient_Rural_Urban: If the patient stayed in Rural or Urban part of the country\n",
        "*  Previous_Condition: Condition of the patient before the start of the treatment ( This variable is splitted into 8 columns - A, B, C, D, E, F, Z and Number_of_prev_cond. A, B, C, D, E, F and Z are the previous conditions of the patient. Suppose for one patient, if the entry in column A is 1, it means that the previous condition of the patient was A. If the patient didn't have that condition, it is 0 and same for other conditions. If a patient has previous condition as A and C , columns A and C will have entries as 1 and 1 respectively while the other column B, D, E, F, Z will have entries 0, 0, 0, 0, 0 respectively. The column Number_of_prev_cond will have entry as 2 i.e. 1 + 0 + 1 + 0 + 0 + 0 + 0 + 0 = 2 in this case. )"
      ]
    },
    {
      "cell_type": "markdown",
      "metadata": {
        "id": "_sI7avYCFmXM"
      },
      "source": [
        "## Solution steps:\n",
        "1. Load data\n",
        "2. Understand your data: EDA\n",
        "3. Pre-process the data \n",
        "4. Prepare train and test datasets\n",
        "5. Choose a model\n",
        "6. Train your model\n",
        "7. Evaluate the model (F1-score calculation)\n",
        "8. Optimize: repeat steps 5 - 7\n"
      ]
    },
    {
      "cell_type": "markdown",
      "metadata": {
        "id": "-A5dcWWJkT91"
      },
      "source": [
        "### **Load Libraries**"
      ]
    },
    {
      "cell_type": "code",
      "execution_count": null,
      "metadata": {
        "id": "6ZaU0CzM-EU_"
      },
      "outputs": [],
      "source": [
        "import pandas as pd   # package for data analysis\n",
        "import numpy as np    # package for numerical computations\n",
        "\n",
        "# libraries for visualization\n",
        "import matplotlib.pyplot as plt\n",
        "import seaborn as sns\n",
        "\n",
        "# to ignore warnings\n",
        "import warnings\n",
        "warnings.filterwarnings('ignore')\n",
        "\n",
        "# For Preprocessing, ML models and Evaluation\n",
        "from sklearn.model_selection import train_test_split   # To split the dataset into train and test set\n",
        "\n",
        "from sklearn.linear_model import LogisticRegression     # Logistic regression model\n",
        "\n",
        "from sklearn import preprocessing\n",
        "from sklearn.preprocessing import LabelEncoder    # for converting categorical to numerical\n",
        "\n",
        "from sklearn.metrics import f1_score    # for model evaluation"
      ]
    },
    {
      "cell_type": "markdown",
      "metadata": {
        "id": "1ZHArBgzkXdz"
      },
      "source": [
        "### **Load Data**"
      ]
    },
    {
      "cell_type": "code",
      "execution_count": null,
      "metadata": {
        "id": "PSsjGwsd9m-T"
      },
      "outputs": [],
      "source": [
        "data = pd.read_csv('https://raw.githubusercontent.com/dphi-official/Datasets/master/pharma_data/Training_set_begs.csv')"
      ]
    },
    {
      "cell_type": "code",
      "execution_count": null,
      "metadata": {
        "colab": {
          "base_uri": "https://localhost:8080/",
          "height": 270
        },
        "id": "gx1FV_ptDOqY",
        "outputId": "00327b35-db8f-4392-d551-304d4adccaff"
      },
      "outputs": [
        {
          "output_type": "execute_result",
          "data": {
            "text/plain": [
              "   ID_Patient_Care_Situation  Diagnosed_Condition  Patient_ID  \\\n",
              "0                      22374                    8        3333   \n",
              "1                      18164                    5        5740   \n",
              "2                       6283                   23       10446   \n",
              "3                       5339                   51       12011   \n",
              "4                      33012                    0       12513   \n",
              "\n",
              "  Treated_with_drugs  Patient_Age  Patient_Body_Mass_Index Patient_Smoker  \\\n",
              "0                DX6           56                18.479385            YES   \n",
              "1               DX2            36                22.945566            YES   \n",
              "2                DX6           48                27.510027            YES   \n",
              "3               DX1             5                19.130976             NO   \n",
              "4                NaN          128                 1.348400     Cannot say   \n",
              "\n",
              "  Patient_Rural_Urban Patient_mental_condition    A    B    C    D    E    F  \\\n",
              "0               URBAN                   Stable  1.0  0.0  0.0  0.0  1.0  0.0   \n",
              "1               RURAL                   Stable  1.0  0.0  0.0  0.0  0.0  0.0   \n",
              "2               RURAL                   Stable  1.0  0.0  0.0  0.0  0.0  0.0   \n",
              "3               URBAN                   Stable  1.0  0.0  0.0  0.0  0.0  0.0   \n",
              "4               RURAL                   Stable  0.0  0.0  0.0  0.0  0.0  0.0   \n",
              "\n",
              "     Z  Number_of_prev_cond  Survived_1_year  \n",
              "0  0.0                  2.0                0  \n",
              "1  0.0                  1.0                1  \n",
              "2  0.0                  1.0                0  \n",
              "3  0.0                  1.0                1  \n",
              "4  1.0                  1.0                1  "
            ],
            "text/html": [
              "\n",
              "  <div id=\"df-181de23a-8e29-4053-b967-dd4d287c4686\">\n",
              "    <div class=\"colab-df-container\">\n",
              "      <div>\n",
              "<style scoped>\n",
              "    .dataframe tbody tr th:only-of-type {\n",
              "        vertical-align: middle;\n",
              "    }\n",
              "\n",
              "    .dataframe tbody tr th {\n",
              "        vertical-align: top;\n",
              "    }\n",
              "\n",
              "    .dataframe thead th {\n",
              "        text-align: right;\n",
              "    }\n",
              "</style>\n",
              "<table border=\"1\" class=\"dataframe\">\n",
              "  <thead>\n",
              "    <tr style=\"text-align: right;\">\n",
              "      <th></th>\n",
              "      <th>ID_Patient_Care_Situation</th>\n",
              "      <th>Diagnosed_Condition</th>\n",
              "      <th>Patient_ID</th>\n",
              "      <th>Treated_with_drugs</th>\n",
              "      <th>Patient_Age</th>\n",
              "      <th>Patient_Body_Mass_Index</th>\n",
              "      <th>Patient_Smoker</th>\n",
              "      <th>Patient_Rural_Urban</th>\n",
              "      <th>Patient_mental_condition</th>\n",
              "      <th>A</th>\n",
              "      <th>B</th>\n",
              "      <th>C</th>\n",
              "      <th>D</th>\n",
              "      <th>E</th>\n",
              "      <th>F</th>\n",
              "      <th>Z</th>\n",
              "      <th>Number_of_prev_cond</th>\n",
              "      <th>Survived_1_year</th>\n",
              "    </tr>\n",
              "  </thead>\n",
              "  <tbody>\n",
              "    <tr>\n",
              "      <th>0</th>\n",
              "      <td>22374</td>\n",
              "      <td>8</td>\n",
              "      <td>3333</td>\n",
              "      <td>DX6</td>\n",
              "      <td>56</td>\n",
              "      <td>18.479385</td>\n",
              "      <td>YES</td>\n",
              "      <td>URBAN</td>\n",
              "      <td>Stable</td>\n",
              "      <td>1.0</td>\n",
              "      <td>0.0</td>\n",
              "      <td>0.0</td>\n",
              "      <td>0.0</td>\n",
              "      <td>1.0</td>\n",
              "      <td>0.0</td>\n",
              "      <td>0.0</td>\n",
              "      <td>2.0</td>\n",
              "      <td>0</td>\n",
              "    </tr>\n",
              "    <tr>\n",
              "      <th>1</th>\n",
              "      <td>18164</td>\n",
              "      <td>5</td>\n",
              "      <td>5740</td>\n",
              "      <td>DX2</td>\n",
              "      <td>36</td>\n",
              "      <td>22.945566</td>\n",
              "      <td>YES</td>\n",
              "      <td>RURAL</td>\n",
              "      <td>Stable</td>\n",
              "      <td>1.0</td>\n",
              "      <td>0.0</td>\n",
              "      <td>0.0</td>\n",
              "      <td>0.0</td>\n",
              "      <td>0.0</td>\n",
              "      <td>0.0</td>\n",
              "      <td>0.0</td>\n",
              "      <td>1.0</td>\n",
              "      <td>1</td>\n",
              "    </tr>\n",
              "    <tr>\n",
              "      <th>2</th>\n",
              "      <td>6283</td>\n",
              "      <td>23</td>\n",
              "      <td>10446</td>\n",
              "      <td>DX6</td>\n",
              "      <td>48</td>\n",
              "      <td>27.510027</td>\n",
              "      <td>YES</td>\n",
              "      <td>RURAL</td>\n",
              "      <td>Stable</td>\n",
              "      <td>1.0</td>\n",
              "      <td>0.0</td>\n",
              "      <td>0.0</td>\n",
              "      <td>0.0</td>\n",
              "      <td>0.0</td>\n",
              "      <td>0.0</td>\n",
              "      <td>0.0</td>\n",
              "      <td>1.0</td>\n",
              "      <td>0</td>\n",
              "    </tr>\n",
              "    <tr>\n",
              "      <th>3</th>\n",
              "      <td>5339</td>\n",
              "      <td>51</td>\n",
              "      <td>12011</td>\n",
              "      <td>DX1</td>\n",
              "      <td>5</td>\n",
              "      <td>19.130976</td>\n",
              "      <td>NO</td>\n",
              "      <td>URBAN</td>\n",
              "      <td>Stable</td>\n",
              "      <td>1.0</td>\n",
              "      <td>0.0</td>\n",
              "      <td>0.0</td>\n",
              "      <td>0.0</td>\n",
              "      <td>0.0</td>\n",
              "      <td>0.0</td>\n",
              "      <td>0.0</td>\n",
              "      <td>1.0</td>\n",
              "      <td>1</td>\n",
              "    </tr>\n",
              "    <tr>\n",
              "      <th>4</th>\n",
              "      <td>33012</td>\n",
              "      <td>0</td>\n",
              "      <td>12513</td>\n",
              "      <td>NaN</td>\n",
              "      <td>128</td>\n",
              "      <td>1.348400</td>\n",
              "      <td>Cannot say</td>\n",
              "      <td>RURAL</td>\n",
              "      <td>Stable</td>\n",
              "      <td>0.0</td>\n",
              "      <td>0.0</td>\n",
              "      <td>0.0</td>\n",
              "      <td>0.0</td>\n",
              "      <td>0.0</td>\n",
              "      <td>0.0</td>\n",
              "      <td>1.0</td>\n",
              "      <td>1.0</td>\n",
              "      <td>1</td>\n",
              "    </tr>\n",
              "  </tbody>\n",
              "</table>\n",
              "</div>\n",
              "      <button class=\"colab-df-convert\" onclick=\"convertToInteractive('df-181de23a-8e29-4053-b967-dd4d287c4686')\"\n",
              "              title=\"Convert this dataframe to an interactive table.\"\n",
              "              style=\"display:none;\">\n",
              "        \n",
              "  <svg xmlns=\"http://www.w3.org/2000/svg\" height=\"24px\"viewBox=\"0 0 24 24\"\n",
              "       width=\"24px\">\n",
              "    <path d=\"M0 0h24v24H0V0z\" fill=\"none\"/>\n",
              "    <path d=\"M18.56 5.44l.94 2.06.94-2.06 2.06-.94-2.06-.94-.94-2.06-.94 2.06-2.06.94zm-11 1L8.5 8.5l.94-2.06 2.06-.94-2.06-.94L8.5 2.5l-.94 2.06-2.06.94zm10 10l.94 2.06.94-2.06 2.06-.94-2.06-.94-.94-2.06-.94 2.06-2.06.94z\"/><path d=\"M17.41 7.96l-1.37-1.37c-.4-.4-.92-.59-1.43-.59-.52 0-1.04.2-1.43.59L10.3 9.45l-7.72 7.72c-.78.78-.78 2.05 0 2.83L4 21.41c.39.39.9.59 1.41.59.51 0 1.02-.2 1.41-.59l7.78-7.78 2.81-2.81c.8-.78.8-2.07 0-2.86zM5.41 20L4 18.59l7.72-7.72 1.47 1.35L5.41 20z\"/>\n",
              "  </svg>\n",
              "      </button>\n",
              "      \n",
              "  <style>\n",
              "    .colab-df-container {\n",
              "      display:flex;\n",
              "      flex-wrap:wrap;\n",
              "      gap: 12px;\n",
              "    }\n",
              "\n",
              "    .colab-df-convert {\n",
              "      background-color: #E8F0FE;\n",
              "      border: none;\n",
              "      border-radius: 50%;\n",
              "      cursor: pointer;\n",
              "      display: none;\n",
              "      fill: #1967D2;\n",
              "      height: 32px;\n",
              "      padding: 0 0 0 0;\n",
              "      width: 32px;\n",
              "    }\n",
              "\n",
              "    .colab-df-convert:hover {\n",
              "      background-color: #E2EBFA;\n",
              "      box-shadow: 0px 1px 2px rgba(60, 64, 67, 0.3), 0px 1px 3px 1px rgba(60, 64, 67, 0.15);\n",
              "      fill: #174EA6;\n",
              "    }\n",
              "\n",
              "    [theme=dark] .colab-df-convert {\n",
              "      background-color: #3B4455;\n",
              "      fill: #D2E3FC;\n",
              "    }\n",
              "\n",
              "    [theme=dark] .colab-df-convert:hover {\n",
              "      background-color: #434B5C;\n",
              "      box-shadow: 0px 1px 3px 1px rgba(0, 0, 0, 0.15);\n",
              "      filter: drop-shadow(0px 1px 2px rgba(0, 0, 0, 0.3));\n",
              "      fill: #FFFFFF;\n",
              "    }\n",
              "  </style>\n",
              "\n",
              "      <script>\n",
              "        const buttonEl =\n",
              "          document.querySelector('#df-181de23a-8e29-4053-b967-dd4d287c4686 button.colab-df-convert');\n",
              "        buttonEl.style.display =\n",
              "          google.colab.kernel.accessAllowed ? 'block' : 'none';\n",
              "\n",
              "        async function convertToInteractive(key) {\n",
              "          const element = document.querySelector('#df-181de23a-8e29-4053-b967-dd4d287c4686');\n",
              "          const dataTable =\n",
              "            await google.colab.kernel.invokeFunction('convertToInteractive',\n",
              "                                                     [key], {});\n",
              "          if (!dataTable) return;\n",
              "\n",
              "          const docLinkHtml = 'Like what you see? Visit the ' +\n",
              "            '<a target=\"_blank\" href=https://colab.research.google.com/notebooks/data_table.ipynb>data table notebook</a>'\n",
              "            + ' to learn more about interactive tables.';\n",
              "          element.innerHTML = '';\n",
              "          dataTable['output_type'] = 'display_data';\n",
              "          await google.colab.output.renderOutput(dataTable, element);\n",
              "          const docLink = document.createElement('div');\n",
              "          docLink.innerHTML = docLinkHtml;\n",
              "          element.appendChild(docLink);\n",
              "        }\n",
              "      </script>\n",
              "    </div>\n",
              "  </div>\n",
              "  "
            ]
          },
          "metadata": {},
          "execution_count": 3
        }
      ],
      "source": [
        "# Take a look at the first five observations\n",
        "data.head()"
      ]
    },
    {
      "cell_type": "code",
      "execution_count": null,
      "metadata": {
        "colab": {
          "base_uri": "https://localhost:8080/"
        },
        "id": "Ey-sP-PaDRqg",
        "outputId": "ad2c434c-a959-42af-88e4-8667f12620ce"
      },
      "outputs": [
        {
          "output_type": "stream",
          "name": "stdout",
          "text": [
            "<class 'pandas.core.frame.DataFrame'>\n",
            "RangeIndex: 23097 entries, 0 to 23096\n",
            "Data columns (total 18 columns):\n",
            " #   Column                     Non-Null Count  Dtype  \n",
            "---  ------                     --------------  -----  \n",
            " 0   ID_Patient_Care_Situation  23097 non-null  int64  \n",
            " 1   Diagnosed_Condition        23097 non-null  int64  \n",
            " 2   Patient_ID                 23097 non-null  int64  \n",
            " 3   Treated_with_drugs         23084 non-null  object \n",
            " 4   Patient_Age                23097 non-null  int64  \n",
            " 5   Patient_Body_Mass_Index    23097 non-null  float64\n",
            " 6   Patient_Smoker             23097 non-null  object \n",
            " 7   Patient_Rural_Urban        23097 non-null  object \n",
            " 8   Patient_mental_condition   23097 non-null  object \n",
            " 9   A                          21862 non-null  float64\n",
            " 10  B                          21862 non-null  float64\n",
            " 11  C                          21862 non-null  float64\n",
            " 12  D                          21862 non-null  float64\n",
            " 13  E                          21862 non-null  float64\n",
            " 14  F                          21862 non-null  float64\n",
            " 15  Z                          21862 non-null  float64\n",
            " 16  Number_of_prev_cond        21862 non-null  float64\n",
            " 17  Survived_1_year            23097 non-null  int64  \n",
            "dtypes: float64(9), int64(5), object(4)\n",
            "memory usage: 3.2+ MB\n"
          ]
        }
      ],
      "source": [
        "data.info()"
      ]
    },
    {
      "cell_type": "code",
      "source": [
        "data.isnull().sum()"
      ],
      "metadata": {
        "colab": {
          "base_uri": "https://localhost:8080/"
        },
        "id": "SAkhP_-zHOcZ",
        "outputId": "f0172130-6709-4419-8c0e-0158bce8b2c1"
      },
      "execution_count": null,
      "outputs": [
        {
          "output_type": "execute_result",
          "data": {
            "text/plain": [
              "ID_Patient_Care_Situation       0\n",
              "Diagnosed_Condition             0\n",
              "Patient_ID                      0\n",
              "Treated_with_drugs             13\n",
              "Patient_Age                     0\n",
              "Patient_Body_Mass_Index         0\n",
              "Patient_Smoker                  0\n",
              "Patient_Rural_Urban             0\n",
              "Patient_mental_condition        0\n",
              "A                            1235\n",
              "B                            1235\n",
              "C                            1235\n",
              "D                            1235\n",
              "E                            1235\n",
              "F                            1235\n",
              "Z                            1235\n",
              "Number_of_prev_cond          1235\n",
              "Survived_1_year                 0\n",
              "dtype: int64"
            ]
          },
          "metadata": {},
          "execution_count": 68
        }
      ]
    },
    {
      "cell_type": "code",
      "execution_count": null,
      "metadata": {
        "colab": {
          "base_uri": "https://localhost:8080/",
          "height": 364
        },
        "id": "dVVY2dCPDUkr",
        "outputId": "97522580-ae3f-408d-bfd3-976f5fb9be29"
      },
      "outputs": [
        {
          "output_type": "execute_result",
          "data": {
            "text/plain": [
              "       ID_Patient_Care_Situation  Diagnosed_Condition    Patient_ID  \\\n",
              "count               23097.000000         23097.000000  23097.000000   \n",
              "mean                16545.712041            26.413127   6261.280772   \n",
              "std                  9532.263503            15.030865   3595.990620   \n",
              "min                     2.000000             0.000000      1.000000   \n",
              "25%                  8280.000000            13.000000   3181.000000   \n",
              "50%                 16597.000000            26.000000   6242.000000   \n",
              "75%                 24825.000000            39.000000   9363.000000   \n",
              "max                 33014.000000            52.000000  12515.000000   \n",
              "\n",
              "        Patient_Age  Patient_Body_Mass_Index             A             B  \\\n",
              "count  23097.000000             23097.000000  21862.000000  21862.000000   \n",
              "mean      33.209768                23.454820      0.897905      0.136355   \n",
              "std       19.549882                 3.807661      0.302780      0.343173   \n",
              "min        0.000000                 1.089300      0.000000      0.000000   \n",
              "25%       16.000000                20.205550      1.000000      0.000000   \n",
              "50%       33.000000                23.386199      1.000000      0.000000   \n",
              "75%       50.000000                26.788154      1.000000      0.000000   \n",
              "max      149.000000                29.999579      1.000000      1.000000   \n",
              "\n",
              "                  C             D             E             F             Z  \\\n",
              "count  21862.000000  21862.000000  21862.000000  21862.000000  21862.000000   \n",
              "mean       0.185070      0.083615      0.393239      0.053700      0.000595   \n",
              "std        0.388363      0.276817      0.488480      0.225431      0.024379   \n",
              "min        0.000000      0.000000      0.000000      0.000000      0.000000   \n",
              "25%        0.000000      0.000000      0.000000      0.000000      0.000000   \n",
              "50%        0.000000      0.000000      0.000000      0.000000      0.000000   \n",
              "75%        0.000000      0.000000      1.000000      0.000000      0.000000   \n",
              "max        1.000000      1.000000      1.000000      1.000000      1.000000   \n",
              "\n",
              "       Number_of_prev_cond  Survived_1_year  \n",
              "count         21862.000000     23097.000000  \n",
              "mean              1.750480         0.632247  \n",
              "std               0.770311         0.482204  \n",
              "min               1.000000         0.000000  \n",
              "25%               1.000000         0.000000  \n",
              "50%               2.000000         1.000000  \n",
              "75%               2.000000         1.000000  \n",
              "max               5.000000         1.000000  "
            ],
            "text/html": [
              "\n",
              "  <div id=\"df-77399452-9ea6-4712-9c4b-192714c628d2\">\n",
              "    <div class=\"colab-df-container\">\n",
              "      <div>\n",
              "<style scoped>\n",
              "    .dataframe tbody tr th:only-of-type {\n",
              "        vertical-align: middle;\n",
              "    }\n",
              "\n",
              "    .dataframe tbody tr th {\n",
              "        vertical-align: top;\n",
              "    }\n",
              "\n",
              "    .dataframe thead th {\n",
              "        text-align: right;\n",
              "    }\n",
              "</style>\n",
              "<table border=\"1\" class=\"dataframe\">\n",
              "  <thead>\n",
              "    <tr style=\"text-align: right;\">\n",
              "      <th></th>\n",
              "      <th>ID_Patient_Care_Situation</th>\n",
              "      <th>Diagnosed_Condition</th>\n",
              "      <th>Patient_ID</th>\n",
              "      <th>Patient_Age</th>\n",
              "      <th>Patient_Body_Mass_Index</th>\n",
              "      <th>A</th>\n",
              "      <th>B</th>\n",
              "      <th>C</th>\n",
              "      <th>D</th>\n",
              "      <th>E</th>\n",
              "      <th>F</th>\n",
              "      <th>Z</th>\n",
              "      <th>Number_of_prev_cond</th>\n",
              "      <th>Survived_1_year</th>\n",
              "    </tr>\n",
              "  </thead>\n",
              "  <tbody>\n",
              "    <tr>\n",
              "      <th>count</th>\n",
              "      <td>23097.000000</td>\n",
              "      <td>23097.000000</td>\n",
              "      <td>23097.000000</td>\n",
              "      <td>23097.000000</td>\n",
              "      <td>23097.000000</td>\n",
              "      <td>21862.000000</td>\n",
              "      <td>21862.000000</td>\n",
              "      <td>21862.000000</td>\n",
              "      <td>21862.000000</td>\n",
              "      <td>21862.000000</td>\n",
              "      <td>21862.000000</td>\n",
              "      <td>21862.000000</td>\n",
              "      <td>21862.000000</td>\n",
              "      <td>23097.000000</td>\n",
              "    </tr>\n",
              "    <tr>\n",
              "      <th>mean</th>\n",
              "      <td>16545.712041</td>\n",
              "      <td>26.413127</td>\n",
              "      <td>6261.280772</td>\n",
              "      <td>33.209768</td>\n",
              "      <td>23.454820</td>\n",
              "      <td>0.897905</td>\n",
              "      <td>0.136355</td>\n",
              "      <td>0.185070</td>\n",
              "      <td>0.083615</td>\n",
              "      <td>0.393239</td>\n",
              "      <td>0.053700</td>\n",
              "      <td>0.000595</td>\n",
              "      <td>1.750480</td>\n",
              "      <td>0.632247</td>\n",
              "    </tr>\n",
              "    <tr>\n",
              "      <th>std</th>\n",
              "      <td>9532.263503</td>\n",
              "      <td>15.030865</td>\n",
              "      <td>3595.990620</td>\n",
              "      <td>19.549882</td>\n",
              "      <td>3.807661</td>\n",
              "      <td>0.302780</td>\n",
              "      <td>0.343173</td>\n",
              "      <td>0.388363</td>\n",
              "      <td>0.276817</td>\n",
              "      <td>0.488480</td>\n",
              "      <td>0.225431</td>\n",
              "      <td>0.024379</td>\n",
              "      <td>0.770311</td>\n",
              "      <td>0.482204</td>\n",
              "    </tr>\n",
              "    <tr>\n",
              "      <th>min</th>\n",
              "      <td>2.000000</td>\n",
              "      <td>0.000000</td>\n",
              "      <td>1.000000</td>\n",
              "      <td>0.000000</td>\n",
              "      <td>1.089300</td>\n",
              "      <td>0.000000</td>\n",
              "      <td>0.000000</td>\n",
              "      <td>0.000000</td>\n",
              "      <td>0.000000</td>\n",
              "      <td>0.000000</td>\n",
              "      <td>0.000000</td>\n",
              "      <td>0.000000</td>\n",
              "      <td>1.000000</td>\n",
              "      <td>0.000000</td>\n",
              "    </tr>\n",
              "    <tr>\n",
              "      <th>25%</th>\n",
              "      <td>8280.000000</td>\n",
              "      <td>13.000000</td>\n",
              "      <td>3181.000000</td>\n",
              "      <td>16.000000</td>\n",
              "      <td>20.205550</td>\n",
              "      <td>1.000000</td>\n",
              "      <td>0.000000</td>\n",
              "      <td>0.000000</td>\n",
              "      <td>0.000000</td>\n",
              "      <td>0.000000</td>\n",
              "      <td>0.000000</td>\n",
              "      <td>0.000000</td>\n",
              "      <td>1.000000</td>\n",
              "      <td>0.000000</td>\n",
              "    </tr>\n",
              "    <tr>\n",
              "      <th>50%</th>\n",
              "      <td>16597.000000</td>\n",
              "      <td>26.000000</td>\n",
              "      <td>6242.000000</td>\n",
              "      <td>33.000000</td>\n",
              "      <td>23.386199</td>\n",
              "      <td>1.000000</td>\n",
              "      <td>0.000000</td>\n",
              "      <td>0.000000</td>\n",
              "      <td>0.000000</td>\n",
              "      <td>0.000000</td>\n",
              "      <td>0.000000</td>\n",
              "      <td>0.000000</td>\n",
              "      <td>2.000000</td>\n",
              "      <td>1.000000</td>\n",
              "    </tr>\n",
              "    <tr>\n",
              "      <th>75%</th>\n",
              "      <td>24825.000000</td>\n",
              "      <td>39.000000</td>\n",
              "      <td>9363.000000</td>\n",
              "      <td>50.000000</td>\n",
              "      <td>26.788154</td>\n",
              "      <td>1.000000</td>\n",
              "      <td>0.000000</td>\n",
              "      <td>0.000000</td>\n",
              "      <td>0.000000</td>\n",
              "      <td>1.000000</td>\n",
              "      <td>0.000000</td>\n",
              "      <td>0.000000</td>\n",
              "      <td>2.000000</td>\n",
              "      <td>1.000000</td>\n",
              "    </tr>\n",
              "    <tr>\n",
              "      <th>max</th>\n",
              "      <td>33014.000000</td>\n",
              "      <td>52.000000</td>\n",
              "      <td>12515.000000</td>\n",
              "      <td>149.000000</td>\n",
              "      <td>29.999579</td>\n",
              "      <td>1.000000</td>\n",
              "      <td>1.000000</td>\n",
              "      <td>1.000000</td>\n",
              "      <td>1.000000</td>\n",
              "      <td>1.000000</td>\n",
              "      <td>1.000000</td>\n",
              "      <td>1.000000</td>\n",
              "      <td>5.000000</td>\n",
              "      <td>1.000000</td>\n",
              "    </tr>\n",
              "  </tbody>\n",
              "</table>\n",
              "</div>\n",
              "      <button class=\"colab-df-convert\" onclick=\"convertToInteractive('df-77399452-9ea6-4712-9c4b-192714c628d2')\"\n",
              "              title=\"Convert this dataframe to an interactive table.\"\n",
              "              style=\"display:none;\">\n",
              "        \n",
              "  <svg xmlns=\"http://www.w3.org/2000/svg\" height=\"24px\"viewBox=\"0 0 24 24\"\n",
              "       width=\"24px\">\n",
              "    <path d=\"M0 0h24v24H0V0z\" fill=\"none\"/>\n",
              "    <path d=\"M18.56 5.44l.94 2.06.94-2.06 2.06-.94-2.06-.94-.94-2.06-.94 2.06-2.06.94zm-11 1L8.5 8.5l.94-2.06 2.06-.94-2.06-.94L8.5 2.5l-.94 2.06-2.06.94zm10 10l.94 2.06.94-2.06 2.06-.94-2.06-.94-.94-2.06-.94 2.06-2.06.94z\"/><path d=\"M17.41 7.96l-1.37-1.37c-.4-.4-.92-.59-1.43-.59-.52 0-1.04.2-1.43.59L10.3 9.45l-7.72 7.72c-.78.78-.78 2.05 0 2.83L4 21.41c.39.39.9.59 1.41.59.51 0 1.02-.2 1.41-.59l7.78-7.78 2.81-2.81c.8-.78.8-2.07 0-2.86zM5.41 20L4 18.59l7.72-7.72 1.47 1.35L5.41 20z\"/>\n",
              "  </svg>\n",
              "      </button>\n",
              "      \n",
              "  <style>\n",
              "    .colab-df-container {\n",
              "      display:flex;\n",
              "      flex-wrap:wrap;\n",
              "      gap: 12px;\n",
              "    }\n",
              "\n",
              "    .colab-df-convert {\n",
              "      background-color: #E8F0FE;\n",
              "      border: none;\n",
              "      border-radius: 50%;\n",
              "      cursor: pointer;\n",
              "      display: none;\n",
              "      fill: #1967D2;\n",
              "      height: 32px;\n",
              "      padding: 0 0 0 0;\n",
              "      width: 32px;\n",
              "    }\n",
              "\n",
              "    .colab-df-convert:hover {\n",
              "      background-color: #E2EBFA;\n",
              "      box-shadow: 0px 1px 2px rgba(60, 64, 67, 0.3), 0px 1px 3px 1px rgba(60, 64, 67, 0.15);\n",
              "      fill: #174EA6;\n",
              "    }\n",
              "\n",
              "    [theme=dark] .colab-df-convert {\n",
              "      background-color: #3B4455;\n",
              "      fill: #D2E3FC;\n",
              "    }\n",
              "\n",
              "    [theme=dark] .colab-df-convert:hover {\n",
              "      background-color: #434B5C;\n",
              "      box-shadow: 0px 1px 3px 1px rgba(0, 0, 0, 0.15);\n",
              "      filter: drop-shadow(0px 1px 2px rgba(0, 0, 0, 0.3));\n",
              "      fill: #FFFFFF;\n",
              "    }\n",
              "  </style>\n",
              "\n",
              "      <script>\n",
              "        const buttonEl =\n",
              "          document.querySelector('#df-77399452-9ea6-4712-9c4b-192714c628d2 button.colab-df-convert');\n",
              "        buttonEl.style.display =\n",
              "          google.colab.kernel.accessAllowed ? 'block' : 'none';\n",
              "\n",
              "        async function convertToInteractive(key) {\n",
              "          const element = document.querySelector('#df-77399452-9ea6-4712-9c4b-192714c628d2');\n",
              "          const dataTable =\n",
              "            await google.colab.kernel.invokeFunction('convertToInteractive',\n",
              "                                                     [key], {});\n",
              "          if (!dataTable) return;\n",
              "\n",
              "          const docLinkHtml = 'Like what you see? Visit the ' +\n",
              "            '<a target=\"_blank\" href=https://colab.research.google.com/notebooks/data_table.ipynb>data table notebook</a>'\n",
              "            + ' to learn more about interactive tables.';\n",
              "          element.innerHTML = '';\n",
              "          dataTable['output_type'] = 'display_data';\n",
              "          await google.colab.output.renderOutput(dataTable, element);\n",
              "          const docLink = document.createElement('div');\n",
              "          docLink.innerHTML = docLinkHtml;\n",
              "          element.appendChild(docLink);\n",
              "        }\n",
              "      </script>\n",
              "    </div>\n",
              "  </div>\n",
              "  "
            ]
          },
          "metadata": {},
          "execution_count": 5
        }
      ],
      "source": [
        "data.describe()"
      ]
    },
    {
      "cell_type": "markdown",
      "metadata": {
        "id": "y-3jjan0k4eZ"
      },
      "source": [
        "### **Prepare Train/Test Data**\n",
        "\n",
        "1. Separating the input and output variables\n",
        "\n",
        "Before building any machine learning model, we always separate the input variables and output variables. Input variables are those quantities whose values are changed naturally in an experiment, whereas output variable is the one whose values are dependent on the input variables. So, input variables are also known as independent variables as its values are not dependent on any other quantity, and output variable/s are also known as dependent variables as its values are dependent on other variable i.e. input variables. Like here in this data, we can see that whether a person will survive after one year or not, depends on other variables like, age, diagnosis, body mass index, drugs used, etc.\n",
        "\n",
        "By convention input variables are represented with 'X' and output variables are represented with 'y'."
      ]
    },
    {
      "cell_type": "code",
      "execution_count": null,
      "metadata": {
        "id": "wb6a2XmiSA9r"
      },
      "outputs": [],
      "source": [
        "X = data.drop('Survived_1_year',axis = 1) \n",
        "y = data['Survived_1_year']"
      ]
    },
    {
      "cell_type": "markdown",
      "metadata": {
        "id": "HQzEPkTnk9ko"
      },
      "source": [
        "2. Train/test split\n",
        "\n",
        "We want to check the performance of the model that we built. For this purpose, we always split (both input and output data) the given data into training set which will be used to train the model, and test set which will be used to check how accurately the model is predicting outcomes.\n",
        "\n",
        "For this purpose we have a class called 'train_test_split' in the 'sklearn.model_selection' module."
      ]
    },
    {
      "cell_type": "code",
      "execution_count": null,
      "metadata": {
        "id": "vSM5z68MEsac"
      },
      "outputs": [],
      "source": [
        "X_train, X_test, y_train, y_test = train_test_split(X, y, test_size=0.2, random_state=1, stratify=y)"
      ]
    },
    {
      "cell_type": "markdown",
      "metadata": {
        "id": "dXgHvl2aaT-u"
      },
      "source": [
        "To preserve the proportion of examples for each class label we use stratification splitting"
      ]
    },
    {
      "cell_type": "markdown",
      "metadata": {
        "id": "k260ixdn6DS7"
      },
      "source": [
        "### **EDA & Data Preprocessing** "
      ]
    },
    {
      "cell_type": "markdown",
      "metadata": {
        "id": "NCC1_nGuTcqB"
      },
      "source": [
        "Primary screenings: \n",
        "1. Get a look at the data, its columns and kind of values contained in these columns: df.head()\n",
        "2. Stepping back a bit, get a look at the column overview: number, types, NULL counts: df.info()"
      ]
    },
    {
      "cell_type": "code",
      "execution_count": null,
      "metadata": {
        "colab": {
          "base_uri": "https://localhost:8080/",
          "height": 270
        },
        "id": "K0U1o3CW-Fst",
        "outputId": "bc2ea855-79fb-44a1-e983-d4a2908e940a"
      },
      "outputs": [
        {
          "output_type": "execute_result",
          "data": {
            "text/plain": [
              "       ID_Patient_Care_Situation  Diagnosed_Condition  Patient_ID  \\\n",
              "3955                       30300                   10        4842   \n",
              "13205                       2888                   44        1024   \n",
              "14868                       3234                   49         195   \n",
              "13249                      15704                   27         291   \n",
              "8383                       10661                   24        5543   \n",
              "\n",
              "      Treated_with_drugs  Patient_Age  Patient_Body_Mass_Index Patient_Smoker  \\\n",
              "3955                 DX6           37                22.673581            YES   \n",
              "13205                DX6           11                29.883019             NO   \n",
              "14868               DX5            53                17.580741            YES   \n",
              "13249           DX1 DX3            22                21.468654             NO   \n",
              "8383        DX1 DX2 DX3            62                29.204603             NO   \n",
              "\n",
              "      Patient_Rural_Urban Patient_mental_condition    A    B    C    D    E  \\\n",
              "3955                RURAL                   Stable  1.0  0.0  0.0  0.0  0.0   \n",
              "13205               URBAN                   Stable  1.0  0.0  0.0  0.0  1.0   \n",
              "14868               RURAL                   Stable  0.0  0.0  0.0  0.0  1.0   \n",
              "13249               URBAN                   Stable  1.0  1.0  0.0  0.0  0.0   \n",
              "8383                URBAN                   Stable  NaN  NaN  NaN  NaN  NaN   \n",
              "\n",
              "         F    Z  Number_of_prev_cond  \n",
              "3955   0.0  0.0                  1.0  \n",
              "13205  0.0  0.0                  2.0  \n",
              "14868  0.0  0.0                  1.0  \n",
              "13249  0.0  0.0                  2.0  \n",
              "8383   NaN  NaN                  NaN  "
            ],
            "text/html": [
              "\n",
              "  <div id=\"df-12fdd3b8-1cb0-4f7f-97d6-1a59e1da2faf\">\n",
              "    <div class=\"colab-df-container\">\n",
              "      <div>\n",
              "<style scoped>\n",
              "    .dataframe tbody tr th:only-of-type {\n",
              "        vertical-align: middle;\n",
              "    }\n",
              "\n",
              "    .dataframe tbody tr th {\n",
              "        vertical-align: top;\n",
              "    }\n",
              "\n",
              "    .dataframe thead th {\n",
              "        text-align: right;\n",
              "    }\n",
              "</style>\n",
              "<table border=\"1\" class=\"dataframe\">\n",
              "  <thead>\n",
              "    <tr style=\"text-align: right;\">\n",
              "      <th></th>\n",
              "      <th>ID_Patient_Care_Situation</th>\n",
              "      <th>Diagnosed_Condition</th>\n",
              "      <th>Patient_ID</th>\n",
              "      <th>Treated_with_drugs</th>\n",
              "      <th>Patient_Age</th>\n",
              "      <th>Patient_Body_Mass_Index</th>\n",
              "      <th>Patient_Smoker</th>\n",
              "      <th>Patient_Rural_Urban</th>\n",
              "      <th>Patient_mental_condition</th>\n",
              "      <th>A</th>\n",
              "      <th>B</th>\n",
              "      <th>C</th>\n",
              "      <th>D</th>\n",
              "      <th>E</th>\n",
              "      <th>F</th>\n",
              "      <th>Z</th>\n",
              "      <th>Number_of_prev_cond</th>\n",
              "    </tr>\n",
              "  </thead>\n",
              "  <tbody>\n",
              "    <tr>\n",
              "      <th>3955</th>\n",
              "      <td>30300</td>\n",
              "      <td>10</td>\n",
              "      <td>4842</td>\n",
              "      <td>DX6</td>\n",
              "      <td>37</td>\n",
              "      <td>22.673581</td>\n",
              "      <td>YES</td>\n",
              "      <td>RURAL</td>\n",
              "      <td>Stable</td>\n",
              "      <td>1.0</td>\n",
              "      <td>0.0</td>\n",
              "      <td>0.0</td>\n",
              "      <td>0.0</td>\n",
              "      <td>0.0</td>\n",
              "      <td>0.0</td>\n",
              "      <td>0.0</td>\n",
              "      <td>1.0</td>\n",
              "    </tr>\n",
              "    <tr>\n",
              "      <th>13205</th>\n",
              "      <td>2888</td>\n",
              "      <td>44</td>\n",
              "      <td>1024</td>\n",
              "      <td>DX6</td>\n",
              "      <td>11</td>\n",
              "      <td>29.883019</td>\n",
              "      <td>NO</td>\n",
              "      <td>URBAN</td>\n",
              "      <td>Stable</td>\n",
              "      <td>1.0</td>\n",
              "      <td>0.0</td>\n",
              "      <td>0.0</td>\n",
              "      <td>0.0</td>\n",
              "      <td>1.0</td>\n",
              "      <td>0.0</td>\n",
              "      <td>0.0</td>\n",
              "      <td>2.0</td>\n",
              "    </tr>\n",
              "    <tr>\n",
              "      <th>14868</th>\n",
              "      <td>3234</td>\n",
              "      <td>49</td>\n",
              "      <td>195</td>\n",
              "      <td>DX5</td>\n",
              "      <td>53</td>\n",
              "      <td>17.580741</td>\n",
              "      <td>YES</td>\n",
              "      <td>RURAL</td>\n",
              "      <td>Stable</td>\n",
              "      <td>0.0</td>\n",
              "      <td>0.0</td>\n",
              "      <td>0.0</td>\n",
              "      <td>0.0</td>\n",
              "      <td>1.0</td>\n",
              "      <td>0.0</td>\n",
              "      <td>0.0</td>\n",
              "      <td>1.0</td>\n",
              "    </tr>\n",
              "    <tr>\n",
              "      <th>13249</th>\n",
              "      <td>15704</td>\n",
              "      <td>27</td>\n",
              "      <td>291</td>\n",
              "      <td>DX1 DX3</td>\n",
              "      <td>22</td>\n",
              "      <td>21.468654</td>\n",
              "      <td>NO</td>\n",
              "      <td>URBAN</td>\n",
              "      <td>Stable</td>\n",
              "      <td>1.0</td>\n",
              "      <td>1.0</td>\n",
              "      <td>0.0</td>\n",
              "      <td>0.0</td>\n",
              "      <td>0.0</td>\n",
              "      <td>0.0</td>\n",
              "      <td>0.0</td>\n",
              "      <td>2.0</td>\n",
              "    </tr>\n",
              "    <tr>\n",
              "      <th>8383</th>\n",
              "      <td>10661</td>\n",
              "      <td>24</td>\n",
              "      <td>5543</td>\n",
              "      <td>DX1 DX2 DX3</td>\n",
              "      <td>62</td>\n",
              "      <td>29.204603</td>\n",
              "      <td>NO</td>\n",
              "      <td>URBAN</td>\n",
              "      <td>Stable</td>\n",
              "      <td>NaN</td>\n",
              "      <td>NaN</td>\n",
              "      <td>NaN</td>\n",
              "      <td>NaN</td>\n",
              "      <td>NaN</td>\n",
              "      <td>NaN</td>\n",
              "      <td>NaN</td>\n",
              "      <td>NaN</td>\n",
              "    </tr>\n",
              "  </tbody>\n",
              "</table>\n",
              "</div>\n",
              "      <button class=\"colab-df-convert\" onclick=\"convertToInteractive('df-12fdd3b8-1cb0-4f7f-97d6-1a59e1da2faf')\"\n",
              "              title=\"Convert this dataframe to an interactive table.\"\n",
              "              style=\"display:none;\">\n",
              "        \n",
              "  <svg xmlns=\"http://www.w3.org/2000/svg\" height=\"24px\"viewBox=\"0 0 24 24\"\n",
              "       width=\"24px\">\n",
              "    <path d=\"M0 0h24v24H0V0z\" fill=\"none\"/>\n",
              "    <path d=\"M18.56 5.44l.94 2.06.94-2.06 2.06-.94-2.06-.94-.94-2.06-.94 2.06-2.06.94zm-11 1L8.5 8.5l.94-2.06 2.06-.94-2.06-.94L8.5 2.5l-.94 2.06-2.06.94zm10 10l.94 2.06.94-2.06 2.06-.94-2.06-.94-.94-2.06-.94 2.06-2.06.94z\"/><path d=\"M17.41 7.96l-1.37-1.37c-.4-.4-.92-.59-1.43-.59-.52 0-1.04.2-1.43.59L10.3 9.45l-7.72 7.72c-.78.78-.78 2.05 0 2.83L4 21.41c.39.39.9.59 1.41.59.51 0 1.02-.2 1.41-.59l7.78-7.78 2.81-2.81c.8-.78.8-2.07 0-2.86zM5.41 20L4 18.59l7.72-7.72 1.47 1.35L5.41 20z\"/>\n",
              "  </svg>\n",
              "      </button>\n",
              "      \n",
              "  <style>\n",
              "    .colab-df-container {\n",
              "      display:flex;\n",
              "      flex-wrap:wrap;\n",
              "      gap: 12px;\n",
              "    }\n",
              "\n",
              "    .colab-df-convert {\n",
              "      background-color: #E8F0FE;\n",
              "      border: none;\n",
              "      border-radius: 50%;\n",
              "      cursor: pointer;\n",
              "      display: none;\n",
              "      fill: #1967D2;\n",
              "      height: 32px;\n",
              "      padding: 0 0 0 0;\n",
              "      width: 32px;\n",
              "    }\n",
              "\n",
              "    .colab-df-convert:hover {\n",
              "      background-color: #E2EBFA;\n",
              "      box-shadow: 0px 1px 2px rgba(60, 64, 67, 0.3), 0px 1px 3px 1px rgba(60, 64, 67, 0.15);\n",
              "      fill: #174EA6;\n",
              "    }\n",
              "\n",
              "    [theme=dark] .colab-df-convert {\n",
              "      background-color: #3B4455;\n",
              "      fill: #D2E3FC;\n",
              "    }\n",
              "\n",
              "    [theme=dark] .colab-df-convert:hover {\n",
              "      background-color: #434B5C;\n",
              "      box-shadow: 0px 1px 3px 1px rgba(0, 0, 0, 0.15);\n",
              "      filter: drop-shadow(0px 1px 2px rgba(0, 0, 0, 0.3));\n",
              "      fill: #FFFFFF;\n",
              "    }\n",
              "  </style>\n",
              "\n",
              "      <script>\n",
              "        const buttonEl =\n",
              "          document.querySelector('#df-12fdd3b8-1cb0-4f7f-97d6-1a59e1da2faf button.colab-df-convert');\n",
              "        buttonEl.style.display =\n",
              "          google.colab.kernel.accessAllowed ? 'block' : 'none';\n",
              "\n",
              "        async function convertToInteractive(key) {\n",
              "          const element = document.querySelector('#df-12fdd3b8-1cb0-4f7f-97d6-1a59e1da2faf');\n",
              "          const dataTable =\n",
              "            await google.colab.kernel.invokeFunction('convertToInteractive',\n",
              "                                                     [key], {});\n",
              "          if (!dataTable) return;\n",
              "\n",
              "          const docLinkHtml = 'Like what you see? Visit the ' +\n",
              "            '<a target=\"_blank\" href=https://colab.research.google.com/notebooks/data_table.ipynb>data table notebook</a>'\n",
              "            + ' to learn more about interactive tables.';\n",
              "          element.innerHTML = '';\n",
              "          dataTable['output_type'] = 'display_data';\n",
              "          await google.colab.output.renderOutput(dataTable, element);\n",
              "          const docLink = document.createElement('div');\n",
              "          docLink.innerHTML = docLinkHtml;\n",
              "          element.appendChild(docLink);\n",
              "        }\n",
              "      </script>\n",
              "    </div>\n",
              "  </div>\n",
              "  "
            ]
          },
          "metadata": {},
          "execution_count": 8
        }
      ],
      "source": [
        "# Take a look at the first five observations\n",
        "X_train.head()"
      ]
    },
    {
      "cell_type": "code",
      "execution_count": null,
      "metadata": {
        "colab": {
          "base_uri": "https://localhost:8080/"
        },
        "id": "_rjqyn7U-aJ8",
        "outputId": "c0d5fd04-335f-478f-e3ba-c9653509b1a3"
      },
      "outputs": [
        {
          "output_type": "stream",
          "name": "stdout",
          "text": [
            "<class 'pandas.core.frame.DataFrame'>\n",
            "Int64Index: 18477 entries, 3955 to 13126\n",
            "Data columns (total 17 columns):\n",
            " #   Column                     Non-Null Count  Dtype  \n",
            "---  ------                     --------------  -----  \n",
            " 0   ID_Patient_Care_Situation  18477 non-null  int64  \n",
            " 1   Diagnosed_Condition        18477 non-null  int64  \n",
            " 2   Patient_ID                 18477 non-null  int64  \n",
            " 3   Treated_with_drugs         18465 non-null  object \n",
            " 4   Patient_Age                18477 non-null  int64  \n",
            " 5   Patient_Body_Mass_Index    18477 non-null  float64\n",
            " 6   Patient_Smoker             18477 non-null  object \n",
            " 7   Patient_Rural_Urban        18477 non-null  object \n",
            " 8   Patient_mental_condition   18477 non-null  object \n",
            " 9   A                          17482 non-null  float64\n",
            " 10  B                          17482 non-null  float64\n",
            " 11  C                          17482 non-null  float64\n",
            " 12  D                          17482 non-null  float64\n",
            " 13  E                          17482 non-null  float64\n",
            " 14  F                          17482 non-null  float64\n",
            " 15  Z                          17482 non-null  float64\n",
            " 16  Number_of_prev_cond        17482 non-null  float64\n",
            "dtypes: float64(9), int64(4), object(4)\n",
            "memory usage: 2.5+ MB\n"
          ]
        }
      ],
      "source": [
        "# A concise summary of the data\n",
        "X_train.info()"
      ]
    },
    {
      "cell_type": "markdown",
      "metadata": {
        "id": "O-LSBoRwBaGQ"
      },
      "source": [
        "**Observations:**\n",
        "\n",
        "1. There are 18477 observations divided into 17 columns.\n",
        "2. There are some missing values in the dataset.\n"
      ]
    },
    {
      "cell_type": "markdown",
      "metadata": {
        "id": "eWqUWJ5Mfi6K"
      },
      "source": [
        "Let's take a look at the distribution of our target variable to determine if we have a balanced dataset\n"
      ]
    },
    {
      "cell_type": "code",
      "execution_count": null,
      "metadata": {
        "colab": {
          "base_uri": "https://localhost:8080/",
          "height": 280
        },
        "id": "1y4UyfawflH8",
        "outputId": "1a6fa44e-973d-4332-ea7d-9cd6cfd1d2fc"
      },
      "outputs": [
        {
          "output_type": "display_data",
          "data": {
            "text/plain": [
              "<Figure size 432x288 with 1 Axes>"
            ],
            "image/png": "[encoded data removed]"
          },
          "metadata": {
            "needs_background": "light"
          }
        }
      ],
      "source": [
        "sns.countplot(y_train)\n",
        "plt.show()"
      ]
    },
    {
      "cell_type": "markdown",
      "metadata": {
        "id": "Onqv3ONRB5M2"
      },
      "source": [
        "There are 6000 + patients who did not survive after 1 year of treatment and almost 12000 patients who survived after 1 year of treatment. The ratio is 1:2 (approx). We can go ahead without class imbalance treatment as the difference is not highly imbalanced such as 1:10. However, feel free to experiment and see if class imbalance really helps or not."
      ]
    },
    {
      "cell_type": "markdown",
      "metadata": {
        "id": "AaVFSXCxlk1O"
      },
      "source": [
        "\n",
        "**Box Plot**\n",
        "\n",
        "A box plot is a great way to get a visual sense of an entire range of data. It can tell you about your outliers and what their values are. It can also tell you if your data is symmetrical, how tightly your data is grouped, and if and how your data is skewed.\n",
        "\n",
        "Box plots divides data into its quartiles. The “box” shows a user the data set between the first and third quartiles.\n",
        "\n",
        "The median gets drawn somewhere inside the box and then you see the most extreme non-outliers to finish the plot. Those lines are known as the “whiskers”. If there are any outliers then those can be plotted as well.\n",
        "\n",
        "With box plots you can answer how diverse or uniform your data might be. You can identify what is normal and what is extreme. Box plots help give a shape to your data that is broad without sacrificing the ability to look at any piece and ask more questions.\n",
        "\n",
        "It displays the five-number summary of a set of data. The five-number summary is:\n",
        "\n",
        "*  minimum\n",
        "*  first quartile (Q1)\n",
        "*  median\n",
        "*  third quartile (Q3)\n",
        "*  maximum\n",
        "\n",
        "Boxplot also helps you to check if there are any outliers in your data or not.\n",
        "\n",
        "For reading about boxplot and outliers: https://towardsdatascience.com/ways-to-detect-and-remove-the-outliers-404d16608dba\n",
        "\n",
        "Read more about Box Plots [here](https://towardsdatascience.com/understanding-boxplots-5e2df7bcbd51)."
      ]
    },
    {
      "cell_type": "code",
      "execution_count": null,
      "metadata": {
        "colab": {
          "base_uri": "https://localhost:8080/",
          "height": 1000
        },
        "id": "xrZudljNbuu8",
        "outputId": "cd9efab6-9dac-414a-e1f3-9d2aa0d2767f"
      },
      "outputs": [
        {
          "output_type": "display_data",
          "data": {
            "text/plain": [
              "<Figure size 432x288 with 1 Axes>"
            ],
            "image/png": "[encoded data removed]"
          },
          "metadata": {
            "needs_background": "light"
          }
        },
        {
          "output_type": "display_data",
          "data": {
            "text/plain": [
              "<Figure size 432x288 with 1 Axes>"
            ],
            "image/png": "[encoded data removed]"
          },
          "metadata": {
            "needs_background": "light"
          }
        },
        {
          "output_type": "display_data",
          "data": {
            "text/plain": [
              "<Figure size 432x288 with 1 Axes>"
            ],
            "image/png": "[encoded data removed]"
          },
          "metadata": {
            "needs_background": "light"
          }
        },
        {
          "output_type": "display_data",
          "data": {
            "text/plain": [
              "<Figure size 432x288 with 1 Axes>"
            ],
            "image/png": "[encoded data removed]"
          },
          "metadata": {
            "needs_background": "light"
          }
        }
      ],
      "source": [
        "numeric_data=X_train[['Diagnosed_Condition', 'Patient_Age', 'Patient_Body_Mass_Index', 'Number_of_prev_cond']]\n",
        "for feature in numeric_data.columns:\n",
        "  sns.boxplot(x=y_train, y=feature, data=numeric_data)\n",
        "  plt.show()"
      ]
    },
    {
      "cell_type": "markdown",
      "metadata": {
        "id": "EFCq9b3zWqtc"
      },
      "source": [
        "We can also see there are some outliers in the columns - 'Patient_Age', 'Patient_Body_Mass_Index', and 'Number_of_prev_cond'. There are various ways to treat the outliers as mentioned in the article https://towardsdatascience.com/ways-to-detect-and-remove-the-outliers-404d16608dba. Here I have not treated any outliers."
      ]
    },
    {
      "cell_type": "markdown",
      "metadata": {
        "id": "FqtEERmLFdIA"
      },
      "source": [
        " **Exercise:** Treat outliers and see if it improves the performance."
      ]
    },
    {
      "cell_type": "markdown",
      "metadata": {
        "id": "Fq-64ZQUi1X_"
      },
      "source": [
        "Following is a correlation analysis between the continuous varibles, visualized using a heatmap"
      ]
    },
    {
      "cell_type": "code",
      "execution_count": null,
      "metadata": {
        "colab": {
          "base_uri": "https://localhost:8080/",
          "height": 387
        },
        "id": "OWjQ7ODAi-XK",
        "outputId": "812e7959-a098-4b85-de66-bdb90e7943e2"
      },
      "outputs": [
        {
          "output_type": "display_data",
          "data": {
            "text/plain": [
              "<Figure size 432x288 with 2 Axes>"
            ],
            "image/png": "[encoded data removed]"
          },
          "metadata": {
            "needs_background": "light"
          }
        }
      ],
      "source": [
        "colormap = sns.diverging_palette(10, 220, as_cmap = True)\n",
        "sns.heatmap(numeric_data.corr(),\n",
        "            cmap = colormap,\n",
        "            square = True,\n",
        "            annot = True)\n",
        "plt.show()"
      ]
    },
    {
      "cell_type": "markdown",
      "metadata": {
        "id": "8wi8907HluMs"
      },
      "source": [
        "Finally, we must look at the EDA for our categorical variables. However, before analyzing the categorical columns further, we will treat the missing values"
      ]
    },
    {
      "cell_type": "code",
      "execution_count": null,
      "metadata": {
        "colab": {
          "base_uri": "https://localhost:8080/"
        },
        "id": "0Uns84y5m-C6",
        "outputId": "a314ac72-3314-40ed-b92c-dcc4161d5b8a"
      },
      "outputs": [
        {
          "output_type": "execute_result",
          "data": {
            "text/plain": [
              "ID_Patient_Care_Situation      0\n",
              "Diagnosed_Condition            0\n",
              "Patient_ID                     0\n",
              "Treated_with_drugs            12\n",
              "Patient_Age                    0\n",
              "Patient_Body_Mass_Index        0\n",
              "Patient_Smoker                 0\n",
              "Patient_Rural_Urban            0\n",
              "Patient_mental_condition       0\n",
              "A                            995\n",
              "B                            995\n",
              "C                            995\n",
              "D                            995\n",
              "E                            995\n",
              "F                            995\n",
              "Z                            995\n",
              "Number_of_prev_cond          995\n",
              "dtype: int64"
            ]
          },
          "metadata": {},
          "execution_count": 13
        }
      ],
      "source": [
        "X_train.isnull().sum()"
      ]
    },
    {
      "cell_type": "markdown",
      "metadata": {
        "id": "_iznb1EykjSM"
      },
      "source": [
        "#### *Filling Missing values*"
      ]
    },
    {
      "cell_type": "code",
      "execution_count": null,
      "metadata": {
        "id": "3sSADyLmQJAB"
      },
      "outputs": [],
      "source": [
        "X_train['Treated_with_drugs']=X_train['Treated_with_drugs'].fillna(X_train['Treated_with_drugs'].mode()[0])"
      ]
    },
    {
      "cell_type": "code",
      "execution_count": null,
      "metadata": {
        "id": "NbC3Pr2JoFsO"
      },
      "outputs": [],
      "source": [
        "X_train['A'].fillna(X_train['A'].mode()[0], inplace = True)\n",
        "X_train['B'].fillna(X_train['B'].mode()[0], inplace = True)\n",
        "X_train['C'].fillna(X_train['C'].mode()[0], inplace = True)\n",
        "X_train['D'].fillna(X_train['D'].mode()[0], inplace = True)\n",
        "X_train['E'].fillna(X_train['E'].mode()[0], inplace = True)\n",
        "X_train['F'].fillna(X_train['F'].mode()[0], inplace = True)\n",
        "X_train['Z'].fillna(X_train['Z'].mode()[0], inplace = True)"
      ]
    },
    {
      "cell_type": "code",
      "execution_count": null,
      "metadata": {
        "colab": {
          "base_uri": "https://localhost:8080/"
        },
        "id": "C2pLdMmQoIoQ",
        "outputId": "613eb75a-40bb-44ac-d1a4-9fb20f1b12e1"
      },
      "outputs": [
        {
          "output_type": "execute_result",
          "data": {
            "text/plain": [
              "ID_Patient_Care_Situation      0\n",
              "Diagnosed_Condition            0\n",
              "Patient_ID                     0\n",
              "Treated_with_drugs             0\n",
              "Patient_Age                    0\n",
              "Patient_Body_Mass_Index        0\n",
              "Patient_Smoker                 0\n",
              "Patient_Rural_Urban            0\n",
              "Patient_mental_condition       0\n",
              "A                              0\n",
              "B                              0\n",
              "C                              0\n",
              "D                              0\n",
              "E                              0\n",
              "F                              0\n",
              "Z                              0\n",
              "Number_of_prev_cond          995\n",
              "dtype: int64"
            ]
          },
          "metadata": {},
          "execution_count": 16
        }
      ],
      "source": [
        "X_train.isnull().sum()"
      ]
    },
    {
      "cell_type": "markdown",
      "metadata": {
        "id": "XB5Wk7X9aFnk"
      },
      "source": [
        "We can see that 995 values are missing from 'Number_of_prev_cond' column. We will fill these with the mode. \n",
        "\n",
        "**Why mode?** As per the data description this column's value is dependent on the seven columns - 'A', 'B', 'C', 'D', 'E', 'F', 'Z'. \n",
        "\n",
        "These columns have values either 0 or 1. Hence these seven columns are categorical columns. \n",
        "\n",
        "So the column 'Number_of_prev_cond' have discrete values from integers 0 to 7 and can be considered as categorical column as it has only 7 different values. Hence here we can fill the missing values with mode.\n",
        "\n",
        "\n",
        "Idea way is to just sum up the values of A, B, C, D, E, F, Z"
      ]
    },
    {
      "cell_type": "code",
      "execution_count": null,
      "metadata": {
        "id": "ZmaoC8O2Z_kV"
      },
      "outputs": [],
      "source": [
        "X_train['Number_of_prev_cond'] = X_train['Number_of_prev_cond'].fillna(X_train['Number_of_prev_cond'].mode()[0])  # filling the missing value of 'Number_of_prev_cond'\n"
      ]
    },
    {
      "cell_type": "code",
      "execution_count": null,
      "metadata": {
        "colab": {
          "base_uri": "https://localhost:8080/"
        },
        "id": "5Ab_lZ1KH25t",
        "outputId": "9b08240d-221a-41d0-8d19-4e3ac5ec4610"
      },
      "outputs": [
        {
          "output_type": "execute_result",
          "data": {
            "text/plain": [
              "ID_Patient_Care_Situation    0\n",
              "Diagnosed_Condition          0\n",
              "Patient_ID                   0\n",
              "Treated_with_drugs           0\n",
              "Patient_Age                  0\n",
              "Patient_Body_Mass_Index      0\n",
              "Patient_Smoker               0\n",
              "Patient_Rural_Urban          0\n",
              "Patient_mental_condition     0\n",
              "A                            0\n",
              "B                            0\n",
              "C                            0\n",
              "D                            0\n",
              "E                            0\n",
              "F                            0\n",
              "Z                            0\n",
              "Number_of_prev_cond          0\n",
              "dtype: int64"
            ]
          },
          "metadata": {},
          "execution_count": 18
        }
      ],
      "source": [
        "X_train.isnull().sum()"
      ]
    },
    {
      "cell_type": "markdown",
      "metadata": {
        "id": "2fCCZFH2SkLU"
      },
      "source": [
        "### Let's look at Categorical Data\n",
        "Let's perform Exploratory Data Analysis on the Categorical data.\n",
        "In the categorical_data variable we'll keep all the categorical features and remove the others.\n",
        "\n",
        "Note that the features are not being removed from the main dataset - data. We'll select features with a feature selection technique later."
      ]
    },
    {
      "cell_type": "markdown",
      "metadata": {
        "id": "6_RrcbEWpQyj"
      },
      "source": [
        "Now we can look at the distributions of our categorical variables"
      ]
    },
    {
      "cell_type": "code",
      "execution_count": null,
      "metadata": {
        "colab": {
          "base_uri": "https://localhost:8080/"
        },
        "id": "46Nwpqs8rPX-",
        "outputId": "e7d0bb1f-3980-497f-a437-42916c4f43e7"
      },
      "outputs": [
        {
          "output_type": "execute_result",
          "data": {
            "text/plain": [
              "ID_Patient_Care_Situation    23097\n",
              "Patient_ID                   10570\n",
              "Treated_with_drugs              32\n",
              "Patient_Smoker                   3\n",
              "Patient_Rural_Urban              2\n",
              "Patient_mental_condition         1\n",
              "A                                2\n",
              "B                                2\n",
              "C                                2\n",
              "D                                2\n",
              "E                                2\n",
              "F                                2\n",
              "Z                                2\n",
              "Survived_1_year                  2\n",
              "dtype: int64"
            ]
          },
          "metadata": {},
          "execution_count": 19
        }
      ],
      "source": [
        "categorical_data = data.drop(numeric_data.columns, axis=1)    # dropping the numerical columns from the dataframe 'data'\n",
        "categorical_data.nunique()   # nunique() return you the number of unique values in each column/feature"
      ]
    },
    {
      "cell_type": "code",
      "execution_count": null,
      "metadata": {
        "colab": {
          "base_uri": "https://localhost:8080/"
        },
        "id": "yYsrWMhVRxCO",
        "outputId": "5159d077-6e18-4890-9b6c-6dafdd751fec"
      },
      "outputs": [
        {
          "output_type": "execute_result",
          "data": {
            "text/plain": [
              "DX6                     6861\n",
              "DX5                     1551\n",
              "DX2                     1545\n",
              "DX3                     1485\n",
              "DX1                     1465\n",
              "DX4                     1413\n",
              "DX1 DX2                  353\n",
              "DX1 DX3                  347\n",
              "DX3 DX4                  345\n",
              "DX4 DX5                  339\n",
              "DX3 DX5                  339\n",
              "DX1 DX5                  331\n",
              "DX2 DX4                  330\n",
              "DX1 DX4                  330\n",
              "DX2 DX5                  311\n",
              "DX2 DX3                  301\n",
              "DX1 DX3 DX5               81\n",
              "DX3 DX4 DX5               81\n",
              "DX1 DX2 DX5               81\n",
              "DX1 DX2 DX4               78\n",
              "DX1 DX2 DX3               77\n",
              "DX2 DX3 DX5               76\n",
              "DX1 DX3 DX4               76\n",
              "DX2 DX3 DX4               69\n",
              "DX1 DX4 DX5               64\n",
              "DX2 DX4 DX5               64\n",
              "DX1 DX3 DX4 DX5           19\n",
              "DX1 DX2 DX3 DX4           19\n",
              "DX2 DX3 DX4 DX5           18\n",
              "DX1 DX2 DX4 DX5           13\n",
              "DX1 DX2 DX3 DX5           12\n",
              "DX1 DX2 DX3 DX4 DX5        3\n",
              "Name: Treated_with_drugs, dtype: int64"
            ]
          },
          "metadata": {},
          "execution_count": 20
        }
      ],
      "source": [
        "X_train.Treated_with_drugs.value_counts()"
      ]
    },
    {
      "cell_type": "markdown",
      "metadata": {
        "id": "QK98olKTKlgW"
      },
      "source": [
        "So 'Treated_with_drugs' column has 32 unique values while 'Patient_Smoker' has only 3 categorical values. 'Patient_mental_condition' column has only 1 categorical value."
      ]
    },
    {
      "cell_type": "markdown",
      "metadata": {
        "id": "1ZujwFc9s6Ll"
      },
      "source": [
        "#### **Pre-Processing and Data Cleaning of Categorical Variables**\n"
      ]
    },
    {
      "cell_type": "markdown",
      "metadata": {
        "id": "d5kW3AifaV2w"
      },
      "source": [
        "We have discussed in our sessions that machine learning models accepts only numerical data. 'Treated_with_drugs' column is a categorical column and has values as combination of one or more drugs. Let's split all those combined drugs into individual drugs and create dummies for that."
      ]
    },
    {
      "cell_type": "code",
      "execution_count": null,
      "metadata": {
        "colab": {
          "base_uri": "https://localhost:8080/",
          "height": 206
        },
        "id": "vkpoKTeRb_jf",
        "outputId": "6e989738-010b-4dae-99d9-76449a6681e6"
      },
      "outputs": [
        {
          "output_type": "execute_result",
          "data": {
            "text/plain": [
              "       DX1  DX2  DX3  DX4  DX5  DX6\n",
              "3955     0    0    0    0    0    1\n",
              "13205    0    0    0    0    0    1\n",
              "14868    0    0    0    0    1    0\n",
              "13249    1    0    1    0    0    0\n",
              "8383     1    1    1    0    0    0"
            ],
            "text/html": [
              "\n",
              "  <div id=\"df-7a1f0f79-70ba-4a9b-9f02-e0d9776326f7\">\n",
              "    <div class=\"colab-df-container\">\n",
              "      <div>\n",
              "<style scoped>\n",
              "    .dataframe tbody tr th:only-of-type {\n",
              "        vertical-align: middle;\n",
              "    }\n",
              "\n",
              "    .dataframe tbody tr th {\n",
              "        vertical-align: top;\n",
              "    }\n",
              "\n",
              "    .dataframe thead th {\n",
              "        text-align: right;\n",
              "    }\n",
              "</style>\n",
              "<table border=\"1\" class=\"dataframe\">\n",
              "  <thead>\n",
              "    <tr style=\"text-align: right;\">\n",
              "      <th></th>\n",
              "      <th>DX1</th>\n",
              "      <th>DX2</th>\n",
              "      <th>DX3</th>\n",
              "      <th>DX4</th>\n",
              "      <th>DX5</th>\n",
              "      <th>DX6</th>\n",
              "    </tr>\n",
              "  </thead>\n",
              "  <tbody>\n",
              "    <tr>\n",
              "      <th>3955</th>\n",
              "      <td>0</td>\n",
              "      <td>0</td>\n",
              "      <td>0</td>\n",
              "      <td>0</td>\n",
              "      <td>0</td>\n",
              "      <td>1</td>\n",
              "    </tr>\n",
              "    <tr>\n",
              "      <th>13205</th>\n",
              "      <td>0</td>\n",
              "      <td>0</td>\n",
              "      <td>0</td>\n",
              "      <td>0</td>\n",
              "      <td>0</td>\n",
              "      <td>1</td>\n",
              "    </tr>\n",
              "    <tr>\n",
              "      <th>14868</th>\n",
              "      <td>0</td>\n",
              "      <td>0</td>\n",
              "      <td>0</td>\n",
              "      <td>0</td>\n",
              "      <td>1</td>\n",
              "      <td>0</td>\n",
              "    </tr>\n",
              "    <tr>\n",
              "      <th>13249</th>\n",
              "      <td>1</td>\n",
              "      <td>0</td>\n",
              "      <td>1</td>\n",
              "      <td>0</td>\n",
              "      <td>0</td>\n",
              "      <td>0</td>\n",
              "    </tr>\n",
              "    <tr>\n",
              "      <th>8383</th>\n",
              "      <td>1</td>\n",
              "      <td>1</td>\n",
              "      <td>1</td>\n",
              "      <td>0</td>\n",
              "      <td>0</td>\n",
              "      <td>0</td>\n",
              "    </tr>\n",
              "  </tbody>\n",
              "</table>\n",
              "</div>\n",
              "      <button class=\"colab-df-convert\" onclick=\"convertToInteractive('df-7a1f0f79-70ba-4a9b-9f02-e0d9776326f7')\"\n",
              "              title=\"Convert this dataframe to an interactive table.\"\n",
              "              style=\"display:none;\">\n",
              "        \n",
              "  <svg xmlns=\"http://www.w3.org/2000/svg\" height=\"24px\"viewBox=\"0 0 24 24\"\n",
              "       width=\"24px\">\n",
              "    <path d=\"M0 0h24v24H0V0z\" fill=\"none\"/>\n",
              "    <path d=\"M18.56 5.44l.94 2.06.94-2.06 2.06-.94-2.06-.94-.94-2.06-.94 2.06-2.06.94zm-11 1L8.5 8.5l.94-2.06 2.06-.94-2.06-.94L8.5 2.5l-.94 2.06-2.06.94zm10 10l.94 2.06.94-2.06 2.06-.94-2.06-.94-.94-2.06-.94 2.06-2.06.94z\"/><path d=\"M17.41 7.96l-1.37-1.37c-.4-.4-.92-.59-1.43-.59-.52 0-1.04.2-1.43.59L10.3 9.45l-7.72 7.72c-.78.78-.78 2.05 0 2.83L4 21.41c.39.39.9.59 1.41.59.51 0 1.02-.2 1.41-.59l7.78-7.78 2.81-2.81c.8-.78.8-2.07 0-2.86zM5.41 20L4 18.59l7.72-7.72 1.47 1.35L5.41 20z\"/>\n",
              "  </svg>\n",
              "      </button>\n",
              "      \n",
              "  <style>\n",
              "    .colab-df-container {\n",
              "      display:flex;\n",
              "      flex-wrap:wrap;\n",
              "      gap: 12px;\n",
              "    }\n",
              "\n",
              "    .colab-df-convert {\n",
              "      background-color: #E8F0FE;\n",
              "      border: none;\n",
              "      border-radius: 50%;\n",
              "      cursor: pointer;\n",
              "      display: none;\n",
              "      fill: #1967D2;\n",
              "      height: 32px;\n",
              "      padding: 0 0 0 0;\n",
              "      width: 32px;\n",
              "    }\n",
              "\n",
              "    .colab-df-convert:hover {\n",
              "      background-color: #E2EBFA;\n",
              "      box-shadow: 0px 1px 2px rgba(60, 64, 67, 0.3), 0px 1px 3px 1px rgba(60, 64, 67, 0.15);\n",
              "      fill: #174EA6;\n",
              "    }\n",
              "\n",
              "    [theme=dark] .colab-df-convert {\n",
              "      background-color: #3B4455;\n",
              "      fill: #D2E3FC;\n",
              "    }\n",
              "\n",
              "    [theme=dark] .colab-df-convert:hover {\n",
              "      background-color: #434B5C;\n",
              "      box-shadow: 0px 1px 3px 1px rgba(0, 0, 0, 0.15);\n",
              "      filter: drop-shadow(0px 1px 2px rgba(0, 0, 0, 0.3));\n",
              "      fill: #FFFFFF;\n",
              "    }\n",
              "  </style>\n",
              "\n",
              "      <script>\n",
              "        const buttonEl =\n",
              "          document.querySelector('#df-7a1f0f79-70ba-4a9b-9f02-e0d9776326f7 button.colab-df-convert');\n",
              "        buttonEl.style.display =\n",
              "          google.colab.kernel.accessAllowed ? 'block' : 'none';\n",
              "\n",
              "        async function convertToInteractive(key) {\n",
              "          const element = document.querySelector('#df-7a1f0f79-70ba-4a9b-9f02-e0d9776326f7');\n",
              "          const dataTable =\n",
              "            await google.colab.kernel.invokeFunction('convertToInteractive',\n",
              "                                                     [key], {});\n",
              "          if (!dataTable) return;\n",
              "\n",
              "          const docLinkHtml = 'Like what you see? Visit the ' +\n",
              "            '<a target=\"_blank\" href=https://colab.research.google.com/notebooks/data_table.ipynb>data table notebook</a>'\n",
              "            + ' to learn more about interactive tables.';\n",
              "          element.innerHTML = '';\n",
              "          dataTable['output_type'] = 'display_data';\n",
              "          await google.colab.output.renderOutput(dataTable, element);\n",
              "          const docLink = document.createElement('div');\n",
              "          docLink.innerHTML = docLinkHtml;\n",
              "          element.appendChild(docLink);\n",
              "        }\n",
              "      </script>\n",
              "    </div>\n",
              "  </div>\n",
              "  "
            ]
          },
          "metadata": {},
          "execution_count": 21
        }
      ],
      "source": [
        "drugs = X_train['Treated_with_drugs'].str.get_dummies(sep=' ') # split all the entries separated by space and create dummy variable\n",
        "drugs.head()"
      ]
    },
    {
      "cell_type": "code",
      "execution_count": null,
      "metadata": {
        "colab": {
          "base_uri": "https://localhost:8080/",
          "height": 299
        },
        "id": "Fl4oDOGVbYRw",
        "outputId": "1f0a998c-bb96-4fa4-fb04-32deb8aef618"
      },
      "outputs": [
        {
          "output_type": "execute_result",
          "data": {
            "text/plain": [
              "       ID_Patient_Care_Situation  Diagnosed_Condition  Patient_ID  \\\n",
              "3955                       30300                   10        4842   \n",
              "13205                       2888                   44        1024   \n",
              "14868                       3234                   49         195   \n",
              "13249                      15704                   27         291   \n",
              "8383                       10661                   24        5543   \n",
              "\n",
              "       Patient_Age  Patient_Body_Mass_Index Patient_Smoker  \\\n",
              "3955            37                22.673581            YES   \n",
              "13205           11                29.883019             NO   \n",
              "14868           53                17.580741            YES   \n",
              "13249           22                21.468654             NO   \n",
              "8383            62                29.204603             NO   \n",
              "\n",
              "      Patient_Rural_Urban Patient_mental_condition    A    B  ...    E    F  \\\n",
              "3955                RURAL                   Stable  1.0  0.0  ...  0.0  0.0   \n",
              "13205               URBAN                   Stable  1.0  0.0  ...  1.0  0.0   \n",
              "14868               RURAL                   Stable  0.0  0.0  ...  1.0  0.0   \n",
              "13249               URBAN                   Stable  1.0  1.0  ...  0.0  0.0   \n",
              "8383                URBAN                   Stable  1.0  0.0  ...  0.0  0.0   \n",
              "\n",
              "         Z  Number_of_prev_cond  DX1  DX2  DX3  DX4  DX5  DX6  \n",
              "3955   0.0                  1.0    0    0    0    0    0    1  \n",
              "13205  0.0                  2.0    0    0    0    0    0    1  \n",
              "14868  0.0                  1.0    0    0    0    0    1    0  \n",
              "13249  0.0                  2.0    1    0    1    0    0    0  \n",
              "8383   0.0                  1.0    1    1    1    0    0    0  \n",
              "\n",
              "[5 rows x 22 columns]"
            ],
            "text/html": [
              "\n",
              "  <div id=\"df-80710a1a-4ab2-4e58-9381-ae28f054dc0c\">\n",
              "    <div class=\"colab-df-container\">\n",
              "      <div>\n",
              "<style scoped>\n",
              "    .dataframe tbody tr th:only-of-type {\n",
              "        vertical-align: middle;\n",
              "    }\n",
              "\n",
              "    .dataframe tbody tr th {\n",
              "        vertical-align: top;\n",
              "    }\n",
              "\n",
              "    .dataframe thead th {\n",
              "        text-align: right;\n",
              "    }\n",
              "</style>\n",
              "<table border=\"1\" class=\"dataframe\">\n",
              "  <thead>\n",
              "    <tr style=\"text-align: right;\">\n",
              "      <th></th>\n",
              "      <th>ID_Patient_Care_Situation</th>\n",
              "      <th>Diagnosed_Condition</th>\n",
              "      <th>Patient_ID</th>\n",
              "      <th>Patient_Age</th>\n",
              "      <th>Patient_Body_Mass_Index</th>\n",
              "      <th>Patient_Smoker</th>\n",
              "      <th>Patient_Rural_Urban</th>\n",
              "      <th>Patient_mental_condition</th>\n",
              "      <th>A</th>\n",
              "      <th>B</th>\n",
              "      <th>...</th>\n",
              "      <th>E</th>\n",
              "      <th>F</th>\n",
              "      <th>Z</th>\n",
              "      <th>Number_of_prev_cond</th>\n",
              "      <th>DX1</th>\n",
              "      <th>DX2</th>\n",
              "      <th>DX3</th>\n",
              "      <th>DX4</th>\n",
              "      <th>DX5</th>\n",
              "      <th>DX6</th>\n",
              "    </tr>\n",
              "  </thead>\n",
              "  <tbody>\n",
              "    <tr>\n",
              "      <th>3955</th>\n",
              "      <td>30300</td>\n",
              "      <td>10</td>\n",
              "      <td>4842</td>\n",
              "      <td>37</td>\n",
              "      <td>22.673581</td>\n",
              "      <td>YES</td>\n",
              "      <td>RURAL</td>\n",
              "      <td>Stable</td>\n",
              "      <td>1.0</td>\n",
              "      <td>0.0</td>\n",
              "      <td>...</td>\n",
              "      <td>0.0</td>\n",
              "      <td>0.0</td>\n",
              "      <td>0.0</td>\n",
              "      <td>1.0</td>\n",
              "      <td>0</td>\n",
              "      <td>0</td>\n",
              "      <td>0</td>\n",
              "      <td>0</td>\n",
              "      <td>0</td>\n",
              "      <td>1</td>\n",
              "    </tr>\n",
              "    <tr>\n",
              "      <th>13205</th>\n",
              "      <td>2888</td>\n",
              "      <td>44</td>\n",
              "      <td>1024</td>\n",
              "      <td>11</td>\n",
              "      <td>29.883019</td>\n",
              "      <td>NO</td>\n",
              "      <td>URBAN</td>\n",
              "      <td>Stable</td>\n",
              "      <td>1.0</td>\n",
              "      <td>0.0</td>\n",
              "      <td>...</td>\n",
              "      <td>1.0</td>\n",
              "      <td>0.0</td>\n",
              "      <td>0.0</td>\n",
              "      <td>2.0</td>\n",
              "      <td>0</td>\n",
              "      <td>0</td>\n",
              "      <td>0</td>\n",
              "      <td>0</td>\n",
              "      <td>0</td>\n",
              "      <td>1</td>\n",
              "    </tr>\n",
              "    <tr>\n",
              "      <th>14868</th>\n",
              "      <td>3234</td>\n",
              "      <td>49</td>\n",
              "      <td>195</td>\n",
              "      <td>53</td>\n",
              "      <td>17.580741</td>\n",
              "      <td>YES</td>\n",
              "      <td>RURAL</td>\n",
              "      <td>Stable</td>\n",
              "      <td>0.0</td>\n",
              "      <td>0.0</td>\n",
              "      <td>...</td>\n",
              "      <td>1.0</td>\n",
              "      <td>0.0</td>\n",
              "      <td>0.0</td>\n",
              "      <td>1.0</td>\n",
              "      <td>0</td>\n",
              "      <td>0</td>\n",
              "      <td>0</td>\n",
              "      <td>0</td>\n",
              "      <td>1</td>\n",
              "      <td>0</td>\n",
              "    </tr>\n",
              "    <tr>\n",
              "      <th>13249</th>\n",
              "      <td>15704</td>\n",
              "      <td>27</td>\n",
              "      <td>291</td>\n",
              "      <td>22</td>\n",
              "      <td>21.468654</td>\n",
              "      <td>NO</td>\n",
              "      <td>URBAN</td>\n",
              "      <td>Stable</td>\n",
              "      <td>1.0</td>\n",
              "      <td>1.0</td>\n",
              "      <td>...</td>\n",
              "      <td>0.0</td>\n",
              "      <td>0.0</td>\n",
              "      <td>0.0</td>\n",
              "      <td>2.0</td>\n",
              "      <td>1</td>\n",
              "      <td>0</td>\n",
              "      <td>1</td>\n",
              "      <td>0</td>\n",
              "      <td>0</td>\n",
              "      <td>0</td>\n",
              "    </tr>\n",
              "    <tr>\n",
              "      <th>8383</th>\n",
              "      <td>10661</td>\n",
              "      <td>24</td>\n",
              "      <td>5543</td>\n",
              "      <td>62</td>\n",
              "      <td>29.204603</td>\n",
              "      <td>NO</td>\n",
              "      <td>URBAN</td>\n",
              "      <td>Stable</td>\n",
              "      <td>1.0</td>\n",
              "      <td>0.0</td>\n",
              "      <td>...</td>\n",
              "      <td>0.0</td>\n",
              "      <td>0.0</td>\n",
              "      <td>0.0</td>\n",
              "      <td>1.0</td>\n",
              "      <td>1</td>\n",
              "      <td>1</td>\n",
              "      <td>1</td>\n",
              "      <td>0</td>\n",
              "      <td>0</td>\n",
              "      <td>0</td>\n",
              "    </tr>\n",
              "  </tbody>\n",
              "</table>\n",
              "<p>5 rows × 22 columns</p>\n",
              "</div>\n",
              "      <button class=\"colab-df-convert\" onclick=\"convertToInteractive('df-80710a1a-4ab2-4e58-9381-ae28f054dc0c')\"\n",
              "              title=\"Convert this dataframe to an interactive table.\"\n",
              "              style=\"display:none;\">\n",
              "        \n",
              "  <svg xmlns=\"http://www.w3.org/2000/svg\" height=\"24px\"viewBox=\"0 0 24 24\"\n",
              "       width=\"24px\">\n",
              "    <path d=\"M0 0h24v24H0V0z\" fill=\"none\"/>\n",
              "    <path d=\"M18.56 5.44l.94 2.06.94-2.06 2.06-.94-2.06-.94-.94-2.06-.94 2.06-2.06.94zm-11 1L8.5 8.5l.94-2.06 2.06-.94-2.06-.94L8.5 2.5l-.94 2.06-2.06.94zm10 10l.94 2.06.94-2.06 2.06-.94-2.06-.94-.94-2.06-.94 2.06-2.06.94z\"/><path d=\"M17.41 7.96l-1.37-1.37c-.4-.4-.92-.59-1.43-.59-.52 0-1.04.2-1.43.59L10.3 9.45l-7.72 7.72c-.78.78-.78 2.05 0 2.83L4 21.41c.39.39.9.59 1.41.59.51 0 1.02-.2 1.41-.59l7.78-7.78 2.81-2.81c.8-.78.8-2.07 0-2.86zM5.41 20L4 18.59l7.72-7.72 1.47 1.35L5.41 20z\"/>\n",
              "  </svg>\n",
              "      </button>\n",
              "      \n",
              "  <style>\n",
              "    .colab-df-container {\n",
              "      display:flex;\n",
              "      flex-wrap:wrap;\n",
              "      gap: 12px;\n",
              "    }\n",
              "\n",
              "    .colab-df-convert {\n",
              "      background-color: #E8F0FE;\n",
              "      border: none;\n",
              "      border-radius: 50%;\n",
              "      cursor: pointer;\n",
              "      display: none;\n",
              "      fill: #1967D2;\n",
              "      height: 32px;\n",
              "      padding: 0 0 0 0;\n",
              "      width: 32px;\n",
              "    }\n",
              "\n",
              "    .colab-df-convert:hover {\n",
              "      background-color: #E2EBFA;\n",
              "      box-shadow: 0px 1px 2px rgba(60, 64, 67, 0.3), 0px 1px 3px 1px rgba(60, 64, 67, 0.15);\n",
              "      fill: #174EA6;\n",
              "    }\n",
              "\n",
              "    [theme=dark] .colab-df-convert {\n",
              "      background-color: #3B4455;\n",
              "      fill: #D2E3FC;\n",
              "    }\n",
              "\n",
              "    [theme=dark] .colab-df-convert:hover {\n",
              "      background-color: #434B5C;\n",
              "      box-shadow: 0px 1px 3px 1px rgba(0, 0, 0, 0.15);\n",
              "      filter: drop-shadow(0px 1px 2px rgba(0, 0, 0, 0.3));\n",
              "      fill: #FFFFFF;\n",
              "    }\n",
              "  </style>\n",
              "\n",
              "      <script>\n",
              "        const buttonEl =\n",
              "          document.querySelector('#df-80710a1a-4ab2-4e58-9381-ae28f054dc0c button.colab-df-convert');\n",
              "        buttonEl.style.display =\n",
              "          google.colab.kernel.accessAllowed ? 'block' : 'none';\n",
              "\n",
              "        async function convertToInteractive(key) {\n",
              "          const element = document.querySelector('#df-80710a1a-4ab2-4e58-9381-ae28f054dc0c');\n",
              "          const dataTable =\n",
              "            await google.colab.kernel.invokeFunction('convertToInteractive',\n",
              "                                                     [key], {});\n",
              "          if (!dataTable) return;\n",
              "\n",
              "          const docLinkHtml = 'Like what you see? Visit the ' +\n",
              "            '<a target=\"_blank\" href=https://colab.research.google.com/notebooks/data_table.ipynb>data table notebook</a>'\n",
              "            + ' to learn more about interactive tables.';\n",
              "          element.innerHTML = '';\n",
              "          dataTable['output_type'] = 'display_data';\n",
              "          await google.colab.output.renderOutput(dataTable, element);\n",
              "          const docLink = document.createElement('div');\n",
              "          docLink.innerHTML = docLinkHtml;\n",
              "          element.appendChild(docLink);\n",
              "        }\n",
              "      </script>\n",
              "    </div>\n",
              "  </div>\n",
              "  "
            ]
          },
          "metadata": {},
          "execution_count": 22
        }
      ],
      "source": [
        "X_train = pd.concat([X_train, drugs], axis=1)     # concat the two dataframes 'drugs' and 'data'\n",
        "X_train = X_train.drop('Treated_with_drugs', axis=1)    # dropping the column 'Treated_with_drugs' as its values are now splitted into different columns\n",
        "\n",
        "X_train.head()"
      ]
    },
    {
      "cell_type": "markdown",
      "metadata": {
        "id": "whhruSdecdRd"
      },
      "source": [
        "'Patient_Smoker' is also a categorical column and we need to create dummies for this too. If you observe the data, the column 'Patient_Smoker' has a category 'Cannot say'."
      ]
    },
    {
      "cell_type": "code",
      "execution_count": null,
      "metadata": {
        "colab": {
          "base_uri": "https://localhost:8080/"
        },
        "id": "WSfuJTEms-It",
        "outputId": "e158a526-fee4-4707-c9be-87ee48156fc1"
      },
      "outputs": [
        {
          "output_type": "execute_result",
          "data": {
            "text/plain": [
              "NO            10602\n",
              "YES            7863\n",
              "Cannot say       12\n",
              "Name: Patient_Smoker, dtype: int64"
            ]
          },
          "metadata": {},
          "execution_count": 23
        }
      ],
      "source": [
        "X_train.Patient_Smoker.value_counts()"
      ]
    },
    {
      "cell_type": "markdown",
      "metadata": {
        "id": "TsOHY4eScvGY"
      },
      "source": [
        "There can be different ways to deal with the category 'Cannot say'. Here we will consider it as missing value and fill those entries with the mode value of the column."
      ]
    },
    {
      "cell_type": "code",
      "execution_count": null,
      "metadata": {
        "id": "18ITWDSydI96"
      },
      "outputs": [],
      "source": [
        "X_train.Patient_Smoker[X_train['Patient_Smoker'] == \"Cannot say\"] = 'NO'    # we already know 'NO' is the mode so directly changing the values 'Cannot say' to 'NO'"
      ]
    },
    {
      "cell_type": "markdown",
      "metadata": {
        "id": "TGZefyJ7dgDq"
      },
      "source": [
        "The column 'Patient_mental_condition' has only one category 'stable'. So we can drop this column as for every observation the entry here is 'stable'. This feature won’t be useful for making the prediction of the target variable as it doesn’t provide any useful insights of the data. Hence, It is better to remove this kind of features."
      ]
    },
    {
      "cell_type": "code",
      "execution_count": null,
      "metadata": {
        "colab": {
          "base_uri": "https://localhost:8080/"
        },
        "id": "P4WrslelSIBe",
        "outputId": "db21e494-2c4f-45b8-d2d9-6ae4c9e88b52"
      },
      "outputs": [
        {
          "output_type": "stream",
          "name": "stdout",
          "text": [
            "<class 'pandas.core.frame.DataFrame'>\n",
            "Int64Index: 18477 entries, 3955 to 13126\n",
            "Data columns (total 22 columns):\n",
            " #   Column                     Non-Null Count  Dtype  \n",
            "---  ------                     --------------  -----  \n",
            " 0   ID_Patient_Care_Situation  18477 non-null  int64  \n",
            " 1   Diagnosed_Condition        18477 non-null  int64  \n",
            " 2   Patient_ID                 18477 non-null  int64  \n",
            " 3   Patient_Age                18477 non-null  int64  \n",
            " 4   Patient_Body_Mass_Index    18477 non-null  float64\n",
            " 5   Patient_Smoker             18477 non-null  object \n",
            " 6   Patient_Rural_Urban        18477 non-null  object \n",
            " 7   Patient_mental_condition   18477 non-null  object \n",
            " 8   A                          18477 non-null  float64\n",
            " 9   B                          18477 non-null  float64\n",
            " 10  C                          18477 non-null  float64\n",
            " 11  D                          18477 non-null  float64\n",
            " 12  E                          18477 non-null  float64\n",
            " 13  F                          18477 non-null  float64\n",
            " 14  Z                          18477 non-null  float64\n",
            " 15  Number_of_prev_cond        18477 non-null  float64\n",
            " 16  DX1                        18477 non-null  int64  \n",
            " 17  DX2                        18477 non-null  int64  \n",
            " 18  DX3                        18477 non-null  int64  \n",
            " 19  DX4                        18477 non-null  int64  \n",
            " 20  DX5                        18477 non-null  int64  \n",
            " 21  DX6                        18477 non-null  int64  \n",
            "dtypes: float64(9), int64(10), object(3)\n",
            "memory usage: 3.7+ MB\n"
          ]
        }
      ],
      "source": [
        "X_train.info()"
      ]
    },
    {
      "cell_type": "code",
      "execution_count": null,
      "metadata": {
        "id": "KgaSeiZzdffq"
      },
      "outputs": [],
      "source": [
        "X_train.drop('Patient_mental_condition', axis = 1, inplace=True)"
      ]
    },
    {
      "cell_type": "markdown",
      "metadata": {
        "id": "5XnSOj08fMLL"
      },
      "source": [
        "Now let's convert the remaining categorical column to numerical using get_dummies() function of pandas (i.e. one hot encoding)."
      ]
    },
    {
      "cell_type": "code",
      "execution_count": null,
      "metadata": {
        "id": "XVqbVolzfeza"
      },
      "outputs": [],
      "source": [
        "X_train = pd.get_dummies(X_train, columns=['Patient_Smoker', 'Patient_Rural_Urban'])"
      ]
    },
    {
      "cell_type": "code",
      "execution_count": null,
      "metadata": {
        "colab": {
          "base_uri": "https://localhost:8080/",
          "height": 299
        },
        "id": "z-uhGXbLB6AV",
        "outputId": "1713d5f4-b400-4909-9ef2-fd2689eae048"
      },
      "outputs": [
        {
          "output_type": "execute_result",
          "data": {
            "text/plain": [
              "       ID_Patient_Care_Situation  Diagnosed_Condition  Patient_ID  \\\n",
              "3955                       30300                   10        4842   \n",
              "13205                       2888                   44        1024   \n",
              "14868                       3234                   49         195   \n",
              "13249                      15704                   27         291   \n",
              "8383                       10661                   24        5543   \n",
              "\n",
              "       Patient_Age  Patient_Body_Mass_Index    A    B    C    D    E  ...  \\\n",
              "3955            37                22.673581  1.0  0.0  0.0  0.0  0.0  ...   \n",
              "13205           11                29.883019  1.0  0.0  0.0  0.0  1.0  ...   \n",
              "14868           53                17.580741  0.0  0.0  0.0  0.0  1.0  ...   \n",
              "13249           22                21.468654  1.0  1.0  0.0  0.0  0.0  ...   \n",
              "8383            62                29.204603  1.0  0.0  0.0  0.0  0.0  ...   \n",
              "\n",
              "       DX1  DX2  DX3  DX4  DX5  DX6  Patient_Smoker_NO  Patient_Smoker_YES  \\\n",
              "3955     0    0    0    0    0    1                  0                   1   \n",
              "13205    0    0    0    0    0    1                  1                   0   \n",
              "14868    0    0    0    0    1    0                  0                   1   \n",
              "13249    1    0    1    0    0    0                  1                   0   \n",
              "8383     1    1    1    0    0    0                  1                   0   \n",
              "\n",
              "       Patient_Rural_Urban_RURAL  Patient_Rural_Urban_URBAN  \n",
              "3955                           1                          0  \n",
              "13205                          0                          1  \n",
              "14868                          1                          0  \n",
              "13249                          0                          1  \n",
              "8383                           0                          1  \n",
              "\n",
              "[5 rows x 23 columns]"
            ],
            "text/html": [
              "\n",
              "  <div id=\"df-5aace430-4a3c-4c49-a90d-5c150f7b7762\">\n",
              "    <div class=\"colab-df-container\">\n",
              "      <div>\n",
              "<style scoped>\n",
              "    .dataframe tbody tr th:only-of-type {\n",
              "        vertical-align: middle;\n",
              "    }\n",
              "\n",
              "    .dataframe tbody tr th {\n",
              "        vertical-align: top;\n",
              "    }\n",
              "\n",
              "    .dataframe thead th {\n",
              "        text-align: right;\n",
              "    }\n",
              "</style>\n",
              "<table border=\"1\" class=\"dataframe\">\n",
              "  <thead>\n",
              "    <tr style=\"text-align: right;\">\n",
              "      <th></th>\n",
              "      <th>ID_Patient_Care_Situation</th>\n",
              "      <th>Diagnosed_Condition</th>\n",
              "      <th>Patient_ID</th>\n",
              "      <th>Patient_Age</th>\n",
              "      <th>Patient_Body_Mass_Index</th>\n",
              "      <th>A</th>\n",
              "      <th>B</th>\n",
              "      <th>C</th>\n",
              "      <th>D</th>\n",
              "      <th>E</th>\n",
              "      <th>...</th>\n",
              "      <th>DX1</th>\n",
              "      <th>DX2</th>\n",
              "      <th>DX3</th>\n",
              "      <th>DX4</th>\n",
              "      <th>DX5</th>\n",
              "      <th>DX6</th>\n",
              "      <th>Patient_Smoker_NO</th>\n",
              "      <th>Patient_Smoker_YES</th>\n",
              "      <th>Patient_Rural_Urban_RURAL</th>\n",
              "      <th>Patient_Rural_Urban_URBAN</th>\n",
              "    </tr>\n",
              "  </thead>\n",
              "  <tbody>\n",
              "    <tr>\n",
              "      <th>3955</th>\n",
              "      <td>30300</td>\n",
              "      <td>10</td>\n",
              "      <td>4842</td>\n",
              "      <td>37</td>\n",
              "      <td>22.673581</td>\n",
              "      <td>1.0</td>\n",
              "      <td>0.0</td>\n",
              "      <td>0.0</td>\n",
              "      <td>0.0</td>\n",
              "      <td>0.0</td>\n",
              "      <td>...</td>\n",
              "      <td>0</td>\n",
              "      <td>0</td>\n",
              "      <td>0</td>\n",
              "      <td>0</td>\n",
              "      <td>0</td>\n",
              "      <td>1</td>\n",
              "      <td>0</td>\n",
              "      <td>1</td>\n",
              "      <td>1</td>\n",
              "      <td>0</td>\n",
              "    </tr>\n",
              "    <tr>\n",
              "      <th>13205</th>\n",
              "      <td>2888</td>\n",
              "      <td>44</td>\n",
              "      <td>1024</td>\n",
              "      <td>11</td>\n",
              "      <td>29.883019</td>\n",
              "      <td>1.0</td>\n",
              "      <td>0.0</td>\n",
              "      <td>0.0</td>\n",
              "      <td>0.0</td>\n",
              "      <td>1.0</td>\n",
              "      <td>...</td>\n",
              "      <td>0</td>\n",
              "      <td>0</td>\n",
              "      <td>0</td>\n",
              "      <td>0</td>\n",
              "      <td>0</td>\n",
              "      <td>1</td>\n",
              "      <td>1</td>\n",
              "      <td>0</td>\n",
              "      <td>0</td>\n",
              "      <td>1</td>\n",
              "    </tr>\n",
              "    <tr>\n",
              "      <th>14868</th>\n",
              "      <td>3234</td>\n",
              "      <td>49</td>\n",
              "      <td>195</td>\n",
              "      <td>53</td>\n",
              "      <td>17.580741</td>\n",
              "      <td>0.0</td>\n",
              "      <td>0.0</td>\n",
              "      <td>0.0</td>\n",
              "      <td>0.0</td>\n",
              "      <td>1.0</td>\n",
              "      <td>...</td>\n",
              "      <td>0</td>\n",
              "      <td>0</td>\n",
              "      <td>0</td>\n",
              "      <td>0</td>\n",
              "      <td>1</td>\n",
              "      <td>0</td>\n",
              "      <td>0</td>\n",
              "      <td>1</td>\n",
              "      <td>1</td>\n",
              "      <td>0</td>\n",
              "    </tr>\n",
              "    <tr>\n",
              "      <th>13249</th>\n",
              "      <td>15704</td>\n",
              "      <td>27</td>\n",
              "      <td>291</td>\n",
              "      <td>22</td>\n",
              "      <td>21.468654</td>\n",
              "      <td>1.0</td>\n",
              "      <td>1.0</td>\n",
              "      <td>0.0</td>\n",
              "      <td>0.0</td>\n",
              "      <td>0.0</td>\n",
              "      <td>...</td>\n",
              "      <td>1</td>\n",
              "      <td>0</td>\n",
              "      <td>1</td>\n",
              "      <td>0</td>\n",
              "      <td>0</td>\n",
              "      <td>0</td>\n",
              "      <td>1</td>\n",
              "      <td>0</td>\n",
              "      <td>0</td>\n",
              "      <td>1</td>\n",
              "    </tr>\n",
              "    <tr>\n",
              "      <th>8383</th>\n",
              "      <td>10661</td>\n",
              "      <td>24</td>\n",
              "      <td>5543</td>\n",
              "      <td>62</td>\n",
              "      <td>29.204603</td>\n",
              "      <td>1.0</td>\n",
              "      <td>0.0</td>\n",
              "      <td>0.0</td>\n",
              "      <td>0.0</td>\n",
              "      <td>0.0</td>\n",
              "      <td>...</td>\n",
              "      <td>1</td>\n",
              "      <td>1</td>\n",
              "      <td>1</td>\n",
              "      <td>0</td>\n",
              "      <td>0</td>\n",
              "      <td>0</td>\n",
              "      <td>1</td>\n",
              "      <td>0</td>\n",
              "      <td>0</td>\n",
              "      <td>1</td>\n",
              "    </tr>\n",
              "  </tbody>\n",
              "</table>\n",
              "<p>5 rows × 23 columns</p>\n",
              "</div>\n",
              "      <button class=\"colab-df-convert\" onclick=\"convertToInteractive('df-5aace430-4a3c-4c49-a90d-5c150f7b7762')\"\n",
              "              title=\"Convert this dataframe to an interactive table.\"\n",
              "              style=\"display:none;\">\n",
              "        \n",
              "  <svg xmlns=\"http://www.w3.org/2000/svg\" height=\"24px\"viewBox=\"0 0 24 24\"\n",
              "       width=\"24px\">\n",
              "    <path d=\"M0 0h24v24H0V0z\" fill=\"none\"/>\n",
              "    <path d=\"M18.56 5.44l.94 2.06.94-2.06 2.06-.94-2.06-.94-.94-2.06-.94 2.06-2.06.94zm-11 1L8.5 8.5l.94-2.06 2.06-.94-2.06-.94L8.5 2.5l-.94 2.06-2.06.94zm10 10l.94 2.06.94-2.06 2.06-.94-2.06-.94-.94-2.06-.94 2.06-2.06.94z\"/><path d=\"M17.41 7.96l-1.37-1.37c-.4-.4-.92-.59-1.43-.59-.52 0-1.04.2-1.43.59L10.3 9.45l-7.72 7.72c-.78.78-.78 2.05 0 2.83L4 21.41c.39.39.9.59 1.41.59.51 0 1.02-.2 1.41-.59l7.78-7.78 2.81-2.81c.8-.78.8-2.07 0-2.86zM5.41 20L4 18.59l7.72-7.72 1.47 1.35L5.41 20z\"/>\n",
              "  </svg>\n",
              "      </button>\n",
              "      \n",
              "  <style>\n",
              "    .colab-df-container {\n",
              "      display:flex;\n",
              "      flex-wrap:wrap;\n",
              "      gap: 12px;\n",
              "    }\n",
              "\n",
              "    .colab-df-convert {\n",
              "      background-color: #E8F0FE;\n",
              "      border: none;\n",
              "      border-radius: 50%;\n",
              "      cursor: pointer;\n",
              "      display: none;\n",
              "      fill: #1967D2;\n",
              "      height: 32px;\n",
              "      padding: 0 0 0 0;\n",
              "      width: 32px;\n",
              "    }\n",
              "\n",
              "    .colab-df-convert:hover {\n",
              "      background-color: #E2EBFA;\n",
              "      box-shadow: 0px 1px 2px rgba(60, 64, 67, 0.3), 0px 1px 3px 1px rgba(60, 64, 67, 0.15);\n",
              "      fill: #174EA6;\n",
              "    }\n",
              "\n",
              "    [theme=dark] .colab-df-convert {\n",
              "      background-color: #3B4455;\n",
              "      fill: #D2E3FC;\n",
              "    }\n",
              "\n",
              "    [theme=dark] .colab-df-convert:hover {\n",
              "      background-color: #434B5C;\n",
              "      box-shadow: 0px 1px 3px 1px rgba(0, 0, 0, 0.15);\n",
              "      filter: drop-shadow(0px 1px 2px rgba(0, 0, 0, 0.3));\n",
              "      fill: #FFFFFF;\n",
              "    }\n",
              "  </style>\n",
              "\n",
              "      <script>\n",
              "        const buttonEl =\n",
              "          document.querySelector('#df-5aace430-4a3c-4c49-a90d-5c150f7b7762 button.colab-df-convert');\n",
              "        buttonEl.style.display =\n",
              "          google.colab.kernel.accessAllowed ? 'block' : 'none';\n",
              "\n",
              "        async function convertToInteractive(key) {\n",
              "          const element = document.querySelector('#df-5aace430-4a3c-4c49-a90d-5c150f7b7762');\n",
              "          const dataTable =\n",
              "            await google.colab.kernel.invokeFunction('convertToInteractive',\n",
              "                                                     [key], {});\n",
              "          if (!dataTable) return;\n",
              "\n",
              "          const docLinkHtml = 'Like what you see? Visit the ' +\n",
              "            '<a target=\"_blank\" href=https://colab.research.google.com/notebooks/data_table.ipynb>data table notebook</a>'\n",
              "            + ' to learn more about interactive tables.';\n",
              "          element.innerHTML = '';\n",
              "          dataTable['output_type'] = 'display_data';\n",
              "          await google.colab.output.renderOutput(dataTable, element);\n",
              "          const docLink = document.createElement('div');\n",
              "          docLink.innerHTML = docLinkHtml;\n",
              "          element.appendChild(docLink);\n",
              "        }\n",
              "      </script>\n",
              "    </div>\n",
              "  </div>\n",
              "  "
            ]
          },
          "metadata": {},
          "execution_count": 28
        }
      ],
      "source": [
        "X_train.head()"
      ]
    },
    {
      "cell_type": "code",
      "execution_count": null,
      "metadata": {
        "colab": {
          "base_uri": "https://localhost:8080/"
        },
        "id": "16PKOIqsvKfY",
        "outputId": "7d4066dc-d2aa-44c2-bf75-699d36c49174"
      },
      "outputs": [
        {
          "output_type": "stream",
          "name": "stdout",
          "text": [
            "<class 'pandas.core.frame.DataFrame'>\n",
            "Int64Index: 18477 entries, 3955 to 13126\n",
            "Data columns (total 23 columns):\n",
            " #   Column                     Non-Null Count  Dtype  \n",
            "---  ------                     --------------  -----  \n",
            " 0   ID_Patient_Care_Situation  18477 non-null  int64  \n",
            " 1   Diagnosed_Condition        18477 non-null  int64  \n",
            " 2   Patient_ID                 18477 non-null  int64  \n",
            " 3   Patient_Age                18477 non-null  int64  \n",
            " 4   Patient_Body_Mass_Index    18477 non-null  float64\n",
            " 5   A                          18477 non-null  float64\n",
            " 6   B                          18477 non-null  float64\n",
            " 7   C                          18477 non-null  float64\n",
            " 8   D                          18477 non-null  float64\n",
            " 9   E                          18477 non-null  float64\n",
            " 10  F                          18477 non-null  float64\n",
            " 11  Z                          18477 non-null  float64\n",
            " 12  Number_of_prev_cond        18477 non-null  float64\n",
            " 13  DX1                        18477 non-null  int64  \n",
            " 14  DX2                        18477 non-null  int64  \n",
            " 15  DX3                        18477 non-null  int64  \n",
            " 16  DX4                        18477 non-null  int64  \n",
            " 17  DX5                        18477 non-null  int64  \n",
            " 18  DX6                        18477 non-null  int64  \n",
            " 19  Patient_Smoker_NO          18477 non-null  uint8  \n",
            " 20  Patient_Smoker_YES         18477 non-null  uint8  \n",
            " 21  Patient_Rural_Urban_RURAL  18477 non-null  uint8  \n",
            " 22  Patient_Rural_Urban_URBAN  18477 non-null  uint8  \n",
            "dtypes: float64(9), int64(10), uint8(4)\n",
            "memory usage: 3.4 MB\n"
          ]
        }
      ],
      "source": [
        "X_train.info()"
      ]
    },
    {
      "cell_type": "code",
      "source": [
        "X_train.head()"
      ],
      "metadata": {
        "colab": {
          "base_uri": "https://localhost:8080/",
          "height": 299
        },
        "id": "icpszwGMK_w2",
        "outputId": "086b0dd9-9a6f-475f-85d9-4d5315379572"
      },
      "execution_count": null,
      "outputs": [
        {
          "output_type": "execute_result",
          "data": {
            "text/plain": [
              "       Diagnosed_Condition  Patient_ID  Patient_Age  Patient_Body_Mass_Index  \\\n",
              "3955                    10        4842           37                22.673581   \n",
              "13205                   44        1024           11                29.883019   \n",
              "14868                   49         195           53                17.580741   \n",
              "13249                   27         291           22                21.468654   \n",
              "8383                    24        5543           62                29.204603   \n",
              "\n",
              "         A    B    C    D    E    F  ...  DX1  DX2  DX3  DX4  DX5  DX6  \\\n",
              "3955   1.0  0.0  0.0  0.0  0.0  0.0  ...    0    0    0    0    0    1   \n",
              "13205  1.0  0.0  0.0  0.0  1.0  0.0  ...    0    0    0    0    0    1   \n",
              "14868  0.0  0.0  0.0  0.0  1.0  0.0  ...    0    0    0    0    1    0   \n",
              "13249  1.0  1.0  0.0  0.0  0.0  0.0  ...    1    0    1    0    0    0   \n",
              "8383   1.0  0.0  0.0  0.0  0.0  0.0  ...    1    1    1    0    0    0   \n",
              "\n",
              "       Patient_Smoker_NO  Patient_Smoker_YES  Patient_Rural_Urban_RURAL  \\\n",
              "3955                   0                   1                          1   \n",
              "13205                  1                   0                          0   \n",
              "14868                  0                   1                          1   \n",
              "13249                  1                   0                          0   \n",
              "8383                   1                   0                          0   \n",
              "\n",
              "       Patient_Rural_Urban_URBAN  \n",
              "3955                           0  \n",
              "13205                          1  \n",
              "14868                          0  \n",
              "13249                          1  \n",
              "8383                           1  \n",
              "\n",
              "[5 rows x 22 columns]"
            ],
            "text/html": [
              "\n",
              "  <div id=\"df-7a7c3dc0-9d81-40b3-baee-8b2c64ca09f6\">\n",
              "    <div class=\"colab-df-container\">\n",
              "      <div>\n",
              "<style scoped>\n",
              "    .dataframe tbody tr th:only-of-type {\n",
              "        vertical-align: middle;\n",
              "    }\n",
              "\n",
              "    .dataframe tbody tr th {\n",
              "        vertical-align: top;\n",
              "    }\n",
              "\n",
              "    .dataframe thead th {\n",
              "        text-align: right;\n",
              "    }\n",
              "</style>\n",
              "<table border=\"1\" class=\"dataframe\">\n",
              "  <thead>\n",
              "    <tr style=\"text-align: right;\">\n",
              "      <th></th>\n",
              "      <th>Diagnosed_Condition</th>\n",
              "      <th>Patient_ID</th>\n",
              "      <th>Patient_Age</th>\n",
              "      <th>Patient_Body_Mass_Index</th>\n",
              "      <th>A</th>\n",
              "      <th>B</th>\n",
              "      <th>C</th>\n",
              "      <th>D</th>\n",
              "      <th>E</th>\n",
              "      <th>F</th>\n",
              "      <th>...</th>\n",
              "      <th>DX1</th>\n",
              "      <th>DX2</th>\n",
              "      <th>DX3</th>\n",
              "      <th>DX4</th>\n",
              "      <th>DX5</th>\n",
              "      <th>DX6</th>\n",
              "      <th>Patient_Smoker_NO</th>\n",
              "      <th>Patient_Smoker_YES</th>\n",
              "      <th>Patient_Rural_Urban_RURAL</th>\n",
              "      <th>Patient_Rural_Urban_URBAN</th>\n",
              "    </tr>\n",
              "  </thead>\n",
              "  <tbody>\n",
              "    <tr>\n",
              "      <th>3955</th>\n",
              "      <td>10</td>\n",
              "      <td>4842</td>\n",
              "      <td>37</td>\n",
              "      <td>22.673581</td>\n",
              "      <td>1.0</td>\n",
              "      <td>0.0</td>\n",
              "      <td>0.0</td>\n",
              "      <td>0.0</td>\n",
              "      <td>0.0</td>\n",
              "      <td>0.0</td>\n",
              "      <td>...</td>\n",
              "      <td>0</td>\n",
              "      <td>0</td>\n",
              "      <td>0</td>\n",
              "      <td>0</td>\n",
              "      <td>0</td>\n",
              "      <td>1</td>\n",
              "      <td>0</td>\n",
              "      <td>1</td>\n",
              "      <td>1</td>\n",
              "      <td>0</td>\n",
              "    </tr>\n",
              "    <tr>\n",
              "      <th>13205</th>\n",
              "      <td>44</td>\n",
              "      <td>1024</td>\n",
              "      <td>11</td>\n",
              "      <td>29.883019</td>\n",
              "      <td>1.0</td>\n",
              "      <td>0.0</td>\n",
              "      <td>0.0</td>\n",
              "      <td>0.0</td>\n",
              "      <td>1.0</td>\n",
              "      <td>0.0</td>\n",
              "      <td>...</td>\n",
              "      <td>0</td>\n",
              "      <td>0</td>\n",
              "      <td>0</td>\n",
              "      <td>0</td>\n",
              "      <td>0</td>\n",
              "      <td>1</td>\n",
              "      <td>1</td>\n",
              "      <td>0</td>\n",
              "      <td>0</td>\n",
              "      <td>1</td>\n",
              "    </tr>\n",
              "    <tr>\n",
              "      <th>14868</th>\n",
              "      <td>49</td>\n",
              "      <td>195</td>\n",
              "      <td>53</td>\n",
              "      <td>17.580741</td>\n",
              "      <td>0.0</td>\n",
              "      <td>0.0</td>\n",
              "      <td>0.0</td>\n",
              "      <td>0.0</td>\n",
              "      <td>1.0</td>\n",
              "      <td>0.0</td>\n",
              "      <td>...</td>\n",
              "      <td>0</td>\n",
              "      <td>0</td>\n",
              "      <td>0</td>\n",
              "      <td>0</td>\n",
              "      <td>1</td>\n",
              "      <td>0</td>\n",
              "      <td>0</td>\n",
              "      <td>1</td>\n",
              "      <td>1</td>\n",
              "      <td>0</td>\n",
              "    </tr>\n",
              "    <tr>\n",
              "      <th>13249</th>\n",
              "      <td>27</td>\n",
              "      <td>291</td>\n",
              "      <td>22</td>\n",
              "      <td>21.468654</td>\n",
              "      <td>1.0</td>\n",
              "      <td>1.0</td>\n",
              "      <td>0.0</td>\n",
              "      <td>0.0</td>\n",
              "      <td>0.0</td>\n",
              "      <td>0.0</td>\n",
              "      <td>...</td>\n",
              "      <td>1</td>\n",
              "      <td>0</td>\n",
              "      <td>1</td>\n",
              "      <td>0</td>\n",
              "      <td>0</td>\n",
              "      <td>0</td>\n",
              "      <td>1</td>\n",
              "      <td>0</td>\n",
              "      <td>0</td>\n",
              "      <td>1</td>\n",
              "    </tr>\n",
              "    <tr>\n",
              "      <th>8383</th>\n",
              "      <td>24</td>\n",
              "      <td>5543</td>\n",
              "      <td>62</td>\n",
              "      <td>29.204603</td>\n",
              "      <td>1.0</td>\n",
              "      <td>0.0</td>\n",
              "      <td>0.0</td>\n",
              "      <td>0.0</td>\n",
              "      <td>0.0</td>\n",
              "      <td>0.0</td>\n",
              "      <td>...</td>\n",
              "      <td>1</td>\n",
              "      <td>1</td>\n",
              "      <td>1</td>\n",
              "      <td>0</td>\n",
              "      <td>0</td>\n",
              "      <td>0</td>\n",
              "      <td>1</td>\n",
              "      <td>0</td>\n",
              "      <td>0</td>\n",
              "      <td>1</td>\n",
              "    </tr>\n",
              "  </tbody>\n",
              "</table>\n",
              "<p>5 rows × 22 columns</p>\n",
              "</div>\n",
              "      <button class=\"colab-df-convert\" onclick=\"convertToInteractive('df-7a7c3dc0-9d81-40b3-baee-8b2c64ca09f6')\"\n",
              "              title=\"Convert this dataframe to an interactive table.\"\n",
              "              style=\"display:none;\">\n",
              "        \n",
              "  <svg xmlns=\"http://www.w3.org/2000/svg\" height=\"24px\"viewBox=\"0 0 24 24\"\n",
              "       width=\"24px\">\n",
              "    <path d=\"M0 0h24v24H0V0z\" fill=\"none\"/>\n",
              "    <path d=\"M18.56 5.44l.94 2.06.94-2.06 2.06-.94-2.06-.94-.94-2.06-.94 2.06-2.06.94zm-11 1L8.5 8.5l.94-2.06 2.06-.94-2.06-.94L8.5 2.5l-.94 2.06-2.06.94zm10 10l.94 2.06.94-2.06 2.06-.94-2.06-.94-.94-2.06-.94 2.06-2.06.94z\"/><path d=\"M17.41 7.96l-1.37-1.37c-.4-.4-.92-.59-1.43-.59-.52 0-1.04.2-1.43.59L10.3 9.45l-7.72 7.72c-.78.78-.78 2.05 0 2.83L4 21.41c.39.39.9.59 1.41.59.51 0 1.02-.2 1.41-.59l7.78-7.78 2.81-2.81c.8-.78.8-2.07 0-2.86zM5.41 20L4 18.59l7.72-7.72 1.47 1.35L5.41 20z\"/>\n",
              "  </svg>\n",
              "      </button>\n",
              "      \n",
              "  <style>\n",
              "    .colab-df-container {\n",
              "      display:flex;\n",
              "      flex-wrap:wrap;\n",
              "      gap: 12px;\n",
              "    }\n",
              "\n",
              "    .colab-df-convert {\n",
              "      background-color: #E8F0FE;\n",
              "      border: none;\n",
              "      border-radius: 50%;\n",
              "      cursor: pointer;\n",
              "      display: none;\n",
              "      fill: #1967D2;\n",
              "      height: 32px;\n",
              "      padding: 0 0 0 0;\n",
              "      width: 32px;\n",
              "    }\n",
              "\n",
              "    .colab-df-convert:hover {\n",
              "      background-color: #E2EBFA;\n",
              "      box-shadow: 0px 1px 2px rgba(60, 64, 67, 0.3), 0px 1px 3px 1px rgba(60, 64, 67, 0.15);\n",
              "      fill: #174EA6;\n",
              "    }\n",
              "\n",
              "    [theme=dark] .colab-df-convert {\n",
              "      background-color: #3B4455;\n",
              "      fill: #D2E3FC;\n",
              "    }\n",
              "\n",
              "    [theme=dark] .colab-df-convert:hover {\n",
              "      background-color: #434B5C;\n",
              "      box-shadow: 0px 1px 3px 1px rgba(0, 0, 0, 0.15);\n",
              "      filter: drop-shadow(0px 1px 2px rgba(0, 0, 0, 0.3));\n",
              "      fill: #FFFFFF;\n",
              "    }\n",
              "  </style>\n",
              "\n",
              "      <script>\n",
              "        const buttonEl =\n",
              "          document.querySelector('#df-7a7c3dc0-9d81-40b3-baee-8b2c64ca09f6 button.colab-df-convert');\n",
              "        buttonEl.style.display =\n",
              "          google.colab.kernel.accessAllowed ? 'block' : 'none';\n",
              "\n",
              "        async function convertToInteractive(key) {\n",
              "          const element = document.querySelector('#df-7a7c3dc0-9d81-40b3-baee-8b2c64ca09f6');\n",
              "          const dataTable =\n",
              "            await google.colab.kernel.invokeFunction('convertToInteractive',\n",
              "                                                     [key], {});\n",
              "          if (!dataTable) return;\n",
              "\n",
              "          const docLinkHtml = 'Like what you see? Visit the ' +\n",
              "            '<a target=\"_blank\" href=https://colab.research.google.com/notebooks/data_table.ipynb>data table notebook</a>'\n",
              "            + ' to learn more about interactive tables.';\n",
              "          element.innerHTML = '';\n",
              "          dataTable['output_type'] = 'display_data';\n",
              "          await google.colab.output.renderOutput(dataTable, element);\n",
              "          const docLink = document.createElement('div');\n",
              "          docLink.innerHTML = docLinkHtml;\n",
              "          element.appendChild(docLink);\n",
              "        }\n",
              "      </script>\n",
              "    </div>\n",
              "  </div>\n",
              "  "
            ]
          },
          "metadata": {},
          "execution_count": 69
        }
      ]
    },
    {
      "cell_type": "markdown",
      "metadata": {
        "id": "jXtT9LCLQ1os"
      },
      "source": [
        "As you can see there are no missing data now and all the data are of numerical type."
      ]
    },
    {
      "cell_type": "markdown",
      "metadata": {
        "id": "wL24zhbweDkn"
      },
      "source": [
        "There are two ID columns - 'ID_Patient_Care_Situation' and 'Patient_ID'. We can think of removing these columns if these are randomly generated value and there is not any id repeated like we had done for the 'PassengerId' in Titanic Dataset. 'PassengerId' was randomly generated for each passenger and none of the ids were repeated. So let's check these two ids columns."
      ]
    },
    {
      "cell_type": "code",
      "execution_count": null,
      "metadata": {
        "colab": {
          "base_uri": "https://localhost:8080/"
        },
        "id": "BhIMvJQhgaoV",
        "outputId": "96ffc45e-05c5-43f9-9b06-a4e082f3977d"
      },
      "outputs": [
        {
          "output_type": "stream",
          "name": "stdout",
          "text": [
            "18477\n",
            "9717\n"
          ]
        }
      ],
      "source": [
        "print(X_train.ID_Patient_Care_Situation.nunique())     # nunique() gives you the count of unique values in the column\n",
        "print(X_train.Patient_ID.nunique())"
      ]
    },
    {
      "cell_type": "markdown",
      "metadata": {
        "id": "wIn655R2j2LX"
      },
      "source": [
        "You can see there are 18477 unique 'ID_Patient_Care_Situation' and there are 23097 total observations in the dataset. So this column can be dropped.\n",
        "\n",
        "Now, there are only 9717 unique values in the column 'Patient_ID'. This means there are some patient who came two or more times in the hospital because it is possible the same person was sick for two or more than two times (with different illness) and visited hospital for the treatment. And the same patient will have different caring condition for different diseases. \n",
        "\n",
        "So there are some useful information in the column - 'Patient_ID' and thus we will not drop this column."
      ]
    },
    {
      "cell_type": "code",
      "execution_count": null,
      "metadata": {
        "id": "yPCUFDQ7kMPf"
      },
      "outputs": [],
      "source": [
        "X_train.drop(['ID_Patient_Care_Situation'], axis =1, inplace=True)"
      ]
    },
    {
      "cell_type": "markdown",
      "metadata": {
        "id": "6Zcses6n93dK"
      },
      "source": [
        "## Test Data (X_test)\n",
        "Tasks to be performed:\n",
        "*  If missing values are there then fill the missing values with the same techniques that were used for training dataset\n",
        "*  Convert categorical column to numerical\n",
        "*  Predict the output\n",
        "*  Evaluate the model\n",
        "\n",
        "Why do we need to do the same procedure of filling missing values, data cleaning and data preprocessing on the new test data as it was done for the training and evaluation data?\n",
        "\n",
        "**Ans:** Because our model has been trained on certain format of data and if we don't provide the testing data of the similar format, the model will give erroneous predictions and the accuracy/f1 score of the model will decrease. Also, if the model was build on 'n' number of features, while predicting on new test data you should always give the same number of features to the model. In this case if you provide different number of features while predicting the output, your ML model will throw a **ValueError** saying something like **'number of features given x; expecting n'**. Not confident about these statements? Well, as a data scientist you should always perform some experiment and observe the results."
      ]
    },
    {
      "cell_type": "code",
      "execution_count": null,
      "metadata": {
        "id": "y8_OTxMO-T9S"
      },
      "outputs": [],
      "source": [
        "# copy the test data to a new variable test_new_data\n",
        "test_new_data = X_test.copy()"
      ]
    },
    {
      "cell_type": "code",
      "execution_count": null,
      "metadata": {
        "colab": {
          "base_uri": "https://localhost:8080/",
          "height": 270
        },
        "id": "kRGpDZjfC0H4",
        "outputId": "853847b6-26aa-4873-d46c-6ee1a5f0e310"
      },
      "outputs": [
        {
          "output_type": "execute_result",
          "data": {
            "text/plain": [
              "       ID_Patient_Care_Situation  Diagnosed_Condition  Patient_ID  \\\n",
              "3652                       32215                    1       11894   \n",
              "13452                      25391                   20        1096   \n",
              "8804                        2542                   24        2689   \n",
              "4842                       10691                    4        4670   \n",
              "23083                       1799                   50        5322   \n",
              "\n",
              "      Treated_with_drugs  Patient_Age  Patient_Body_Mass_Index Patient_Smoker  \\\n",
              "3652            DX1 DX2            22                29.033409             NO   \n",
              "13452               DX2             1                19.195376             NO   \n",
              "8804        DX1 DX2 DX4            42                26.581994            YES   \n",
              "4842                 DX6           55                29.730528             NO   \n",
              "23083               DX4            52                18.827974             NO   \n",
              "\n",
              "      Patient_Rural_Urban Patient_mental_condition    A    B    C    D    E  \\\n",
              "3652                RURAL                   Stable  1.0  0.0  0.0  0.0  0.0   \n",
              "13452               RURAL                   Stable  1.0  1.0  0.0  0.0  1.0   \n",
              "8804                URBAN                   Stable  1.0  0.0  1.0  0.0  0.0   \n",
              "4842                URBAN                   Stable  0.0  0.0  0.0  0.0  1.0   \n",
              "23083               RURAL                   Stable  1.0  1.0  0.0  0.0  0.0   \n",
              "\n",
              "         F    Z  Number_of_prev_cond  \n",
              "3652   0.0  0.0                  1.0  \n",
              "13452  0.0  0.0                  3.0  \n",
              "8804   0.0  0.0                  2.0  \n",
              "4842   1.0  0.0                  2.0  \n",
              "23083  1.0  0.0                  3.0  "
            ],
            "text/html": [
              "\n",
              "  <div id=\"df-1024e3a9-e0a6-4354-a1bb-42d5e455180f\">\n",
              "    <div class=\"colab-df-container\">\n",
              "      <div>\n",
              "<style scoped>\n",
              "    .dataframe tbody tr th:only-of-type {\n",
              "        vertical-align: middle;\n",
              "    }\n",
              "\n",
              "    .dataframe tbody tr th {\n",
              "        vertical-align: top;\n",
              "    }\n",
              "\n",
              "    .dataframe thead th {\n",
              "        text-align: right;\n",
              "    }\n",
              "</style>\n",
              "<table border=\"1\" class=\"dataframe\">\n",
              "  <thead>\n",
              "    <tr style=\"text-align: right;\">\n",
              "      <th></th>\n",
              "      <th>ID_Patient_Care_Situation</th>\n",
              "      <th>Diagnosed_Condition</th>\n",
              "      <th>Patient_ID</th>\n",
              "      <th>Treated_with_drugs</th>\n",
              "      <th>Patient_Age</th>\n",
              "      <th>Patient_Body_Mass_Index</th>\n",
              "      <th>Patient_Smoker</th>\n",
              "      <th>Patient_Rural_Urban</th>\n",
              "      <th>Patient_mental_condition</th>\n",
              "      <th>A</th>\n",
              "      <th>B</th>\n",
              "      <th>C</th>\n",
              "      <th>D</th>\n",
              "      <th>E</th>\n",
              "      <th>F</th>\n",
              "      <th>Z</th>\n",
              "      <th>Number_of_prev_cond</th>\n",
              "    </tr>\n",
              "  </thead>\n",
              "  <tbody>\n",
              "    <tr>\n",
              "      <th>3652</th>\n",
              "      <td>32215</td>\n",
              "      <td>1</td>\n",
              "      <td>11894</td>\n",
              "      <td>DX1 DX2</td>\n",
              "      <td>22</td>\n",
              "      <td>29.033409</td>\n",
              "      <td>NO</td>\n",
              "      <td>RURAL</td>\n",
              "      <td>Stable</td>\n",
              "      <td>1.0</td>\n",
              "      <td>0.0</td>\n",
              "      <td>0.0</td>\n",
              "      <td>0.0</td>\n",
              "      <td>0.0</td>\n",
              "      <td>0.0</td>\n",
              "      <td>0.0</td>\n",
              "      <td>1.0</td>\n",
              "    </tr>\n",
              "    <tr>\n",
              "      <th>13452</th>\n",
              "      <td>25391</td>\n",
              "      <td>20</td>\n",
              "      <td>1096</td>\n",
              "      <td>DX2</td>\n",
              "      <td>1</td>\n",
              "      <td>19.195376</td>\n",
              "      <td>NO</td>\n",
              "      <td>RURAL</td>\n",
              "      <td>Stable</td>\n",
              "      <td>1.0</td>\n",
              "      <td>1.0</td>\n",
              "      <td>0.0</td>\n",
              "      <td>0.0</td>\n",
              "      <td>1.0</td>\n",
              "      <td>0.0</td>\n",
              "      <td>0.0</td>\n",
              "      <td>3.0</td>\n",
              "    </tr>\n",
              "    <tr>\n",
              "      <th>8804</th>\n",
              "      <td>2542</td>\n",
              "      <td>24</td>\n",
              "      <td>2689</td>\n",
              "      <td>DX1 DX2 DX4</td>\n",
              "      <td>42</td>\n",
              "      <td>26.581994</td>\n",
              "      <td>YES</td>\n",
              "      <td>URBAN</td>\n",
              "      <td>Stable</td>\n",
              "      <td>1.0</td>\n",
              "      <td>0.0</td>\n",
              "      <td>1.0</td>\n",
              "      <td>0.0</td>\n",
              "      <td>0.0</td>\n",
              "      <td>0.0</td>\n",
              "      <td>0.0</td>\n",
              "      <td>2.0</td>\n",
              "    </tr>\n",
              "    <tr>\n",
              "      <th>4842</th>\n",
              "      <td>10691</td>\n",
              "      <td>4</td>\n",
              "      <td>4670</td>\n",
              "      <td>DX6</td>\n",
              "      <td>55</td>\n",
              "      <td>29.730528</td>\n",
              "      <td>NO</td>\n",
              "      <td>URBAN</td>\n",
              "      <td>Stable</td>\n",
              "      <td>0.0</td>\n",
              "      <td>0.0</td>\n",
              "      <td>0.0</td>\n",
              "      <td>0.0</td>\n",
              "      <td>1.0</td>\n",
              "      <td>1.0</td>\n",
              "      <td>0.0</td>\n",
              "      <td>2.0</td>\n",
              "    </tr>\n",
              "    <tr>\n",
              "      <th>23083</th>\n",
              "      <td>1799</td>\n",
              "      <td>50</td>\n",
              "      <td>5322</td>\n",
              "      <td>DX4</td>\n",
              "      <td>52</td>\n",
              "      <td>18.827974</td>\n",
              "      <td>NO</td>\n",
              "      <td>RURAL</td>\n",
              "      <td>Stable</td>\n",
              "      <td>1.0</td>\n",
              "      <td>1.0</td>\n",
              "      <td>0.0</td>\n",
              "      <td>0.0</td>\n",
              "      <td>0.0</td>\n",
              "      <td>1.0</td>\n",
              "      <td>0.0</td>\n",
              "      <td>3.0</td>\n",
              "    </tr>\n",
              "  </tbody>\n",
              "</table>\n",
              "</div>\n",
              "      <button class=\"colab-df-convert\" onclick=\"convertToInteractive('df-1024e3a9-e0a6-4354-a1bb-42d5e455180f')\"\n",
              "              title=\"Convert this dataframe to an interactive table.\"\n",
              "              style=\"display:none;\">\n",
              "        \n",
              "  <svg xmlns=\"http://www.w3.org/2000/svg\" height=\"24px\"viewBox=\"0 0 24 24\"\n",
              "       width=\"24px\">\n",
              "    <path d=\"M0 0h24v24H0V0z\" fill=\"none\"/>\n",
              "    <path d=\"M18.56 5.44l.94 2.06.94-2.06 2.06-.94-2.06-.94-.94-2.06-.94 2.06-2.06.94zm-11 1L8.5 8.5l.94-2.06 2.06-.94-2.06-.94L8.5 2.5l-.94 2.06-2.06.94zm10 10l.94 2.06.94-2.06 2.06-.94-2.06-.94-.94-2.06-.94 2.06-2.06.94z\"/><path d=\"M17.41 7.96l-1.37-1.37c-.4-.4-.92-.59-1.43-.59-.52 0-1.04.2-1.43.59L10.3 9.45l-7.72 7.72c-.78.78-.78 2.05 0 2.83L4 21.41c.39.39.9.59 1.41.59.51 0 1.02-.2 1.41-.59l7.78-7.78 2.81-2.81c.8-.78.8-2.07 0-2.86zM5.41 20L4 18.59l7.72-7.72 1.47 1.35L5.41 20z\"/>\n",
              "  </svg>\n",
              "      </button>\n",
              "      \n",
              "  <style>\n",
              "    .colab-df-container {\n",
              "      display:flex;\n",
              "      flex-wrap:wrap;\n",
              "      gap: 12px;\n",
              "    }\n",
              "\n",
              "    .colab-df-convert {\n",
              "      background-color: #E8F0FE;\n",
              "      border: none;\n",
              "      border-radius: 50%;\n",
              "      cursor: pointer;\n",
              "      display: none;\n",
              "      fill: #1967D2;\n",
              "      height: 32px;\n",
              "      padding: 0 0 0 0;\n",
              "      width: 32px;\n",
              "    }\n",
              "\n",
              "    .colab-df-convert:hover {\n",
              "      background-color: #E2EBFA;\n",
              "      box-shadow: 0px 1px 2px rgba(60, 64, 67, 0.3), 0px 1px 3px 1px rgba(60, 64, 67, 0.15);\n",
              "      fill: #174EA6;\n",
              "    }\n",
              "\n",
              "    [theme=dark] .colab-df-convert {\n",
              "      background-color: #3B4455;\n",
              "      fill: #D2E3FC;\n",
              "    }\n",
              "\n",
              "    [theme=dark] .colab-df-convert:hover {\n",
              "      background-color: #434B5C;\n",
              "      box-shadow: 0px 1px 3px 1px rgba(0, 0, 0, 0.15);\n",
              "      filter: drop-shadow(0px 1px 2px rgba(0, 0, 0, 0.3));\n",
              "      fill: #FFFFFF;\n",
              "    }\n",
              "  </style>\n",
              "\n",
              "      <script>\n",
              "        const buttonEl =\n",
              "          document.querySelector('#df-1024e3a9-e0a6-4354-a1bb-42d5e455180f button.colab-df-convert');\n",
              "        buttonEl.style.display =\n",
              "          google.colab.kernel.accessAllowed ? 'block' : 'none';\n",
              "\n",
              "        async function convertToInteractive(key) {\n",
              "          const element = document.querySelector('#df-1024e3a9-e0a6-4354-a1bb-42d5e455180f');\n",
              "          const dataTable =\n",
              "            await google.colab.kernel.invokeFunction('convertToInteractive',\n",
              "                                                     [key], {});\n",
              "          if (!dataTable) return;\n",
              "\n",
              "          const docLinkHtml = 'Like what you see? Visit the ' +\n",
              "            '<a target=\"_blank\" href=https://colab.research.google.com/notebooks/data_table.ipynb>data table notebook</a>'\n",
              "            + ' to learn more about interactive tables.';\n",
              "          element.innerHTML = '';\n",
              "          dataTable['output_type'] = 'display_data';\n",
              "          await google.colab.output.renderOutput(dataTable, element);\n",
              "          const docLink = document.createElement('div');\n",
              "          docLink.innerHTML = docLinkHtml;\n",
              "          element.appendChild(docLink);\n",
              "        }\n",
              "      </script>\n",
              "    </div>\n",
              "  </div>\n",
              "  "
            ]
          },
          "metadata": {},
          "execution_count": 33
        }
      ],
      "source": [
        "# take a look how the new test data look like\n",
        "test_new_data.head()"
      ]
    },
    {
      "cell_type": "markdown",
      "metadata": {
        "id": "jZSfE-_LZ3vl"
      },
      "source": [
        "**Can you observe the test data here?** It is in the same format as our training data before performing any cleaning and preprocessing."
      ]
    },
    {
      "cell_type": "markdown",
      "metadata": {
        "id": "yFQlpdXA_gnL"
      },
      "source": [
        "### Checking missing values"
      ]
    },
    {
      "cell_type": "code",
      "execution_count": null,
      "metadata": {
        "colab": {
          "base_uri": "https://localhost:8080/"
        },
        "id": "6vt-otfd_fsC",
        "outputId": "3363352d-28aa-4ada-a607-2eedf5dfc331"
      },
      "outputs": [
        {
          "output_type": "execute_result",
          "data": {
            "text/plain": [
              "ID_Patient_Care_Situation      0\n",
              "Diagnosed_Condition            0\n",
              "Patient_ID                     0\n",
              "Treated_with_drugs             1\n",
              "Patient_Age                    0\n",
              "Patient_Body_Mass_Index        0\n",
              "Patient_Smoker                 0\n",
              "Patient_Rural_Urban            0\n",
              "Patient_mental_condition       0\n",
              "A                            240\n",
              "B                            240\n",
              "C                            240\n",
              "D                            240\n",
              "E                            240\n",
              "F                            240\n",
              "Z                            240\n",
              "Number_of_prev_cond          240\n",
              "dtype: int64"
            ]
          },
          "metadata": {},
          "execution_count": 34
        }
      ],
      "source": [
        "test_new_data.isnull().sum()"
      ]
    },
    {
      "cell_type": "markdown",
      "metadata": {
        "id": "hd339aqZaQ6T"
      },
      "source": [
        "### Filling missing values"
      ]
    },
    {
      "cell_type": "code",
      "execution_count": null,
      "metadata": {
        "id": "G8xyK3_qV1UX"
      },
      "outputs": [],
      "source": [
        "test_new_data['Treated_with_drugs']=test_new_data['Treated_with_drugs'].fillna(test_new_data['Treated_with_drugs'].mode()[0])"
      ]
    },
    {
      "cell_type": "code",
      "execution_count": null,
      "metadata": {
        "id": "ldbbBhXWV1Uy"
      },
      "outputs": [],
      "source": [
        "test_new_data['A'].fillna(test_new_data['A'].mode()[0], inplace = True)\n",
        "test_new_data['B'].fillna(test_new_data['B'].mode()[0], inplace = True)\n",
        "test_new_data['C'].fillna(test_new_data['C'].mode()[0], inplace = True)\n",
        "test_new_data['D'].fillna(test_new_data['D'].mode()[0], inplace = True)\n",
        "test_new_data['E'].fillna(test_new_data['E'].mode()[0], inplace = True)\n",
        "test_new_data['F'].fillna(test_new_data['F'].mode()[0], inplace = True)\n",
        "test_new_data['Z'].fillna(test_new_data['Z'].mode()[0], inplace = True)\n",
        "test_new_data['Number_of_prev_cond'].fillna(test_new_data['Number_of_prev_cond'].mode()[0], inplace = True)"
      ]
    },
    {
      "cell_type": "code",
      "execution_count": null,
      "metadata": {
        "colab": {
          "base_uri": "https://localhost:8080/"
        },
        "id": "98LhmdMWV1Uz",
        "outputId": "523e7aff-ba9e-4f11-a3fc-8972ef1061c5"
      },
      "outputs": [
        {
          "output_type": "execute_result",
          "data": {
            "text/plain": [
              "ID_Patient_Care_Situation    0\n",
              "Diagnosed_Condition          0\n",
              "Patient_ID                   0\n",
              "Treated_with_drugs           0\n",
              "Patient_Age                  0\n",
              "Patient_Body_Mass_Index      0\n",
              "Patient_Smoker               0\n",
              "Patient_Rural_Urban          0\n",
              "Patient_mental_condition     0\n",
              "A                            0\n",
              "B                            0\n",
              "C                            0\n",
              "D                            0\n",
              "E                            0\n",
              "F                            0\n",
              "Z                            0\n",
              "Number_of_prev_cond          0\n",
              "dtype: int64"
            ]
          },
          "metadata": {},
          "execution_count": 37
        }
      ],
      "source": [
        "test_new_data.isnull().sum()"
      ]
    },
    {
      "cell_type": "markdown",
      "metadata": {
        "id": "wq4LLewO_neT"
      },
      "source": [
        "#### Preprocessing and data cleaning: same as we did on training data"
      ]
    },
    {
      "cell_type": "code",
      "execution_count": null,
      "metadata": {
        "colab": {
          "base_uri": "https://localhost:8080/",
          "height": 206
        },
        "id": "vy4Fg943_uG4",
        "outputId": "d2674a3c-9aa9-4fbe-a0fd-206d8a92e8fa"
      },
      "outputs": [
        {
          "output_type": "execute_result",
          "data": {
            "text/plain": [
              "       DX1  DX2  DX3  DX4  DX5  DX6\n",
              "3652     1    1    0    0    0    0\n",
              "13452    0    1    0    0    0    0\n",
              "8804     1    1    0    1    0    0\n",
              "4842     0    0    0    0    0    1\n",
              "23083    0    0    0    1    0    0"
            ],
            "text/html": [
              "\n",
              "  <div id=\"df-0be7ab3e-2c0e-4c23-a07c-072f5a08c6fe\">\n",
              "    <div class=\"colab-df-container\">\n",
              "      <div>\n",
              "<style scoped>\n",
              "    .dataframe tbody tr th:only-of-type {\n",
              "        vertical-align: middle;\n",
              "    }\n",
              "\n",
              "    .dataframe tbody tr th {\n",
              "        vertical-align: top;\n",
              "    }\n",
              "\n",
              "    .dataframe thead th {\n",
              "        text-align: right;\n",
              "    }\n",
              "</style>\n",
              "<table border=\"1\" class=\"dataframe\">\n",
              "  <thead>\n",
              "    <tr style=\"text-align: right;\">\n",
              "      <th></th>\n",
              "      <th>DX1</th>\n",
              "      <th>DX2</th>\n",
              "      <th>DX3</th>\n",
              "      <th>DX4</th>\n",
              "      <th>DX5</th>\n",
              "      <th>DX6</th>\n",
              "    </tr>\n",
              "  </thead>\n",
              "  <tbody>\n",
              "    <tr>\n",
              "      <th>3652</th>\n",
              "      <td>1</td>\n",
              "      <td>1</td>\n",
              "      <td>0</td>\n",
              "      <td>0</td>\n",
              "      <td>0</td>\n",
              "      <td>0</td>\n",
              "    </tr>\n",
              "    <tr>\n",
              "      <th>13452</th>\n",
              "      <td>0</td>\n",
              "      <td>1</td>\n",
              "      <td>0</td>\n",
              "      <td>0</td>\n",
              "      <td>0</td>\n",
              "      <td>0</td>\n",
              "    </tr>\n",
              "    <tr>\n",
              "      <th>8804</th>\n",
              "      <td>1</td>\n",
              "      <td>1</td>\n",
              "      <td>0</td>\n",
              "      <td>1</td>\n",
              "      <td>0</td>\n",
              "      <td>0</td>\n",
              "    </tr>\n",
              "    <tr>\n",
              "      <th>4842</th>\n",
              "      <td>0</td>\n",
              "      <td>0</td>\n",
              "      <td>0</td>\n",
              "      <td>0</td>\n",
              "      <td>0</td>\n",
              "      <td>1</td>\n",
              "    </tr>\n",
              "    <tr>\n",
              "      <th>23083</th>\n",
              "      <td>0</td>\n",
              "      <td>0</td>\n",
              "      <td>0</td>\n",
              "      <td>1</td>\n",
              "      <td>0</td>\n",
              "      <td>0</td>\n",
              "    </tr>\n",
              "  </tbody>\n",
              "</table>\n",
              "</div>\n",
              "      <button class=\"colab-df-convert\" onclick=\"convertToInteractive('df-0be7ab3e-2c0e-4c23-a07c-072f5a08c6fe')\"\n",
              "              title=\"Convert this dataframe to an interactive table.\"\n",
              "              style=\"display:none;\">\n",
              "        \n",
              "  <svg xmlns=\"http://www.w3.org/2000/svg\" height=\"24px\"viewBox=\"0 0 24 24\"\n",
              "       width=\"24px\">\n",
              "    <path d=\"M0 0h24v24H0V0z\" fill=\"none\"/>\n",
              "    <path d=\"M18.56 5.44l.94 2.06.94-2.06 2.06-.94-2.06-.94-.94-2.06-.94 2.06-2.06.94zm-11 1L8.5 8.5l.94-2.06 2.06-.94-2.06-.94L8.5 2.5l-.94 2.06-2.06.94zm10 10l.94 2.06.94-2.06 2.06-.94-2.06-.94-.94-2.06-.94 2.06-2.06.94z\"/><path d=\"M17.41 7.96l-1.37-1.37c-.4-.4-.92-.59-1.43-.59-.52 0-1.04.2-1.43.59L10.3 9.45l-7.72 7.72c-.78.78-.78 2.05 0 2.83L4 21.41c.39.39.9.59 1.41.59.51 0 1.02-.2 1.41-.59l7.78-7.78 2.81-2.81c.8-.78.8-2.07 0-2.86zM5.41 20L4 18.59l7.72-7.72 1.47 1.35L5.41 20z\"/>\n",
              "  </svg>\n",
              "      </button>\n",
              "      \n",
              "  <style>\n",
              "    .colab-df-container {\n",
              "      display:flex;\n",
              "      flex-wrap:wrap;\n",
              "      gap: 12px;\n",
              "    }\n",
              "\n",
              "    .colab-df-convert {\n",
              "      background-color: #E8F0FE;\n",
              "      border: none;\n",
              "      border-radius: 50%;\n",
              "      cursor: pointer;\n",
              "      display: none;\n",
              "      fill: #1967D2;\n",
              "      height: 32px;\n",
              "      padding: 0 0 0 0;\n",
              "      width: 32px;\n",
              "    }\n",
              "\n",
              "    .colab-df-convert:hover {\n",
              "      background-color: #E2EBFA;\n",
              "      box-shadow: 0px 1px 2px rgba(60, 64, 67, 0.3), 0px 1px 3px 1px rgba(60, 64, 67, 0.15);\n",
              "      fill: #174EA6;\n",
              "    }\n",
              "\n",
              "    [theme=dark] .colab-df-convert {\n",
              "      background-color: #3B4455;\n",
              "      fill: #D2E3FC;\n",
              "    }\n",
              "\n",
              "    [theme=dark] .colab-df-convert:hover {\n",
              "      background-color: #434B5C;\n",
              "      box-shadow: 0px 1px 3px 1px rgba(0, 0, 0, 0.15);\n",
              "      filter: drop-shadow(0px 1px 2px rgba(0, 0, 0, 0.3));\n",
              "      fill: #FFFFFF;\n",
              "    }\n",
              "  </style>\n",
              "\n",
              "      <script>\n",
              "        const buttonEl =\n",
              "          document.querySelector('#df-0be7ab3e-2c0e-4c23-a07c-072f5a08c6fe button.colab-df-convert');\n",
              "        buttonEl.style.display =\n",
              "          google.colab.kernel.accessAllowed ? 'block' : 'none';\n",
              "\n",
              "        async function convertToInteractive(key) {\n",
              "          const element = document.querySelector('#df-0be7ab3e-2c0e-4c23-a07c-072f5a08c6fe');\n",
              "          const dataTable =\n",
              "            await google.colab.kernel.invokeFunction('convertToInteractive',\n",
              "                                                     [key], {});\n",
              "          if (!dataTable) return;\n",
              "\n",
              "          const docLinkHtml = 'Like what you see? Visit the ' +\n",
              "            '<a target=\"_blank\" href=https://colab.research.google.com/notebooks/data_table.ipynb>data table notebook</a>'\n",
              "            + ' to learn more about interactive tables.';\n",
              "          element.innerHTML = '';\n",
              "          dataTable['output_type'] = 'display_data';\n",
              "          await google.colab.output.renderOutput(dataTable, element);\n",
              "          const docLink = document.createElement('div');\n",
              "          docLink.innerHTML = docLinkHtml;\n",
              "          element.appendChild(docLink);\n",
              "        }\n",
              "      </script>\n",
              "    </div>\n",
              "  </div>\n",
              "  "
            ]
          },
          "metadata": {},
          "execution_count": 38
        }
      ],
      "source": [
        "drugs = test_new_data['Treated_with_drugs'].str.get_dummies(sep=' ') # split all the entries\n",
        "drugs.head()"
      ]
    },
    {
      "cell_type": "code",
      "execution_count": null,
      "metadata": {
        "colab": {
          "base_uri": "https://localhost:8080/",
          "height": 299
        },
        "id": "n8cnZ23hADmG",
        "outputId": "556f2dca-5e32-4d56-dd78-511a96128a22"
      },
      "outputs": [
        {
          "output_type": "execute_result",
          "data": {
            "text/plain": [
              "       ID_Patient_Care_Situation  Diagnosed_Condition  Patient_ID  \\\n",
              "3652                       32215                    1       11894   \n",
              "13452                      25391                   20        1096   \n",
              "8804                        2542                   24        2689   \n",
              "4842                       10691                    4        4670   \n",
              "23083                       1799                   50        5322   \n",
              "\n",
              "       Patient_Age  Patient_Body_Mass_Index Patient_Smoker  \\\n",
              "3652            22                29.033409             NO   \n",
              "13452            1                19.195376             NO   \n",
              "8804            42                26.581994            YES   \n",
              "4842            55                29.730528             NO   \n",
              "23083           52                18.827974             NO   \n",
              "\n",
              "      Patient_Rural_Urban Patient_mental_condition    A    B  ...    E    F  \\\n",
              "3652                RURAL                   Stable  1.0  0.0  ...  0.0  0.0   \n",
              "13452               RURAL                   Stable  1.0  1.0  ...  1.0  0.0   \n",
              "8804                URBAN                   Stable  1.0  0.0  ...  0.0  0.0   \n",
              "4842                URBAN                   Stable  0.0  0.0  ...  1.0  1.0   \n",
              "23083               RURAL                   Stable  1.0  1.0  ...  0.0  1.0   \n",
              "\n",
              "         Z  Number_of_prev_cond  DX1  DX2  DX3  DX4  DX5  DX6  \n",
              "3652   0.0                  1.0    1    1    0    0    0    0  \n",
              "13452  0.0                  3.0    0    1    0    0    0    0  \n",
              "8804   0.0                  2.0    1    1    0    1    0    0  \n",
              "4842   0.0                  2.0    0    0    0    0    0    1  \n",
              "23083  0.0                  3.0    0    0    0    1    0    0  \n",
              "\n",
              "[5 rows x 22 columns]"
            ],
            "text/html": [
              "\n",
              "  <div id=\"df-fa8920b1-fbfb-42ef-ae5d-1cd24955e7c9\">\n",
              "    <div class=\"colab-df-container\">\n",
              "      <div>\n",
              "<style scoped>\n",
              "    .dataframe tbody tr th:only-of-type {\n",
              "        vertical-align: middle;\n",
              "    }\n",
              "\n",
              "    .dataframe tbody tr th {\n",
              "        vertical-align: top;\n",
              "    }\n",
              "\n",
              "    .dataframe thead th {\n",
              "        text-align: right;\n",
              "    }\n",
              "</style>\n",
              "<table border=\"1\" class=\"dataframe\">\n",
              "  <thead>\n",
              "    <tr style=\"text-align: right;\">\n",
              "      <th></th>\n",
              "      <th>ID_Patient_Care_Situation</th>\n",
              "      <th>Diagnosed_Condition</th>\n",
              "      <th>Patient_ID</th>\n",
              "      <th>Patient_Age</th>\n",
              "      <th>Patient_Body_Mass_Index</th>\n",
              "      <th>Patient_Smoker</th>\n",
              "      <th>Patient_Rural_Urban</th>\n",
              "      <th>Patient_mental_condition</th>\n",
              "      <th>A</th>\n",
              "      <th>B</th>\n",
              "      <th>...</th>\n",
              "      <th>E</th>\n",
              "      <th>F</th>\n",
              "      <th>Z</th>\n",
              "      <th>Number_of_prev_cond</th>\n",
              "      <th>DX1</th>\n",
              "      <th>DX2</th>\n",
              "      <th>DX3</th>\n",
              "      <th>DX4</th>\n",
              "      <th>DX5</th>\n",
              "      <th>DX6</th>\n",
              "    </tr>\n",
              "  </thead>\n",
              "  <tbody>\n",
              "    <tr>\n",
              "      <th>3652</th>\n",
              "      <td>32215</td>\n",
              "      <td>1</td>\n",
              "      <td>11894</td>\n",
              "      <td>22</td>\n",
              "      <td>29.033409</td>\n",
              "      <td>NO</td>\n",
              "      <td>RURAL</td>\n",
              "      <td>Stable</td>\n",
              "      <td>1.0</td>\n",
              "      <td>0.0</td>\n",
              "      <td>...</td>\n",
              "      <td>0.0</td>\n",
              "      <td>0.0</td>\n",
              "      <td>0.0</td>\n",
              "      <td>1.0</td>\n",
              "      <td>1</td>\n",
              "      <td>1</td>\n",
              "      <td>0</td>\n",
              "      <td>0</td>\n",
              "      <td>0</td>\n",
              "      <td>0</td>\n",
              "    </tr>\n",
              "    <tr>\n",
              "      <th>13452</th>\n",
              "      <td>25391</td>\n",
              "      <td>20</td>\n",
              "      <td>1096</td>\n",
              "      <td>1</td>\n",
              "      <td>19.195376</td>\n",
              "      <td>NO</td>\n",
              "      <td>RURAL</td>\n",
              "      <td>Stable</td>\n",
              "      <td>1.0</td>\n",
              "      <td>1.0</td>\n",
              "      <td>...</td>\n",
              "      <td>1.0</td>\n",
              "      <td>0.0</td>\n",
              "      <td>0.0</td>\n",
              "      <td>3.0</td>\n",
              "      <td>0</td>\n",
              "      <td>1</td>\n",
              "      <td>0</td>\n",
              "      <td>0</td>\n",
              "      <td>0</td>\n",
              "      <td>0</td>\n",
              "    </tr>\n",
              "    <tr>\n",
              "      <th>8804</th>\n",
              "      <td>2542</td>\n",
              "      <td>24</td>\n",
              "      <td>2689</td>\n",
              "      <td>42</td>\n",
              "      <td>26.581994</td>\n",
              "      <td>YES</td>\n",
              "      <td>URBAN</td>\n",
              "      <td>Stable</td>\n",
              "      <td>1.0</td>\n",
              "      <td>0.0</td>\n",
              "      <td>...</td>\n",
              "      <td>0.0</td>\n",
              "      <td>0.0</td>\n",
              "      <td>0.0</td>\n",
              "      <td>2.0</td>\n",
              "      <td>1</td>\n",
              "      <td>1</td>\n",
              "      <td>0</td>\n",
              "      <td>1</td>\n",
              "      <td>0</td>\n",
              "      <td>0</td>\n",
              "    </tr>\n",
              "    <tr>\n",
              "      <th>4842</th>\n",
              "      <td>10691</td>\n",
              "      <td>4</td>\n",
              "      <td>4670</td>\n",
              "      <td>55</td>\n",
              "      <td>29.730528</td>\n",
              "      <td>NO</td>\n",
              "      <td>URBAN</td>\n",
              "      <td>Stable</td>\n",
              "      <td>0.0</td>\n",
              "      <td>0.0</td>\n",
              "      <td>...</td>\n",
              "      <td>1.0</td>\n",
              "      <td>1.0</td>\n",
              "      <td>0.0</td>\n",
              "      <td>2.0</td>\n",
              "      <td>0</td>\n",
              "      <td>0</td>\n",
              "      <td>0</td>\n",
              "      <td>0</td>\n",
              "      <td>0</td>\n",
              "      <td>1</td>\n",
              "    </tr>\n",
              "    <tr>\n",
              "      <th>23083</th>\n",
              "      <td>1799</td>\n",
              "      <td>50</td>\n",
              "      <td>5322</td>\n",
              "      <td>52</td>\n",
              "      <td>18.827974</td>\n",
              "      <td>NO</td>\n",
              "      <td>RURAL</td>\n",
              "      <td>Stable</td>\n",
              "      <td>1.0</td>\n",
              "      <td>1.0</td>\n",
              "      <td>...</td>\n",
              "      <td>0.0</td>\n",
              "      <td>1.0</td>\n",
              "      <td>0.0</td>\n",
              "      <td>3.0</td>\n",
              "      <td>0</td>\n",
              "      <td>0</td>\n",
              "      <td>0</td>\n",
              "      <td>1</td>\n",
              "      <td>0</td>\n",
              "      <td>0</td>\n",
              "    </tr>\n",
              "  </tbody>\n",
              "</table>\n",
              "<p>5 rows × 22 columns</p>\n",
              "</div>\n",
              "      <button class=\"colab-df-convert\" onclick=\"convertToInteractive('df-fa8920b1-fbfb-42ef-ae5d-1cd24955e7c9')\"\n",
              "              title=\"Convert this dataframe to an interactive table.\"\n",
              "              style=\"display:none;\">\n",
              "        \n",
              "  <svg xmlns=\"http://www.w3.org/2000/svg\" height=\"24px\"viewBox=\"0 0 24 24\"\n",
              "       width=\"24px\">\n",
              "    <path d=\"M0 0h24v24H0V0z\" fill=\"none\"/>\n",
              "    <path d=\"M18.56 5.44l.94 2.06.94-2.06 2.06-.94-2.06-.94-.94-2.06-.94 2.06-2.06.94zm-11 1L8.5 8.5l.94-2.06 2.06-.94-2.06-.94L8.5 2.5l-.94 2.06-2.06.94zm10 10l.94 2.06.94-2.06 2.06-.94-2.06-.94-.94-2.06-.94 2.06-2.06.94z\"/><path d=\"M17.41 7.96l-1.37-1.37c-.4-.4-.92-.59-1.43-.59-.52 0-1.04.2-1.43.59L10.3 9.45l-7.72 7.72c-.78.78-.78 2.05 0 2.83L4 21.41c.39.39.9.59 1.41.59.51 0 1.02-.2 1.41-.59l7.78-7.78 2.81-2.81c.8-.78.8-2.07 0-2.86zM5.41 20L4 18.59l7.72-7.72 1.47 1.35L5.41 20z\"/>\n",
              "  </svg>\n",
              "      </button>\n",
              "      \n",
              "  <style>\n",
              "    .colab-df-container {\n",
              "      display:flex;\n",
              "      flex-wrap:wrap;\n",
              "      gap: 12px;\n",
              "    }\n",
              "\n",
              "    .colab-df-convert {\n",
              "      background-color: #E8F0FE;\n",
              "      border: none;\n",
              "      border-radius: 50%;\n",
              "      cursor: pointer;\n",
              "      display: none;\n",
              "      fill: #1967D2;\n",
              "      height: 32px;\n",
              "      padding: 0 0 0 0;\n",
              "      width: 32px;\n",
              "    }\n",
              "\n",
              "    .colab-df-convert:hover {\n",
              "      background-color: #E2EBFA;\n",
              "      box-shadow: 0px 1px 2px rgba(60, 64, 67, 0.3), 0px 1px 3px 1px rgba(60, 64, 67, 0.15);\n",
              "      fill: #174EA6;\n",
              "    }\n",
              "\n",
              "    [theme=dark] .colab-df-convert {\n",
              "      background-color: #3B4455;\n",
              "      fill: #D2E3FC;\n",
              "    }\n",
              "\n",
              "    [theme=dark] .colab-df-convert:hover {\n",
              "      background-color: #434B5C;\n",
              "      box-shadow: 0px 1px 3px 1px rgba(0, 0, 0, 0.15);\n",
              "      filter: drop-shadow(0px 1px 2px rgba(0, 0, 0, 0.3));\n",
              "      fill: #FFFFFF;\n",
              "    }\n",
              "  </style>\n",
              "\n",
              "      <script>\n",
              "        const buttonEl =\n",
              "          document.querySelector('#df-fa8920b1-fbfb-42ef-ae5d-1cd24955e7c9 button.colab-df-convert');\n",
              "        buttonEl.style.display =\n",
              "          google.colab.kernel.accessAllowed ? 'block' : 'none';\n",
              "\n",
              "        async function convertToInteractive(key) {\n",
              "          const element = document.querySelector('#df-fa8920b1-fbfb-42ef-ae5d-1cd24955e7c9');\n",
              "          const dataTable =\n",
              "            await google.colab.kernel.invokeFunction('convertToInteractive',\n",
              "                                                     [key], {});\n",
              "          if (!dataTable) return;\n",
              "\n",
              "          const docLinkHtml = 'Like what you see? Visit the ' +\n",
              "            '<a target=\"_blank\" href=https://colab.research.google.com/notebooks/data_table.ipynb>data table notebook</a>'\n",
              "            + ' to learn more about interactive tables.';\n",
              "          element.innerHTML = '';\n",
              "          dataTable['output_type'] = 'display_data';\n",
              "          await google.colab.output.renderOutput(dataTable, element);\n",
              "          const docLink = document.createElement('div');\n",
              "          docLink.innerHTML = docLinkHtml;\n",
              "          element.appendChild(docLink);\n",
              "        }\n",
              "      </script>\n",
              "    </div>\n",
              "  </div>\n",
              "  "
            ]
          },
          "metadata": {},
          "execution_count": 39
        }
      ],
      "source": [
        "test_new_data = pd.concat([test_new_data, drugs], axis=1)     # concat the two dataframes 'drugs' and 'data'\n",
        "test_new_data = test_new_data.drop('Treated_with_drugs', axis=1)    # dropping the column 'Treated_with_drugs' as its values are splitted into different columns\n",
        "\n",
        "test_new_data.head()"
      ]
    },
    {
      "cell_type": "code",
      "execution_count": null,
      "metadata": {
        "colab": {
          "base_uri": "https://localhost:8080/"
        },
        "id": "IHblEgoMAGj5",
        "outputId": "d22b8d8d-8f7b-4de7-d484-6637778e1591"
      },
      "outputs": [
        {
          "output_type": "execute_result",
          "data": {
            "text/plain": [
              "NO            2644\n",
              "YES           1975\n",
              "Cannot say       1\n",
              "Name: Patient_Smoker, dtype: int64"
            ]
          },
          "metadata": {},
          "execution_count": 40
        }
      ],
      "source": [
        "test_new_data.Patient_Smoker.value_counts()"
      ]
    },
    {
      "cell_type": "code",
      "execution_count": null,
      "metadata": {
        "id": "Mn2K5nO8UPkY"
      },
      "outputs": [],
      "source": [
        "test_new_data.Patient_Smoker[test_new_data['Patient_Smoker'] == \"Cannot say\"] = 'NO'    # we already know 'NO' is the mode so directly changing the values 'Cannot say' to 'NO'"
      ]
    },
    {
      "cell_type": "markdown",
      "metadata": {
        "id": "RO6ObqU6Ai6P"
      },
      "source": [
        "The column 'Patient_mental_condition' has only one category 'stable'. So we can drop this column as for every observation the entry here is 'stable'."
      ]
    },
    {
      "cell_type": "code",
      "execution_count": null,
      "metadata": {
        "id": "WZXrNPm-AfW7"
      },
      "outputs": [],
      "source": [
        "test_new_data.drop('Patient_mental_condition', axis = 1, inplace=True)"
      ]
    },
    {
      "cell_type": "markdown",
      "metadata": {
        "id": "wXyDrpCmAoF6"
      },
      "source": [
        "Now let's convert the categorical column to numerical using get_dummies() function of pandas (i.e. one hot encoding)."
      ]
    },
    {
      "cell_type": "code",
      "execution_count": null,
      "metadata": {
        "id": "Sjsoy9zVAlyC"
      },
      "outputs": [],
      "source": [
        "test_new_data = pd.get_dummies(test_new_data, columns=['Patient_Smoker', 'Patient_Rural_Urban'])"
      ]
    },
    {
      "cell_type": "code",
      "execution_count": null,
      "metadata": {
        "colab": {
          "base_uri": "https://localhost:8080/",
          "height": 299
        },
        "id": "gya8xbU_A7w3",
        "outputId": "155e9d95-764a-4ad7-831c-10f14766f24d"
      },
      "outputs": [
        {
          "output_type": "execute_result",
          "data": {
            "text/plain": [
              "       ID_Patient_Care_Situation  Diagnosed_Condition  Patient_ID  \\\n",
              "3652                       32215                    1       11894   \n",
              "13452                      25391                   20        1096   \n",
              "8804                        2542                   24        2689   \n",
              "4842                       10691                    4        4670   \n",
              "23083                       1799                   50        5322   \n",
              "\n",
              "       Patient_Age  Patient_Body_Mass_Index    A    B    C    D    E  ...  \\\n",
              "3652            22                29.033409  1.0  0.0  0.0  0.0  0.0  ...   \n",
              "13452            1                19.195376  1.0  1.0  0.0  0.0  1.0  ...   \n",
              "8804            42                26.581994  1.0  0.0  1.0  0.0  0.0  ...   \n",
              "4842            55                29.730528  0.0  0.0  0.0  0.0  1.0  ...   \n",
              "23083           52                18.827974  1.0  1.0  0.0  0.0  0.0  ...   \n",
              "\n",
              "       DX1  DX2  DX3  DX4  DX5  DX6  Patient_Smoker_NO  Patient_Smoker_YES  \\\n",
              "3652     1    1    0    0    0    0                  1                   0   \n",
              "13452    0    1    0    0    0    0                  1                   0   \n",
              "8804     1    1    0    1    0    0                  0                   1   \n",
              "4842     0    0    0    0    0    1                  1                   0   \n",
              "23083    0    0    0    1    0    0                  1                   0   \n",
              "\n",
              "       Patient_Rural_Urban_RURAL  Patient_Rural_Urban_URBAN  \n",
              "3652                           1                          0  \n",
              "13452                          1                          0  \n",
              "8804                           0                          1  \n",
              "4842                           0                          1  \n",
              "23083                          1                          0  \n",
              "\n",
              "[5 rows x 23 columns]"
            ],
            "text/html": [
              "\n",
              "  <div id=\"df-efa3824c-159b-4d9d-a170-881839f648a8\">\n",
              "    <div class=\"colab-df-container\">\n",
              "      <div>\n",
              "<style scoped>\n",
              "    .dataframe tbody tr th:only-of-type {\n",
              "        vertical-align: middle;\n",
              "    }\n",
              "\n",
              "    .dataframe tbody tr th {\n",
              "        vertical-align: top;\n",
              "    }\n",
              "\n",
              "    .dataframe thead th {\n",
              "        text-align: right;\n",
              "    }\n",
              "</style>\n",
              "<table border=\"1\" class=\"dataframe\">\n",
              "  <thead>\n",
              "    <tr style=\"text-align: right;\">\n",
              "      <th></th>\n",
              "      <th>ID_Patient_Care_Situation</th>\n",
              "      <th>Diagnosed_Condition</th>\n",
              "      <th>Patient_ID</th>\n",
              "      <th>Patient_Age</th>\n",
              "      <th>Patient_Body_Mass_Index</th>\n",
              "      <th>A</th>\n",
              "      <th>B</th>\n",
              "      <th>C</th>\n",
              "      <th>D</th>\n",
              "      <th>E</th>\n",
              "      <th>...</th>\n",
              "      <th>DX1</th>\n",
              "      <th>DX2</th>\n",
              "      <th>DX3</th>\n",
              "      <th>DX4</th>\n",
              "      <th>DX5</th>\n",
              "      <th>DX6</th>\n",
              "      <th>Patient_Smoker_NO</th>\n",
              "      <th>Patient_Smoker_YES</th>\n",
              "      <th>Patient_Rural_Urban_RURAL</th>\n",
              "      <th>Patient_Rural_Urban_URBAN</th>\n",
              "    </tr>\n",
              "  </thead>\n",
              "  <tbody>\n",
              "    <tr>\n",
              "      <th>3652</th>\n",
              "      <td>32215</td>\n",
              "      <td>1</td>\n",
              "      <td>11894</td>\n",
              "      <td>22</td>\n",
              "      <td>29.033409</td>\n",
              "      <td>1.0</td>\n",
              "      <td>0.0</td>\n",
              "      <td>0.0</td>\n",
              "      <td>0.0</td>\n",
              "      <td>0.0</td>\n",
              "      <td>...</td>\n",
              "      <td>1</td>\n",
              "      <td>1</td>\n",
              "      <td>0</td>\n",
              "      <td>0</td>\n",
              "      <td>0</td>\n",
              "      <td>0</td>\n",
              "      <td>1</td>\n",
              "      <td>0</td>\n",
              "      <td>1</td>\n",
              "      <td>0</td>\n",
              "    </tr>\n",
              "    <tr>\n",
              "      <th>13452</th>\n",
              "      <td>25391</td>\n",
              "      <td>20</td>\n",
              "      <td>1096</td>\n",
              "      <td>1</td>\n",
              "      <td>19.195376</td>\n",
              "      <td>1.0</td>\n",
              "      <td>1.0</td>\n",
              "      <td>0.0</td>\n",
              "      <td>0.0</td>\n",
              "      <td>1.0</td>\n",
              "      <td>...</td>\n",
              "      <td>0</td>\n",
              "      <td>1</td>\n",
              "      <td>0</td>\n",
              "      <td>0</td>\n",
              "      <td>0</td>\n",
              "      <td>0</td>\n",
              "      <td>1</td>\n",
              "      <td>0</td>\n",
              "      <td>1</td>\n",
              "      <td>0</td>\n",
              "    </tr>\n",
              "    <tr>\n",
              "      <th>8804</th>\n",
              "      <td>2542</td>\n",
              "      <td>24</td>\n",
              "      <td>2689</td>\n",
              "      <td>42</td>\n",
              "      <td>26.581994</td>\n",
              "      <td>1.0</td>\n",
              "      <td>0.0</td>\n",
              "      <td>1.0</td>\n",
              "      <td>0.0</td>\n",
              "      <td>0.0</td>\n",
              "      <td>...</td>\n",
              "      <td>1</td>\n",
              "      <td>1</td>\n",
              "      <td>0</td>\n",
              "      <td>1</td>\n",
              "      <td>0</td>\n",
              "      <td>0</td>\n",
              "      <td>0</td>\n",
              "      <td>1</td>\n",
              "      <td>0</td>\n",
              "      <td>1</td>\n",
              "    </tr>\n",
              "    <tr>\n",
              "      <th>4842</th>\n",
              "      <td>10691</td>\n",
              "      <td>4</td>\n",
              "      <td>4670</td>\n",
              "      <td>55</td>\n",
              "      <td>29.730528</td>\n",
              "      <td>0.0</td>\n",
              "      <td>0.0</td>\n",
              "      <td>0.0</td>\n",
              "      <td>0.0</td>\n",
              "      <td>1.0</td>\n",
              "      <td>...</td>\n",
              "      <td>0</td>\n",
              "      <td>0</td>\n",
              "      <td>0</td>\n",
              "      <td>0</td>\n",
              "      <td>0</td>\n",
              "      <td>1</td>\n",
              "      <td>1</td>\n",
              "      <td>0</td>\n",
              "      <td>0</td>\n",
              "      <td>1</td>\n",
              "    </tr>\n",
              "    <tr>\n",
              "      <th>23083</th>\n",
              "      <td>1799</td>\n",
              "      <td>50</td>\n",
              "      <td>5322</td>\n",
              "      <td>52</td>\n",
              "      <td>18.827974</td>\n",
              "      <td>1.0</td>\n",
              "      <td>1.0</td>\n",
              "      <td>0.0</td>\n",
              "      <td>0.0</td>\n",
              "      <td>0.0</td>\n",
              "      <td>...</td>\n",
              "      <td>0</td>\n",
              "      <td>0</td>\n",
              "      <td>0</td>\n",
              "      <td>1</td>\n",
              "      <td>0</td>\n",
              "      <td>0</td>\n",
              "      <td>1</td>\n",
              "      <td>0</td>\n",
              "      <td>1</td>\n",
              "      <td>0</td>\n",
              "    </tr>\n",
              "  </tbody>\n",
              "</table>\n",
              "<p>5 rows × 23 columns</p>\n",
              "</div>\n",
              "      <button class=\"colab-df-convert\" onclick=\"convertToInteractive('df-efa3824c-159b-4d9d-a170-881839f648a8')\"\n",
              "              title=\"Convert this dataframe to an interactive table.\"\n",
              "              style=\"display:none;\">\n",
              "        \n",
              "  <svg xmlns=\"http://www.w3.org/2000/svg\" height=\"24px\"viewBox=\"0 0 24 24\"\n",
              "       width=\"24px\">\n",
              "    <path d=\"M0 0h24v24H0V0z\" fill=\"none\"/>\n",
              "    <path d=\"M18.56 5.44l.94 2.06.94-2.06 2.06-.94-2.06-.94-.94-2.06-.94 2.06-2.06.94zm-11 1L8.5 8.5l.94-2.06 2.06-.94-2.06-.94L8.5 2.5l-.94 2.06-2.06.94zm10 10l.94 2.06.94-2.06 2.06-.94-2.06-.94-.94-2.06-.94 2.06-2.06.94z\"/><path d=\"M17.41 7.96l-1.37-1.37c-.4-.4-.92-.59-1.43-.59-.52 0-1.04.2-1.43.59L10.3 9.45l-7.72 7.72c-.78.78-.78 2.05 0 2.83L4 21.41c.39.39.9.59 1.41.59.51 0 1.02-.2 1.41-.59l7.78-7.78 2.81-2.81c.8-.78.8-2.07 0-2.86zM5.41 20L4 18.59l7.72-7.72 1.47 1.35L5.41 20z\"/>\n",
              "  </svg>\n",
              "      </button>\n",
              "      \n",
              "  <style>\n",
              "    .colab-df-container {\n",
              "      display:flex;\n",
              "      flex-wrap:wrap;\n",
              "      gap: 12px;\n",
              "    }\n",
              "\n",
              "    .colab-df-convert {\n",
              "      background-color: #E8F0FE;\n",
              "      border: none;\n",
              "      border-radius: 50%;\n",
              "      cursor: pointer;\n",
              "      display: none;\n",
              "      fill: #1967D2;\n",
              "      height: 32px;\n",
              "      padding: 0 0 0 0;\n",
              "      width: 32px;\n",
              "    }\n",
              "\n",
              "    .colab-df-convert:hover {\n",
              "      background-color: #E2EBFA;\n",
              "      box-shadow: 0px 1px 2px rgba(60, 64, 67, 0.3), 0px 1px 3px 1px rgba(60, 64, 67, 0.15);\n",
              "      fill: #174EA6;\n",
              "    }\n",
              "\n",
              "    [theme=dark] .colab-df-convert {\n",
              "      background-color: #3B4455;\n",
              "      fill: #D2E3FC;\n",
              "    }\n",
              "\n",
              "    [theme=dark] .colab-df-convert:hover {\n",
              "      background-color: #434B5C;\n",
              "      box-shadow: 0px 1px 3px 1px rgba(0, 0, 0, 0.15);\n",
              "      filter: drop-shadow(0px 1px 2px rgba(0, 0, 0, 0.3));\n",
              "      fill: #FFFFFF;\n",
              "    }\n",
              "  </style>\n",
              "\n",
              "      <script>\n",
              "        const buttonEl =\n",
              "          document.querySelector('#df-efa3824c-159b-4d9d-a170-881839f648a8 button.colab-df-convert');\n",
              "        buttonEl.style.display =\n",
              "          google.colab.kernel.accessAllowed ? 'block' : 'none';\n",
              "\n",
              "        async function convertToInteractive(key) {\n",
              "          const element = document.querySelector('#df-efa3824c-159b-4d9d-a170-881839f648a8');\n",
              "          const dataTable =\n",
              "            await google.colab.kernel.invokeFunction('convertToInteractive',\n",
              "                                                     [key], {});\n",
              "          if (!dataTable) return;\n",
              "\n",
              "          const docLinkHtml = 'Like what you see? Visit the ' +\n",
              "            '<a target=\"_blank\" href=https://colab.research.google.com/notebooks/data_table.ipynb>data table notebook</a>'\n",
              "            + ' to learn more about interactive tables.';\n",
              "          element.innerHTML = '';\n",
              "          dataTable['output_type'] = 'display_data';\n",
              "          await google.colab.output.renderOutput(dataTable, element);\n",
              "          const docLink = document.createElement('div');\n",
              "          docLink.innerHTML = docLinkHtml;\n",
              "          element.appendChild(docLink);\n",
              "        }\n",
              "      </script>\n",
              "    </div>\n",
              "  </div>\n",
              "  "
            ]
          },
          "metadata": {},
          "execution_count": 44
        }
      ],
      "source": [
        "test_new_data.head()"
      ]
    },
    {
      "cell_type": "code",
      "execution_count": null,
      "metadata": {
        "colab": {
          "base_uri": "https://localhost:8080/"
        },
        "id": "JaziRrQVA-jT",
        "outputId": "ae687790-ecbd-453c-90ac-45565317bc02"
      },
      "outputs": [
        {
          "output_type": "stream",
          "name": "stdout",
          "text": [
            "<class 'pandas.core.frame.DataFrame'>\n",
            "Int64Index: 4620 entries, 3652 to 16117\n",
            "Data columns (total 23 columns):\n",
            " #   Column                     Non-Null Count  Dtype  \n",
            "---  ------                     --------------  -----  \n",
            " 0   ID_Patient_Care_Situation  4620 non-null   int64  \n",
            " 1   Diagnosed_Condition        4620 non-null   int64  \n",
            " 2   Patient_ID                 4620 non-null   int64  \n",
            " 3   Patient_Age                4620 non-null   int64  \n",
            " 4   Patient_Body_Mass_Index    4620 non-null   float64\n",
            " 5   A                          4620 non-null   float64\n",
            " 6   B                          4620 non-null   float64\n",
            " 7   C                          4620 non-null   float64\n",
            " 8   D                          4620 non-null   float64\n",
            " 9   E                          4620 non-null   float64\n",
            " 10  F                          4620 non-null   float64\n",
            " 11  Z                          4620 non-null   float64\n",
            " 12  Number_of_prev_cond        4620 non-null   float64\n",
            " 13  DX1                        4620 non-null   int64  \n",
            " 14  DX2                        4620 non-null   int64  \n",
            " 15  DX3                        4620 non-null   int64  \n",
            " 16  DX4                        4620 non-null   int64  \n",
            " 17  DX5                        4620 non-null   int64  \n",
            " 18  DX6                        4620 non-null   int64  \n",
            " 19  Patient_Smoker_NO          4620 non-null   uint8  \n",
            " 20  Patient_Smoker_YES         4620 non-null   uint8  \n",
            " 21  Patient_Rural_Urban_RURAL  4620 non-null   uint8  \n",
            " 22  Patient_Rural_Urban_URBAN  4620 non-null   uint8  \n",
            "dtypes: float64(9), int64(10), uint8(4)\n",
            "memory usage: 739.9 KB\n"
          ]
        }
      ],
      "source": [
        "test_new_data.info()"
      ]
    },
    {
      "cell_type": "markdown",
      "metadata": {
        "id": "6vq9tDkbBDdx"
      },
      "source": [
        "As you can see there are no missing data now and all the data are of numerical type.\n",
        "\n",
        "The column - 'ID_Patient_Care_Situation' is an ID. Here we can remove this column too as we did in training dataset."
      ]
    },
    {
      "cell_type": "code",
      "execution_count": null,
      "metadata": {
        "id": "WZyfjhDuBAvk"
      },
      "outputs": [],
      "source": [
        "test_new_data.drop(['ID_Patient_Care_Situation'], axis =1, inplace=True)"
      ]
    },
    {
      "cell_type": "code",
      "execution_count": null,
      "metadata": {
        "colab": {
          "base_uri": "https://localhost:8080/"
        },
        "id": "EjC5UjtRFihV",
        "outputId": "80ea399a-ec45-4d66-9453-5aa9a6cb24d9"
      },
      "outputs": [
        {
          "output_type": "stream",
          "name": "stdout",
          "text": [
            "<class 'pandas.core.frame.DataFrame'>\n",
            "Int64Index: 4620 entries, 3652 to 16117\n",
            "Data columns (total 22 columns):\n",
            " #   Column                     Non-Null Count  Dtype  \n",
            "---  ------                     --------------  -----  \n",
            " 0   Diagnosed_Condition        4620 non-null   int64  \n",
            " 1   Patient_ID                 4620 non-null   int64  \n",
            " 2   Patient_Age                4620 non-null   int64  \n",
            " 3   Patient_Body_Mass_Index    4620 non-null   float64\n",
            " 4   A                          4620 non-null   float64\n",
            " 5   B                          4620 non-null   float64\n",
            " 6   C                          4620 non-null   float64\n",
            " 7   D                          4620 non-null   float64\n",
            " 8   E                          4620 non-null   float64\n",
            " 9   F                          4620 non-null   float64\n",
            " 10  Z                          4620 non-null   float64\n",
            " 11  Number_of_prev_cond        4620 non-null   float64\n",
            " 12  DX1                        4620 non-null   int64  \n",
            " 13  DX2                        4620 non-null   int64  \n",
            " 14  DX3                        4620 non-null   int64  \n",
            " 15  DX4                        4620 non-null   int64  \n",
            " 16  DX5                        4620 non-null   int64  \n",
            " 17  DX6                        4620 non-null   int64  \n",
            " 18  Patient_Smoker_NO          4620 non-null   uint8  \n",
            " 19  Patient_Smoker_YES         4620 non-null   uint8  \n",
            " 20  Patient_Rural_Urban_RURAL  4620 non-null   uint8  \n",
            " 21  Patient_Rural_Urban_URBAN  4620 non-null   uint8  \n",
            "dtypes: float64(9), int64(9), uint8(4)\n",
            "memory usage: 703.8 KB\n"
          ]
        }
      ],
      "source": [
        "test_new_data.info()"
      ]
    },
    {
      "cell_type": "markdown",
      "metadata": {
        "id": "zZQWNZ8giFab"
      },
      "source": [
        "If you notice the training data i.e. 'data' dataframe, there is not any column named 'Patient_Smoker_Cannot say' while test data i.e. test_new_data has. We need to drop this column form test set."
      ]
    },
    {
      "cell_type": "markdown",
      "metadata": {
        "id": "dae-IqqflAr6"
      },
      "source": [
        "### **Model Building**\n",
        "\n",
        "We have seen from Exploratory Data Analysis that this is a classification problem as the target column 'Survived_1_year' has two values 0 - means the patient did not survive after one year of treatment, 1 - means the patient survived after one year of treatment. So we can use classification models for this problem. Some of the classification models are - Logistic Regression, Random Forest Classifier, Decision Tree Classifier, etc. However, we have used two of them - Logistic Regression and Random Forest Classifier."
      ]
    },
    {
      "cell_type": "markdown",
      "metadata": {
        "id": "aD4-0REovxrJ"
      },
      "source": [
        "### 1. Logistic Regression Model"
      ]
    },
    {
      "cell_type": "code",
      "execution_count": null,
      "metadata": {
        "colab": {
          "base_uri": "https://localhost:8080/"
        },
        "id": "KetD4NJVRtm5",
        "outputId": "3d561ac2-6cbb-41dd-ce74-b42c42151749"
      },
      "outputs": [
        {
          "output_type": "execute_result",
          "data": {
            "text/plain": [
              "LogisticRegression(max_iter=1000)"
            ]
          },
          "metadata": {},
          "execution_count": 48
        }
      ],
      "source": [
        "model = LogisticRegression(max_iter = 1000)     # The maximum number of iterations will be 1000. This will help you prevent from convergence warning.\n",
        "model.fit(X_train,y_train)"
      ]
    },
    {
      "cell_type": "markdown",
      "metadata": {
        "id": "sj_50jXuOGeJ"
      },
      "source": [
        "### Model Evaluation"
      ]
    },
    {
      "cell_type": "code",
      "execution_count": null,
      "metadata": {
        "colab": {
          "base_uri": "https://localhost:8080/"
        },
        "id": "ColXRvVTQDaO",
        "outputId": "cdb7dd7d-ec8f-4966-92cb-60123e873f36"
      },
      "outputs": [
        {
          "output_type": "execute_result",
          "data": {
            "text/plain": [
              "0.7865745945077885"
            ]
          },
          "metadata": {},
          "execution_count": 49
        }
      ],
      "source": [
        "f1_score(y_test, model.predict(test_new_data))"
      ]
    },
    {
      "cell_type": "markdown",
      "metadata": {
        "id": "Mhz9mf0HcuKK"
      },
      "source": [
        "### 2. Random Forest"
      ]
    },
    {
      "cell_type": "code",
      "execution_count": null,
      "metadata": {
        "id": "MJicCfODcOXf"
      },
      "outputs": [],
      "source": [
        "from sklearn.feature_selection import SelectFromModel\n",
        "from sklearn.metrics import accuracy_score, f1_score\n",
        "from sklearn.ensemble import RandomForestClassifier"
      ]
    },
    {
      "cell_type": "code",
      "execution_count": null,
      "metadata": {
        "colab": {
          "base_uri": "https://localhost:8080/"
        },
        "id": "GntBm9iDcWUK",
        "outputId": "90fda553-1ba6-45f9-b49c-749f64471213"
      },
      "outputs": [
        {
          "output_type": "execute_result",
          "data": {
            "text/plain": [
              "RandomForestClassifier(max_depth=5, n_estimators=1000, random_state=1)"
            ]
          },
          "metadata": {},
          "execution_count": 51
        }
      ],
      "source": [
        "forest = RandomForestClassifier(random_state=1, n_estimators=1000, max_depth=5)\n",
        " \n",
        "forest.fit(X_train, y_train)"
      ]
    },
    {
      "cell_type": "markdown",
      "metadata": {
        "id": "eMn7er-qUtMg"
      },
      "source": [
        "### Model Evaluation"
      ]
    },
    {
      "cell_type": "code",
      "execution_count": null,
      "metadata": {
        "colab": {
          "base_uri": "https://localhost:8080/"
        },
        "id": "-8fYEyiZUwte",
        "outputId": "13ac620a-62b8-4474-b657-856c6fce5c33"
      },
      "outputs": [
        {
          "output_type": "execute_result",
          "data": {
            "text/plain": [
              "0.8242056522433339"
            ]
          },
          "metadata": {},
          "execution_count": 52
        }
      ],
      "source": [
        "f1_score(y_test, forest.predict(test_new_data))"
      ]
    },
    {
      "cell_type": "markdown",
      "source": [
        "LogisticRegression 78% < RandomForestClassifier 82%"
      ],
      "metadata": {
        "id": "-n4UsNR2MRUt"
      }
    },
    {
      "cell_type": "markdown",
      "metadata": {
        "id": "t3SKPXc5cHsM"
      },
      "source": [
        "### 3. Random Forest and Boruta"
      ]
    },
    {
      "cell_type": "markdown",
      "metadata": {
        "id": "43DOz7pTTV31"
      },
      "source": [
        "Boruta is an all-relevant feature selection method. Unlike other techniques that select small set of features to minimize the error, Boruta tries to capture all the important and interesting features you might have in your dataset with respect to the target variable.\n",
        "\n",
        "Boruta by default uses random forest although it works with other algorithms like LightGBM, XGBoost etc.\n",
        "\n",
        "You can install Boruta with the command\n",
        "\n",
        "pip install Boruta"
      ]
    },
    {
      "cell_type": "code",
      "execution_count": null,
      "metadata": {
        "colab": {
          "base_uri": "https://localhost:8080/"
        },
        "id": "FtMJXkPWb66M",
        "outputId": "d3dc8bd2-e334-4c38-8a32-001bac72c58f"
      },
      "outputs": [
        {
          "output_type": "stream",
          "name": "stdout",
          "text": [
            "Looking in indexes: https://pypi.org/simple, https://us-python.pkg.dev/colab-wheels/public/simple/\n",
            "Collecting Boruta\n",
            "  Downloading Boruta-0.3-py3-none-any.whl (56 kB)\n",
            "\u001b[?25l\r\u001b[K     |█████▉                          | 10 kB 33.0 MB/s eta 0:00:01\r\u001b[K     |███████████▋                    | 20 kB 37.1 MB/s eta 0:00:01\r\u001b[K     |█████████████████▍              | 30 kB 39.3 MB/s eta 0:00:01\r\u001b[K     |███████████████████████▏        | 40 kB 35.8 MB/s eta 0:00:01\r\u001b[K     |█████████████████████████████   | 51 kB 38.5 MB/s eta 0:00:01\r\u001b[K     |████████████████████████████████| 56 kB 5.2 MB/s \n",
            "\u001b[?25hRequirement already satisfied: scipy>=0.17.0 in /usr/local/lib/python3.7/dist-packages (from Boruta) (1.7.3)\n",
            "Requirement already satisfied: numpy>=1.10.4 in /usr/local/lib/python3.7/dist-packages (from Boruta) (1.21.6)\n",
            "Requirement already satisfied: scikit-learn>=0.17.1 in /usr/local/lib/python3.7/dist-packages (from Boruta) (1.0.2)\n",
            "Requirement already satisfied: joblib>=0.11 in /usr/local/lib/python3.7/dist-packages (from scikit-learn>=0.17.1->Boruta) (1.1.0)\n",
            "Requirement already satisfied: threadpoolctl>=2.0.0 in /usr/local/lib/python3.7/dist-packages (from scikit-learn>=0.17.1->Boruta) (3.1.0)\n",
            "Installing collected packages: Boruta\n",
            "Successfully installed Boruta-0.3\n"
          ]
        }
      ],
      "source": [
        "!pip install Boruta"
      ]
    },
    {
      "cell_type": "code",
      "execution_count": null,
      "metadata": {
        "id": "asX2mOdTciEJ"
      },
      "outputs": [],
      "source": [
        "from boruta import BorutaPy"
      ]
    },
    {
      "cell_type": "code",
      "execution_count": null,
      "metadata": {
        "colab": {
          "base_uri": "https://localhost:8080/"
        },
        "id": "MUrj1AkQc3a-",
        "outputId": "9e8872db-860a-408b-b6ee-703b92f89750"
      },
      "outputs": [
        {
          "output_type": "stream",
          "name": "stdout",
          "text": [
            "Iteration: \t1 / 100\n",
            "Confirmed: \t0\n",
            "Tentative: \t22\n",
            "Rejected: \t0\n",
            "Iteration: \t2 / 100\n",
            "Confirmed: \t0\n",
            "Tentative: \t22\n",
            "Rejected: \t0\n",
            "Iteration: \t3 / 100\n",
            "Confirmed: \t0\n",
            "Tentative: \t22\n",
            "Rejected: \t0\n",
            "Iteration: \t4 / 100\n",
            "Confirmed: \t0\n",
            "Tentative: \t22\n",
            "Rejected: \t0\n",
            "Iteration: \t5 / 100\n",
            "Confirmed: \t0\n",
            "Tentative: \t22\n",
            "Rejected: \t0\n",
            "Iteration: \t6 / 100\n",
            "Confirmed: \t0\n",
            "Tentative: \t22\n",
            "Rejected: \t0\n",
            "Iteration: \t7 / 100\n",
            "Confirmed: \t0\n",
            "Tentative: \t22\n",
            "Rejected: \t0\n",
            "Iteration: \t8 / 100\n",
            "Confirmed: \t17\n",
            "Tentative: \t2\n",
            "Rejected: \t3\n",
            "Iteration: \t9 / 100\n",
            "Confirmed: \t17\n",
            "Tentative: \t2\n",
            "Rejected: \t3\n",
            "Iteration: \t10 / 100\n",
            "Confirmed: \t17\n",
            "Tentative: \t2\n",
            "Rejected: \t3\n",
            "Iteration: \t11 / 100\n",
            "Confirmed: \t17\n",
            "Tentative: \t2\n",
            "Rejected: \t3\n",
            "Iteration: \t12 / 100\n",
            "Confirmed: \t17\n",
            "Tentative: \t2\n",
            "Rejected: \t3\n",
            "Iteration: \t13 / 100\n",
            "Confirmed: \t17\n",
            "Tentative: \t2\n",
            "Rejected: \t3\n",
            "Iteration: \t14 / 100\n",
            "Confirmed: \t17\n",
            "Tentative: \t2\n",
            "Rejected: \t3\n",
            "Iteration: \t15 / 100\n",
            "Confirmed: \t17\n",
            "Tentative: \t2\n",
            "Rejected: \t3\n",
            "Iteration: \t16 / 100\n",
            "Confirmed: \t17\n",
            "Tentative: \t2\n",
            "Rejected: \t3\n",
            "Iteration: \t17 / 100\n",
            "Confirmed: \t17\n",
            "Tentative: \t2\n",
            "Rejected: \t3\n",
            "Iteration: \t18 / 100\n",
            "Confirmed: \t17\n",
            "Tentative: \t2\n",
            "Rejected: \t3\n",
            "Iteration: \t19 / 100\n",
            "Confirmed: \t17\n",
            "Tentative: \t2\n",
            "Rejected: \t3\n",
            "Iteration: \t20 / 100\n",
            "Confirmed: \t17\n",
            "Tentative: \t2\n",
            "Rejected: \t3\n",
            "Iteration: \t21 / 100\n",
            "Confirmed: \t17\n",
            "Tentative: \t2\n",
            "Rejected: \t3\n",
            "Iteration: \t22 / 100\n",
            "Confirmed: \t17\n",
            "Tentative: \t2\n",
            "Rejected: \t3\n",
            "Iteration: \t23 / 100\n",
            "Confirmed: \t17\n",
            "Tentative: \t2\n",
            "Rejected: \t3\n",
            "Iteration: \t24 / 100\n",
            "Confirmed: \t17\n",
            "Tentative: \t2\n",
            "Rejected: \t3\n",
            "Iteration: \t25 / 100\n",
            "Confirmed: \t17\n",
            "Tentative: \t2\n",
            "Rejected: \t3\n",
            "Iteration: \t26 / 100\n",
            "Confirmed: \t17\n",
            "Tentative: \t2\n",
            "Rejected: \t3\n",
            "Iteration: \t27 / 100\n",
            "Confirmed: \t17\n",
            "Tentative: \t2\n",
            "Rejected: \t3\n",
            "Iteration: \t28 / 100\n",
            "Confirmed: \t17\n",
            "Tentative: \t2\n",
            "Rejected: \t3\n",
            "Iteration: \t29 / 100\n",
            "Confirmed: \t17\n",
            "Tentative: \t2\n",
            "Rejected: \t3\n",
            "Iteration: \t30 / 100\n",
            "Confirmed: \t17\n",
            "Tentative: \t2\n",
            "Rejected: \t3\n",
            "Iteration: \t31 / 100\n",
            "Confirmed: \t17\n",
            "Tentative: \t2\n",
            "Rejected: \t3\n",
            "Iteration: \t32 / 100\n",
            "Confirmed: \t18\n",
            "Tentative: \t1\n",
            "Rejected: \t3\n",
            "Iteration: \t33 / 100\n",
            "Confirmed: \t18\n",
            "Tentative: \t1\n",
            "Rejected: \t3\n",
            "Iteration: \t34 / 100\n",
            "Confirmed: \t18\n",
            "Tentative: \t1\n",
            "Rejected: \t3\n",
            "Iteration: \t35 / 100\n",
            "Confirmed: \t18\n",
            "Tentative: \t1\n",
            "Rejected: \t3\n",
            "Iteration: \t36 / 100\n",
            "Confirmed: \t18\n",
            "Tentative: \t1\n",
            "Rejected: \t3\n",
            "Iteration: \t37 / 100\n",
            "Confirmed: \t18\n",
            "Tentative: \t1\n",
            "Rejected: \t3\n",
            "Iteration: \t38 / 100\n",
            "Confirmed: \t18\n",
            "Tentative: \t1\n",
            "Rejected: \t3\n",
            "Iteration: \t39 / 100\n",
            "Confirmed: \t18\n",
            "Tentative: \t1\n",
            "Rejected: \t3\n",
            "Iteration: \t40 / 100\n",
            "Confirmed: \t18\n",
            "Tentative: \t1\n",
            "Rejected: \t3\n",
            "Iteration: \t41 / 100\n",
            "Confirmed: \t18\n",
            "Tentative: \t1\n",
            "Rejected: \t3\n",
            "Iteration: \t42 / 100\n",
            "Confirmed: \t18\n",
            "Tentative: \t1\n",
            "Rejected: \t3\n",
            "Iteration: \t43 / 100\n",
            "Confirmed: \t18\n",
            "Tentative: \t1\n",
            "Rejected: \t3\n",
            "Iteration: \t44 / 100\n",
            "Confirmed: \t18\n",
            "Tentative: \t1\n",
            "Rejected: \t3\n",
            "Iteration: \t45 / 100\n",
            "Confirmed: \t18\n",
            "Tentative: \t1\n",
            "Rejected: \t3\n",
            "Iteration: \t46 / 100\n",
            "Confirmed: \t18\n",
            "Tentative: \t1\n",
            "Rejected: \t3\n",
            "Iteration: \t47 / 100\n",
            "Confirmed: \t18\n",
            "Tentative: \t1\n",
            "Rejected: \t3\n",
            "Iteration: \t48 / 100\n",
            "Confirmed: \t18\n",
            "Tentative: \t1\n",
            "Rejected: \t3\n",
            "Iteration: \t49 / 100\n",
            "Confirmed: \t18\n",
            "Tentative: \t1\n",
            "Rejected: \t3\n",
            "Iteration: \t50 / 100\n",
            "Confirmed: \t18\n",
            "Tentative: \t1\n",
            "Rejected: \t3\n",
            "Iteration: \t51 / 100\n",
            "Confirmed: \t18\n",
            "Tentative: \t1\n",
            "Rejected: \t3\n",
            "Iteration: \t52 / 100\n",
            "Confirmed: \t18\n",
            "Tentative: \t1\n",
            "Rejected: \t3\n",
            "Iteration: \t53 / 100\n",
            "Confirmed: \t18\n",
            "Tentative: \t1\n",
            "Rejected: \t3\n",
            "Iteration: \t54 / 100\n",
            "Confirmed: \t18\n",
            "Tentative: \t1\n",
            "Rejected: \t3\n",
            "Iteration: \t55 / 100\n",
            "Confirmed: \t18\n",
            "Tentative: \t1\n",
            "Rejected: \t3\n",
            "Iteration: \t56 / 100\n",
            "Confirmed: \t18\n",
            "Tentative: \t1\n",
            "Rejected: \t3\n",
            "Iteration: \t57 / 100\n",
            "Confirmed: \t18\n",
            "Tentative: \t1\n",
            "Rejected: \t3\n",
            "Iteration: \t58 / 100\n",
            "Confirmed: \t18\n",
            "Tentative: \t1\n",
            "Rejected: \t3\n",
            "Iteration: \t59 / 100\n",
            "Confirmed: \t18\n",
            "Tentative: \t1\n",
            "Rejected: \t3\n",
            "Iteration: \t60 / 100\n",
            "Confirmed: \t18\n",
            "Tentative: \t1\n",
            "Rejected: \t3\n",
            "Iteration: \t61 / 100\n",
            "Confirmed: \t18\n",
            "Tentative: \t1\n",
            "Rejected: \t3\n",
            "Iteration: \t62 / 100\n",
            "Confirmed: \t18\n",
            "Tentative: \t1\n",
            "Rejected: \t3\n",
            "Iteration: \t63 / 100\n",
            "Confirmed: \t18\n",
            "Tentative: \t1\n",
            "Rejected: \t3\n",
            "Iteration: \t64 / 100\n",
            "Confirmed: \t18\n",
            "Tentative: \t1\n",
            "Rejected: \t3\n",
            "Iteration: \t65 / 100\n",
            "Confirmed: \t18\n",
            "Tentative: \t1\n",
            "Rejected: \t3\n",
            "Iteration: \t66 / 100\n",
            "Confirmed: \t18\n",
            "Tentative: \t1\n",
            "Rejected: \t3\n",
            "Iteration: \t67 / 100\n",
            "Confirmed: \t18\n",
            "Tentative: \t1\n",
            "Rejected: \t3\n",
            "Iteration: \t68 / 100\n",
            "Confirmed: \t18\n",
            "Tentative: \t1\n",
            "Rejected: \t3\n",
            "Iteration: \t69 / 100\n",
            "Confirmed: \t18\n",
            "Tentative: \t1\n",
            "Rejected: \t3\n",
            "Iteration: \t70 / 100\n",
            "Confirmed: \t18\n",
            "Tentative: \t1\n",
            "Rejected: \t3\n",
            "Iteration: \t71 / 100\n",
            "Confirmed: \t18\n",
            "Tentative: \t1\n",
            "Rejected: \t3\n",
            "Iteration: \t72 / 100\n",
            "Confirmed: \t18\n",
            "Tentative: \t1\n",
            "Rejected: \t3\n",
            "Iteration: \t73 / 100\n",
            "Confirmed: \t18\n",
            "Tentative: \t1\n",
            "Rejected: \t3\n",
            "Iteration: \t74 / 100\n",
            "Confirmed: \t18\n",
            "Tentative: \t1\n",
            "Rejected: \t3\n",
            "Iteration: \t75 / 100\n",
            "Confirmed: \t18\n",
            "Tentative: \t1\n",
            "Rejected: \t3\n",
            "Iteration: \t76 / 100\n",
            "Confirmed: \t18\n",
            "Tentative: \t1\n",
            "Rejected: \t3\n",
            "Iteration: \t77 / 100\n",
            "Confirmed: \t18\n",
            "Tentative: \t1\n",
            "Rejected: \t3\n",
            "Iteration: \t78 / 100\n",
            "Confirmed: \t18\n",
            "Tentative: \t1\n",
            "Rejected: \t3\n",
            "Iteration: \t79 / 100\n",
            "Confirmed: \t18\n",
            "Tentative: \t1\n",
            "Rejected: \t3\n",
            "Iteration: \t80 / 100\n",
            "Confirmed: \t18\n",
            "Tentative: \t1\n",
            "Rejected: \t3\n",
            "Iteration: \t81 / 100\n",
            "Confirmed: \t18\n",
            "Tentative: \t1\n",
            "Rejected: \t3\n",
            "Iteration: \t82 / 100\n",
            "Confirmed: \t18\n",
            "Tentative: \t1\n",
            "Rejected: \t3\n",
            "Iteration: \t83 / 100\n",
            "Confirmed: \t18\n",
            "Tentative: \t1\n",
            "Rejected: \t3\n",
            "Iteration: \t84 / 100\n",
            "Confirmed: \t18\n",
            "Tentative: \t1\n",
            "Rejected: \t3\n",
            "Iteration: \t85 / 100\n",
            "Confirmed: \t18\n",
            "Tentative: \t1\n",
            "Rejected: \t3\n",
            "Iteration: \t86 / 100\n",
            "Confirmed: \t18\n",
            "Tentative: \t1\n",
            "Rejected: \t3\n",
            "Iteration: \t87 / 100\n",
            "Confirmed: \t18\n",
            "Tentative: \t1\n",
            "Rejected: \t3\n",
            "Iteration: \t88 / 100\n",
            "Confirmed: \t18\n",
            "Tentative: \t1\n",
            "Rejected: \t3\n",
            "Iteration: \t89 / 100\n",
            "Confirmed: \t18\n",
            "Tentative: \t1\n",
            "Rejected: \t3\n",
            "Iteration: \t90 / 100\n",
            "Confirmed: \t18\n",
            "Tentative: \t1\n",
            "Rejected: \t3\n",
            "Iteration: \t91 / 100\n",
            "Confirmed: \t18\n",
            "Tentative: \t1\n",
            "Rejected: \t3\n",
            "Iteration: \t92 / 100\n",
            "Confirmed: \t18\n",
            "Tentative: \t1\n",
            "Rejected: \t3\n",
            "Iteration: \t93 / 100\n",
            "Confirmed: \t18\n",
            "Tentative: \t1\n",
            "Rejected: \t3\n",
            "Iteration: \t94 / 100\n",
            "Confirmed: \t18\n",
            "Tentative: \t1\n",
            "Rejected: \t3\n",
            "Iteration: \t95 / 100\n",
            "Confirmed: \t18\n",
            "Tentative: \t1\n",
            "Rejected: \t3\n",
            "Iteration: \t96 / 100\n",
            "Confirmed: \t18\n",
            "Tentative: \t1\n",
            "Rejected: \t3\n",
            "Iteration: \t97 / 100\n",
            "Confirmed: \t18\n",
            "Tentative: \t1\n",
            "Rejected: \t3\n",
            "Iteration: \t98 / 100\n",
            "Confirmed: \t18\n",
            "Tentative: \t1\n",
            "Rejected: \t3\n",
            "Iteration: \t99 / 100\n",
            "Confirmed: \t18\n",
            "Tentative: \t1\n",
            "Rejected: \t3\n",
            "\n",
            "\n",
            "BorutaPy finished running.\n",
            "\n",
            "Iteration: \t100 / 100\n",
            "Confirmed: \t18\n",
            "Tentative: \t0\n",
            "Rejected: \t3\n"
          ]
        },
        {
          "output_type": "execute_result",
          "data": {
            "text/plain": [
              "BorutaPy(estimator=RandomForestClassifier(max_depth=5, n_estimators=123,\n",
              "                                          random_state=RandomState(MT19937) at 0x7F356EB75D10),\n",
              "         n_estimators='auto',\n",
              "         random_state=RandomState(MT19937) at 0x7F356EB75D10, verbose=2)"
            ]
          },
          "metadata": {},
          "execution_count": 55
        }
      ],
      "source": [
        "rfc = RandomForestClassifier(random_state=1, n_estimators=1000, max_depth=5)\n",
        "boruta_selector = BorutaPy(rfc, n_estimators='auto', verbose=2, random_state=1)   # initialize the boruta selector\n",
        "boruta_selector.fit(np.array(X_train), np.array(y_train))       # fitting the boruta selector to get all relavent features. \n",
        "# NOTE: BorutaPy accepts numpy arrays only."
      ]
    },
    {
      "cell_type": "code",
      "execution_count": null,
      "metadata": {
        "colab": {
          "base_uri": "https://localhost:8080/"
        },
        "id": "MTy7LKwVc6sS",
        "outputId": "7abd96eb-e659-4c89-e373-97cb665b2afb"
      },
      "outputs": [
        {
          "output_type": "stream",
          "name": "stdout",
          "text": [
            "Selected Features:  [ True  True  True  True  True  True False  True False False False  True\n",
            "  True  True  True  True  True  True  True  True  True  True]\n",
            "Ranking:  [1 1 1 1 1 1 2 1 3 5 4 1 1 1 1 1 1 1 1 1 1 1]\n",
            "No. of significant features:  18\n"
          ]
        }
      ],
      "source": [
        "print(\"Selected Features: \", boruta_selector.support_)    # check selected features\n",
        " \n",
        "\n",
        "print(\"Ranking: \",boruta_selector.ranking_)               # check ranking of features\n",
        "\n",
        "print(\"No. of significant features: \", boruta_selector.n_features_)"
      ]
    },
    {
      "cell_type": "code",
      "source": [
        "X_train.head()"
      ],
      "metadata": {
        "colab": {
          "base_uri": "https://localhost:8080/",
          "height": 299
        },
        "id": "byzqZ3UPNBld",
        "outputId": "a6fa3709-f5ec-449b-fc57-61e92714261a"
      },
      "execution_count": null,
      "outputs": [
        {
          "output_type": "execute_result",
          "data": {
            "text/plain": [
              "       Diagnosed_Condition  Patient_ID  Patient_Age  Patient_Body_Mass_Index  \\\n",
              "3955                    10        4842           37                22.673581   \n",
              "13205                   44        1024           11                29.883019   \n",
              "14868                   49         195           53                17.580741   \n",
              "13249                   27         291           22                21.468654   \n",
              "8383                    24        5543           62                29.204603   \n",
              "\n",
              "         A    B    C    D    E    F  ...  DX1  DX2  DX3  DX4  DX5  DX6  \\\n",
              "3955   1.0  0.0  0.0  0.0  0.0  0.0  ...    0    0    0    0    0    1   \n",
              "13205  1.0  0.0  0.0  0.0  1.0  0.0  ...    0    0    0    0    0    1   \n",
              "14868  0.0  0.0  0.0  0.0  1.0  0.0  ...    0    0    0    0    1    0   \n",
              "13249  1.0  1.0  0.0  0.0  0.0  0.0  ...    1    0    1    0    0    0   \n",
              "8383   1.0  0.0  0.0  0.0  0.0  0.0  ...    1    1    1    0    0    0   \n",
              "\n",
              "       Patient_Smoker_NO  Patient_Smoker_YES  Patient_Rural_Urban_RURAL  \\\n",
              "3955                   0                   1                          1   \n",
              "13205                  1                   0                          0   \n",
              "14868                  0                   1                          1   \n",
              "13249                  1                   0                          0   \n",
              "8383                   1                   0                          0   \n",
              "\n",
              "       Patient_Rural_Urban_URBAN  \n",
              "3955                           0  \n",
              "13205                          1  \n",
              "14868                          0  \n",
              "13249                          1  \n",
              "8383                           1  \n",
              "\n",
              "[5 rows x 22 columns]"
            ],
            "text/html": [
              "\n",
              "  <div id=\"df-487b4a3a-a1af-480e-9272-caf3873e713c\">\n",
              "    <div class=\"colab-df-container\">\n",
              "      <div>\n",
              "<style scoped>\n",
              "    .dataframe tbody tr th:only-of-type {\n",
              "        vertical-align: middle;\n",
              "    }\n",
              "\n",
              "    .dataframe tbody tr th {\n",
              "        vertical-align: top;\n",
              "    }\n",
              "\n",
              "    .dataframe thead th {\n",
              "        text-align: right;\n",
              "    }\n",
              "</style>\n",
              "<table border=\"1\" class=\"dataframe\">\n",
              "  <thead>\n",
              "    <tr style=\"text-align: right;\">\n",
              "      <th></th>\n",
              "      <th>Diagnosed_Condition</th>\n",
              "      <th>Patient_ID</th>\n",
              "      <th>Patient_Age</th>\n",
              "      <th>Patient_Body_Mass_Index</th>\n",
              "      <th>A</th>\n",
              "      <th>B</th>\n",
              "      <th>C</th>\n",
              "      <th>D</th>\n",
              "      <th>E</th>\n",
              "      <th>F</th>\n",
              "      <th>...</th>\n",
              "      <th>DX1</th>\n",
              "      <th>DX2</th>\n",
              "      <th>DX3</th>\n",
              "      <th>DX4</th>\n",
              "      <th>DX5</th>\n",
              "      <th>DX6</th>\n",
              "      <th>Patient_Smoker_NO</th>\n",
              "      <th>Patient_Smoker_YES</th>\n",
              "      <th>Patient_Rural_Urban_RURAL</th>\n",
              "      <th>Patient_Rural_Urban_URBAN</th>\n",
              "    </tr>\n",
              "  </thead>\n",
              "  <tbody>\n",
              "    <tr>\n",
              "      <th>3955</th>\n",
              "      <td>10</td>\n",
              "      <td>4842</td>\n",
              "      <td>37</td>\n",
              "      <td>22.673581</td>\n",
              "      <td>1.0</td>\n",
              "      <td>0.0</td>\n",
              "      <td>0.0</td>\n",
              "      <td>0.0</td>\n",
              "      <td>0.0</td>\n",
              "      <td>0.0</td>\n",
              "      <td>...</td>\n",
              "      <td>0</td>\n",
              "      <td>0</td>\n",
              "      <td>0</td>\n",
              "      <td>0</td>\n",
              "      <td>0</td>\n",
              "      <td>1</td>\n",
              "      <td>0</td>\n",
              "      <td>1</td>\n",
              "      <td>1</td>\n",
              "      <td>0</td>\n",
              "    </tr>\n",
              "    <tr>\n",
              "      <th>13205</th>\n",
              "      <td>44</td>\n",
              "      <td>1024</td>\n",
              "      <td>11</td>\n",
              "      <td>29.883019</td>\n",
              "      <td>1.0</td>\n",
              "      <td>0.0</td>\n",
              "      <td>0.0</td>\n",
              "      <td>0.0</td>\n",
              "      <td>1.0</td>\n",
              "      <td>0.0</td>\n",
              "      <td>...</td>\n",
              "      <td>0</td>\n",
              "      <td>0</td>\n",
              "      <td>0</td>\n",
              "      <td>0</td>\n",
              "      <td>0</td>\n",
              "      <td>1</td>\n",
              "      <td>1</td>\n",
              "      <td>0</td>\n",
              "      <td>0</td>\n",
              "      <td>1</td>\n",
              "    </tr>\n",
              "    <tr>\n",
              "      <th>14868</th>\n",
              "      <td>49</td>\n",
              "      <td>195</td>\n",
              "      <td>53</td>\n",
              "      <td>17.580741</td>\n",
              "      <td>0.0</td>\n",
              "      <td>0.0</td>\n",
              "      <td>0.0</td>\n",
              "      <td>0.0</td>\n",
              "      <td>1.0</td>\n",
              "      <td>0.0</td>\n",
              "      <td>...</td>\n",
              "      <td>0</td>\n",
              "      <td>0</td>\n",
              "      <td>0</td>\n",
              "      <td>0</td>\n",
              "      <td>1</td>\n",
              "      <td>0</td>\n",
              "      <td>0</td>\n",
              "      <td>1</td>\n",
              "      <td>1</td>\n",
              "      <td>0</td>\n",
              "    </tr>\n",
              "    <tr>\n",
              "      <th>13249</th>\n",
              "      <td>27</td>\n",
              "      <td>291</td>\n",
              "      <td>22</td>\n",
              "      <td>21.468654</td>\n",
              "      <td>1.0</td>\n",
              "      <td>1.0</td>\n",
              "      <td>0.0</td>\n",
              "      <td>0.0</td>\n",
              "      <td>0.0</td>\n",
              "      <td>0.0</td>\n",
              "      <td>...</td>\n",
              "      <td>1</td>\n",
              "      <td>0</td>\n",
              "      <td>1</td>\n",
              "      <td>0</td>\n",
              "      <td>0</td>\n",
              "      <td>0</td>\n",
              "      <td>1</td>\n",
              "      <td>0</td>\n",
              "      <td>0</td>\n",
              "      <td>1</td>\n",
              "    </tr>\n",
              "    <tr>\n",
              "      <th>8383</th>\n",
              "      <td>24</td>\n",
              "      <td>5543</td>\n",
              "      <td>62</td>\n",
              "      <td>29.204603</td>\n",
              "      <td>1.0</td>\n",
              "      <td>0.0</td>\n",
              "      <td>0.0</td>\n",
              "      <td>0.0</td>\n",
              "      <td>0.0</td>\n",
              "      <td>0.0</td>\n",
              "      <td>...</td>\n",
              "      <td>1</td>\n",
              "      <td>1</td>\n",
              "      <td>1</td>\n",
              "      <td>0</td>\n",
              "      <td>0</td>\n",
              "      <td>0</td>\n",
              "      <td>1</td>\n",
              "      <td>0</td>\n",
              "      <td>0</td>\n",
              "      <td>1</td>\n",
              "    </tr>\n",
              "  </tbody>\n",
              "</table>\n",
              "<p>5 rows × 22 columns</p>\n",
              "</div>\n",
              "      <button class=\"colab-df-convert\" onclick=\"convertToInteractive('df-487b4a3a-a1af-480e-9272-caf3873e713c')\"\n",
              "              title=\"Convert this dataframe to an interactive table.\"\n",
              "              style=\"display:none;\">\n",
              "        \n",
              "  <svg xmlns=\"http://www.w3.org/2000/svg\" height=\"24px\"viewBox=\"0 0 24 24\"\n",
              "       width=\"24px\">\n",
              "    <path d=\"M0 0h24v24H0V0z\" fill=\"none\"/>\n",
              "    <path d=\"M18.56 5.44l.94 2.06.94-2.06 2.06-.94-2.06-.94-.94-2.06-.94 2.06-2.06.94zm-11 1L8.5 8.5l.94-2.06 2.06-.94-2.06-.94L8.5 2.5l-.94 2.06-2.06.94zm10 10l.94 2.06.94-2.06 2.06-.94-2.06-.94-.94-2.06-.94 2.06-2.06.94z\"/><path d=\"M17.41 7.96l-1.37-1.37c-.4-.4-.92-.59-1.43-.59-.52 0-1.04.2-1.43.59L10.3 9.45l-7.72 7.72c-.78.78-.78 2.05 0 2.83L4 21.41c.39.39.9.59 1.41.59.51 0 1.02-.2 1.41-.59l7.78-7.78 2.81-2.81c.8-.78.8-2.07 0-2.86zM5.41 20L4 18.59l7.72-7.72 1.47 1.35L5.41 20z\"/>\n",
              "  </svg>\n",
              "      </button>\n",
              "      \n",
              "  <style>\n",
              "    .colab-df-container {\n",
              "      display:flex;\n",
              "      flex-wrap:wrap;\n",
              "      gap: 12px;\n",
              "    }\n",
              "\n",
              "    .colab-df-convert {\n",
              "      background-color: #E8F0FE;\n",
              "      border: none;\n",
              "      border-radius: 50%;\n",
              "      cursor: pointer;\n",
              "      display: none;\n",
              "      fill: #1967D2;\n",
              "      height: 32px;\n",
              "      padding: 0 0 0 0;\n",
              "      width: 32px;\n",
              "    }\n",
              "\n",
              "    .colab-df-convert:hover {\n",
              "      background-color: #E2EBFA;\n",
              "      box-shadow: 0px 1px 2px rgba(60, 64, 67, 0.3), 0px 1px 3px 1px rgba(60, 64, 67, 0.15);\n",
              "      fill: #174EA6;\n",
              "    }\n",
              "\n",
              "    [theme=dark] .colab-df-convert {\n",
              "      background-color: #3B4455;\n",
              "      fill: #D2E3FC;\n",
              "    }\n",
              "\n",
              "    [theme=dark] .colab-df-convert:hover {\n",
              "      background-color: #434B5C;\n",
              "      box-shadow: 0px 1px 3px 1px rgba(0, 0, 0, 0.15);\n",
              "      filter: drop-shadow(0px 1px 2px rgba(0, 0, 0, 0.3));\n",
              "      fill: #FFFFFF;\n",
              "    }\n",
              "  </style>\n",
              "\n",
              "      <script>\n",
              "        const buttonEl =\n",
              "          document.querySelector('#df-487b4a3a-a1af-480e-9272-caf3873e713c button.colab-df-convert');\n",
              "        buttonEl.style.display =\n",
              "          google.colab.kernel.accessAllowed ? 'block' : 'none';\n",
              "\n",
              "        async function convertToInteractive(key) {\n",
              "          const element = document.querySelector('#df-487b4a3a-a1af-480e-9272-caf3873e713c');\n",
              "          const dataTable =\n",
              "            await google.colab.kernel.invokeFunction('convertToInteractive',\n",
              "                                                     [key], {});\n",
              "          if (!dataTable) return;\n",
              "\n",
              "          const docLinkHtml = 'Like what you see? Visit the ' +\n",
              "            '<a target=\"_blank\" href=https://colab.research.google.com/notebooks/data_table.ipynb>data table notebook</a>'\n",
              "            + ' to learn more about interactive tables.';\n",
              "          element.innerHTML = '';\n",
              "          dataTable['output_type'] = 'display_data';\n",
              "          await google.colab.output.renderOutput(dataTable, element);\n",
              "          const docLink = document.createElement('div');\n",
              "          docLink.innerHTML = docLinkHtml;\n",
              "          element.appendChild(docLink);\n",
              "        }\n",
              "      </script>\n",
              "    </div>\n",
              "  </div>\n",
              "  "
            ]
          },
          "metadata": {},
          "execution_count": 70
        }
      ]
    },
    {
      "cell_type": "markdown",
      "metadata": {
        "id": "fY14-4754gB9"
      },
      "source": [
        "So boruta has selected 18 relavent features. (The features with a ranking of 1 are selected). \n",
        "\n",
        "Let's visualise it better in the form of a table"
      ]
    },
    {
      "cell_type": "markdown",
      "metadata": {
        "id": "c2wK8F8GRWW4"
      },
      "source": [
        "#### Displaying features rank wise"
      ]
    },
    {
      "cell_type": "code",
      "execution_count": null,
      "metadata": {
        "colab": {
          "base_uri": "https://localhost:8080/",
          "height": 739
        },
        "id": "v88hkWC3dB3k",
        "outputId": "2a98e597-c47c-4b41-ffda-f16a8e485d8b"
      },
      "outputs": [
        {
          "output_type": "execute_result",
          "data": {
            "text/plain": [
              "                      Feature  Ranking\n",
              "0         Diagnosed_Condition        1\n",
              "19         Patient_Smoker_YES        1\n",
              "18          Patient_Smoker_NO        1\n",
              "17                        DX6        1\n",
              "16                        DX5        1\n",
              "15                        DX4        1\n",
              "14                        DX3        1\n",
              "13                        DX2        1\n",
              "12                        DX1        1\n",
              "11        Number_of_prev_cond        1\n",
              "21  Patient_Rural_Urban_URBAN        1\n",
              "7                           D        1\n",
              "5                           B        1\n",
              "4                           A        1\n",
              "3     Patient_Body_Mass_Index        1\n",
              "2                 Patient_Age        1\n",
              "1                  Patient_ID        1\n",
              "20  Patient_Rural_Urban_RURAL        1\n",
              "6                           C        2\n",
              "8                           E        3\n",
              "10                          Z        4\n",
              "9                           F        5"
            ],
            "text/html": [
              "\n",
              "  <div id=\"df-da456979-3817-462e-b254-c6180e7b05d8\">\n",
              "    <div class=\"colab-df-container\">\n",
              "      <div>\n",
              "<style scoped>\n",
              "    .dataframe tbody tr th:only-of-type {\n",
              "        vertical-align: middle;\n",
              "    }\n",
              "\n",
              "    .dataframe tbody tr th {\n",
              "        vertical-align: top;\n",
              "    }\n",
              "\n",
              "    .dataframe thead th {\n",
              "        text-align: right;\n",
              "    }\n",
              "</style>\n",
              "<table border=\"1\" class=\"dataframe\">\n",
              "  <thead>\n",
              "    <tr style=\"text-align: right;\">\n",
              "      <th></th>\n",
              "      <th>Feature</th>\n",
              "      <th>Ranking</th>\n",
              "    </tr>\n",
              "  </thead>\n",
              "  <tbody>\n",
              "    <tr>\n",
              "      <th>0</th>\n",
              "      <td>Diagnosed_Condition</td>\n",
              "      <td>1</td>\n",
              "    </tr>\n",
              "    <tr>\n",
              "      <th>19</th>\n",
              "      <td>Patient_Smoker_YES</td>\n",
              "      <td>1</td>\n",
              "    </tr>\n",
              "    <tr>\n",
              "      <th>18</th>\n",
              "      <td>Patient_Smoker_NO</td>\n",
              "      <td>1</td>\n",
              "    </tr>\n",
              "    <tr>\n",
              "      <th>17</th>\n",
              "      <td>DX6</td>\n",
              "      <td>1</td>\n",
              "    </tr>\n",
              "    <tr>\n",
              "      <th>16</th>\n",
              "      <td>DX5</td>\n",
              "      <td>1</td>\n",
              "    </tr>\n",
              "    <tr>\n",
              "      <th>15</th>\n",
              "      <td>DX4</td>\n",
              "      <td>1</td>\n",
              "    </tr>\n",
              "    <tr>\n",
              "      <th>14</th>\n",
              "      <td>DX3</td>\n",
              "      <td>1</td>\n",
              "    </tr>\n",
              "    <tr>\n",
              "      <th>13</th>\n",
              "      <td>DX2</td>\n",
              "      <td>1</td>\n",
              "    </tr>\n",
              "    <tr>\n",
              "      <th>12</th>\n",
              "      <td>DX1</td>\n",
              "      <td>1</td>\n",
              "    </tr>\n",
              "    <tr>\n",
              "      <th>11</th>\n",
              "      <td>Number_of_prev_cond</td>\n",
              "      <td>1</td>\n",
              "    </tr>\n",
              "    <tr>\n",
              "      <th>21</th>\n",
              "      <td>Patient_Rural_Urban_URBAN</td>\n",
              "      <td>1</td>\n",
              "    </tr>\n",
              "    <tr>\n",
              "      <th>7</th>\n",
              "      <td>D</td>\n",
              "      <td>1</td>\n",
              "    </tr>\n",
              "    <tr>\n",
              "      <th>5</th>\n",
              "      <td>B</td>\n",
              "      <td>1</td>\n",
              "    </tr>\n",
              "    <tr>\n",
              "      <th>4</th>\n",
              "      <td>A</td>\n",
              "      <td>1</td>\n",
              "    </tr>\n",
              "    <tr>\n",
              "      <th>3</th>\n",
              "      <td>Patient_Body_Mass_Index</td>\n",
              "      <td>1</td>\n",
              "    </tr>\n",
              "    <tr>\n",
              "      <th>2</th>\n",
              "      <td>Patient_Age</td>\n",
              "      <td>1</td>\n",
              "    </tr>\n",
              "    <tr>\n",
              "      <th>1</th>\n",
              "      <td>Patient_ID</td>\n",
              "      <td>1</td>\n",
              "    </tr>\n",
              "    <tr>\n",
              "      <th>20</th>\n",
              "      <td>Patient_Rural_Urban_RURAL</td>\n",
              "      <td>1</td>\n",
              "    </tr>\n",
              "    <tr>\n",
              "      <th>6</th>\n",
              "      <td>C</td>\n",
              "      <td>2</td>\n",
              "    </tr>\n",
              "    <tr>\n",
              "      <th>8</th>\n",
              "      <td>E</td>\n",
              "      <td>3</td>\n",
              "    </tr>\n",
              "    <tr>\n",
              "      <th>10</th>\n",
              "      <td>Z</td>\n",
              "      <td>4</td>\n",
              "    </tr>\n",
              "    <tr>\n",
              "      <th>9</th>\n",
              "      <td>F</td>\n",
              "      <td>5</td>\n",
              "    </tr>\n",
              "  </tbody>\n",
              "</table>\n",
              "</div>\n",
              "      <button class=\"colab-df-convert\" onclick=\"convertToInteractive('df-da456979-3817-462e-b254-c6180e7b05d8')\"\n",
              "              title=\"Convert this dataframe to an interactive table.\"\n",
              "              style=\"display:none;\">\n",
              "        \n",
              "  <svg xmlns=\"http://www.w3.org/2000/svg\" height=\"24px\"viewBox=\"0 0 24 24\"\n",
              "       width=\"24px\">\n",
              "    <path d=\"M0 0h24v24H0V0z\" fill=\"none\"/>\n",
              "    <path d=\"M18.56 5.44l.94 2.06.94-2.06 2.06-.94-2.06-.94-.94-2.06-.94 2.06-2.06.94zm-11 1L8.5 8.5l.94-2.06 2.06-.94-2.06-.94L8.5 2.5l-.94 2.06-2.06.94zm10 10l.94 2.06.94-2.06 2.06-.94-2.06-.94-.94-2.06-.94 2.06-2.06.94z\"/><path d=\"M17.41 7.96l-1.37-1.37c-.4-.4-.92-.59-1.43-.59-.52 0-1.04.2-1.43.59L10.3 9.45l-7.72 7.72c-.78.78-.78 2.05 0 2.83L4 21.41c.39.39.9.59 1.41.59.51 0 1.02-.2 1.41-.59l7.78-7.78 2.81-2.81c.8-.78.8-2.07 0-2.86zM5.41 20L4 18.59l7.72-7.72 1.47 1.35L5.41 20z\"/>\n",
              "  </svg>\n",
              "      </button>\n",
              "      \n",
              "  <style>\n",
              "    .colab-df-container {\n",
              "      display:flex;\n",
              "      flex-wrap:wrap;\n",
              "      gap: 12px;\n",
              "    }\n",
              "\n",
              "    .colab-df-convert {\n",
              "      background-color: #E8F0FE;\n",
              "      border: none;\n",
              "      border-radius: 50%;\n",
              "      cursor: pointer;\n",
              "      display: none;\n",
              "      fill: #1967D2;\n",
              "      height: 32px;\n",
              "      padding: 0 0 0 0;\n",
              "      width: 32px;\n",
              "    }\n",
              "\n",
              "    .colab-df-convert:hover {\n",
              "      background-color: #E2EBFA;\n",
              "      box-shadow: 0px 1px 2px rgba(60, 64, 67, 0.3), 0px 1px 3px 1px rgba(60, 64, 67, 0.15);\n",
              "      fill: #174EA6;\n",
              "    }\n",
              "\n",
              "    [theme=dark] .colab-df-convert {\n",
              "      background-color: #3B4455;\n",
              "      fill: #D2E3FC;\n",
              "    }\n",
              "\n",
              "    [theme=dark] .colab-df-convert:hover {\n",
              "      background-color: #434B5C;\n",
              "      box-shadow: 0px 1px 3px 1px rgba(0, 0, 0, 0.15);\n",
              "      filter: drop-shadow(0px 1px 2px rgba(0, 0, 0, 0.3));\n",
              "      fill: #FFFFFF;\n",
              "    }\n",
              "  </style>\n",
              "\n",
              "      <script>\n",
              "        const buttonEl =\n",
              "          document.querySelector('#df-da456979-3817-462e-b254-c6180e7b05d8 button.colab-df-convert');\n",
              "        buttonEl.style.display =\n",
              "          google.colab.kernel.accessAllowed ? 'block' : 'none';\n",
              "\n",
              "        async function convertToInteractive(key) {\n",
              "          const element = document.querySelector('#df-da456979-3817-462e-b254-c6180e7b05d8');\n",
              "          const dataTable =\n",
              "            await google.colab.kernel.invokeFunction('convertToInteractive',\n",
              "                                                     [key], {});\n",
              "          if (!dataTable) return;\n",
              "\n",
              "          const docLinkHtml = 'Like what you see? Visit the ' +\n",
              "            '<a target=\"_blank\" href=https://colab.research.google.com/notebooks/data_table.ipynb>data table notebook</a>'\n",
              "            + ' to learn more about interactive tables.';\n",
              "          element.innerHTML = '';\n",
              "          dataTable['output_type'] = 'display_data';\n",
              "          await google.colab.output.renderOutput(dataTable, element);\n",
              "          const docLink = document.createElement('div');\n",
              "          docLink.innerHTML = docLinkHtml;\n",
              "          element.appendChild(docLink);\n",
              "        }\n",
              "      </script>\n",
              "    </div>\n",
              "  </div>\n",
              "  "
            ]
          },
          "metadata": {},
          "execution_count": 57
        }
      ],
      "source": [
        "selected_rf_features = pd.DataFrame({'Feature':list(X_train.columns),\n",
        "                                      'Ranking':boruta_selector.ranking_})\n",
        "selected_rf_features.sort_values(by='Ranking')"
      ]
    },
    {
      "cell_type": "markdown",
      "metadata": {
        "id": "xo-BDdPuRbxw"
      },
      "source": [
        "#### Create a new subset of the data with only the selected features"
      ]
    },
    {
      "cell_type": "code",
      "execution_count": null,
      "metadata": {
        "id": "8DtY2Iz-dI_2"
      },
      "outputs": [],
      "source": [
        "X_important_train = boruta_selector.transform(np.array(X_train))\n",
        "X_important_test = boruta_selector.transform(np.array(test_new_data))"
      ]
    },
    {
      "cell_type": "markdown",
      "metadata": {
        "id": "VaVT7UCcRg2J"
      },
      "source": [
        "#### Build the model with selected features"
      ]
    },
    {
      "cell_type": "code",
      "execution_count": null,
      "metadata": {
        "colab": {
          "base_uri": "https://localhost:8080/"
        },
        "id": "Fx32lwXEdRvW",
        "outputId": "603de357-0c7e-4f09-870f-5ed1770b9bbd"
      },
      "outputs": [
        {
          "output_type": "execute_result",
          "data": {
            "text/plain": [
              "RandomForestClassifier(n_estimators=1000, n_jobs=-1, random_state=1)"
            ]
          },
          "metadata": {},
          "execution_count": 59
        }
      ],
      "source": [
        "# Create a new random forest classifier for the most important features\n",
        "rf_important = RandomForestClassifier(random_state=1, n_estimators=1000, n_jobs = -1)\n",
        "\n",
        "# Train the new classifier on the new dataset containing the most important features\n",
        "rf_important.fit(X_important_train, y_train)"
      ]
    },
    {
      "cell_type": "markdown",
      "metadata": {
        "id": "JeWVWt_fVyRA"
      },
      "source": [
        "### Model Evaluaiton"
      ]
    },
    {
      "cell_type": "code",
      "execution_count": null,
      "metadata": {
        "colab": {
          "base_uri": "https://localhost:8080/"
        },
        "id": "aQrX-sPIV0a_",
        "outputId": "1461f530-3c28-4a76-e71a-ac5c9c5e74af"
      },
      "outputs": [
        {
          "output_type": "execute_result",
          "data": {
            "text/plain": [
              "0.8524813052345344"
            ]
          },
          "metadata": {},
          "execution_count": 60
        }
      ],
      "source": [
        "f1_score(y_test, rf_important.predict(X_important_test))"
      ]
    },
    {
      "cell_type": "markdown",
      "source": [
        "**85 % with Boruta feature Selection which is a better Score than previous which was 82% ... so we have a boost of 3%**"
      ],
      "metadata": {
        "id": "2tZQQJ9QNge4"
      }
    },
    {
      "cell_type": "markdown",
      "metadata": {
        "id": "6PvKiA0rpT4M"
      },
      "source": [
        "### Hyper Parameter Tunning"
      ]
    },
    {
      "cell_type": "markdown",
      "metadata": {
        "id": "boN4q7np5z9V"
      },
      "source": [
        "Well we have chosen some of the parameters randomly like max_depth, n_estimators. There are many other parameters related to Random Forest model.If you remember we had discussed in our session 'Performance Evaluation' about Hyper parameter tunning. Hyper parameter tunnning helps you to choose a set of  optimal parameters for a model. So let's try if this helps us to further improve the performance of the model. \n",
        "\n",
        "Grid Search helps you to find the optimal parameter for a model."
      ]
    },
    {
      "cell_type": "code",
      "execution_count": null,
      "metadata": {
        "id": "UGaZ0-7zk8qw"
      },
      "outputs": [],
      "source": [
        "from sklearn.model_selection import GridSearchCV\n",
        "# Create the parameter grid based on the results of random search \n",
        "param_grid = {\n",
        "    'bootstrap': [True, False],\n",
        "    'max_depth': [5, 10, 15],\n",
        "    'n_estimators': [500, 1000]}"
      ]
    },
    {
      "cell_type": "code",
      "execution_count": null,
      "metadata": {
        "id": "omHxwedqqr58"
      },
      "outputs": [],
      "source": [
        "rf = RandomForestClassifier(random_state = 1)\n",
        "\n",
        "# Grid search cv\n",
        "grid_search = GridSearchCV(estimator = rf, param_grid = param_grid, \n",
        "                          cv = 2, n_jobs = -1, verbose = 2)"
      ]
    },
    {
      "cell_type": "code",
      "execution_count": null,
      "metadata": {
        "colab": {
          "base_uri": "https://localhost:8080/"
        },
        "id": "wHe4obu9rIV1",
        "outputId": "edb127ce-34ef-4e37-96b5-712c1ffac170"
      },
      "outputs": [
        {
          "output_type": "stream",
          "name": "stdout",
          "text": [
            "Fitting 2 folds for each of 12 candidates, totalling 24 fits\n"
          ]
        },
        {
          "output_type": "execute_result",
          "data": {
            "text/plain": [
              "GridSearchCV(cv=2, estimator=RandomForestClassifier(random_state=1), n_jobs=-1,\n",
              "             param_grid={'bootstrap': [True, False], 'max_depth': [5, 10, 15],\n",
              "                         'n_estimators': [500, 1000]},\n",
              "             verbose=2)"
            ]
          },
          "metadata": {},
          "execution_count": 63
        }
      ],
      "source": [
        "grid_search.fit(X_important_train, y_train)"
      ]
    },
    {
      "cell_type": "code",
      "execution_count": null,
      "metadata": {
        "colab": {
          "base_uri": "https://localhost:8080/"
        },
        "id": "D1l6ukxBrV4_",
        "outputId": "87d0723b-00a6-420a-f2b6-c8a22572bc47"
      },
      "outputs": [
        {
          "output_type": "execute_result",
          "data": {
            "text/plain": [
              "{'bootstrap': True, 'max_depth': 15, 'n_estimators': 1000}"
            ]
          },
          "metadata": {},
          "execution_count": 64
        }
      ],
      "source": [
        "grid_search.best_params_"
      ]
    },
    {
      "cell_type": "markdown",
      "metadata": {
        "id": "p-NRgteXWGWp"
      },
      "source": [
        "### Model Evaluation"
      ]
    },
    {
      "cell_type": "code",
      "execution_count": null,
      "metadata": {
        "colab": {
          "base_uri": "https://localhost:8080/"
        },
        "id": "aKHrNb5pWOLH",
        "outputId": "add468db-732c-4927-dcd0-ebfc1ec52dae"
      },
      "outputs": [
        {
          "output_type": "execute_result",
          "data": {
            "text/plain": [
              "0.8563247431362642"
            ]
          },
          "metadata": {},
          "execution_count": 65
        }
      ],
      "source": [
        "f1_score(y_test, grid_search.predict(X_important_test))"
      ]
    },
    {
      "cell_type": "markdown",
      "source": [
        "RFC with Hyper Params Tunning 85.63% while RFC with Boruta feature Selection \n",
        "85.24%"
      ],
      "metadata": {
        "id": "LAuHXu4RRPN0"
      }
    },
    {
      "cell_type": "markdown",
      "metadata": {
        "id": "lzkiM-AdBU12"
      },
      "source": [
        "### Model Performance Comparison"
      ]
    },
    {
      "cell_type": "code",
      "execution_count": null,
      "metadata": {
        "id": "wjv4Y2YsCdyv"
      },
      "outputs": [],
      "source": [
        "models = {'Logistic Regression': model, 'Random Forest Classifier': forest, 'Random Forest with Boruta Selector': rf_important, \n",
        "          'Hyperparameter Tunning | Random Forest | Boruta': grid_search}\n",
        "\n",
        "test_data = [test_new_data, test_new_data, X_important_test, X_important_test]\n",
        "model_performance = []\n",
        "exp = 1\n",
        "for key, value in models.items():\n",
        "  model_performance.append([exp, key, f1_score(y_test, value.predict(test_data[exp-1]))])\n",
        "  exp += 1"
      ]
    },
    {
      "cell_type": "code",
      "execution_count": null,
      "metadata": {
        "colab": {
          "base_uri": "https://localhost:8080/",
          "height": 175
        },
        "id": "TVo5Ynk1klln",
        "outputId": "bc313369-6dc9-41f5-81f3-54094ca1957c"
      },
      "outputs": [
        {
          "output_type": "execute_result",
          "data": {
            "text/plain": [
              "   experiment no.:                                  experiment name  f1 score\n",
              "0                1                              Logistic Regression  0.786575\n",
              "1                2                         Random Forest Classifier  0.824206\n",
              "2                3               Random Forest with Boruta Selector  0.852481\n",
              "3                4  Hyperparameter Tunning | Random Forest | Boruta  0.856325"
            ],
            "text/html": [
              "\n",
              "  <div id=\"df-88297a91-f1c8-47a6-9ffe-2e7656046cc4\">\n",
              "    <div class=\"colab-df-container\">\n",
              "      <div>\n",
              "<style scoped>\n",
              "    .dataframe tbody tr th:only-of-type {\n",
              "        vertical-align: middle;\n",
              "    }\n",
              "\n",
              "    .dataframe tbody tr th {\n",
              "        vertical-align: top;\n",
              "    }\n",
              "\n",
              "    .dataframe thead th {\n",
              "        text-align: right;\n",
              "    }\n",
              "</style>\n",
              "<table border=\"1\" class=\"dataframe\">\n",
              "  <thead>\n",
              "    <tr style=\"text-align: right;\">\n",
              "      <th></th>\n",
              "      <th>experiment no.:</th>\n",
              "      <th>experiment name</th>\n",
              "      <th>f1 score</th>\n",
              "    </tr>\n",
              "  </thead>\n",
              "  <tbody>\n",
              "    <tr>\n",
              "      <th>0</th>\n",
              "      <td>1</td>\n",
              "      <td>Logistic Regression</td>\n",
              "      <td>0.786575</td>\n",
              "    </tr>\n",
              "    <tr>\n",
              "      <th>1</th>\n",
              "      <td>2</td>\n",
              "      <td>Random Forest Classifier</td>\n",
              "      <td>0.824206</td>\n",
              "    </tr>\n",
              "    <tr>\n",
              "      <th>2</th>\n",
              "      <td>3</td>\n",
              "      <td>Random Forest with Boruta Selector</td>\n",
              "      <td>0.852481</td>\n",
              "    </tr>\n",
              "    <tr>\n",
              "      <th>3</th>\n",
              "      <td>4</td>\n",
              "      <td>Hyperparameter Tunning | Random Forest | Boruta</td>\n",
              "      <td>0.856325</td>\n",
              "    </tr>\n",
              "  </tbody>\n",
              "</table>\n",
              "</div>\n",
              "      <button class=\"colab-df-convert\" onclick=\"convertToInteractive('df-88297a91-f1c8-47a6-9ffe-2e7656046cc4')\"\n",
              "              title=\"Convert this dataframe to an interactive table.\"\n",
              "              style=\"display:none;\">\n",
              "        \n",
              "  <svg xmlns=\"http://www.w3.org/2000/svg\" height=\"24px\"viewBox=\"0 0 24 24\"\n",
              "       width=\"24px\">\n",
              "    <path d=\"M0 0h24v24H0V0z\" fill=\"none\"/>\n",
              "    <path d=\"M18.56 5.44l.94 2.06.94-2.06 2.06-.94-2.06-.94-.94-2.06-.94 2.06-2.06.94zm-11 1L8.5 8.5l.94-2.06 2.06-.94-2.06-.94L8.5 2.5l-.94 2.06-2.06.94zm10 10l.94 2.06.94-2.06 2.06-.94-2.06-.94-.94-2.06-.94 2.06-2.06.94z\"/><path d=\"M17.41 7.96l-1.37-1.37c-.4-.4-.92-.59-1.43-.59-.52 0-1.04.2-1.43.59L10.3 9.45l-7.72 7.72c-.78.78-.78 2.05 0 2.83L4 21.41c.39.39.9.59 1.41.59.51 0 1.02-.2 1.41-.59l7.78-7.78 2.81-2.81c.8-.78.8-2.07 0-2.86zM5.41 20L4 18.59l7.72-7.72 1.47 1.35L5.41 20z\"/>\n",
              "  </svg>\n",
              "      </button>\n",
              "      \n",
              "  <style>\n",
              "    .colab-df-container {\n",
              "      display:flex;\n",
              "      flex-wrap:wrap;\n",
              "      gap: 12px;\n",
              "    }\n",
              "\n",
              "    .colab-df-convert {\n",
              "      background-color: #E8F0FE;\n",
              "      border: none;\n",
              "      border-radius: 50%;\n",
              "      cursor: pointer;\n",
              "      display: none;\n",
              "      fill: #1967D2;\n",
              "      height: 32px;\n",
              "      padding: 0 0 0 0;\n",
              "      width: 32px;\n",
              "    }\n",
              "\n",
              "    .colab-df-convert:hover {\n",
              "      background-color: #E2EBFA;\n",
              "      box-shadow: 0px 1px 2px rgba(60, 64, 67, 0.3), 0px 1px 3px 1px rgba(60, 64, 67, 0.15);\n",
              "      fill: #174EA6;\n",
              "    }\n",
              "\n",
              "    [theme=dark] .colab-df-convert {\n",
              "      background-color: #3B4455;\n",
              "      fill: #D2E3FC;\n",
              "    }\n",
              "\n",
              "    [theme=dark] .colab-df-convert:hover {\n",
              "      background-color: #434B5C;\n",
              "      box-shadow: 0px 1px 3px 1px rgba(0, 0, 0, 0.15);\n",
              "      filter: drop-shadow(0px 1px 2px rgba(0, 0, 0, 0.3));\n",
              "      fill: #FFFFFF;\n",
              "    }\n",
              "  </style>\n",
              "\n",
              "      <script>\n",
              "        const buttonEl =\n",
              "          document.querySelector('#df-88297a91-f1c8-47a6-9ffe-2e7656046cc4 button.colab-df-convert');\n",
              "        buttonEl.style.display =\n",
              "          google.colab.kernel.accessAllowed ? 'block' : 'none';\n",
              "\n",
              "        async function convertToInteractive(key) {\n",
              "          const element = document.querySelector('#df-88297a91-f1c8-47a6-9ffe-2e7656046cc4');\n",
              "          const dataTable =\n",
              "            await google.colab.kernel.invokeFunction('convertToInteractive',\n",
              "                                                     [key], {});\n",
              "          if (!dataTable) return;\n",
              "\n",
              "          const docLinkHtml = 'Like what you see? Visit the ' +\n",
              "            '<a target=\"_blank\" href=https://colab.research.google.com/notebooks/data_table.ipynb>data table notebook</a>'\n",
              "            + ' to learn more about interactive tables.';\n",
              "          element.innerHTML = '';\n",
              "          dataTable['output_type'] = 'display_data';\n",
              "          await google.colab.output.renderOutput(dataTable, element);\n",
              "          const docLink = document.createElement('div');\n",
              "          docLink.innerHTML = docLinkHtml;\n",
              "          element.appendChild(docLink);\n",
              "        }\n",
              "      </script>\n",
              "    </div>\n",
              "  </div>\n",
              "  "
            ]
          },
          "metadata": {},
          "execution_count": 67
        }
      ],
      "source": [
        "df = pd.DataFrame(model_performance, columns=['experiment no.:', 'experiment name', 'f1 score'])\n",
        "df"
      ]
    },
    {
      "cell_type": "markdown",
      "metadata": {
        "id": "xttBy89-LEq2"
      },
      "source": [
        "# Conclusion\n",
        "* It is clearly observable that how the f1 scores increased from logistic regression to random forest, random forest with full features to random forest on the selected features using Boruta. \n",
        "* Then again the f1 score increased with Hyper parameter tunning.\n",
        "* Also this is one of the approach to solve this problem. There can be many other approaches to solve this problem.\n",
        "* We could also try standardizing and normalizing the data or some other algorithms and so on....\n",
        "* Well you should try standardizing or normalizing the data and then observe the difference in f1 score.\n",
        "* Also try doing using Decision Tree.\n"
      ]
    }
  ],
  "metadata": {
    "colab": {
      "collapsed_sections": [],
      "provenance": []
    },
    "kernelspec": {
      "display_name": "Python 3",
      "language": "python",
      "name": "python3"
    },
    "language_info": {
      "codemirror_mode": {
        "name": "ipython",
        "version": 3
      },
      "file_extension": ".py",
      "mimetype": "text/x-python",
      "name": "python",
      "nbconvert_exporter": "python",
      "pygments_lexer": "ipython3",
      "version": "3.7.3"
    }
  },
  "nbformat": 4,
  "nbformat_minor": 0
}